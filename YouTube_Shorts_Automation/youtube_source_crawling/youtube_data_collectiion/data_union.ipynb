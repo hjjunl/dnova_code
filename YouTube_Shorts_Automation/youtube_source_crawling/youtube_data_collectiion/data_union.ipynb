{
 "cells": [
  {
   "cell_type": "markdown",
   "id": "b9d5e917",
   "metadata": {},
   "source": [
    "### Data Union"
   ]
  },
  {
   "cell_type": "markdown",
   "id": "ba797c9a",
   "metadata": {},
   "source": [
    "##### Libraries"
   ]
  },
  {
   "cell_type": "code",
   "execution_count": 27,
   "id": "fe72d149",
   "metadata": {},
   "outputs": [],
   "source": [
    "import time\n",
    "import pandas as pd\n",
    "from datetime import datetime, timedelta\n",
    "\n",
    "import os"
   ]
  },
  {
   "cell_type": "markdown",
   "id": "61c2d0f1",
   "metadata": {},
   "source": [
    "##### Parameters"
   ]
  },
  {
   "cell_type": "code",
   "execution_count": 42,
   "id": "66d05ff8",
   "metadata": {},
   "outputs": [],
   "source": [
    "today_date = datetime.today().strftime('%Y-%m-%d')\n",
    "\n",
    "# Define the path where the Excel files are stored\n",
    "db_path = 'DB/'  # Replace with the correct path to the folder containing the files\n",
    "\n",
    "# Get a list of all Excel files in the directory\n",
    "files = [f for f in os.listdir(db_path) if f.endswith('.xlsx')]\n",
    "\n",
    "# Separate files into YouTube and playboard categories based on file naming pattern\n",
    "youtube_files = [f for f in files if f.startswith('Youtube_Data_')]\n",
    "playboard_files = [f for f in files if f.startswith('playboard_')]\n",
    "\n",
    "# Extract the dates from the filenames\n",
    "youtube_dates = [f.split('_')[2].split('.')[0] for f in youtube_files]\n",
    "playboard_dates = [f.split('_')[1].split('.')[0] for f in playboard_files]\n",
    "\n",
    "# Find the most recent date for each category\n",
    "latest_youtube_date = max(youtube_dates)\n",
    "latest_playboard_date = max(playboard_dates)\n",
    "\n",
    "# Build the full file paths for the most recent files\n",
    "latest_youtube_file = f'Youtube_Data_{latest_youtube_date}.xlsx'\n",
    "latest_playboard_file = f'playboard_{latest_playboard_date}.xlsx'\n",
    "\n",
    "latest_youtube_path = os.path.join(db_path, latest_youtube_file)\n",
    "latest_playboard_path = os.path.join(db_path, latest_playboard_file)\n",
    "\n",
    "file_path = f\"DB/Youtube_final_{today_date}.xlsx\"\n"
   ]
  },
  {
   "cell_type": "markdown",
   "id": "47c0ad9b",
   "metadata": {},
   "source": [
    "##### Load Data"
   ]
  },
  {
   "cell_type": "code",
   "execution_count": 44,
   "id": "62221e86",
   "metadata": {},
   "outputs": [],
   "source": [
    "# Load the most recent YouTube data and playboard data\n",
    "latest_youtube_df = pd.read_excel(latest_youtube_path)\n",
    "latest_playboard_df = pd.read_excel(latest_playboard_path)"
   ]
  },
  {
   "cell_type": "markdown",
   "id": "b2429faf",
   "metadata": {},
   "source": [
    "#### Excute Merging Data"
   ]
  },
  {
   "cell_type": "code",
   "execution_count": 46,
   "id": "d77862a2",
   "metadata": {},
   "outputs": [],
   "source": [
    "# Check for rows in latest_playboard_df that do not exist in latest_youtube_df based on 'channel_name'\n",
    "new_rows = latest_playboard_df[~latest_playboard_df['channel_name'].isin(latest_youtube_df['channel_name'])]\n",
    "\n",
    "# Add the new rows to latest_youtube_df\n",
    "updated_youtube_df = pd.concat([latest_youtube_df, new_rows], ignore_index=True)\n"
   ]
  },
  {
   "cell_type": "markdown",
   "id": "d777a252",
   "metadata": {},
   "source": [
    "##### Save Data"
   ]
  },
  {
   "cell_type": "code",
   "execution_count": 47,
   "id": "570174cf",
   "metadata": {},
   "outputs": [],
   "source": [
    "updated_youtube_df.to_excel(file_path, index=False)"
   ]
  }
 ],
 "metadata": {
  "kernelspec": {
   "display_name": "Python 3",
   "language": "python",
   "name": "python3"
  },
  "language_info": {
   "codemirror_mode": {
    "name": "ipython",
    "version": 3
   },
   "file_extension": ".py",
   "mimetype": "text/x-python",
   "name": "python",
   "nbconvert_exporter": "python",
   "pygments_lexer": "ipython3",
   "version": "3.11.4"
  }
 },
 "nbformat": 4,
 "nbformat_minor": 5
}
