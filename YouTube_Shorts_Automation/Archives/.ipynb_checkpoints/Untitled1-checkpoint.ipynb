{
 "cells": [
  {
   "cell_type": "code",
   "execution_count": null,
   "id": "297b9735-186f-47f1-aed8-a19998a1dff9",
   "metadata": {},
   "outputs": [],
   "source": []
  }
 ],
 "metadata": {
  "kernelspec": {
   "display_name": "",
   "name": ""
  },
  "language_info": {
   "name": ""
  }
 },
 "nbformat": 4,
 "nbformat_minor": 5
}
