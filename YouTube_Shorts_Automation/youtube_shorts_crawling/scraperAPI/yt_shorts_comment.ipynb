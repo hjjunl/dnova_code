{
 "cells": [
  {
   "cell_type": "markdown",
   "id": "727b5030",
   "metadata": {},
   "source": [
    "## D'NOVA YouTube Shorts Comments collection\n",
    "- selenium을 통해 쇼츠 커멘트 수집\n",
    "- 기본적으로 shorts url은 전부 가지고 있다고 가정"
   ]
  },
  {
   "cell_type": "code",
   "execution_count": 5,
   "id": "20fd179f",
   "metadata": {},
   "outputs": [
    {
     "name": "stdout",
     "output_type": "stream",
     "text": [
      "Requirement already satisfied: undetected-chromedriver in c:\\users\\t14gen1\\documents\\lib\\site-packages (3.5.5)\n",
      "Requirement already satisfied: selenium>=4.9.0 in c:\\users\\t14gen1\\documents\\lib\\site-packages (from undetected-chromedriver) (4.23.1)\n",
      "Requirement already satisfied: requests in c:\\users\\t14gen1\\documents\\lib\\site-packages (from undetected-chromedriver) (2.32.3)\n",
      "Requirement already satisfied: websockets in c:\\users\\t14gen1\\documents\\lib\\site-packages (from undetected-chromedriver) (12.0)\n",
      "Requirement already satisfied: urllib3<3,>=1.26 in c:\\users\\t14gen1\\documents\\lib\\site-packages (from urllib3[socks]<3,>=1.26->selenium>=4.9.0->undetected-chromedriver) (2.2.2)\n",
      "Requirement already satisfied: trio~=0.17 in c:\\users\\t14gen1\\documents\\lib\\site-packages (from selenium>=4.9.0->undetected-chromedriver) (0.26.2)\n",
      "Requirement already satisfied: trio-websocket~=0.9 in c:\\users\\t14gen1\\documents\\lib\\site-packages (from selenium>=4.9.0->undetected-chromedriver) (0.11.1)\n",
      "Requirement already satisfied: certifi>=2021.10.8 in c:\\users\\t14gen1\\documents\\lib\\site-packages (from selenium>=4.9.0->undetected-chromedriver) (2024.7.4)\n",
      "Requirement already satisfied: typing_extensions~=4.9 in c:\\users\\t14gen1\\documents\\lib\\site-packages (from selenium>=4.9.0->undetected-chromedriver) (4.12.2)\n",
      "Requirement already satisfied: websocket-client~=1.8 in c:\\users\\t14gen1\\documents\\lib\\site-packages (from selenium>=4.9.0->undetected-chromedriver) (1.8.0)\n",
      "Requirement already satisfied: charset-normalizer<4,>=2 in c:\\users\\t14gen1\\documents\\lib\\site-packages (from requests->undetected-chromedriver) (3.3.2)\n",
      "Requirement already satisfied: idna<4,>=2.5 in c:\\users\\t14gen1\\documents\\lib\\site-packages (from requests->undetected-chromedriver) (3.7)\n",
      "Requirement already satisfied: attrs>=23.2.0 in c:\\users\\t14gen1\\documents\\lib\\site-packages (from trio~=0.17->selenium>=4.9.0->undetected-chromedriver) (24.2.0)\n",
      "Requirement already satisfied: sortedcontainers in c:\\users\\t14gen1\\documents\\lib\\site-packages (from trio~=0.17->selenium>=4.9.0->undetected-chromedriver) (2.4.0)\n",
      "Requirement already satisfied: outcome in c:\\users\\t14gen1\\documents\\lib\\site-packages (from trio~=0.17->selenium>=4.9.0->undetected-chromedriver) (1.3.0.post0)\n",
      "Requirement already satisfied: sniffio>=1.3.0 in c:\\users\\t14gen1\\documents\\lib\\site-packages (from trio~=0.17->selenium>=4.9.0->undetected-chromedriver) (1.3.1)\n",
      "Requirement already satisfied: cffi>=1.14 in c:\\users\\t14gen1\\documents\\lib\\site-packages (from trio~=0.17->selenium>=4.9.0->undetected-chromedriver) (1.17.0)\n",
      "Requirement already satisfied: wsproto>=0.14 in c:\\users\\t14gen1\\documents\\lib\\site-packages (from trio-websocket~=0.9->selenium>=4.9.0->undetected-chromedriver) (1.2.0)\n",
      "Requirement already satisfied: pysocks!=1.5.7,<2.0,>=1.5.6 in c:\\users\\t14gen1\\documents\\lib\\site-packages (from urllib3[socks]<3,>=1.26->selenium>=4.9.0->undetected-chromedriver) (1.7.1)\n",
      "Requirement already satisfied: pycparser in c:\\users\\t14gen1\\documents\\lib\\site-packages (from cffi>=1.14->trio~=0.17->selenium>=4.9.0->undetected-chromedriver) (2.22)\n",
      "Requirement already satisfied: h11<1,>=0.9.0 in c:\\users\\t14gen1\\documents\\lib\\site-packages (from wsproto>=0.14->trio-websocket~=0.9->selenium>=4.9.0->undetected-chromedriver) (0.14.0)\n"
     ]
    }
   ],
   "source": [
    "!pip install undetected-chromedriver"
   ]
  },
  {
   "cell_type": "code",
   "execution_count": 6,
   "id": "1430ad40",
   "metadata": {},
   "outputs": [],
   "source": [
    "import time\n",
    "import random\n",
    "import undetected_chromedriver as uc\n",
    "from selenium.webdriver.common.by import By\n",
    "from selenium.webdriver.common.keys import Keys\n",
    "import pandas as pd"
   ]
  },
  {
   "cell_type": "code",
   "execution_count": 7,
   "id": "07c2d8f5",
   "metadata": {},
   "outputs": [
    {
     "name": "stdout",
     "output_type": "stream",
     "text": [
      "                                               Comment   Date\n",
      "0               BGM궁금해하시는 분들\\n많은데 \"your new home\" 입니다!   2주 전\n",
      "1    스피드 진짜 어떤면에선 미@친놈인데 진짜 이런거 보면 진짜 훈훈하고 스피드 진짜 멋...   2주 전\n",
      "2                      진짜 편견없이 바라봐주는구나 이런거보면 진짜 존나 착한듯   2주 전\n",
      "3    인격적으로 채우는 모습. 장애인분들 표정에 행복한 감정이 분명하게 느껴진다. 계속 ...  13일 전\n",
      "4                                       첫번째 여자팬은 진짜귀여움   2주 전\n",
      "..                                                 ...    ...\n",
      "240                                              얘가몬대?   7일 전\n",
      "241                                               꺼무하네  11일 전\n",
      "242                                    이런게 뭐가좋다고 열광하는지   2주 전\n",
      "243                                                 3빠   2주 전\n",
      "244                 청각장애인척하고 스피드한테 돈뜯으려고 하는 개수작으로 보이는데   2주 전\n",
      "\n",
      "[245 rows x 2 columns]\n"
     ]
    }
   ],
   "source": [
    "def random_sleep():\n",
    "    \"\"\" 1~2초 사이의 랜덤한 대기 \"\"\"\n",
    "    time.sleep(random.uniform(1, 2))\n",
    "\n",
    "def scroll_to_bottom(driver):\n",
    "    \"\"\" 페이지를 끝까지 스크롤 다운하는 함수 \"\"\"\n",
    "    last_height = driver.execute_script(\"return document.documentElement.scrollHeight\")\n",
    "    \n",
    "    while True:\n",
    "        # Scroll down to bottom\n",
    "        driver.find_element(By.TAG_NAME, \"body\").send_keys(Keys.END)\n",
    "        random_sleep()  # 랜덤한 시간 대기\n",
    "        \n",
    "        # Calculate new scroll height and compare with last scroll height\n",
    "        new_height = driver.execute_script(\"return document.documentElement.scrollHeight\")\n",
    "        if new_height == last_height:\n",
    "            break\n",
    "        last_height = new_height\n",
    "\n",
    "def get_youtube_comments(url):\n",
    "    # uc driver로 브라우저 실행\n",
    "    driver = uc.Chrome()\n",
    "    driver.get(url)\n",
    "    random_sleep()  # 페이지가 로드될 시간을 줍니다.\n",
    "    \n",
    "    # 페이지 끝까지 스크롤 다운\n",
    "    scroll_to_bottom(driver)\n",
    "    \n",
    "    # 모든 댓글 수집\n",
    "    comments_elements = driver.find_elements(By.XPATH, '//*[@id=\"content-text\"]/span')\n",
    "    comments = [comment.text for comment in comments_elements]\n",
    "    random_sleep()  # 데이터 수집 중간에도 랜덤 대기\n",
    "    \n",
    "    # 댓글 작성 날짜 수집\n",
    "    date_elements = driver.find_elements(By.XPATH, '//*[@id=\"published-time-text\"]/a')\n",
    "    dates = [date.text for date in date_elements]\n",
    "    random_sleep()  # 데이터 수집 중간에도 랜덤 대기\n",
    "    \n",
    "    # 결과를 리스트의 튜플 형태로 반환\n",
    "    comments_data = list(zip(comments, dates))\n",
    "    \n",
    "    # 드라이버 종료\n",
    "    driver.quit()\n",
    "    \n",
    "    return comments_data\n",
    "\n",
    "# 예시 URL\n",
    "url = \"https://www.youtube.com/watch?v=xEuH_5Ik92U\"\n",
    "comments_list = get_youtube_comments(url)\n",
    "\n",
    "# 리스트와 튜플 형태의 데이터 출력\n",
    "print(comments_list)\n"
   ]
  }
 ],
 "metadata": {
  "kernelspec": {
   "display_name": "Python 3 (ipykernel)",
   "language": "python",
   "name": "python3"
  },
  "language_info": {
   "codemirror_mode": {
    "name": "ipython",
    "version": 3
   },
   "file_extension": ".py",
   "mimetype": "text/x-python",
   "name": "python",
   "nbconvert_exporter": "python",
   "pygments_lexer": "ipython3",
   "version": "3.12.5"
  }
 },
 "nbformat": 4,
 "nbformat_minor": 5
}
