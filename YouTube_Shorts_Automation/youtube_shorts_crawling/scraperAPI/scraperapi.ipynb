{
 "cells": [
  {
   "cell_type": "code",
   "execution_count": 39,
   "id": "6c6ebf0f",
   "metadata": {},
   "outputs": [
    {
     "name": "stderr",
     "output_type": "stream",
     "text": [
      "c:\\Users\\T14Gen1\\Documents\\Lib\\site-packages\\urllib3\\connectionpool.py:1099: InsecureRequestWarning: Unverified HTTPS request is being made to host 'api.scraperapi.com'. Adding certificate verification is strongly advised. See: https://urllib3.readthedocs.io/en/latest/advanced-usage.html#tls-warnings\n",
      "  warnings.warn(\n"
     ]
    },
    {
     "name": "stdout",
     "output_type": "stream",
     "text": [
      "Response saved to response_output.txt\n"
     ]
    }
   ],
   "source": [
    "import requests\n",
    "import re\n",
    "# Define the payload and headers for the request\n",
    "API_KEY = '3397e8a6a37e89b03b08750a27575df8'\n",
    "payload = {\n",
    "    'api_key': API_KEY,\n",
    "    'url': 'https://www.youtube.com/watch?v=xEuH_5Ik92U',\n",
    "    'render': 'true'\n",
    "}\n",
    "\n",
    "headers = {\n",
    "    'x-sapi-render': 'true',\n",
    "    'x-sapi-instruction_set': '[{\"type\":\"scroll\",\"direction\":\"y\",\"value\":\"bottom\"}, {\"type\": \"wait\", \"value\": 2}]'\n",
    "    # , {\"type\": \"click\", \"selector\": {\"type\": \"text\",\"value\": \"Show transcript\"}}\n",
    "    # ,{\"type\":\"scroll\",\"direction\":\"y\",\"value\":\"bottom\"}, {\"type\": \"wait\", \"value\": 2} \n",
    "}\n",
    "# <div class=\"yt-spec-touch-feedback-shape yt-spec-touch-feedback-shape--touch-response\"\n",
    "# Make the GET request\n",
    "r = requests.get('https://api.scraperapi.com/', params=payload, headers=headers, verify=False)\n",
    "\n",
    "# Save the response text to a file\n",
    "with open('response_output.txt', 'w', encoding='utf-8') as file:\n",
    "    file.write(r.text)\n",
    "\n",
    "print(\"Response saved to response_output.txt\")\n"
   ]
  },
  {
   "cell_type": "code",
   "execution_count": 20,
   "id": "97ebe919",
   "metadata": {},
   "outputs": [
    {
     "name": "stdout",
     "output_type": "stream",
     "text": [
      "yt_title:  청각장애 팬을 감동시킨 스피드 ㅠ\n",
      "yt_shorts_description:  #ishowspeed #shorts\n",
      "yt_shorts_published:  2024-10-06 04\n",
      "yt_shorts_thumbnalil:  https://i.ytimg.com/vi/xEuH_5Ik92U/hq2.jpg?sqp=-oaymwE1CKgBEF5IVfKriqkDKAgBFQAAiEIYAHABwAEG8AEB-AG2CIACgA-KAgwIABABGH8gGSgXMA8=\\u0026rs=AOn4CLAr1jqDw2dLYSgK8pU5UBZfxZ7tPg\n",
      "yt_view:  3,309,087\n"
     ]
    }
   ],
   "source": [
    "# scraperAPI result filter\n",
    "def basic_shorts_info(text):\n",
    "    #shorts title\n",
    "    match_title = re.search(r'<title>(.*?) - YouTube</title>', r.text)\n",
    "    if match_title:\n",
    "        extracted_title = match_title.group(1)  # Get the content inside the <title>...</title> tags\n",
    "    else:\n",
    "        extracted_title = \"No title found\"\n",
    "    # shorts description\n",
    "    description_match = re.search(r'<meta name=\"description\" content=\"(.*?)\">', r.text)\n",
    "    if description_match:\n",
    "        extracted_description = description_match.group(1)  # Get the content inside the description meta tag\n",
    "    else:\n",
    "        extracted_description = \"No description found\"\n",
    "    # shorts total view \n",
    "    date_time_pattern = r'datePublished\" content=\"(\\d{4}-\\d{2}-\\d{2})T(\\d{2}):'\n",
    "    # Find the date and time\n",
    "    match_date = re.search(date_time_pattern, text)\n",
    "\n",
    "    if match_date:\n",
    "        extracted_datetime = f\"{match_date.group(1)} {match_date.group(2)}\"\n",
    "    else:\n",
    "        extracted_datetime = \"No match found\"\n",
    "\n",
    "    # Thumbnail \n",
    "    thumbnail_pattern = r'\"url\":\"(https?://[^\\s\"]+)\"'\n",
    "    # Extract the URL using regex\n",
    "    thumbnail_match = re.search(thumbnail_pattern, text)\n",
    "    if thumbnail_match:\n",
    "        extracted_thumbnalil = thumbnail_match.group(1)\n",
    "    else:\n",
    "        extracted_thumbnalil = \"No Thumbnail found\"\n",
    "\n",
    "    # Total view\n",
    "    view_pattern = r'\"viewCountEntityKey\":\"[^\"]+\",\"factoid\":\\{\"factoidRenderer\":\\{\"value\":\\{\"simpleText\":\"([\\d,]+)\"'\n",
    "    # Extract the number using regex only if viewCountEntityKey is present\n",
    "    view_match = re.search(view_pattern, text)\n",
    "    if view_match:\n",
    "        extracted_view = view_match.group(1)\n",
    "    else:\n",
    "        extracted_view = \"No number found\"\n",
    "        \n",
    "\n",
    "    return extracted_title, extracted_description, extracted_datetime, extracted_thumbnalil, extracted_view\n",
    "\n",
    "yt_title, yt_shorts_description, yt_shorts_published, yt_shorts_thumbnalil, yt_view = basic_shorts_info(r.text)\n",
    "print(\"yt_title: \", yt_title)\n",
    "print(\"yt_shorts_description: \", yt_shorts_description)\n",
    "print(\"yt_shorts_published: \", yt_shorts_published)\n",
    "print(\"yt_shorts_thumbnalil: \", yt_shorts_thumbnalil)\n",
    "print(\"yt_view: \", yt_view)\n",
    "yt_shorts_script = ''\n"
   ]
  },
  {
   "cell_type": "code",
   "execution_count": null,
   "id": "f8ad24f6",
   "metadata": {},
   "outputs": [],
   "source": []
  }
 ],
 "metadata": {
  "kernelspec": {
   "display_name": "Python 3 (ipykernel)",
   "language": "python",
   "name": "python3"
  },
  "language_info": {
   "codemirror_mode": {
    "name": "ipython",
    "version": 3
   },
   "file_extension": ".py",
   "mimetype": "text/x-python",
   "name": "python",
   "nbconvert_exporter": "python",
   "pygments_lexer": "ipython3",
   "version": "3.12.5"
  }
 },
 "nbformat": 4,
 "nbformat_minor": 5
}
