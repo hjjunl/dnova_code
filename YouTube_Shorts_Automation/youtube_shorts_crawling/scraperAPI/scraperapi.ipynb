{
 "cells": [
  {
   "cell_type": "markdown",
   "id": "727b5030",
   "metadata": {},
   "source": [
    "## D'NOVA YouTube Shorts SCraping Flow\n",
    "-  Test code: 테스트 코드\n",
    "- Daily Shorts check: 수집 데이터 loading\n",
    "#### Code Flow\n",
    "1. 기존 수집했던 쇼츠 재수집 -7d, -14d, -21d\n",
    "2. channel shorts url input으로 들어갈시 채널 url 필터링(daily)\n",
    "3. 수집한 channel list 수집 후 loaded_db에 적재 "
   ]
  },
  {
   "cell_type": "markdown",
   "id": "de18ecdc",
   "metadata": {},
   "source": [
    "### Test Code"
   ]
  },
  {
   "cell_type": "code",
   "execution_count": 145,
   "id": "4efc4d67",
   "metadata": {},
   "outputs": [
    {
     "name": "stderr",
     "output_type": "stream",
     "text": [
      "c:\\Users\\T14Gen1\\Documents\\Lib\\site-packages\\urllib3\\connectionpool.py:1099: InsecureRequestWarning: Unverified HTTPS request is being made to host 'api.scraperapi.com'. Adding certificate verification is strongly advised. See: https://urllib3.readthedocs.io/en/latest/advanced-usage.html#tls-warnings\n",
      "  warnings.warn(\n"
     ]
    },
    {
     "ename": "KeyboardInterrupt",
     "evalue": "",
     "output_type": "error",
     "traceback": [
      "\u001b[1;31m---------------------------------------------------------------------------\u001b[0m",
      "\u001b[1;31mKeyboardInterrupt\u001b[0m                         Traceback (most recent call last)",
      "Cell \u001b[1;32mIn[145], line 26\u001b[0m\n\u001b[0;32m     19\u001b[0m headers \u001b[38;5;241m=\u001b[39m {\n\u001b[0;32m     20\u001b[0m     \u001b[38;5;124m'\u001b[39m\u001b[38;5;124mx-sapi-render\u001b[39m\u001b[38;5;124m'\u001b[39m: \u001b[38;5;124m'\u001b[39m\u001b[38;5;124mtrue\u001b[39m\u001b[38;5;124m'\u001b[39m,\n\u001b[0;32m     21\u001b[0m     \u001b[38;5;124m'\u001b[39m\u001b[38;5;124mx-sapi-instruction_set\u001b[39m\u001b[38;5;124m'\u001b[39m: \u001b[38;5;124m'\u001b[39m\u001b[38;5;124m[\u001b[39m\u001b[38;5;124m{\u001b[39m\u001b[38;5;124m\"\u001b[39m\u001b[38;5;124mtype\u001b[39m\u001b[38;5;124m\"\u001b[39m\u001b[38;5;124m:\u001b[39m\u001b[38;5;124m\"\u001b[39m\u001b[38;5;124mscroll\u001b[39m\u001b[38;5;124m\"\u001b[39m\u001b[38;5;124m,\u001b[39m\u001b[38;5;124m\"\u001b[39m\u001b[38;5;124mdirection\u001b[39m\u001b[38;5;124m\"\u001b[39m\u001b[38;5;124m:\u001b[39m\u001b[38;5;124m\"\u001b[39m\u001b[38;5;124my\u001b[39m\u001b[38;5;124m\"\u001b[39m\u001b[38;5;124m,\u001b[39m\u001b[38;5;124m\"\u001b[39m\u001b[38;5;124mvalue\u001b[39m\u001b[38;5;124m\"\u001b[39m\u001b[38;5;124m:\u001b[39m\u001b[38;5;124m\"\u001b[39m\u001b[38;5;124mbottom\u001b[39m\u001b[38;5;124m\"\u001b[39m\u001b[38;5;124m}, \u001b[39m\u001b[38;5;124m{\u001b[39m\u001b[38;5;124m\"\u001b[39m\u001b[38;5;124mtype\u001b[39m\u001b[38;5;124m\"\u001b[39m\u001b[38;5;124m: \u001b[39m\u001b[38;5;124m\"\u001b[39m\u001b[38;5;124mwait\u001b[39m\u001b[38;5;124m\"\u001b[39m\u001b[38;5;124m, \u001b[39m\u001b[38;5;124m\"\u001b[39m\u001b[38;5;124mvalue\u001b[39m\u001b[38;5;124m\"\u001b[39m\u001b[38;5;124m: 3}]\u001b[39m\u001b[38;5;124m'\u001b[39m\n\u001b[0;32m     22\u001b[0m     \u001b[38;5;66;03m# , {\"type\": \"click\", \"selector\": {\"type\": \"text\",\"value\": \"Show transcript\"}}\u001b[39;00m\n\u001b[0;32m     23\u001b[0m     \u001b[38;5;66;03m# ,{\"type\":\"scroll\",\"direction\":\"y\",\"value\":\"bottom\"}, {\"type\": \"wait\", \"value\": 2} \u001b[39;00m\n\u001b[0;32m     24\u001b[0m }\n\u001b[0;32m     25\u001b[0m \u001b[38;5;66;03m# Make the GET request\u001b[39;00m\n\u001b[1;32m---> 26\u001b[0m r_full \u001b[38;5;241m=\u001b[39m \u001b[43mrequests\u001b[49m\u001b[38;5;241;43m.\u001b[39;49m\u001b[43mget\u001b[49m\u001b[43m(\u001b[49m\u001b[38;5;124;43m'\u001b[39;49m\u001b[38;5;124;43mhttps://api.scraperapi.com/\u001b[39;49m\u001b[38;5;124;43m'\u001b[39;49m\u001b[43m,\u001b[49m\u001b[43m \u001b[49m\u001b[43mparams\u001b[49m\u001b[38;5;241;43m=\u001b[39;49m\u001b[43mpayload\u001b[49m\u001b[43m,\u001b[49m\u001b[43m \u001b[49m\u001b[43mheaders\u001b[49m\u001b[38;5;241;43m=\u001b[39;49m\u001b[43mheaders\u001b[49m\u001b[43m,\u001b[49m\u001b[43m \u001b[49m\u001b[43mverify\u001b[49m\u001b[38;5;241;43m=\u001b[39;49m\u001b[38;5;28;43;01mFalse\u001b[39;49;00m\u001b[43m)\u001b[49m \u001b[38;5;66;03m# headers=headers,\u001b[39;00m\n\u001b[0;32m     28\u001b[0m \u001b[38;5;66;03m# Save the response text to a file\u001b[39;00m\n\u001b[0;32m     29\u001b[0m \u001b[38;5;28;01mwith\u001b[39;00m \u001b[38;5;28mopen\u001b[39m(\u001b[38;5;124m'\u001b[39m\u001b[38;5;124mresponse_channel_test.txt\u001b[39m\u001b[38;5;124m'\u001b[39m, \u001b[38;5;124m'\u001b[39m\u001b[38;5;124mw\u001b[39m\u001b[38;5;124m'\u001b[39m, encoding\u001b[38;5;241m=\u001b[39m\u001b[38;5;124m'\u001b[39m\u001b[38;5;124mutf-8\u001b[39m\u001b[38;5;124m'\u001b[39m) \u001b[38;5;28;01mas\u001b[39;00m file:\n",
      "File \u001b[1;32mc:\\Users\\T14Gen1\\Documents\\Lib\\site-packages\\requests\\api.py:73\u001b[0m, in \u001b[0;36mget\u001b[1;34m(url, params, **kwargs)\u001b[0m\n\u001b[0;32m     62\u001b[0m \u001b[38;5;28;01mdef\u001b[39;00m \u001b[38;5;21mget\u001b[39m(url, params\u001b[38;5;241m=\u001b[39m\u001b[38;5;28;01mNone\u001b[39;00m, \u001b[38;5;241m*\u001b[39m\u001b[38;5;241m*\u001b[39mkwargs):\n\u001b[0;32m     63\u001b[0m \u001b[38;5;250m    \u001b[39m\u001b[38;5;124mr\u001b[39m\u001b[38;5;124;03m\"\"\"Sends a GET request.\u001b[39;00m\n\u001b[0;32m     64\u001b[0m \n\u001b[0;32m     65\u001b[0m \u001b[38;5;124;03m    :param url: URL for the new :class:`Request` object.\u001b[39;00m\n\u001b[1;32m   (...)\u001b[0m\n\u001b[0;32m     70\u001b[0m \u001b[38;5;124;03m    :rtype: requests.Response\u001b[39;00m\n\u001b[0;32m     71\u001b[0m \u001b[38;5;124;03m    \"\"\"\u001b[39;00m\n\u001b[1;32m---> 73\u001b[0m     \u001b[38;5;28;01mreturn\u001b[39;00m \u001b[43mrequest\u001b[49m\u001b[43m(\u001b[49m\u001b[38;5;124;43m\"\u001b[39;49m\u001b[38;5;124;43mget\u001b[39;49m\u001b[38;5;124;43m\"\u001b[39;49m\u001b[43m,\u001b[49m\u001b[43m \u001b[49m\u001b[43murl\u001b[49m\u001b[43m,\u001b[49m\u001b[43m \u001b[49m\u001b[43mparams\u001b[49m\u001b[38;5;241;43m=\u001b[39;49m\u001b[43mparams\u001b[49m\u001b[43m,\u001b[49m\u001b[43m \u001b[49m\u001b[38;5;241;43m*\u001b[39;49m\u001b[38;5;241;43m*\u001b[39;49m\u001b[43mkwargs\u001b[49m\u001b[43m)\u001b[49m\n",
      "File \u001b[1;32mc:\\Users\\T14Gen1\\Documents\\Lib\\site-packages\\requests\\api.py:59\u001b[0m, in \u001b[0;36mrequest\u001b[1;34m(method, url, **kwargs)\u001b[0m\n\u001b[0;32m     55\u001b[0m \u001b[38;5;66;03m# By using the 'with' statement we are sure the session is closed, thus we\u001b[39;00m\n\u001b[0;32m     56\u001b[0m \u001b[38;5;66;03m# avoid leaving sockets open which can trigger a ResourceWarning in some\u001b[39;00m\n\u001b[0;32m     57\u001b[0m \u001b[38;5;66;03m# cases, and look like a memory leak in others.\u001b[39;00m\n\u001b[0;32m     58\u001b[0m \u001b[38;5;28;01mwith\u001b[39;00m sessions\u001b[38;5;241m.\u001b[39mSession() \u001b[38;5;28;01mas\u001b[39;00m session:\n\u001b[1;32m---> 59\u001b[0m     \u001b[38;5;28;01mreturn\u001b[39;00m \u001b[43msession\u001b[49m\u001b[38;5;241;43m.\u001b[39;49m\u001b[43mrequest\u001b[49m\u001b[43m(\u001b[49m\u001b[43mmethod\u001b[49m\u001b[38;5;241;43m=\u001b[39;49m\u001b[43mmethod\u001b[49m\u001b[43m,\u001b[49m\u001b[43m \u001b[49m\u001b[43murl\u001b[49m\u001b[38;5;241;43m=\u001b[39;49m\u001b[43murl\u001b[49m\u001b[43m,\u001b[49m\u001b[43m \u001b[49m\u001b[38;5;241;43m*\u001b[39;49m\u001b[38;5;241;43m*\u001b[39;49m\u001b[43mkwargs\u001b[49m\u001b[43m)\u001b[49m\n",
      "File \u001b[1;32mc:\\Users\\T14Gen1\\Documents\\Lib\\site-packages\\requests\\sessions.py:589\u001b[0m, in \u001b[0;36mSession.request\u001b[1;34m(self, method, url, params, data, headers, cookies, files, auth, timeout, allow_redirects, proxies, hooks, stream, verify, cert, json)\u001b[0m\n\u001b[0;32m    584\u001b[0m send_kwargs \u001b[38;5;241m=\u001b[39m {\n\u001b[0;32m    585\u001b[0m     \u001b[38;5;124m\"\u001b[39m\u001b[38;5;124mtimeout\u001b[39m\u001b[38;5;124m\"\u001b[39m: timeout,\n\u001b[0;32m    586\u001b[0m     \u001b[38;5;124m\"\u001b[39m\u001b[38;5;124mallow_redirects\u001b[39m\u001b[38;5;124m\"\u001b[39m: allow_redirects,\n\u001b[0;32m    587\u001b[0m }\n\u001b[0;32m    588\u001b[0m send_kwargs\u001b[38;5;241m.\u001b[39mupdate(settings)\n\u001b[1;32m--> 589\u001b[0m resp \u001b[38;5;241m=\u001b[39m \u001b[38;5;28;43mself\u001b[39;49m\u001b[38;5;241;43m.\u001b[39;49m\u001b[43msend\u001b[49m\u001b[43m(\u001b[49m\u001b[43mprep\u001b[49m\u001b[43m,\u001b[49m\u001b[43m \u001b[49m\u001b[38;5;241;43m*\u001b[39;49m\u001b[38;5;241;43m*\u001b[39;49m\u001b[43msend_kwargs\u001b[49m\u001b[43m)\u001b[49m\n\u001b[0;32m    591\u001b[0m \u001b[38;5;28;01mreturn\u001b[39;00m resp\n",
      "File \u001b[1;32mc:\\Users\\T14Gen1\\Documents\\Lib\\site-packages\\requests\\sessions.py:703\u001b[0m, in \u001b[0;36mSession.send\u001b[1;34m(self, request, **kwargs)\u001b[0m\n\u001b[0;32m    700\u001b[0m start \u001b[38;5;241m=\u001b[39m preferred_clock()\n\u001b[0;32m    702\u001b[0m \u001b[38;5;66;03m# Send the request\u001b[39;00m\n\u001b[1;32m--> 703\u001b[0m r \u001b[38;5;241m=\u001b[39m \u001b[43madapter\u001b[49m\u001b[38;5;241;43m.\u001b[39;49m\u001b[43msend\u001b[49m\u001b[43m(\u001b[49m\u001b[43mrequest\u001b[49m\u001b[43m,\u001b[49m\u001b[43m \u001b[49m\u001b[38;5;241;43m*\u001b[39;49m\u001b[38;5;241;43m*\u001b[39;49m\u001b[43mkwargs\u001b[49m\u001b[43m)\u001b[49m\n\u001b[0;32m    705\u001b[0m \u001b[38;5;66;03m# Total elapsed time of the request (approximately)\u001b[39;00m\n\u001b[0;32m    706\u001b[0m elapsed \u001b[38;5;241m=\u001b[39m preferred_clock() \u001b[38;5;241m-\u001b[39m start\n",
      "File \u001b[1;32mc:\\Users\\T14Gen1\\Documents\\Lib\\site-packages\\requests\\adapters.py:667\u001b[0m, in \u001b[0;36mHTTPAdapter.send\u001b[1;34m(self, request, stream, timeout, verify, cert, proxies)\u001b[0m\n\u001b[0;32m    664\u001b[0m     timeout \u001b[38;5;241m=\u001b[39m TimeoutSauce(connect\u001b[38;5;241m=\u001b[39mtimeout, read\u001b[38;5;241m=\u001b[39mtimeout)\n\u001b[0;32m    666\u001b[0m \u001b[38;5;28;01mtry\u001b[39;00m:\n\u001b[1;32m--> 667\u001b[0m     resp \u001b[38;5;241m=\u001b[39m \u001b[43mconn\u001b[49m\u001b[38;5;241;43m.\u001b[39;49m\u001b[43murlopen\u001b[49m\u001b[43m(\u001b[49m\n\u001b[0;32m    668\u001b[0m \u001b[43m        \u001b[49m\u001b[43mmethod\u001b[49m\u001b[38;5;241;43m=\u001b[39;49m\u001b[43mrequest\u001b[49m\u001b[38;5;241;43m.\u001b[39;49m\u001b[43mmethod\u001b[49m\u001b[43m,\u001b[49m\n\u001b[0;32m    669\u001b[0m \u001b[43m        \u001b[49m\u001b[43murl\u001b[49m\u001b[38;5;241;43m=\u001b[39;49m\u001b[43murl\u001b[49m\u001b[43m,\u001b[49m\n\u001b[0;32m    670\u001b[0m \u001b[43m        \u001b[49m\u001b[43mbody\u001b[49m\u001b[38;5;241;43m=\u001b[39;49m\u001b[43mrequest\u001b[49m\u001b[38;5;241;43m.\u001b[39;49m\u001b[43mbody\u001b[49m\u001b[43m,\u001b[49m\n\u001b[0;32m    671\u001b[0m \u001b[43m        \u001b[49m\u001b[43mheaders\u001b[49m\u001b[38;5;241;43m=\u001b[39;49m\u001b[43mrequest\u001b[49m\u001b[38;5;241;43m.\u001b[39;49m\u001b[43mheaders\u001b[49m\u001b[43m,\u001b[49m\n\u001b[0;32m    672\u001b[0m \u001b[43m        \u001b[49m\u001b[43mredirect\u001b[49m\u001b[38;5;241;43m=\u001b[39;49m\u001b[38;5;28;43;01mFalse\u001b[39;49;00m\u001b[43m,\u001b[49m\n\u001b[0;32m    673\u001b[0m \u001b[43m        \u001b[49m\u001b[43massert_same_host\u001b[49m\u001b[38;5;241;43m=\u001b[39;49m\u001b[38;5;28;43;01mFalse\u001b[39;49;00m\u001b[43m,\u001b[49m\n\u001b[0;32m    674\u001b[0m \u001b[43m        \u001b[49m\u001b[43mpreload_content\u001b[49m\u001b[38;5;241;43m=\u001b[39;49m\u001b[38;5;28;43;01mFalse\u001b[39;49;00m\u001b[43m,\u001b[49m\n\u001b[0;32m    675\u001b[0m \u001b[43m        \u001b[49m\u001b[43mdecode_content\u001b[49m\u001b[38;5;241;43m=\u001b[39;49m\u001b[38;5;28;43;01mFalse\u001b[39;49;00m\u001b[43m,\u001b[49m\n\u001b[0;32m    676\u001b[0m \u001b[43m        \u001b[49m\u001b[43mretries\u001b[49m\u001b[38;5;241;43m=\u001b[39;49m\u001b[38;5;28;43mself\u001b[39;49m\u001b[38;5;241;43m.\u001b[39;49m\u001b[43mmax_retries\u001b[49m\u001b[43m,\u001b[49m\n\u001b[0;32m    677\u001b[0m \u001b[43m        \u001b[49m\u001b[43mtimeout\u001b[49m\u001b[38;5;241;43m=\u001b[39;49m\u001b[43mtimeout\u001b[49m\u001b[43m,\u001b[49m\n\u001b[0;32m    678\u001b[0m \u001b[43m        \u001b[49m\u001b[43mchunked\u001b[49m\u001b[38;5;241;43m=\u001b[39;49m\u001b[43mchunked\u001b[49m\u001b[43m,\u001b[49m\n\u001b[0;32m    679\u001b[0m \u001b[43m    \u001b[49m\u001b[43m)\u001b[49m\n\u001b[0;32m    681\u001b[0m \u001b[38;5;28;01mexcept\u001b[39;00m (ProtocolError, \u001b[38;5;167;01mOSError\u001b[39;00m) \u001b[38;5;28;01mas\u001b[39;00m err:\n\u001b[0;32m    682\u001b[0m     \u001b[38;5;28;01mraise\u001b[39;00m \u001b[38;5;167;01mConnectionError\u001b[39;00m(err, request\u001b[38;5;241m=\u001b[39mrequest)\n",
      "File \u001b[1;32mc:\\Users\\T14Gen1\\Documents\\Lib\\site-packages\\urllib3\\connectionpool.py:789\u001b[0m, in \u001b[0;36mHTTPConnectionPool.urlopen\u001b[1;34m(self, method, url, body, headers, retries, redirect, assert_same_host, timeout, pool_timeout, release_conn, chunked, body_pos, preload_content, decode_content, **response_kw)\u001b[0m\n\u001b[0;32m    786\u001b[0m response_conn \u001b[38;5;241m=\u001b[39m conn \u001b[38;5;28;01mif\u001b[39;00m \u001b[38;5;129;01mnot\u001b[39;00m release_conn \u001b[38;5;28;01melse\u001b[39;00m \u001b[38;5;28;01mNone\u001b[39;00m\n\u001b[0;32m    788\u001b[0m \u001b[38;5;66;03m# Make the request on the HTTPConnection object\u001b[39;00m\n\u001b[1;32m--> 789\u001b[0m response \u001b[38;5;241m=\u001b[39m \u001b[38;5;28;43mself\u001b[39;49m\u001b[38;5;241;43m.\u001b[39;49m\u001b[43m_make_request\u001b[49m\u001b[43m(\u001b[49m\n\u001b[0;32m    790\u001b[0m \u001b[43m    \u001b[49m\u001b[43mconn\u001b[49m\u001b[43m,\u001b[49m\n\u001b[0;32m    791\u001b[0m \u001b[43m    \u001b[49m\u001b[43mmethod\u001b[49m\u001b[43m,\u001b[49m\n\u001b[0;32m    792\u001b[0m \u001b[43m    \u001b[49m\u001b[43murl\u001b[49m\u001b[43m,\u001b[49m\n\u001b[0;32m    793\u001b[0m \u001b[43m    \u001b[49m\u001b[43mtimeout\u001b[49m\u001b[38;5;241;43m=\u001b[39;49m\u001b[43mtimeout_obj\u001b[49m\u001b[43m,\u001b[49m\n\u001b[0;32m    794\u001b[0m \u001b[43m    \u001b[49m\u001b[43mbody\u001b[49m\u001b[38;5;241;43m=\u001b[39;49m\u001b[43mbody\u001b[49m\u001b[43m,\u001b[49m\n\u001b[0;32m    795\u001b[0m \u001b[43m    \u001b[49m\u001b[43mheaders\u001b[49m\u001b[38;5;241;43m=\u001b[39;49m\u001b[43mheaders\u001b[49m\u001b[43m,\u001b[49m\n\u001b[0;32m    796\u001b[0m \u001b[43m    \u001b[49m\u001b[43mchunked\u001b[49m\u001b[38;5;241;43m=\u001b[39;49m\u001b[43mchunked\u001b[49m\u001b[43m,\u001b[49m\n\u001b[0;32m    797\u001b[0m \u001b[43m    \u001b[49m\u001b[43mretries\u001b[49m\u001b[38;5;241;43m=\u001b[39;49m\u001b[43mretries\u001b[49m\u001b[43m,\u001b[49m\n\u001b[0;32m    798\u001b[0m \u001b[43m    \u001b[49m\u001b[43mresponse_conn\u001b[49m\u001b[38;5;241;43m=\u001b[39;49m\u001b[43mresponse_conn\u001b[49m\u001b[43m,\u001b[49m\n\u001b[0;32m    799\u001b[0m \u001b[43m    \u001b[49m\u001b[43mpreload_content\u001b[49m\u001b[38;5;241;43m=\u001b[39;49m\u001b[43mpreload_content\u001b[49m\u001b[43m,\u001b[49m\n\u001b[0;32m    800\u001b[0m \u001b[43m    \u001b[49m\u001b[43mdecode_content\u001b[49m\u001b[38;5;241;43m=\u001b[39;49m\u001b[43mdecode_content\u001b[49m\u001b[43m,\u001b[49m\n\u001b[0;32m    801\u001b[0m \u001b[43m    \u001b[49m\u001b[38;5;241;43m*\u001b[39;49m\u001b[38;5;241;43m*\u001b[39;49m\u001b[43mresponse_kw\u001b[49m\u001b[43m,\u001b[49m\n\u001b[0;32m    802\u001b[0m \u001b[43m\u001b[49m\u001b[43m)\u001b[49m\n\u001b[0;32m    804\u001b[0m \u001b[38;5;66;03m# Everything went great!\u001b[39;00m\n\u001b[0;32m    805\u001b[0m clean_exit \u001b[38;5;241m=\u001b[39m \u001b[38;5;28;01mTrue\u001b[39;00m\n",
      "File \u001b[1;32mc:\\Users\\T14Gen1\\Documents\\Lib\\site-packages\\urllib3\\connectionpool.py:536\u001b[0m, in \u001b[0;36mHTTPConnectionPool._make_request\u001b[1;34m(self, conn, method, url, body, headers, retries, timeout, chunked, response_conn, preload_content, decode_content, enforce_content_length)\u001b[0m\n\u001b[0;32m    534\u001b[0m \u001b[38;5;66;03m# Receive the response from the server\u001b[39;00m\n\u001b[0;32m    535\u001b[0m \u001b[38;5;28;01mtry\u001b[39;00m:\n\u001b[1;32m--> 536\u001b[0m     response \u001b[38;5;241m=\u001b[39m \u001b[43mconn\u001b[49m\u001b[38;5;241;43m.\u001b[39;49m\u001b[43mgetresponse\u001b[49m\u001b[43m(\u001b[49m\u001b[43m)\u001b[49m\n\u001b[0;32m    537\u001b[0m \u001b[38;5;28;01mexcept\u001b[39;00m (BaseSSLError, \u001b[38;5;167;01mOSError\u001b[39;00m) \u001b[38;5;28;01mas\u001b[39;00m e:\n\u001b[0;32m    538\u001b[0m     \u001b[38;5;28mself\u001b[39m\u001b[38;5;241m.\u001b[39m_raise_timeout(err\u001b[38;5;241m=\u001b[39me, url\u001b[38;5;241m=\u001b[39murl, timeout_value\u001b[38;5;241m=\u001b[39mread_timeout)\n",
      "File \u001b[1;32mc:\\Users\\T14Gen1\\Documents\\Lib\\site-packages\\urllib3\\connection.py:464\u001b[0m, in \u001b[0;36mHTTPConnection.getresponse\u001b[1;34m(self)\u001b[0m\n\u001b[0;32m    461\u001b[0m \u001b[38;5;28;01mfrom\u001b[39;00m \u001b[38;5;21;01m.\u001b[39;00m\u001b[38;5;21;01mresponse\u001b[39;00m \u001b[38;5;28;01mimport\u001b[39;00m HTTPResponse\n\u001b[0;32m    463\u001b[0m \u001b[38;5;66;03m# Get the response from http.client.HTTPConnection\u001b[39;00m\n\u001b[1;32m--> 464\u001b[0m httplib_response \u001b[38;5;241m=\u001b[39m \u001b[38;5;28;43msuper\u001b[39;49m\u001b[43m(\u001b[49m\u001b[43m)\u001b[49m\u001b[38;5;241;43m.\u001b[39;49m\u001b[43mgetresponse\u001b[49m\u001b[43m(\u001b[49m\u001b[43m)\u001b[49m\n\u001b[0;32m    466\u001b[0m \u001b[38;5;28;01mtry\u001b[39;00m:\n\u001b[0;32m    467\u001b[0m     assert_header_parsing(httplib_response\u001b[38;5;241m.\u001b[39mmsg)\n",
      "File \u001b[1;32mc:\\Users\\T14Gen1\\Documents\\Lib\\http\\client.py:1428\u001b[0m, in \u001b[0;36mHTTPConnection.getresponse\u001b[1;34m(self)\u001b[0m\n\u001b[0;32m   1426\u001b[0m \u001b[38;5;28;01mtry\u001b[39;00m:\n\u001b[0;32m   1427\u001b[0m     \u001b[38;5;28;01mtry\u001b[39;00m:\n\u001b[1;32m-> 1428\u001b[0m         \u001b[43mresponse\u001b[49m\u001b[38;5;241;43m.\u001b[39;49m\u001b[43mbegin\u001b[49m\u001b[43m(\u001b[49m\u001b[43m)\u001b[49m\n\u001b[0;32m   1429\u001b[0m     \u001b[38;5;28;01mexcept\u001b[39;00m \u001b[38;5;167;01mConnectionError\u001b[39;00m:\n\u001b[0;32m   1430\u001b[0m         \u001b[38;5;28mself\u001b[39m\u001b[38;5;241m.\u001b[39mclose()\n",
      "File \u001b[1;32mc:\\Users\\T14Gen1\\Documents\\Lib\\http\\client.py:331\u001b[0m, in \u001b[0;36mHTTPResponse.begin\u001b[1;34m(self)\u001b[0m\n\u001b[0;32m    329\u001b[0m \u001b[38;5;66;03m# read until we get a non-100 response\u001b[39;00m\n\u001b[0;32m    330\u001b[0m \u001b[38;5;28;01mwhile\u001b[39;00m \u001b[38;5;28;01mTrue\u001b[39;00m:\n\u001b[1;32m--> 331\u001b[0m     version, status, reason \u001b[38;5;241m=\u001b[39m \u001b[38;5;28;43mself\u001b[39;49m\u001b[38;5;241;43m.\u001b[39;49m\u001b[43m_read_status\u001b[49m\u001b[43m(\u001b[49m\u001b[43m)\u001b[49m\n\u001b[0;32m    332\u001b[0m     \u001b[38;5;28;01mif\u001b[39;00m status \u001b[38;5;241m!=\u001b[39m CONTINUE:\n\u001b[0;32m    333\u001b[0m         \u001b[38;5;28;01mbreak\u001b[39;00m\n",
      "File \u001b[1;32mc:\\Users\\T14Gen1\\Documents\\Lib\\http\\client.py:292\u001b[0m, in \u001b[0;36mHTTPResponse._read_status\u001b[1;34m(self)\u001b[0m\n\u001b[0;32m    291\u001b[0m \u001b[38;5;28;01mdef\u001b[39;00m \u001b[38;5;21m_read_status\u001b[39m(\u001b[38;5;28mself\u001b[39m):\n\u001b[1;32m--> 292\u001b[0m     line \u001b[38;5;241m=\u001b[39m \u001b[38;5;28mstr\u001b[39m(\u001b[38;5;28;43mself\u001b[39;49m\u001b[38;5;241;43m.\u001b[39;49m\u001b[43mfp\u001b[49m\u001b[38;5;241;43m.\u001b[39;49m\u001b[43mreadline\u001b[49m\u001b[43m(\u001b[49m\u001b[43m_MAXLINE\u001b[49m\u001b[43m \u001b[49m\u001b[38;5;241;43m+\u001b[39;49m\u001b[43m \u001b[49m\u001b[38;5;241;43m1\u001b[39;49m\u001b[43m)\u001b[49m, \u001b[38;5;124m\"\u001b[39m\u001b[38;5;124miso-8859-1\u001b[39m\u001b[38;5;124m\"\u001b[39m)\n\u001b[0;32m    293\u001b[0m     \u001b[38;5;28;01mif\u001b[39;00m \u001b[38;5;28mlen\u001b[39m(line) \u001b[38;5;241m>\u001b[39m _MAXLINE:\n\u001b[0;32m    294\u001b[0m         \u001b[38;5;28;01mraise\u001b[39;00m LineTooLong(\u001b[38;5;124m\"\u001b[39m\u001b[38;5;124mstatus line\u001b[39m\u001b[38;5;124m\"\u001b[39m)\n",
      "File \u001b[1;32mc:\\Users\\T14Gen1\\Documents\\Lib\\socket.py:720\u001b[0m, in \u001b[0;36mSocketIO.readinto\u001b[1;34m(self, b)\u001b[0m\n\u001b[0;32m    718\u001b[0m \u001b[38;5;28;01mwhile\u001b[39;00m \u001b[38;5;28;01mTrue\u001b[39;00m:\n\u001b[0;32m    719\u001b[0m     \u001b[38;5;28;01mtry\u001b[39;00m:\n\u001b[1;32m--> 720\u001b[0m         \u001b[38;5;28;01mreturn\u001b[39;00m \u001b[38;5;28;43mself\u001b[39;49m\u001b[38;5;241;43m.\u001b[39;49m\u001b[43m_sock\u001b[49m\u001b[38;5;241;43m.\u001b[39;49m\u001b[43mrecv_into\u001b[49m\u001b[43m(\u001b[49m\u001b[43mb\u001b[49m\u001b[43m)\u001b[49m\n\u001b[0;32m    721\u001b[0m     \u001b[38;5;28;01mexcept\u001b[39;00m timeout:\n\u001b[0;32m    722\u001b[0m         \u001b[38;5;28mself\u001b[39m\u001b[38;5;241m.\u001b[39m_timeout_occurred \u001b[38;5;241m=\u001b[39m \u001b[38;5;28;01mTrue\u001b[39;00m\n",
      "File \u001b[1;32mc:\\Users\\T14Gen1\\Documents\\Lib\\ssl.py:1252\u001b[0m, in \u001b[0;36mSSLSocket.recv_into\u001b[1;34m(self, buffer, nbytes, flags)\u001b[0m\n\u001b[0;32m   1248\u001b[0m     \u001b[38;5;28;01mif\u001b[39;00m flags \u001b[38;5;241m!=\u001b[39m \u001b[38;5;241m0\u001b[39m:\n\u001b[0;32m   1249\u001b[0m         \u001b[38;5;28;01mraise\u001b[39;00m \u001b[38;5;167;01mValueError\u001b[39;00m(\n\u001b[0;32m   1250\u001b[0m           \u001b[38;5;124m\"\u001b[39m\u001b[38;5;124mnon-zero flags not allowed in calls to recv_into() on \u001b[39m\u001b[38;5;132;01m%s\u001b[39;00m\u001b[38;5;124m\"\u001b[39m \u001b[38;5;241m%\u001b[39m\n\u001b[0;32m   1251\u001b[0m           \u001b[38;5;28mself\u001b[39m\u001b[38;5;241m.\u001b[39m\u001b[38;5;18m__class__\u001b[39m)\n\u001b[1;32m-> 1252\u001b[0m     \u001b[38;5;28;01mreturn\u001b[39;00m \u001b[38;5;28;43mself\u001b[39;49m\u001b[38;5;241;43m.\u001b[39;49m\u001b[43mread\u001b[49m\u001b[43m(\u001b[49m\u001b[43mnbytes\u001b[49m\u001b[43m,\u001b[49m\u001b[43m \u001b[49m\u001b[43mbuffer\u001b[49m\u001b[43m)\u001b[49m\n\u001b[0;32m   1253\u001b[0m \u001b[38;5;28;01melse\u001b[39;00m:\n\u001b[0;32m   1254\u001b[0m     \u001b[38;5;28;01mreturn\u001b[39;00m \u001b[38;5;28msuper\u001b[39m()\u001b[38;5;241m.\u001b[39mrecv_into(buffer, nbytes, flags)\n",
      "File \u001b[1;32mc:\\Users\\T14Gen1\\Documents\\Lib\\ssl.py:1104\u001b[0m, in \u001b[0;36mSSLSocket.read\u001b[1;34m(self, len, buffer)\u001b[0m\n\u001b[0;32m   1102\u001b[0m \u001b[38;5;28;01mtry\u001b[39;00m:\n\u001b[0;32m   1103\u001b[0m     \u001b[38;5;28;01mif\u001b[39;00m buffer \u001b[38;5;129;01mis\u001b[39;00m \u001b[38;5;129;01mnot\u001b[39;00m \u001b[38;5;28;01mNone\u001b[39;00m:\n\u001b[1;32m-> 1104\u001b[0m         \u001b[38;5;28;01mreturn\u001b[39;00m \u001b[38;5;28;43mself\u001b[39;49m\u001b[38;5;241;43m.\u001b[39;49m\u001b[43m_sslobj\u001b[49m\u001b[38;5;241;43m.\u001b[39;49m\u001b[43mread\u001b[49m\u001b[43m(\u001b[49m\u001b[38;5;28;43mlen\u001b[39;49m\u001b[43m,\u001b[49m\u001b[43m \u001b[49m\u001b[43mbuffer\u001b[49m\u001b[43m)\u001b[49m\n\u001b[0;32m   1105\u001b[0m     \u001b[38;5;28;01melse\u001b[39;00m:\n\u001b[0;32m   1106\u001b[0m         \u001b[38;5;28;01mreturn\u001b[39;00m \u001b[38;5;28mself\u001b[39m\u001b[38;5;241m.\u001b[39m_sslobj\u001b[38;5;241m.\u001b[39mread(\u001b[38;5;28mlen\u001b[39m)\n",
      "\u001b[1;31mKeyboardInterrupt\u001b[0m: "
     ]
    }
   ],
   "source": [
    "import requests\n",
    "import re\n",
    "import numpy as np\n",
    "from bs4 import BeautifulSoup\n",
    "\n",
    "# Define the payload and headers for the request\n",
    "# shorts channel1: https://www.youtube.com/watch?v=xEuH_5Ik92U\n",
    "# shorts channel2: https://www.youtube.com/watch?v=fa_sSaHxTZ4\n",
    "# yt_shorts page: https://www.youtube.com/@%EC%95%84%EC%9D%B4%EB%8F%8C/shorts\n",
    "API_KEY = '3397e8a6a37e89b03b08750a27575df8'\n",
    "payload = {\n",
    "    'api_key': API_KEY,\n",
    "    'url': 'https://www.youtube.com/watch?v=fa_sSaHxTZ4'\n",
    "    ,'render': 'true'\n",
    "}\n",
    "# payload = { 'api_key': '3397e8a6a37e89b03b08750a27575df8', 'url': 'https://www.youtube.com/watch?v=xEuH_5Ik92U' }\n",
    "# r = requests.get('https://api.scraperapi.com/', params=payload, verify=False)\n",
    "# print(r.text)\n",
    "headers = {\n",
    "    'x-sapi-render': 'true',\n",
    "    'x-sapi-instruction_set': '[{\"type\":\"scroll\",\"direction\":\"y\",\"value\":\"bottom\"}, {\"type\": \"wait\", \"value\": 3}]'\n",
    "    # , {\"type\": \"click\", \"selector\": {\"type\": \"text\",\"value\": \"Show transcript\"}}\n",
    "    # ,{\"type\":\"scroll\",\"direction\":\"y\",\"value\":\"bottom\"}, {\"type\": \"wait\", \"value\": 2} \n",
    "}\n",
    "# Make the GET request\n",
    "r_full = requests.get('https://api.scraperapi.com/', params=payload, headers=headers, verify=False) # headers=headers,\n",
    "\n",
    "# Save the response text to a file\n",
    "with open('response_channel_test.txt', 'w', encoding='utf-8') as file:\n",
    "    file.write(r_full.text)\n",
    "\n",
    "print(\"Response saved to response_output.txt\")\n"
   ]
  },
  {
   "cell_type": "code",
   "execution_count": 77,
   "id": "84991370",
   "metadata": {},
   "outputs": [
    {
     "name": "stderr",
     "output_type": "stream",
     "text": [
      "c:\\Users\\T14Gen1\\Documents\\Lib\\site-packages\\urllib3\\connectionpool.py:1099: InsecureRequestWarning: Unverified HTTPS request is being made to host 'api.scraperapi.com'. Adding certificate verification is strongly advised. See: https://urllib3.readthedocs.io/en/latest/advanced-usage.html#tls-warnings\n",
      "  warnings.warn(\n"
     ]
    },
    {
     "name": "stdout",
     "output_type": "stream",
     "text": [
      "Response saved to response_output.txt\n"
     ]
    }
   ],
   "source": [
    "# url 한개만 추출 -> comments (x)\n",
    "import requests\n",
    "\n",
    "payload = { 'api_key': '3397e8a6a37e89b03b08750a27575df8', 'url': 'https://www.youtube.com/watch?v=xEuH_5Ik92U'}\n",
    "r_normal = requests.get('https://api.scraperapi.com/', params=payload, verify=False)\n",
    "# Save the response text to a file\n",
    "with open('response_channel_test_쇼츠페이지.txt', 'w', encoding='utf-8') as file:\n",
    "    file.write(r_normal.text)\n",
    "\n",
    "print(\"Response saved to response_output.txt\")"
   ]
  },
  {
   "cell_type": "code",
   "execution_count": 112,
   "id": "25e67cba",
   "metadata": {},
   "outputs": [
    {
     "name": "stderr",
     "output_type": "stream",
     "text": [
      "c:\\Users\\T14Gen1\\Documents\\Lib\\site-packages\\urllib3\\connectionpool.py:1099: InsecureRequestWarning: Unverified HTTPS request is being made to host 'api.scraperapi.com'. Adding certificate verification is strongly advised. See: https://urllib3.readthedocs.io/en/latest/advanced-usage.html#tls-warnings\n",
      "  warnings.warn(\n"
     ]
    },
    {
     "name": "stdout",
     "output_type": "stream",
     "text": [
      "Response for https://www.youtube.com/watch?v=xEuH_5Ik92U saved to response_1.txt\n"
     ]
    },
    {
     "name": "stderr",
     "output_type": "stream",
     "text": [
      "c:\\Users\\T14Gen1\\Documents\\Lib\\site-packages\\urllib3\\connectionpool.py:1099: InsecureRequestWarning: Unverified HTTPS request is being made to host 'api.scraperapi.com'. Adding certificate verification is strongly advised. See: https://urllib3.readthedocs.io/en/latest/advanced-usage.html#tls-warnings\n",
      "  warnings.warn(\n"
     ]
    },
    {
     "name": "stdout",
     "output_type": "stream",
     "text": [
      "Response for https://www.youtube.com/watch?v=CPsCEfs3m8I saved to response_2.txt\n"
     ]
    },
    {
     "name": "stderr",
     "output_type": "stream",
     "text": [
      "c:\\Users\\T14Gen1\\Documents\\Lib\\site-packages\\urllib3\\connectionpool.py:1099: InsecureRequestWarning: Unverified HTTPS request is being made to host 'api.scraperapi.com'. Adding certificate verification is strongly advised. See: https://urllib3.readthedocs.io/en/latest/advanced-usage.html#tls-warnings\n",
      "  warnings.warn(\n"
     ]
    },
    {
     "name": "stdout",
     "output_type": "stream",
     "text": [
      "Response for https://www.youtube.com/watch?v=jXUHFbNo5Vg saved to response_3.txt\n"
     ]
    }
   ],
   "source": [
    "# url 여러개 진행\n",
    "import requests\n",
    "API_KEY = '3397e8a6a37e89b03b08750a27575df8'\n",
    "# List of URLs to test\n",
    "urls = [\n",
    "    'https://www.youtube.com/watch?v=xEuH_5Ik92U',\n",
    "    'https://www.youtube.com/watch?v=CPsCEfs3m8I',\n",
    "    'https://www.youtube.com/watch?v=jXUHFbNo5Vg'\n",
    "]\n",
    "\n",
    "# API key and headers\n",
    "headers = {\n",
    "    'x-sapi-render': 'true',\n",
    "    # 'x-sapi-instruction_set': '[{\"type\":\"scroll\",\"direction\":\"y\",\"value\":\"bottom\"}, {\"type\": \"wait\", \"value\": 2}]'\n",
    "    'x-sapi-instruction_set': '[{\"type\":\"loop\",\"for\":' + str(len(urls))+',\"instructions\":[{\"type\":\"scroll\",\"direction\":\"y\",\"value\":\"bottom\"}, {\"type\": \"wait\", \"value\": 2}]}]'\n",
    "}\n",
    "\n",
    "# Loop through each URL, send request, and save response to a file\n",
    "for i, url in enumerate(urls):\n",
    "    payload = {\n",
    "        'api_key': API_KEY,\n",
    "        'url': url,\n",
    "        'render': 'true'\n",
    "    }\n",
    "    \n",
    "    # Send the request\n",
    "    r = requests.get('https://api.scraperapi.com/', params=payload, headers=headers, verify=False)\n",
    "    \n",
    "    # Save the response to a file, naming it based on the URL index\n",
    "    filename = f'response_{i + 1}.txt'\n",
    "    with open(filename, 'w', encoding='utf-8') as file:\n",
    "        file.write(r.text)\n",
    "    \n",
    "    print(f'Response for {url} saved to {filename}')\n",
    "\n"
   ]
  },
  {
   "cell_type": "markdown",
   "id": "e6c0decd",
   "metadata": {},
   "source": [
    "### Daily Shorts Check\n",
    "- 95000 채널 매일 확인 KST 23:30 진행 -> request 95000 기본\n",
    "- channel_df: YT 채널 데이터\n",
    "- loaded_df: 적제 쇼츠 데이터\n",
    "- basic_shorts_info: 기본적인 Shorts 데이터 추출"
   ]
  },
  {
   "cell_type": "code",
   "execution_count": 147,
   "id": "f90ce72b",
   "metadata": {},
   "outputs": [
    {
     "name": "stdout",
     "output_type": "stream",
     "text": [
      "Empty DataFrame\n",
      "Columns: [channel_name, shorts_url, shorts_title, shorts_description, shorts_thumbnail, shorts_view, shorts_likes, shorts_comments_num, shorts_comments_time, shorts_published_date, check_date]\n",
      "Index: []\n"
     ]
    }
   ],
   "source": [
    "# 기존 channel list와 적재 데이터 loaded\n",
    "import requests\n",
    "import pandas as pd\n",
    "from datetime import datetime, timedelta\n",
    "API_KEY = '3397e8a6a37e89b03b08750a27575df8'\n",
    "# 한국, 미국 데이터 9507개\n",
    "channel_df = pd.read_excel('us_korea_test.xlsx')[:10]\n",
    "# 적재 DB: # -7d, -14d, -21d 만 필터링\n",
    "loaded_df = pd.read_excel(\"loaded_db.xlsx\")\n",
    "today = datetime.today()\n",
    "try:\n",
    "    loaded_df['check_date'] = loaded_df['check_date'].dt.date\n",
    "    filter_dates = [today.date() - timedelta(days=7), today.date() - timedelta(days=14), today.date() - timedelta(days=21)]\n",
    "    # Filter the dataframe based on check_date\n",
    "    loaded_df = loaded_df[loaded_df['check_date'].isin(filter_dates)]\n",
    "    # channel_df 와 loaded_df 교집합 데이터\n",
    "    merged_df = pd.merge(loaded_df, channel_df, on='channel_name', how='inner')\n",
    "except Exception:\n",
    "    pass\n",
    "\n",
    "print(loaded_df)"
   ]
  },
  {
   "cell_type": "code",
   "execution_count": 148,
   "id": "81c24239",
   "metadata": {},
   "outputs": [
    {
     "name": "stdout",
     "output_type": "stream",
     "text": [
      "yt_shorts_title:  Just Trust God\n",
      "yt_shorts_description:  None\n",
      "yt_shorts_published:  2022-10-21 16\n",
      "yt_shorts_thumbnalil:  https://rr4---sn-bpb5oxu-3c2y.googlevideo.com/videoplayback?expire=1729256387\\u0026ei=YwcSZ_W4JbCli9oP3Mus0QY\\u0026ip=104.250.200.157\\u0026id=o-AIqq3p-zL54fhxpGWLpYfSLW2HNez7CmN328RmdwkOUE\\u0026itag=18\\u0026source=youtube\\u0026requiressl=yes\\u0026xpc=EgVo2aDSNQ%3D%3D\\u0026met=1729234787%2C\\u0026mh=31\\u0026mm=31%2C29\\u0026mn=sn-bpb5oxu-3c2y%2Csn-8vap5-3c2d\\u0026ms=au%2Crdu\\u0026mv=m\\u0026mvi=4\\u0026pl=22\\u0026rms=au%2Cau\\u0026pcm2=yes\\u0026initcwndbps=2145000\\u0026bui=AXLXGFRnKHAWIVMwxsC0BrUOn4mkYavtEXe2Jl7hi1xde5GjeaHdfnVfoUV78GYboMvTSXoRo4Ipk5e7\\u0026spc=54MbxYERAZtMh9LMA3ysYSYOnRjF65dPgpZAUxV0WletwsYEDOH7TgAsgDl2zS4\\u0026vprv=1\\u0026svpuc=1\\u0026mime=video%2Fmp4\\u0026ns=MiHLoWAOwuVBwlwJkLdAqHwQ\\u0026rqh=1\\u0026cnr=14\\u0026ratebypass=yes\\u0026dur=54.613\\u0026lmt=1700141138840856\\u0026mt=1729234388\\u0026fvip=2\\u0026fexp=51312688\\u0026c=WEB\\u0026sefc=1\\u0026txp=6310224\\u0026n=i1itFLvVOfrhPYF\\u0026sparams=expire%2Cei%2Cip%2Cid%2Citag%2Csource%2Crequiressl%2Cxpc%2Cpcm2%2Cbui%2Cspc%2Cvprv%2Csvpuc%2Cmime%2Cns%2Crqh%2Ccnr%2Cratebypass%2Cdur%2Clmt\\u0026sig=AJfQdSswRAIgNUnpQcmaLAFJmPtOMYfxzcgL6_K_L9Ef92en2En4V-cCIGsLW91gBokjyJX3K2egIITRrppjEvlX7BQGNAH33qFl\\u0026lsparams=met%2Cmh%2Cmm%2Cmn%2Cms%2Cmv%2Cmvi%2Cpl%2Crms%2Cinitcwndbps\\u0026lsig=ACJ0pHgwRQIhAJM4_20uM6BTlq1q8BPz6F5QsAh3qRkm6wDiRia0gdphAiBI6825LzszaZr0GdXGLgl23IBmWttUvFvsUJRUZJJVwQ%3D%3D\n",
      "yt_view:  90,878\n",
      "yt_likes:  17000.0\n",
      "yt_comments:  552.0\n",
      "yt_shorts_comments_time:  nan\n"
     ]
    }
   ],
   "source": [
    "# Test 용\n",
    "# r_full: render 조건 True, request: 10, 쇼츠 데이터\n",
    "# r_normal: render 조건 False, request: 1, 쇼츠데이터\n",
    "# r_page: 채널 쇼츠 페이지, reqeust: 1\n",
    "\n",
    "# scraperAPI result filter with NaN values for missing data\n",
    "def basic_shorts_info(text):\n",
    "    # shorts title\n",
    "    match_title = re.search(r'<title>(.*?) - YouTube</title>', text)\n",
    "    extracted_title = match_title.group(1) if match_title else np.nan\n",
    "\n",
    "    # shorts description\n",
    "    description_pattern = r'attributedDescription\":{\"content\":\"(.*?)\"'\n",
    "    # Find the match\n",
    "    description_match = re.search(description_pattern, text)\n",
    "    # Extract the content if found\n",
    "    extracted_description = description_match.group(1) if description_match else None\n",
    "    \n",
    "    # shorts total view (date and time)\n",
    "    date_time_pattern = r'datePublished\" content=\"(\\d{4}-\\d{2}-\\d{2})T(\\d{2}):'\n",
    "    match_date = re.search(date_time_pattern, text)\n",
    "    extracted_published = f\"{match_date.group(1)} {match_date.group(2)}\" if match_date else np.nan\n",
    "\n",
    "    # Thumbnail\n",
    "    thumbnail_pattern = r'\"url\":\"(https?://[^\\s\"]+)\"'\n",
    "    thumbnail_match = re.search(thumbnail_pattern, text)\n",
    "    yt_shorts_thumbnail = thumbnail_match.group(1) if thumbnail_match else np.nan\n",
    "\n",
    "    # Total view\n",
    "    view_pattern = r'\"viewCountEntityKey\":\"[^\"]+\",\"factoid\":\\{\"factoidRenderer\":\\{\"value\":\\{\"simpleText\":\"([\\d,]+)\"'\n",
    "    view_match = re.search(view_pattern, text)\n",
    "    extracted_view = view_match.group(1) if view_match else np.nan\n",
    "\n",
    "    # Total likes\n",
    "    like_pattern = r'\"iconName\":\"LIKE\",\"title\":\"([\\d.]+)([KM]?)\"'\n",
    "    like_match = re.search(like_pattern, text)\n",
    "    if like_match:\n",
    "        extracted_likes = float(like_match.group(1))\n",
    "        suffix = like_match.group(2)\n",
    "        if suffix == 'K':\n",
    "            extracted_likes *= 1000\n",
    "        elif suffix == 'M':\n",
    "            extracted_likes *= 1000000\n",
    "    else:\n",
    "        extracted_likes = np.nan\n",
    "\n",
    "    # Total comments    \n",
    "    comment_num_pattern = r'\"text\":\"Comments\"}\\]},\"contextualInfo\":\\{\"runs\":\\[\\{\"text\":\"([\\d.]+)([KM]?)\"'\n",
    "    comment_num_match = re.search(comment_num_pattern, text)\n",
    "    if comment_num_match:\n",
    "        extracted_comments_number = float(comment_num_match.group(1))\n",
    "        suffix = comment_num_match.group(2)\n",
    "        if suffix == 'K':\n",
    "            extracted_comments_number *= 1000\n",
    "        elif suffix == 'M':\n",
    "            extracted_comments_number *= 1000000\n",
    "    else:\n",
    "        extracted_comments_number = np.nan\n",
    "\n",
    "    # yt shorts comment 결과 및 comment 작성 시간\n",
    "    comments_time_text_pattern = r'<span[^>]*id=\"published-time-text\"[^>]*>\\s*<a[^>]*>\\s*(.*?)\\s*<\\/a>.*?<yt-attributed-string[^>]*>\\s*<span[^>]*class=\"yt-core-attributed-string yt-core-attributed-string--white-space-pre-wrap\"[^>]*>\\s*(.*?)\\s*<\\/span>'\n",
    "    \n",
    "    # Find all matches for time and comments\n",
    "    comments_time_matches = re.findall(comments_time_text_pattern, text, re.DOTALL)\n",
    "    \n",
    "    # Process and clean comments\n",
    "    extracted_comments_time_matches = []\n",
    "    if comments_time_matches:\n",
    "        for time, comment in comments_time_matches:\n",
    "            # Clean the comment to remove unwanted tags using BeautifulSoup\n",
    "            soup = BeautifulSoup(comment, 'html.parser')\n",
    "            cleaned_comment = soup.get_text()\n",
    "            extracted_comments_time_matches.append((time.strip(), cleaned_comment.strip()))\n",
    "    else:\n",
    "        extracted_comments_time_matches = np.nan\n",
    "\n",
    "    return (extracted_title, extracted_description, extracted_published, yt_shorts_thumbnail, \n",
    "            extracted_view, extracted_likes, extracted_comments_number, extracted_comments_time_matches)\n",
    "yt_shorts_title, yt_shorts_description, yt_shorts_published, yt_shorts_thumbnail, yt_shorts_view, yt_shorts_likes, yt_shorts_comments_num, yt_shorts_comments_time = basic_shorts_info(r_full.text)\n",
    "print(\"yt_shorts_title: \", yt_shorts_title)\n",
    "print(\"yt_shorts_description: \", yt_shorts_description)\n",
    "print(\"yt_shorts_published: \", yt_shorts_published)\n",
    "print(\"yt_shorts_thumbnalil: \", yt_shorts_thumbnail)\n",
    "print(\"yt_view: \", yt_shorts_view)\n",
    "print(\"yt_likes: \", yt_shorts_likes)\n",
    "print(\"yt_comments: \", yt_shorts_comments_num)\n",
    "print(\"yt_shorts_comments_time: \", yt_shorts_comments_time)\n",
    "# print(len(yt_shorts_comments_time))"
   ]
  },
  {
   "cell_type": "markdown",
   "id": "1f3ec5be",
   "metadata": {},
   "source": [
    "##### 1. 기존 수집했던 쇼츠 재수집 -7d, -14d, -21d\n",
    "- loaded_db에서 날짜 필터링해서 데이터 수집 진행"
   ]
  },
  {
   "cell_type": "code",
   "execution_count": 149,
   "id": "62c08ab7",
   "metadata": {},
   "outputs": [
    {
     "name": "stdout",
     "output_type": "stream",
     "text": [
      "Empty DataFrame\n",
      "Columns: [channel_name, shorts_url, shorts_title, shorts_description, shorts_thumbnail, shorts_view, shorts_likes, shorts_comments_num, shorts_comments_time, shorts_published_date, check_date]\n",
      "Index: []\n"
     ]
    },
    {
     "data": {
      "text/html": [
       "<div>\n",
       "<style scoped>\n",
       "    .dataframe tbody tr th:only-of-type {\n",
       "        vertical-align: middle;\n",
       "    }\n",
       "\n",
       "    .dataframe tbody tr th {\n",
       "        vertical-align: top;\n",
       "    }\n",
       "\n",
       "    .dataframe thead th {\n",
       "        text-align: right;\n",
       "    }\n",
       "</style>\n",
       "<table border=\"1\" class=\"dataframe\">\n",
       "  <thead>\n",
       "    <tr style=\"text-align: right;\">\n",
       "      <th></th>\n",
       "      <th>channel_name</th>\n",
       "      <th>shorts_url</th>\n",
       "      <th>shorts_title</th>\n",
       "      <th>shorts_description</th>\n",
       "      <th>shorts_thumbnail</th>\n",
       "      <th>shorts_view</th>\n",
       "      <th>shorts_likes</th>\n",
       "      <th>shorts_comments_num</th>\n",
       "      <th>shorts_comments_time</th>\n",
       "      <th>shorts_published_date</th>\n",
       "      <th>check_date</th>\n",
       "    </tr>\n",
       "  </thead>\n",
       "  <tbody>\n",
       "  </tbody>\n",
       "</table>\n",
       "</div>"
      ],
      "text/plain": [
       "Empty DataFrame\n",
       "Columns: [channel_name, shorts_url, shorts_title, shorts_description, shorts_thumbnail, shorts_view, shorts_likes, shorts_comments_num, shorts_comments_time, shorts_published_date, check_date]\n",
       "Index: []"
      ]
     },
     "execution_count": 149,
     "metadata": {},
     "output_type": "execute_result"
    }
   ],
   "source": [
    "import requests\n",
    "from datetime import datetime, timedelta\n",
    "\n",
    "def collect_past_shorts(api_key, loaded_df):\n",
    "    today = datetime.today()\n",
    "    print(loaded_df)\n",
    "    # Iterate over each row in loaded_df, checking check_date and shorts_url\n",
    "    for idx, (check_dt, shorts_url) in enumerate(zip(loaded_df['check_date'], loaded_df['shorts_url'])):\n",
    "        if check_dt == (today.date() - timedelta(days=14)) or check_dt == (today.date() - timedelta(days=21)):\n",
    "            payload = {\n",
    "                'api_key': api_key,\n",
    "                'url': shorts_url\n",
    "            }\n",
    "            \n",
    "            # Send the request\n",
    "            r = requests.get('https://api.scraperapi.com/', params=payload, verify=False)\n",
    "\n",
    "            # Extract relevant information from the response\n",
    "            yt_title, yt_shorts_description, yt_shorts_published, yt_shorts_thumbnail, yt_shorts_view, yt_shorts_likes, yt_shorts_comments_num, yt_shorts_comments_time = basic_shorts_info(r.text)\n",
    "            # Prepare new row with updated values (keeping the same channel name and other values from loaded_df)\n",
    "            new_row = {\n",
    "                'channel_nm': loaded_df.loc[idx, 'channel_nm'], \n",
    "                'shorts_url': shorts_url, \n",
    "                'shorts_title': yt_title,\n",
    "                'shorts_description': yt_shorts_description,\n",
    "                'shorts_thumbnalil': yt_shorts_thumbnail,\n",
    "                'shorts_view': yt_shorts_view,\n",
    "                'shorts_likes': yt_shorts_likes,\n",
    "                'shorts_comments': yt_shorts_comments_num,\n",
    "                'shorts_comments_time': yt_shorts_comments_time,\n",
    "                'shorts_published_date': yt_shorts_published,\n",
    "                'check_date': today.date()  # Use today's date for the new check_date\n",
    "            }\n",
    "            \n",
    "            # Append the new row to the DataFrame\n",
    "            loaded_df = loaded_df.append(new_row, ignore_index=True)\n",
    "\n",
    "        # -7d에는 comments 추가 수집\n",
    "        elif check_dt==(today.date() - timedelta(days=7)): \n",
    "            payload = {\n",
    "                'api_key': API_KEY,\n",
    "                'url': 'https://www.youtube.com/watch?v=xEuH_5Ik92U',\n",
    "                'render': 'true'\n",
    "            }\n",
    "\n",
    "            headers = {\n",
    "                'x-sapi-render': 'true',\n",
    "                'x-sapi-instruction_set': '[{\"type\":\"scroll\",\"direction\":\"y\",\"value\":\"bottom\"}, {\"type\": \"wait\", \"value\": 2}]'\n",
    "                # , {\"type\": \"click\", \"selector\": {\"type\": \"text\",\"value\": \"Show transcript\"}}\n",
    "                # ,{\"type\":\"scroll\",\"direction\":\"y\",\"value\":\"bottom\"}, {\"type\": \"wait\", \"value\": 2} \n",
    "            }\n",
    "            r = requests.get('https://api.scraperapi.com/', params=payload, headers=headers, verify=False)\n",
    "            yt_title, yt_shorts_description, yt_shorts_published, yt_shorts_thumbnail, yt_shorts_view, yt_shorts_likes, yt_shorts_comments_num, yt_shorts_comments_time = basic_shorts_info(r.text)\n",
    "\n",
    "            # Prepare new row with updated values (keeping the same channel name and other values from loaded_df)\n",
    "            new_row = {\n",
    "                'channel_nm': loaded_df.loc[idx, 'channel_nm'], \n",
    "                'shorts_url': shorts_url, \n",
    "                'shorts_title': yt_title,\n",
    "                'shorts_description': yt_shorts_description,\n",
    "                'shorts_thumbnalil': yt_shorts_thumbnail,\n",
    "                'shorts_view': yt_shorts_view,\n",
    "                'shorts_likes': yt_shorts_likes,\n",
    "                'shorts_comments': yt_shorts_comments_num,\n",
    "                'shorts_comments_time': yt_shorts_comments_time,\n",
    "                'shorts_published_date': yt_shorts_published,\n",
    "                'check_date': today.date()  # Use today's date for the new check_date\n",
    "            }\n",
    "\n",
    "            loaded_df = loaded_df.append(new_row, ignore_index=True)\n",
    "\n",
    "        else:\n",
    "            print(\"no data\")\n",
    "            pass\n",
    "\n",
    "    return loaded_df\n",
    "\n",
    "collect_past_shorts(API_KEY, loaded_df)"
   ]
  },
  {
   "cell_type": "markdown",
   "id": "4aaf44e5",
   "metadata": {},
   "source": [
    "##### 2. channel shorts url input으로 들어갈시 채널 url 필터링(daily)\n",
    "- 최신 기준으로 맵핑이 되지 않는 경우 최근 1개 url수집 \n",
    "- 기존 말고 신규 shorts url 확인시 list 추가\n",
    "- 마지막에 다 확인후 추가된 list 쇼츠 데이터 수집 진행 -> 10 request로"
   ]
  },
  {
   "cell_type": "code",
   "execution_count": 150,
   "id": "b517bb46",
   "metadata": {},
   "outputs": [],
   "source": [
    "# 매일 전체 채널 필터링\n",
    "# - 신규 쇼츠 데이터 발견시 list에 추가해서 comments까지 확인\n",
    "# - 과거 데이터가 없을 수 있으니 만약 하나도 매칭이 안되면 3개 수집, 있다면 그거 앞에꺼를 추가수집\n",
    "def scanning_yt_shorts_page(api_key, channel_db, loaded_db):\n",
    "    # List to store results in the format (channel_name, new_shorts_url)\n",
    "    new_shorts_urls = []\n",
    "\n",
    "    # Iterate over each row in channel_db\n",
    "    for index, row in channel_db.iterrows():\n",
    "        channel_name = row['channel_name']\n",
    "        yt_fixed_url = row['yt_fixed_url']\n",
    "        \n",
    "        # Filter loaded_db where channel_name matches\n",
    "        matching_rows = loaded_db[loaded_db['channel_name'] == channel_name]\n",
    "        \n",
    "        if not matching_rows.empty:\n",
    "            # Sort by check_date to get the most recent row\n",
    "            latest_row = matching_rows.sort_values(by='check_date', ascending=False).iloc[0]\n",
    "        \n",
    "        # Prepare the payload for ScraperAPI request, using yt_fixed_url\n",
    "        payload = {\n",
    "            'api_key': api_key,\n",
    "            'url': yt_fixed_url\n",
    "        }\n",
    "        \n",
    "        # Send the request to ScraperAPI\n",
    "        r = requests.get('https://api.scraperapi.com/', params=payload, verify=False)\n",
    "        \n",
    "        # Define the regex pattern to extract Shorts URLs\n",
    "        shorts_url_pattern = r'webCommandMetadata\":{\"url\":\"(/shorts/\\w+)\"'\n",
    "        # Find all matching Shorts URLs\n",
    "        shorts_urls = re.findall(shorts_url_pattern, r.text)\n",
    "        shorts_urls =  ['https://www.youtube.com' + url.replace('/shorts/', '/watch?v=') for url in shorts_urls]\n",
    "\n",
    "        print(f\"shorts_urls for {channel_name}: \", shorts_urls)\n",
    "\n",
    "        # Check if there are any new shorts URLs before the latest one\n",
    "        if not matching_rows.empty:\n",
    "            latest_url = latest_row['shorts_url']\n",
    "            # If the latest URL exists in the list of Shorts URLs, find the ones before it\n",
    "            if latest_url in shorts_urls:\n",
    "                matching_index = shorts_urls.index(latest_url)\n",
    "                # Collect all URLs before the match with channel_name\n",
    "                for shorts_url in shorts_urls[:matching_index]:\n",
    "                    new_shorts_urls.append((channel_name, shorts_url))\n",
    "        else:\n",
    "            # If no match in loaded_db, return the first shorts URL with channel_name\n",
    "            if shorts_urls:\n",
    "                new_shorts_urls.append((channel_name, shorts_urls[0]))\n",
    "    \n",
    "\n",
    "    return new_shorts_urls  # Return the list of tuples (channel_name, shorts_url)"
   ]
  },
  {
   "cell_type": "code",
   "execution_count": 151,
   "id": "6f533636",
   "metadata": {},
   "outputs": [
    {
     "name": "stderr",
     "output_type": "stream",
     "text": [
      "c:\\Users\\T14Gen1\\Documents\\Lib\\site-packages\\urllib3\\connectionpool.py:1099: InsecureRequestWarning: Unverified HTTPS request is being made to host 'api.scraperapi.com'. Adding certificate verification is strongly advised. See: https://urllib3.readthedocs.io/en/latest/advanced-usage.html#tls-warnings\n",
      "  warnings.warn(\n"
     ]
    },
    {
     "name": "stdout",
     "output_type": "stream",
     "text": [
      "shorts_urls for Robert Breaker:  ['https://www.youtube.com/watch?v=qc0iqmlAR38', 'https://www.youtube.com/watch?v=Lu2gWsx3rs8', 'https://www.youtube.com/watch?v=KqpYUbvjRK8', 'https://www.youtube.com/watch?v=HQIiA6T_Iic', 'https://www.youtube.com/watch?v=brm8V4CEnh8', 'https://www.youtube.com/watch?v=4qyiflpsY5E', 'https://www.youtube.com/watch?v=nz6UeE75hOM', 'https://www.youtube.com/watch?v=Vcw2rL2nWfA', 'https://www.youtube.com/watch?v=5ndfKljP5gA', 'https://www.youtube.com/watch?v=c0_YNvm5sJw', 'https://www.youtube.com/watch?v=zwUMeX3BPbU', 'https://www.youtube.com/watch?v=6XcJDpLrqr8', 'https://www.youtube.com/watch?v=2OIxmnYPc3s', 'https://www.youtube.com/watch?v=kEWh0IZyPiE', 'https://www.youtube.com/watch?v=vBonWvTDeyM', 'https://www.youtube.com/watch?v=VVUCLE0bths', 'https://www.youtube.com/watch?v=0PSQuoCVELg', 'https://www.youtube.com/watch?v=zzN6n_GJHtA', 'https://www.youtube.com/watch?v=C7eyrX2WjOs', 'https://www.youtube.com/watch?v=tkeh2Oz29Gw', 'https://www.youtube.com/watch?v=OIrralLUTyE', 'https://www.youtube.com/watch?v=yP1vwSHeIe8', 'https://www.youtube.com/watch?v=MIXnAoYTF6c', 'https://www.youtube.com/watch?v=rWkTB8dMYt8', 'https://www.youtube.com/watch?v=koDfIuezyFQ', 'https://www.youtube.com/watch?v=gLaVV519QzI', 'https://www.youtube.com/watch?v=5ku6wwXd6N0', 'https://www.youtube.com/watch?v=vLnnF2MYJGo', 'https://www.youtube.com/watch?v=8RZS8f5NBpA', 'https://www.youtube.com/watch?v=CBK6FZ3YzwU', 'https://www.youtube.com/watch?v=gi_2VUetkdc', 'https://www.youtube.com/watch?v=OO41Qz0hT14', 'https://www.youtube.com/watch?v=Sj_U7vcYDuA', 'https://www.youtube.com/watch?v=cWVWrZxXCv0', 'https://www.youtube.com/watch?v=kDHh9AzSANY', 'https://www.youtube.com/watch?v=QDXfxWIMRtw', 'https://www.youtube.com/watch?v=DxcDY2H1k4c', 'https://www.youtube.com/watch?v=fJBxbNNZu84', 'https://www.youtube.com/watch?v=QbsK_14ANvE', 'https://www.youtube.com/watch?v=z_TgL_lDgfg', 'https://www.youtube.com/watch?v=qNKP46rfzAo', 'https://www.youtube.com/watch?v=ERFUjHAB_sc']\n"
     ]
    },
    {
     "name": "stderr",
     "output_type": "stream",
     "text": [
      "c:\\Users\\T14Gen1\\Documents\\Lib\\site-packages\\urllib3\\connectionpool.py:1099: InsecureRequestWarning: Unverified HTTPS request is being made to host 'api.scraperapi.com'. Adding certificate verification is strongly advised. See: https://urllib3.readthedocs.io/en/latest/advanced-usage.html#tls-warnings\n",
      "  warnings.warn(\n"
     ]
    },
    {
     "name": "stdout",
     "output_type": "stream",
     "text": [
      "shorts_urls for Nick Jones:  ['https://www.youtube.com/watch?v=fa_sSaHxTZ4', 'https://www.youtube.com/watch?v=0vPxMeWXNpA', 'https://www.youtube.com/watch?v=mlzNZAnY2Vc', 'https://www.youtube.com/watch?v=4LHlp1eCQIE', 'https://www.youtube.com/watch?v=wWHyYFemnWk', 'https://www.youtube.com/watch?v=LZiy319wB0Q', 'https://www.youtube.com/watch?v=sQi9mAxFAC0', 'https://www.youtube.com/watch?v=OkBVU_zFNh4', 'https://www.youtube.com/watch?v=OnDZ79Jd4iU', 'https://www.youtube.com/watch?v=P3itqoXsh1M', 'https://www.youtube.com/watch?v=t0AIf6QNd9Y', 'https://www.youtube.com/watch?v=7UmYhoddWo0', 'https://www.youtube.com/watch?v=twLOUozjmzU', 'https://www.youtube.com/watch?v=Twljy9DtxB4', 'https://www.youtube.com/watch?v=m70O1UpiuMY', 'https://www.youtube.com/watch?v=up0TKqllXJ4', 'https://www.youtube.com/watch?v=66xZITjBlqA', 'https://www.youtube.com/watch?v=0zKSBOIVR6c', 'https://www.youtube.com/watch?v=9x0aAFCHrxA', 'https://www.youtube.com/watch?v=yQy8NMII_Ns', 'https://www.youtube.com/watch?v=kkGGS5J7hJQ', 'https://www.youtube.com/watch?v=qSC0Z3i47DY', 'https://www.youtube.com/watch?v=gEaYfe8F1k0', 'https://www.youtube.com/watch?v=w9Cxo6LdXng', 'https://www.youtube.com/watch?v=kcNaJ8Zgh2Q', 'https://www.youtube.com/watch?v=zDetSx_ejFA', 'https://www.youtube.com/watch?v=lqrx2dSlyzs', 'https://www.youtube.com/watch?v=c408q11hSBA', 'https://www.youtube.com/watch?v=_5hUES9oxK8', 'https://www.youtube.com/watch?v=wqf5fDYUOvI', 'https://www.youtube.com/watch?v=cJT8FV6v8Cw', 'https://www.youtube.com/watch?v=1k8lr4m6S0Q', 'https://www.youtube.com/watch?v=FxO6cvK0Ku0', 'https://www.youtube.com/watch?v=HV6d2XADFgA', 'https://www.youtube.com/watch?v=SkUdOGaeqjw', 'https://www.youtube.com/watch?v=9gM2rNzzum4', 'https://www.youtube.com/watch?v=bjYUBw4tUOc', 'https://www.youtube.com/watch?v=mBkmyxNN1jU']\n"
     ]
    },
    {
     "name": "stderr",
     "output_type": "stream",
     "text": [
      "c:\\Users\\T14Gen1\\Documents\\Lib\\site-packages\\urllib3\\connectionpool.py:1099: InsecureRequestWarning: Unverified HTTPS request is being made to host 'api.scraperapi.com'. Adding certificate verification is strongly advised. See: https://urllib3.readthedocs.io/en/latest/advanced-usage.html#tls-warnings\n",
      "  warnings.warn(\n"
     ]
    },
    {
     "name": "stdout",
     "output_type": "stream",
     "text": [
      "shorts_urls for Tactical Toolbox:  []\n"
     ]
    },
    {
     "name": "stderr",
     "output_type": "stream",
     "text": [
      "c:\\Users\\T14Gen1\\Documents\\Lib\\site-packages\\urllib3\\connectionpool.py:1099: InsecureRequestWarning: Unverified HTTPS request is being made to host 'api.scraperapi.com'. Adding certificate verification is strongly advised. See: https://urllib3.readthedocs.io/en/latest/advanced-usage.html#tls-warnings\n",
      "  warnings.warn(\n"
     ]
    },
    {
     "name": "stdout",
     "output_type": "stream",
     "text": [
      "shorts_urls for Steve Ram:  ['https://www.youtube.com/watch?v=SqU7aeAPkrY', 'https://www.youtube.com/watch?v=fh1NejyHeZM', 'https://www.youtube.com/watch?v=lXyxquddfzM', 'https://www.youtube.com/watch?v=JRpPa1ETqaA', 'https://www.youtube.com/watch?v=HKpVCHZEGEQ', 'https://www.youtube.com/watch?v=_wKDGxXYF5E', 'https://www.youtube.com/watch?v=LWYJk3mXd4Q', 'https://www.youtube.com/watch?v=GMmPMujyCgw', 'https://www.youtube.com/watch?v=0dSnoDHRIIo', 'https://www.youtube.com/watch?v=D08Kghgkjxw', 'https://www.youtube.com/watch?v=WPdhHTep72Y', 'https://www.youtube.com/watch?v=5oXvRdMT6PY', 'https://www.youtube.com/watch?v=Zz40gaYOYDI', 'https://www.youtube.com/watch?v=oyFyYWsBSy0', 'https://www.youtube.com/watch?v=yFvTaG7Sne8', 'https://www.youtube.com/watch?v=LzldCMxdJMA', 'https://www.youtube.com/watch?v=rflZU9TWLx0', 'https://www.youtube.com/watch?v=i_5NLsW8uUk', 'https://www.youtube.com/watch?v=eRIg_s1vrk0', 'https://www.youtube.com/watch?v=WeUribMw1E4', 'https://www.youtube.com/watch?v=HgZedqw4Sdg', 'https://www.youtube.com/watch?v=cWEuSirhZn0', 'https://www.youtube.com/watch?v=6jXtmYeGX2k', 'https://www.youtube.com/watch?v=JmRX4EfW5g0', 'https://www.youtube.com/watch?v=aPCCcXuuOK0', 'https://www.youtube.com/watch?v=6qkqkryqu50', 'https://www.youtube.com/watch?v=Dt0XBvzy6R4', 'https://www.youtube.com/watch?v=mcUsOBX8hYw', 'https://www.youtube.com/watch?v=nvrlpbin0Co', 'https://www.youtube.com/watch?v=R4YvWEkyjn8', 'https://www.youtube.com/watch?v=IKiQhX261aM', 'https://www.youtube.com/watch?v=1v1JZcJxaAM', 'https://www.youtube.com/watch?v=BSO4_X8vT1M', 'https://www.youtube.com/watch?v=mdE5HMe6uF0', 'https://www.youtube.com/watch?v=W9RTzxFa75Y', 'https://www.youtube.com/watch?v=p4vDWdgVhEM', 'https://www.youtube.com/watch?v=5tf1MaWWzKc', 'https://www.youtube.com/watch?v=gWpt4mn0iaw', 'https://www.youtube.com/watch?v=P9Na48_P2ic', 'https://www.youtube.com/watch?v=EBmC1QQoSjM', 'https://www.youtube.com/watch?v=FRqnq9Q871g', 'https://www.youtube.com/watch?v=ykA5xehz3Gc', 'https://www.youtube.com/watch?v=V8JDFF1UiLA']\n"
     ]
    },
    {
     "name": "stderr",
     "output_type": "stream",
     "text": [
      "c:\\Users\\T14Gen1\\Documents\\Lib\\site-packages\\urllib3\\connectionpool.py:1099: InsecureRequestWarning: Unverified HTTPS request is being made to host 'api.scraperapi.com'. Adding certificate verification is strongly advised. See: https://urllib3.readthedocs.io/en/latest/advanced-usage.html#tls-warnings\n",
      "  warnings.warn(\n"
     ]
    },
    {
     "name": "stdout",
     "output_type": "stream",
     "text": [
      "shorts_urls for So Sweet ASMR:  ['https://www.youtube.com/watch?v=k27UsRRjC5g', 'https://www.youtube.com/watch?v=d6AC0G1LR2w', 'https://www.youtube.com/watch?v=lF576OmW3YE', 'https://www.youtube.com/watch?v=Ta2p2kJDMfQ', 'https://www.youtube.com/watch?v=zIASIHrM0ww', 'https://www.youtube.com/watch?v=CLNcgIIH6T8', 'https://www.youtube.com/watch?v=k_ZdopDCbr0', 'https://www.youtube.com/watch?v=YzhTK_Nh6i0', 'https://www.youtube.com/watch?v=jzwOPwmx4MU', 'https://www.youtube.com/watch?v=2pZdSgQCpfo', 'https://www.youtube.com/watch?v=AQYWnQ6iUNQ', 'https://www.youtube.com/watch?v=DsrFf1K5z5g', 'https://www.youtube.com/watch?v=6Z_rNS_Eqd4', 'https://www.youtube.com/watch?v=aKJUaPwk4as', 'https://www.youtube.com/watch?v=EBRcOm5IpF0', 'https://www.youtube.com/watch?v=b2oVLhKi8zg', 'https://www.youtube.com/watch?v=RZQnjPOGbbE', 'https://www.youtube.com/watch?v=4fW9CSm4UEg', 'https://www.youtube.com/watch?v=l6T9ApuSIl0', 'https://www.youtube.com/watch?v=OGS_Vawof4Q', 'https://www.youtube.com/watch?v=tz_NFTyAhMY', 'https://www.youtube.com/watch?v=TWZL_cph8XY', 'https://www.youtube.com/watch?v=RSJgvQgilrQ', 'https://www.youtube.com/watch?v=_UgNUxn4z9k', 'https://www.youtube.com/watch?v=Yy8W9q2jDSM', 'https://www.youtube.com/watch?v=1GpRGsrFFZ8', 'https://www.youtube.com/watch?v=MPlx_vamxnU', 'https://www.youtube.com/watch?v=R8AUGJX5oms', 'https://www.youtube.com/watch?v=OgtUbSESSuo', 'https://www.youtube.com/watch?v=0facsk1RE1U', 'https://www.youtube.com/watch?v=8od5g4bx3BA', 'https://www.youtube.com/watch?v=TPUdrmQZBaQ', 'https://www.youtube.com/watch?v=Kh4H1F3UazQ', 'https://www.youtube.com/watch?v=EgYi14jYQ88', 'https://www.youtube.com/watch?v=NtSr9dZayT4', 'https://www.youtube.com/watch?v=rJsBfp7NhPM', 'https://www.youtube.com/watch?v=yxkAddQf__I', 'https://www.youtube.com/watch?v=A0Ax_lAIYqU', 'https://www.youtube.com/watch?v=Gu_9Gz7PsbE', 'https://www.youtube.com/watch?v=bEOkHr3dBcE', 'https://www.youtube.com/watch?v=VsC4O_gMDi0']\n"
     ]
    },
    {
     "name": "stderr",
     "output_type": "stream",
     "text": [
      "c:\\Users\\T14Gen1\\Documents\\Lib\\site-packages\\urllib3\\connectionpool.py:1099: InsecureRequestWarning: Unverified HTTPS request is being made to host 'api.scraperapi.com'. Adding certificate verification is strongly advised. See: https://urllib3.readthedocs.io/en/latest/advanced-usage.html#tls-warnings\n",
      "  warnings.warn(\n"
     ]
    },
    {
     "name": "stdout",
     "output_type": "stream",
     "text": [
      "shorts_urls for English with Jennifer:  ['https://www.youtube.com/watch?v=HNaIXQ_qmrg', 'https://www.youtube.com/watch?v=ie8ETMzpV34', 'https://www.youtube.com/watch?v=U_4nhcvwRko', 'https://www.youtube.com/watch?v=sYB4lnx6ZOE', 'https://www.youtube.com/watch?v=0IWF8fC4cg8', 'https://www.youtube.com/watch?v=NTjvgAZNEMQ', 'https://www.youtube.com/watch?v=h08uI5GHdvg', 'https://www.youtube.com/watch?v=tLL7A6snxWA', 'https://www.youtube.com/watch?v=oUyCX9jQ_Mc', 'https://www.youtube.com/watch?v=PJWaGhC328U', 'https://www.youtube.com/watch?v=cmQ3OvUWseA', 'https://www.youtube.com/watch?v=wNQfAusAuz4', 'https://www.youtube.com/watch?v=jeZHcYkrSCk', 'https://www.youtube.com/watch?v=NLr4OqK445E', 'https://www.youtube.com/watch?v=DdUkMSUCIsA', 'https://www.youtube.com/watch?v=24g5nckRPxw', 'https://www.youtube.com/watch?v=vrAklNSORYo', 'https://www.youtube.com/watch?v=YV2Noj2MpME', 'https://www.youtube.com/watch?v=i2ic_QMKwyE', 'https://www.youtube.com/watch?v=DRPTPDx0G8w', 'https://www.youtube.com/watch?v=xGwR8KhmDc4', 'https://www.youtube.com/watch?v=mlZsMunOkRo', 'https://www.youtube.com/watch?v=BiDF4ZXj_as', 'https://www.youtube.com/watch?v=T4puyksJv8o', 'https://www.youtube.com/watch?v=iCO2FJLYjsI', 'https://www.youtube.com/watch?v=g8IhgFXl3bw', 'https://www.youtube.com/watch?v=q1xDKfwA7B0', 'https://www.youtube.com/watch?v=xEDigbiJaIE', 'https://www.youtube.com/watch?v=YMi38OGxktc', 'https://www.youtube.com/watch?v=lEz4B3elEN4', 'https://www.youtube.com/watch?v=OvFjs4GCADI', 'https://www.youtube.com/watch?v=f5VIowfVu9o', 'https://www.youtube.com/watch?v=cTJJz9PR6bc', 'https://www.youtube.com/watch?v=huyI_vlEzY4', 'https://www.youtube.com/watch?v=53Hs2xkqpLU', 'https://www.youtube.com/watch?v=KxsuMn6cAfo', 'https://www.youtube.com/watch?v=LUMZp0j4DtE', 'https://www.youtube.com/watch?v=VshIfvbyYYA', 'https://www.youtube.com/watch?v=lIeoULg6q8I']\n"
     ]
    },
    {
     "name": "stderr",
     "output_type": "stream",
     "text": [
      "c:\\Users\\T14Gen1\\Documents\\Lib\\site-packages\\urllib3\\connectionpool.py:1099: InsecureRequestWarning: Unverified HTTPS request is being made to host 'api.scraperapi.com'. Adding certificate verification is strongly advised. See: https://urllib3.readthedocs.io/en/latest/advanced-usage.html#tls-warnings\n",
      "  warnings.warn(\n"
     ]
    },
    {
     "name": "stdout",
     "output_type": "stream",
     "text": [
      "shorts_urls for Web Inglés:  ['https://www.youtube.com/watch?v=iOPYuI2dLc0', 'https://www.youtube.com/watch?v=yxLqz0ZpMNw', 'https://www.youtube.com/watch?v=bYa3wL2kA98']\n"
     ]
    },
    {
     "name": "stderr",
     "output_type": "stream",
     "text": [
      "c:\\Users\\T14Gen1\\Documents\\Lib\\site-packages\\urllib3\\connectionpool.py:1099: InsecureRequestWarning: Unverified HTTPS request is being made to host 'api.scraperapi.com'. Adding certificate verification is strongly advised. See: https://urllib3.readthedocs.io/en/latest/advanced-usage.html#tls-warnings\n",
      "  warnings.warn(\n"
     ]
    },
    {
     "name": "stdout",
     "output_type": "stream",
     "text": [
      "shorts_urls for AoC Network:  []\n"
     ]
    },
    {
     "name": "stderr",
     "output_type": "stream",
     "text": [
      "c:\\Users\\T14Gen1\\Documents\\Lib\\site-packages\\urllib3\\connectionpool.py:1099: InsecureRequestWarning: Unverified HTTPS request is being made to host 'api.scraperapi.com'. Adding certificate verification is strongly advised. See: https://urllib3.readthedocs.io/en/latest/advanced-usage.html#tls-warnings\n",
      "  warnings.warn(\n"
     ]
    },
    {
     "name": "stdout",
     "output_type": "stream",
     "text": [
      "shorts_urls for ALIF FUN TIME:  ['https://www.youtube.com/watch?v=iI39fwgM0wI', 'https://www.youtube.com/watch?v=bJBqOsOBQVc', 'https://www.youtube.com/watch?v=fAn2dQQTzv8', 'https://www.youtube.com/watch?v=brLUjKlD0RQ', 'https://www.youtube.com/watch?v=Fv8iy1hE9Rk', 'https://www.youtube.com/watch?v=s6hBiLycPGU', 'https://www.youtube.com/watch?v=bUYSmEvkkpQ', 'https://www.youtube.com/watch?v=w3ESLEPufzI', 'https://www.youtube.com/watch?v=p2NjIUUPRPM', 'https://www.youtube.com/watch?v=AOyqnoGZdF0', 'https://www.youtube.com/watch?v=qYyCNhr_ktg', 'https://www.youtube.com/watch?v=ylQv4C0qxmI', 'https://www.youtube.com/watch?v=SLq86dAZcWA', 'https://www.youtube.com/watch?v=QkQdk8RLnQ8', 'https://www.youtube.com/watch?v=mMN0zIr1RGc', 'https://www.youtube.com/watch?v=yt3kDwzTl3Y', 'https://www.youtube.com/watch?v=YgFdVp0Exm0', 'https://www.youtube.com/watch?v=O_oHt1Otq4I', 'https://www.youtube.com/watch?v=E3gpt5fj6y4', 'https://www.youtube.com/watch?v=4FzbCqPSu2w', 'https://www.youtube.com/watch?v=9Mx3zLVDQAY', 'https://www.youtube.com/watch?v=tnroHuPhacc', 'https://www.youtube.com/watch?v=_5K3elzCJiI', 'https://www.youtube.com/watch?v=gkVgAT9JQHA', 'https://www.youtube.com/watch?v=t4usVjoh0Jw', 'https://www.youtube.com/watch?v=W0L_TT3uJMQ', 'https://www.youtube.com/watch?v=VrmqoaisYc4', 'https://www.youtube.com/watch?v=lFNpY_EF9xw', 'https://www.youtube.com/watch?v=I7zkCSgWUs8', 'https://www.youtube.com/watch?v=Tc28HEBDAYA', 'https://www.youtube.com/watch?v=ZUkmGBMNFXY', 'https://www.youtube.com/watch?v=UhWK3nDr7yk', 'https://www.youtube.com/watch?v=Ok_ZqomUsDY', 'https://www.youtube.com/watch?v=NhBL6eV3cf4', 'https://www.youtube.com/watch?v=G30RHU20vfs', 'https://www.youtube.com/watch?v=oIS636LdbDw', 'https://www.youtube.com/watch?v=ZkEi8K8_aZM', 'https://www.youtube.com/watch?v=rvbdSFI5Igs', 'https://www.youtube.com/watch?v=6gpJL3mwKXw', 'https://www.youtube.com/watch?v=7u7cImbkdHo', 'https://www.youtube.com/watch?v=RAsnhIzrrF4', 'https://www.youtube.com/watch?v=8GqVG1RkuIw', 'https://www.youtube.com/watch?v=7Kyhvp_KR1s']\n"
     ]
    },
    {
     "name": "stderr",
     "output_type": "stream",
     "text": [
      "c:\\Users\\T14Gen1\\Documents\\Lib\\site-packages\\urllib3\\connectionpool.py:1099: InsecureRequestWarning: Unverified HTTPS request is being made to host 'api.scraperapi.com'. Adding certificate verification is strongly advised. See: https://urllib3.readthedocs.io/en/latest/advanced-usage.html#tls-warnings\n",
      "  warnings.warn(\n"
     ]
    },
    {
     "name": "stdout",
     "output_type": "stream",
     "text": [
      "shorts_urls for Genetically Modified Skeptic:  ['https://www.youtube.com/watch?v=IzQDQrpPZ38', 'https://www.youtube.com/watch?v=VXNgLpo_Ig0', 'https://www.youtube.com/watch?v=12ZbieyImPs', 'https://www.youtube.com/watch?v=hLBMTwJo1zQ', 'https://www.youtube.com/watch?v=jIfV1mKWQzY', 'https://www.youtube.com/watch?v=eZYdVU7NJvs', 'https://www.youtube.com/watch?v=OAlVVmQBCS0', 'https://www.youtube.com/watch?v=X3bA5t3E3RE', 'https://www.youtube.com/watch?v=Ilt7xwIaTFQ', 'https://www.youtube.com/watch?v=egX2fYNAiGc', 'https://www.youtube.com/watch?v=BtQf5XU3fLU', 'https://www.youtube.com/watch?v=Ew_gBgLlVvs', 'https://www.youtube.com/watch?v=jFdgYsth32o', 'https://www.youtube.com/watch?v=kFmQ31j_blM', 'https://www.youtube.com/watch?v=aTLOUoUB08A']\n",
      "[('Robert Breaker', 'https://www.youtube.com/watch?v=qc0iqmlAR38'), ('Nick Jones', 'https://www.youtube.com/watch?v=fa_sSaHxTZ4'), ('Steve Ram', 'https://www.youtube.com/watch?v=SqU7aeAPkrY'), ('So Sweet ASMR', 'https://www.youtube.com/watch?v=k27UsRRjC5g'), ('English with Jennifer', 'https://www.youtube.com/watch?v=HNaIXQ_qmrg'), ('Web Inglés', 'https://www.youtube.com/watch?v=iOPYuI2dLc0'), ('ALIF FUN TIME', 'https://www.youtube.com/watch?v=iI39fwgM0wI'), ('Genetically Modified Skeptic', 'https://www.youtube.com/watch?v=IzQDQrpPZ38')]\n"
     ]
    }
   ],
   "source": [
    "new_shorts_urls = scanning_yt_shorts_page('3397e8a6a37e89b03b08750a27575df8', channel_df, loaded_df)\n",
    "print(new_shorts_urls)"
   ]
  },
  {
   "cell_type": "markdown",
   "id": "47912c1a",
   "metadata": {},
   "source": []
  },
  {
   "cell_type": "markdown",
   "id": "0553e0ec",
   "metadata": {},
   "source": [
    "##### 3. 수집한 channel list 수집 후 loaded_db에 적재\n",
    "- new_shorts_urls 기준으로 rendered=True로 수집\n",
    "- 수집 데이터 loaded_db에 적재 후 저장"
   ]
  },
  {
   "cell_type": "code",
   "execution_count": 152,
   "id": "e73fbec2",
   "metadata": {},
   "outputs": [
    {
     "name": "stdout",
     "output_type": "stream",
     "text": [
      "Robert Breaker https://www.youtube.com/watch?v=qc0iqmlAR38\n"
     ]
    },
    {
     "name": "stderr",
     "output_type": "stream",
     "text": [
      "c:\\Users\\T14Gen1\\Documents\\Lib\\site-packages\\urllib3\\connectionpool.py:1099: InsecureRequestWarning: Unverified HTTPS request is being made to host 'api.scraperapi.com'. Adding certificate verification is strongly advised. See: https://urllib3.readthedocs.io/en/latest/advanced-usage.html#tls-warnings\n",
      "  warnings.warn(\n"
     ]
    },
    {
     "name": "stdout",
     "output_type": "stream",
     "text": [
      "<!DOCTYPE html><html\n",
      "title:  Robert Breaker\n",
      "shorts_title:  Watching Plane Take Off From a Plane #airtravel #airplane #airport t\n",
      "shorts_description:  None\n",
      "shorts_published:  nan\n",
      "shorts_thumbnalil:  https://support.google.com/youtube/answer/3037019#zippy=%2Ccheck-that-youre-signed-into-youtube\n",
      "view:  6,045\n",
      "likes:  252.0\n",
      "comments:  16.0\n",
      "shorts_comments_time:  [('5 days ago', 'I never get tired of watching planes, taking off or landing! Still one of man’s most beautiful inventions!'), ('5 days ago', 'Thank you for sharing, brother Breaker'), ('2 days ago', 'You one of the things that I have learn is when God gives us eternal life he will never take it back because if he did then it would not be eternal life even if we mess up but God will correct us as his children but he will never take away eternal life from us'), ('4 days ago', 'Just like the airplane is ready to take off it reminds me of the rapture of the church that will take place real soon'), ('5 days ago', 'Ret Captain. If this is thrilling imagine the pilot advancing the throttles releasing the awesome power of large engines!!34 years flying this never got old as aircraft engines became more powerful with new planes. I miss flying!'), ('5 days ago (edited)', 'Amigo Roberto breaker, siempre veo tus sermones  saludo abrazos'), ('5 days ago', 'Plane spotters go mad for this perspective.'), ('5 days ago', 'Safe journey sir'), ('5 days ago', 'Be safe Pastor Breaker and crew! \\nBeen on a little plane once! Never again'), ('4 days ago', 'Cool'), ('5 days ago', 'Very cool!'), ('5 days ago', 'What is this for brother?'), ('5 days ago', 'no donkey 4 U brother  Breaker'), ('5 days ago', \"Where's we going?\"), ('3 days ago', 'My are father in HEAVEN , GOD almighty keep you safe in the air ,brother breaker')]\n",
      "Nick Jones https://www.youtube.com/watch?v=fa_sSaHxTZ4\n"
     ]
    },
    {
     "name": "stderr",
     "output_type": "stream",
     "text": [
      "c:\\Users\\T14Gen1\\Documents\\Lib\\site-packages\\urllib3\\connectionpool.py:1099: InsecureRequestWarning: Unverified HTTPS request is being made to host 'api.scraperapi.com'. Adding certificate verification is strongly advised. See: https://urllib3.readthedocs.io/en/latest/advanced-usage.html#tls-warnings\n",
      "  warnings.warn(\n"
     ]
    },
    {
     "name": "stdout",
     "output_type": "stream",
     "text": [
      "<!DOCTYPE html><html\n",
      "title:  Nick Jones\n",
      "shorts_title:  Just Trust God\n",
      "shorts_description:  None\n",
      "shorts_published:  2022-10-21 16\n",
      "shorts_thumbnalil:  https://rr1---sn-f58xn2xxq-aj5l.googlevideo.com/videoplayback?expire=1729259765\\u0026ei=lRQSZ4r3LL-dp-oP1K2igAk\\u0026ip=45.131.94.92\\u0026id=o-AN3AqzGvD8nlNDug7W3ckZzNbUrmIFiPwJSjp5FVjNte\\u0026itag=18\\u0026source=youtube\\u0026requiressl=yes\\u0026xpc=EgVo2aDSNQ%3D%3D\\u0026met=1729238165%2C\\u0026mh=31\\u0026mm=31%2C29\\u0026mn=sn-f58xn2xxq-aj5l%2Csn-hgn7rn7r\\u0026ms=au%2Crdu\\u0026mv=u\\u0026mvi=1\\u0026pl=24\\u0026rms=au%2Cau\\u0026bui=AXLXGFSFd4wawj8t4AkOZBaXmbuwAeh7HzTA5Ws7LnCGCK-F-1ic-Qj4Fs95J6O_oA3DkFbd2xJ0caaE\\u0026spc=54MbxYgGcuehe_D4-eVPEbzTaYiOm9-KciZWxcCERHvQngr-O45gB0LGyW6MduE\\u0026vprv=1\\u0026svpuc=1\\u0026mime=video%2Fmp4\\u0026ns=VhPh7QVcAVU55_70Yx75bwwQ\\u0026rqh=1\\u0026cnr=14\\u0026ratebypass=yes\\u0026dur=54.613\\u0026lmt=1700141138840856\\u0026mt=1729236892\\u0026fvip=5\\u0026fexp=51312688\\u0026c=WEB\\u0026sefc=1\\u0026txp=6310224\\u0026n=sTdjAKI4K6skXmr\\u0026sparams=expire%2Cei%2Cip%2Cid%2Citag%2Csource%2Crequiressl%2Cxpc%2Cbui%2Cspc%2Cvprv%2Csvpuc%2Cmime%2Cns%2Crqh%2Ccnr%2Cratebypass%2Cdur%2Clmt\\u0026sig=AJfQdSswRQIgLquIx8yfsO2WqLxf8vhngIQuOCwglpiwKh4oSLPu6UsCIQC3Rnfer0w32upvgMy37-2GpiiZ0nErsRtcwgFZ66yQgQ%3D%3D\\u0026lsparams=met%2Cmh%2Cmm%2Cmn%2Cms%2Cmv%2Cmvi%2Cpl%2Crms\\u0026lsig=ACJ0pHgwRQIgchYG7YbE8YS9lGxYow5Vz-uy74CPgliREILgYa0WgYgCIQCGSGEwm_Wnq_NmGOrosSR1xnMUm0MmnGuNO_7Jxi98uw%3D%3D\n",
      "view:  90,878\n",
      "likes:  17000.0\n",
      "comments:  552.0\n",
      "shorts_comments_time:  nan\n",
      "Steve Ram https://www.youtube.com/watch?v=SqU7aeAPkrY\n"
     ]
    },
    {
     "name": "stderr",
     "output_type": "stream",
     "text": [
      "c:\\Users\\T14Gen1\\Documents\\Lib\\site-packages\\urllib3\\connectionpool.py:1099: InsecureRequestWarning: Unverified HTTPS request is being made to host 'api.scraperapi.com'. Adding certificate verification is strongly advised. See: https://urllib3.readthedocs.io/en/latest/advanced-usage.html#tls-warnings\n",
      "  warnings.warn(\n"
     ]
    },
    {
     "name": "stdout",
     "output_type": "stream",
     "text": [
      "<!DOCTYPE html><html\n",
      "title:  Steve Ram\n",
      "shorts_title:  Will You Comply? New Coming Mandates in 2023\n",
      "shorts_description:  FULL VIDEO    • TRUMP BLASTS Bringing Back COVID Mand...  \\n\\nJoin this channel to get access to perks:\\n   / @steveram  \n",
      "shorts_published:  2023-09-04 15\n",
      "shorts_thumbnalil:  https://rr5---sn-5uh5o-f5f6.googlevideo.com/videoplayback?expire=1729259792\\u0026ei=sBQSZ-TPCOXTi9oPwtnOwAk\\u0026ip=94.101.99.59\\u0026id=o-AKmQDBvGMhrWPox-lRWSXM3OkT4aLtB-kZaADYk5jga5\\u0026itag=18\\u0026source=youtube\\u0026requiressl=yes\\u0026xpc=EgVo2aDSNQ%3D%3D\\u0026met=1729238192%2C\\u0026mh=aJ\\u0026mm=31%2C29\\u0026mn=sn-5uh5o-f5f6%2Csn-f5f7knee\\u0026ms=au%2Crdu\\u0026mv=m\\u0026mvi=5\\u0026pl=24\\u0026rms=au%2Cau\\u0026initcwndbps=732500\\u0026bui=AXLXGFRi995B6s8WhTD3s-FXmlZljnceUATPRt3G3kakIkXGpWf2prVTs9Ecr7xO8UH0qUIpQw-79gb9\\u0026spc=54MbxWHTtLcPO1BaeHCj8mb0_sDdFM9pY3WM6t_R_KOGe7Kic2M56NOdFTUYaVA\\u0026vprv=1\\u0026svpuc=1\\u0026mime=video%2Fmp4\\u0026ns=iiIaLRjOgTgV_IDI6gjGrhoQ\\u0026rqh=1\\u0026cnr=14\\u0026ratebypass=yes\\u0026dur=27.028\\u0026lmt=1699161979496252\\u0026mt=1729237998\\u0026fvip=1\\u0026fexp=51312688\\u0026c=WEB\\u0026sefc=1\\u0026txp=6300224\\u0026n=q8Cn8dGucOxx9DO\\u0026sparams=expire%2Cei%2Cip%2Cid%2Citag%2Csource%2Crequiressl%2Cxpc%2Cbui%2Cspc%2Cvprv%2Csvpuc%2Cmime%2Cns%2Crqh%2Ccnr%2Cratebypass%2Cdur%2Clmt\\u0026sig=AJfQdSswRQIhAK-Nt8e8fl1KUNECExQxYNdqVSCyq6YIicjswx1slhL_AiAyzgQegUeSErQxyldd6Ag9yWey1Uav794ZC1DfQLPdQw%3D%3D\\u0026lsparams=met%2Cmh%2Cmm%2Cmn%2Cms%2Cmv%2Cmvi%2Cpl%2Crms%2Cinitcwndbps\\u0026lsig=ACJ0pHgwRQIhAN1Vqihc_cHJvHhfMy4BPGBhfQvOYH8xfEe5iJca8TkpAiBiyxsCrv34-kIHXkIHrCd_lAfjPmSnTojtGmAP9VkR3g%3D%3D\n",
      "view:  56,653\n",
      "likes:  3200.0\n",
      "comments:  504.0\n",
      "shorts_comments_time:  nan\n",
      "So Sweet ASMR https://www.youtube.com/watch?v=k27UsRRjC5g\n"
     ]
    },
    {
     "name": "stderr",
     "output_type": "stream",
     "text": [
      "c:\\Users\\T14Gen1\\Documents\\Lib\\site-packages\\urllib3\\connectionpool.py:1099: InsecureRequestWarning: Unverified HTTPS request is being made to host 'api.scraperapi.com'. Adding certificate verification is strongly advised. See: https://urllib3.readthedocs.io/en/latest/advanced-usage.html#tls-warnings\n",
      "  warnings.warn(\n"
     ]
    },
    {
     "name": "stdout",
     "output_type": "stream",
     "text": [
      "<!DOCTYPE html><html\n",
      "title:  So Sweet ASMR\n",
      "shorts_title:  ASMR Marble run #marblerun #asmr\n",
      "shorts_description:  ASMR Marble run #marblerun #asmr\n",
      "shorts_published:  nan\n",
      "shorts_thumbnalil:  https://support.google.com/youtube/answer/3037019#zippy=%2Ccheck-that-youre-signed-into-youtube\n",
      "view:  12,387\n",
      "likes:  233.0\n",
      "comments:  3.0\n",
      "shorts_comments_time:  nan\n",
      "English with Jennifer https://www.youtube.com/watch?v=HNaIXQ_qmrg\n"
     ]
    },
    {
     "name": "stderr",
     "output_type": "stream",
     "text": [
      "c:\\Users\\T14Gen1\\Documents\\Lib\\site-packages\\urllib3\\connectionpool.py:1099: InsecureRequestWarning: Unverified HTTPS request is being made to host 'api.scraperapi.com'. Adding certificate verification is strongly advised. See: https://urllib3.readthedocs.io/en/latest/advanced-usage.html#tls-warnings\n",
      "  warnings.warn(\n"
     ]
    },
    {
     "name": "stdout",
     "output_type": "stream",
     "text": [
      "<!DOCTYPE html><html\n",
      "title:  English with Jennifer\n",
      "shorts_title:  Conversation Role Play: The Powers That Be\n",
      "shorts_description:  In this #short, gain confidence speaking as you role play with me. Learn the #conversation. Study these words and expressions:\\n🔹boneheaded (adj.) = stupid, unwise\\n🔹the powers that be = those who make decisions; those in authority\\n\\nCultural note: In the U.S., food trucks are a fairly common alternative to a permanent restaurant with a fixed location. Food trucks are mobile and can park where there's a demand as long as they're not violating any codes or restrictions. Many food trucks offer quality food freshly made. \\n\\nWhat ongoing forms of support do I offer language learners?\\n👉👉Boost your English right here for only $1/month!\\n   / @englishwithjennifer   \\nTry membership on YouTube. \\n🌟 Only YT members can join the live chat at the monthly livestream. Send questions in advance for me to answer! \\n🌟 Custom audio GIFs for chat apps https://emojam.app.link/dl \\n🌟 Access to a member-only archive of recorded livestreams (13+ hours)\\n🌟 Loyalty badges and custom emojis here on my YT channel \\n\\n🔹Shop with me on Amazon! Book recommendations and more.\\nhttps://www.amazon.com/shop/englishwi...\\nDisclaimer: As an Amazon Associate, I earn from qualifying purchases.\\n\\n\\nABOUT ME:\\nFormer classroom teacher. Published author. Conference presenter. Online instructor. I've been online since 2007, posting videos for students, blogging for teachers, and providing different forms of language support. My goal is to make language studies enjoyable and productive. For more info and resources, visit www.englishwithjennifer.com.\\n\\n\\nkeywords,\\nEnglish with Jennifer\\nJenniferESL\\nconversation\\nfood trucks\\nthe powers that be\\nboneheaded decision\\nidioms\n",
      "shorts_published:  2024-10-16 07\n",
      "shorts_thumbnalil:  https://rr2---sn-uxaxh5ji-aw0s.googlevideo.com/videoplayback?expire=1729259854\\u0026ei=7hQSZ771AaePi9oPx67KoAc\\u0026ip=77.38.57.202\\u0026id=o-AMSp2p4EtXwuUB57jAxRN2TczpJdBfOihJD63GgzgSFH\\u0026itag=18\\u0026source=youtube\\u0026requiressl=yes\\u0026xpc=EgVo2aDSNQ%3D%3D\\u0026met=1729238254%2C\\u0026mh=6_\\u0026mm=31%2C29\\u0026mn=sn-uxaxh5ji-aw0s%2Csn-c0q7lns7\\u0026ms=au%2Crdu\\u0026mv=m\\u0026mvi=2\\u0026pl=22\\u0026rms=au%2Cau\\u0026initcwndbps=1520000\\u0026bui=AXLXGFSgKwA1foHbRtSufRhCLaW28R-3WQX8xgmz79XN9BOVKb-9NbE4Oa-MKvaLjRuotolcjxqNaH4r\\u0026spc=54MbxXxALRi8Zz8rSHlYDacJfiiH3zELq7D9iNhG9XVP2qJaZfZA6yfXplUSIjo\\u0026vprv=1\\u0026svpuc=1\\u0026mime=video%2Fmp4\\u0026ns=LLXVsoOexBXMXJn4dFzFmrEQ\\u0026rqh=1\\u0026gir=yes\\u0026clen=2286653\\u0026ratebypass=yes\\u0026dur=59.164\\u0026lmt=1729089842078105\\u0026mt=1729237759\\u0026fvip=5\\u0026fexp=51312688\\u0026c=WEB\\u0026sefc=1\\u0026txp=6300224\\u0026n=vcxFjODIutlL2_t\\u0026sparams=expire%2Cei%2Cip%2Cid%2Citag%2Csource%2Crequiressl%2Cxpc%2Cbui%2Cspc%2Cvprv%2Csvpuc%2Cmime%2Cns%2Crqh%2Cgir%2Cclen%2Cratebypass%2Cdur%2Clmt\\u0026sig=AJfQdSswRAIgAgddO6awC80oYci2K1W9tePxU94qvV_r-xwGOaLKfnUCIDvcbhedyqGKlVU5HPkjvsD8Ms8ZuXzy5Cim_mfpUKOx\\u0026lsparams=met%2Cmh%2Cmm%2Cmn%2Cms%2Cmv%2Cmvi%2Cpl%2Crms%2Cinitcwndbps\\u0026lsig=ACJ0pHgwRQIhAN1quJ5kudJfmmcwyfcX-OpVW5ET6sfQuoK9Xl8PxtgMAiAX72af3nJY7BvJALMmv9IkZc9ULgNN3Ltkb-bHoGkBNA%3D%3D\n",
      "view:  457\n",
      "likes:  29.0\n",
      "comments:  3.0\n",
      "shorts_comments_time:  nan\n",
      "Web Inglés https://www.youtube.com/watch?v=iOPYuI2dLc0\n"
     ]
    },
    {
     "name": "stderr",
     "output_type": "stream",
     "text": [
      "c:\\Users\\T14Gen1\\Documents\\Lib\\site-packages\\urllib3\\connectionpool.py:1099: InsecureRequestWarning: Unverified HTTPS request is being made to host 'api.scraperapi.com'. Adding certificate verification is strongly advised. See: https://urllib3.readthedocs.io/en/latest/advanced-usage.html#tls-warnings\n",
      "  warnings.warn(\n"
     ]
    },
    {
     "name": "stdout",
     "output_type": "stream",
     "text": [
      "<!DOCTYPE html><html\n",
      "title:  Web Inglés\n",
      "shorts_title:  Intensificadores en Inglés #shorts\n",
      "shorts_description:  Adverbios intensificadores ¿Qué tan cerca está el león? Aprende describir distancia.\n",
      "shorts_published:  2022-12-17 14\n",
      "shorts_thumbnalil:  https://rr3---sn-5ualdns6.googlevideo.com/videoplayback?expire=1729259881\\u0026ei=CRUSZ4-tB4OCkucPwdHJ4QM\\u0026ip=2606%3A97c0%3Aab32%3Ae39d%3Aaa5c%3Acfdd%3A1a6a%3A6a80\\u0026id=o-ALlIf3NWdctUqGtnEhym7V8YN1qteIwpT5vChmzb_QKN\\u0026itag=18\\u0026source=youtube\\u0026requiressl=yes\\u0026xpc=EgVo2aDSNQ%3D%3D\\u0026met=1729238281%2C\\u0026mh=sU\\u0026mm=31%2C29\\u0026mn=sn-5ualdns6%2Csn-5uaeznze\\u0026ms=au%2Crdu\\u0026mv=m\\u0026mvi=3\\u0026pl=32\\u0026rms=au%2Cau\\u0026initcwndbps=1013750\\u0026bui=AXLXGFSXGYl6eOiHU04Z4SQoN_QeXadjXv9UD-_h8kPGs85Lsqoxy1VBcQP2gbNOSj9JwMVtEjJls3cT\\u0026spc=54MbxWYD_CAts9OHXyfv1z1yzym00-toWm7K1Qg1nUdpCid1krb-NSKmHNRYY2g\\u0026vprv=1\\u0026svpuc=1\\u0026mime=video%2Fmp4\\u0026ns=2a0RSUvQIB9i_8f1Xh_uVbgQ\\u0026rqh=1\\u0026gir=yes\\u0026clen=3048375\\u0026ratebypass=yes\\u0026dur=57.557\\u0026lmt=1671315937379310\\u0026mt=1729237759\\u0026fvip=4\\u0026fexp=51312688\\u0026c=WEB\\u0026sefc=1\\u0026txp=6310224\\u0026n=FdH-juRh20eg49s\\u0026sparams=expire%2Cei%2Cip%2Cid%2Citag%2Csource%2Crequiressl%2Cxpc%2Cbui%2Cspc%2Cvprv%2Csvpuc%2Cmime%2Cns%2Crqh%2Cgir%2Cclen%2Cratebypass%2Cdur%2Clmt\\u0026sig=AJfQdSswRQIhAPLA5fBTsegWaXbGX2bpX-xP4OpalkpEArZrwz7XqPMzAiAktkXgI3zulbebxFX8NgRjyoh2KED94-QuH-nh-RaXKw%3D%3D\\u0026lsparams=met%2Cmh%2Cmm%2Cmn%2Cms%2Cmv%2Cmvi%2Cpl%2Crms%2Cinitcwndbps\\u0026lsig=ACJ0pHgwRAIgflfg5ChUsy2XHpwWiqISqUld82S8-zjxjBoVm_IUpO4CIAMjupSRP23hPEdTBPMAAuNXokZ3Kke2DtK84-LAqFe7\n",
      "view:  6,629\n",
      "likes:  564.0\n",
      "comments:  20.0\n",
      "shorts_comments_time:  nan\n",
      "ALIF FUN TIME https://www.youtube.com/watch?v=iI39fwgM0wI\n"
     ]
    },
    {
     "name": "stderr",
     "output_type": "stream",
     "text": [
      "c:\\Users\\T14Gen1\\Documents\\Lib\\site-packages\\urllib3\\connectionpool.py:1099: InsecureRequestWarning: Unverified HTTPS request is being made to host 'api.scraperapi.com'. Adding certificate verification is strongly advised. See: https://urllib3.readthedocs.io/en/latest/advanced-usage.html#tls-warnings\n",
      "  warnings.warn(\n"
     ]
    },
    {
     "name": "stdout",
     "output_type": "stream",
     "text": [
      "<!DOCTYPE html><html\n",
      "title:  ALIF FUN TIME\n",
      "shorts_title:  nan\n",
      "shorts_description:  None\n",
      "shorts_published:  nan\n",
      "shorts_thumbnalil:  nan\n",
      "view:  nan\n",
      "likes:  nan\n",
      "comments:  nan\n",
      "shorts_comments_time:  nan\n",
      "Genetically Modified Skeptic https://www.youtube.com/watch?v=IzQDQrpPZ38\n"
     ]
    },
    {
     "name": "stderr",
     "output_type": "stream",
     "text": [
      "c:\\Users\\T14Gen1\\Documents\\Lib\\site-packages\\urllib3\\connectionpool.py:1099: InsecureRequestWarning: Unverified HTTPS request is being made to host 'api.scraperapi.com'. Adding certificate verification is strongly advised. See: https://urllib3.readthedocs.io/en/latest/advanced-usage.html#tls-warnings\n",
      "  warnings.warn(\n"
     ]
    },
    {
     "name": "stdout",
     "output_type": "stream",
     "text": [
      "<!DOCTYPE html><html\n",
      "title:  Genetically Modified Skeptic\n",
      "shorts_title:  Gen Z is MORE Muslim than Boomers here?\n",
      "shorts_description:  Gen Z is more Muslim, Buddhist, and Hindu than Boomers in some countries. Generation Z is less Christian than previous generations, but not always less religious.\\n\\nClip from my video: Surprising Statistics About Gen Z's Religious Views\n",
      "shorts_published:  2023-12-10 08\n",
      "shorts_thumbnalil:  https://rr5---sn-h0jelne7.googlevideo.com/videoplayback?expire=1729259921\\u0026ei=MRUSZ_ePJJi56dsPtPaJ-Qo\\u0026ip=84.33.200.111\\u0026id=o-AI0o3Rx6sWkanouPJ3iD-LHVk1UIKOO8qlXuKPlfb2tc\\u0026itag=18\\u0026source=youtube\\u0026requiressl=yes\\u0026xpc=EgVo2aDSNQ%3D%3D\\u0026met=1729238321%2C\\u0026mh=Oc\\u0026mm=31%2C26\\u0026mn=sn-h0jelne7%2Csn-4g5e6nss\\u0026ms=au%2Conr\\u0026mv=m\\u0026mvi=5\\u0026pl=19\\u0026rms=au%2Cau\\u0026initcwndbps=4206250\\u0026bui=AXLXGFQs2FiNdazlw90k9Cv-XiBSv9U0q9aD-wPJAlqweJV0u2ZafSiCBfpwCChfyo9ilIgm-wfo11Pl\\u0026spc=54MbxVgNx3ZtqhmhAxiq8O9FanS7GRKQKvfJAmN3S9UjXReg4EB2VYN15UDXa70\\u0026vprv=1\\u0026svpuc=1\\u0026mime=video%2Fmp4\\u0026ns=IUlCmmcELn7W150KTPfWFykQ\\u0026rqh=1\\u0026gir=yes\\u0026clen=4377948\\u0026ratebypass=yes\\u0026dur=58.816\\u0026lmt=1702192697750973\\u0026mt=1729237998\\u0026fvip=3\\u0026fexp=51312688%2C51326931\\u0026c=WEB\\u0026sefc=1\\u0026txp=6300224\\u0026n=Z2TCDTwZOZFjt5K\\u0026sparams=expire%2Cei%2Cip%2Cid%2Citag%2Csource%2Crequiressl%2Cxpc%2Cbui%2Cspc%2Cvprv%2Csvpuc%2Cmime%2Cns%2Crqh%2Cgir%2Cclen%2Cratebypass%2Cdur%2Clmt\\u0026sig=AJfQdSswRgIhAPdxoEFxCWPkubQbBtYW7nj3ZhEHK_nAtEIyxPyiyn0AAiEA_cL0K3AGpE_9ypmHmj-g2Ypl5r6mzr3m_ncegdxzJeg%3D\\u0026lsparams=met%2Cmh%2Cmm%2Cmn%2Cms%2Cmv%2Cmvi%2Cpl%2Crms%2Cinitcwndbps\\u0026lsig=ACJ0pHgwRQIhAO2Tt5BJJ3b5JWQcad24v_bx07uN1LxLInsCikO7-MWtAiBylsmbJ7TViXFbTbZNI-6JDPqrc0uXu9MNBtUCAdhkTQ%3D%3D\n",
      "view:  56,781\n",
      "likes:  2400.0\n",
      "comments:  702.0\n",
      "shorts_comments_time:  nan\n",
      "[('Robert Breaker', 'https://www.youtube.com/watch?v=qc0iqmlAR38', 'Watching Plane Take Off From a Plane #airtravel #airplane #airport t', None, 'https://support.google.com/youtube/answer/3037019#zippy=%2Ccheck-that-youre-signed-into-youtube', '6,045', 252.0, 16.0, [('5 days ago', 'I never get tired of watching planes, taking off or landing! Still one of man’s most beautiful inventions!'), ('5 days ago', 'Thank you for sharing, brother Breaker'), ('2 days ago', 'You one of the things that I have learn is when God gives us eternal life he will never take it back because if he did then it would not be eternal life even if we mess up but God will correct us as his children but he will never take away eternal life from us'), ('4 days ago', 'Just like the airplane is ready to take off it reminds me of the rapture of the church that will take place real soon'), ('5 days ago', 'Ret Captain. If this is thrilling imagine the pilot advancing the throttles releasing the awesome power of large engines!!34 years flying this never got old as aircraft engines became more powerful with new planes. I miss flying!'), ('5 days ago (edited)', 'Amigo Roberto breaker, siempre veo tus sermones  saludo abrazos'), ('5 days ago', 'Plane spotters go mad for this perspective.'), ('5 days ago', 'Safe journey sir'), ('5 days ago', 'Be safe Pastor Breaker and crew! \\nBeen on a little plane once! Never again'), ('4 days ago', 'Cool'), ('5 days ago', 'Very cool!'), ('5 days ago', 'What is this for brother?'), ('5 days ago', 'no donkey 4 U brother  Breaker'), ('5 days ago', \"Where's we going?\"), ('3 days ago', 'My are father in HEAVEN , GOD almighty keep you safe in the air ,brother breaker')], nan, datetime.datetime(2024, 10, 18, 16, 55, 26, 581137)), ('Nick Jones', 'https://www.youtube.com/watch?v=fa_sSaHxTZ4', 'Just Trust God', None, 'https://rr1---sn-f58xn2xxq-aj5l.googlevideo.com/videoplayback?expire=1729259765\\\\u0026ei=lRQSZ4r3LL-dp-oP1K2igAk\\\\u0026ip=45.131.94.92\\\\u0026id=o-AN3AqzGvD8nlNDug7W3ckZzNbUrmIFiPwJSjp5FVjNte\\\\u0026itag=18\\\\u0026source=youtube\\\\u0026requiressl=yes\\\\u0026xpc=EgVo2aDSNQ%3D%3D\\\\u0026met=1729238165%2C\\\\u0026mh=31\\\\u0026mm=31%2C29\\\\u0026mn=sn-f58xn2xxq-aj5l%2Csn-hgn7rn7r\\\\u0026ms=au%2Crdu\\\\u0026mv=u\\\\u0026mvi=1\\\\u0026pl=24\\\\u0026rms=au%2Cau\\\\u0026bui=AXLXGFSFd4wawj8t4AkOZBaXmbuwAeh7HzTA5Ws7LnCGCK-F-1ic-Qj4Fs95J6O_oA3DkFbd2xJ0caaE\\\\u0026spc=54MbxYgGcuehe_D4-eVPEbzTaYiOm9-KciZWxcCERHvQngr-O45gB0LGyW6MduE\\\\u0026vprv=1\\\\u0026svpuc=1\\\\u0026mime=video%2Fmp4\\\\u0026ns=VhPh7QVcAVU55_70Yx75bwwQ\\\\u0026rqh=1\\\\u0026cnr=14\\\\u0026ratebypass=yes\\\\u0026dur=54.613\\\\u0026lmt=1700141138840856\\\\u0026mt=1729236892\\\\u0026fvip=5\\\\u0026fexp=51312688\\\\u0026c=WEB\\\\u0026sefc=1\\\\u0026txp=6310224\\\\u0026n=sTdjAKI4K6skXmr\\\\u0026sparams=expire%2Cei%2Cip%2Cid%2Citag%2Csource%2Crequiressl%2Cxpc%2Cbui%2Cspc%2Cvprv%2Csvpuc%2Cmime%2Cns%2Crqh%2Ccnr%2Cratebypass%2Cdur%2Clmt\\\\u0026sig=AJfQdSswRQIgLquIx8yfsO2WqLxf8vhngIQuOCwglpiwKh4oSLPu6UsCIQC3Rnfer0w32upvgMy37-2GpiiZ0nErsRtcwgFZ66yQgQ%3D%3D\\\\u0026lsparams=met%2Cmh%2Cmm%2Cmn%2Cms%2Cmv%2Cmvi%2Cpl%2Crms\\\\u0026lsig=ACJ0pHgwRQIgchYG7YbE8YS9lGxYow5Vz-uy74CPgliREILgYa0WgYgCIQCGSGEwm_Wnq_NmGOrosSR1xnMUm0MmnGuNO_7Jxi98uw%3D%3D', '90,878', 17000.0, 552.0, nan, '2022-10-21 16', datetime.datetime(2024, 10, 18, 16, 55, 26, 581137)), ('Steve Ram', 'https://www.youtube.com/watch?v=SqU7aeAPkrY', 'Will You Comply? New Coming Mandates in 2023', 'FULL VIDEO \\xa0\\xa0\\xa0•\\xa0TRUMP\\xa0BLASTS\\xa0Bringing\\xa0Back\\xa0COVID\\xa0Mand...\\xa0\\xa0\\\\n\\\\nJoin this channel to get access to perks:\\\\n\\xa0\\xa0\\xa0/\\xa0@steveram\\xa0\\xa0', 'https://rr5---sn-5uh5o-f5f6.googlevideo.com/videoplayback?expire=1729259792\\\\u0026ei=sBQSZ-TPCOXTi9oPwtnOwAk\\\\u0026ip=94.101.99.59\\\\u0026id=o-AKmQDBvGMhrWPox-lRWSXM3OkT4aLtB-kZaADYk5jga5\\\\u0026itag=18\\\\u0026source=youtube\\\\u0026requiressl=yes\\\\u0026xpc=EgVo2aDSNQ%3D%3D\\\\u0026met=1729238192%2C\\\\u0026mh=aJ\\\\u0026mm=31%2C29\\\\u0026mn=sn-5uh5o-f5f6%2Csn-f5f7knee\\\\u0026ms=au%2Crdu\\\\u0026mv=m\\\\u0026mvi=5\\\\u0026pl=24\\\\u0026rms=au%2Cau\\\\u0026initcwndbps=732500\\\\u0026bui=AXLXGFRi995B6s8WhTD3s-FXmlZljnceUATPRt3G3kakIkXGpWf2prVTs9Ecr7xO8UH0qUIpQw-79gb9\\\\u0026spc=54MbxWHTtLcPO1BaeHCj8mb0_sDdFM9pY3WM6t_R_KOGe7Kic2M56NOdFTUYaVA\\\\u0026vprv=1\\\\u0026svpuc=1\\\\u0026mime=video%2Fmp4\\\\u0026ns=iiIaLRjOgTgV_IDI6gjGrhoQ\\\\u0026rqh=1\\\\u0026cnr=14\\\\u0026ratebypass=yes\\\\u0026dur=27.028\\\\u0026lmt=1699161979496252\\\\u0026mt=1729237998\\\\u0026fvip=1\\\\u0026fexp=51312688\\\\u0026c=WEB\\\\u0026sefc=1\\\\u0026txp=6300224\\\\u0026n=q8Cn8dGucOxx9DO\\\\u0026sparams=expire%2Cei%2Cip%2Cid%2Citag%2Csource%2Crequiressl%2Cxpc%2Cbui%2Cspc%2Cvprv%2Csvpuc%2Cmime%2Cns%2Crqh%2Ccnr%2Cratebypass%2Cdur%2Clmt\\\\u0026sig=AJfQdSswRQIhAK-Nt8e8fl1KUNECExQxYNdqVSCyq6YIicjswx1slhL_AiAyzgQegUeSErQxyldd6Ag9yWey1Uav794ZC1DfQLPdQw%3D%3D\\\\u0026lsparams=met%2Cmh%2Cmm%2Cmn%2Cms%2Cmv%2Cmvi%2Cpl%2Crms%2Cinitcwndbps\\\\u0026lsig=ACJ0pHgwRQIhAN1Vqihc_cHJvHhfMy4BPGBhfQvOYH8xfEe5iJca8TkpAiBiyxsCrv34-kIHXkIHrCd_lAfjPmSnTojtGmAP9VkR3g%3D%3D', '56,653', 3200.0, 504.0, nan, '2023-09-04 15', datetime.datetime(2024, 10, 18, 16, 55, 26, 581137)), ('So Sweet ASMR', 'https://www.youtube.com/watch?v=k27UsRRjC5g', 'ASMR Marble run #marblerun #asmr', 'ASMR Marble run #marblerun #asmr', 'https://support.google.com/youtube/answer/3037019#zippy=%2Ccheck-that-youre-signed-into-youtube', '12,387', 233.0, 3.0, nan, nan, datetime.datetime(2024, 10, 18, 16, 55, 26, 581137)), ('English with Jennifer', 'https://www.youtube.com/watch?v=HNaIXQ_qmrg', 'Conversation Role Play: The Powers That Be', \"In this #short, gain confidence speaking as you role play with me. Learn the #conversation. Study these words and expressions:\\\\n🔹boneheaded (adj.) = stupid, unwise\\\\n🔹the powers that be = those who make decisions; those in authority\\\\n\\\\nCultural note: In the U.S., food trucks are a fairly common alternative to a permanent restaurant with a fixed location. Food trucks are mobile and can park where there's a demand as long as they're not violating any codes or restrictions. Many food trucks offer quality food freshly made. \\\\n\\\\nWhat ongoing forms of support do I offer language learners?\\\\n👉👉Boost your English right here for only $1/month!\\\\n\\xa0\\xa0\\xa0/\\xa0@englishwithjennifer\\xa0\\xa0 \\\\nTry membership on YouTube. \\\\n🌟 Only YT members can join the live chat at the monthly livestream. Send questions in advance for me to answer! \\\\n🌟 Custom audio GIFs for chat apps https://emojam.app.link/dl \\\\n🌟 Access to a member-only archive of recorded livestreams (13+ hours)\\\\n🌟 Loyalty badges and custom emojis here on my YT channel \\\\n\\\\n🔹Shop with me on Amazon! Book recommendations and more.\\\\nhttps://www.amazon.com/shop/englishwi...\\\\nDisclaimer: As an Amazon Associate, I earn from qualifying purchases.\\\\n\\\\n\\\\nABOUT ME:\\\\nFormer classroom teacher. Published author. Conference presenter. Online instructor. I've been online since 2007, posting videos for students, blogging for teachers, and providing different forms of language support. My goal is to make language studies enjoyable and productive. For more info and resources, visit www.englishwithjennifer.com.\\\\n\\\\n\\\\nkeywords,\\\\nEnglish with Jennifer\\\\nJenniferESL\\\\nconversation\\\\nfood trucks\\\\nthe powers that be\\\\nboneheaded decision\\\\nidioms\", 'https://rr2---sn-uxaxh5ji-aw0s.googlevideo.com/videoplayback?expire=1729259854\\\\u0026ei=7hQSZ771AaePi9oPx67KoAc\\\\u0026ip=77.38.57.202\\\\u0026id=o-AMSp2p4EtXwuUB57jAxRN2TczpJdBfOihJD63GgzgSFH\\\\u0026itag=18\\\\u0026source=youtube\\\\u0026requiressl=yes\\\\u0026xpc=EgVo2aDSNQ%3D%3D\\\\u0026met=1729238254%2C\\\\u0026mh=6_\\\\u0026mm=31%2C29\\\\u0026mn=sn-uxaxh5ji-aw0s%2Csn-c0q7lns7\\\\u0026ms=au%2Crdu\\\\u0026mv=m\\\\u0026mvi=2\\\\u0026pl=22\\\\u0026rms=au%2Cau\\\\u0026initcwndbps=1520000\\\\u0026bui=AXLXGFSgKwA1foHbRtSufRhCLaW28R-3WQX8xgmz79XN9BOVKb-9NbE4Oa-MKvaLjRuotolcjxqNaH4r\\\\u0026spc=54MbxXxALRi8Zz8rSHlYDacJfiiH3zELq7D9iNhG9XVP2qJaZfZA6yfXplUSIjo\\\\u0026vprv=1\\\\u0026svpuc=1\\\\u0026mime=video%2Fmp4\\\\u0026ns=LLXVsoOexBXMXJn4dFzFmrEQ\\\\u0026rqh=1\\\\u0026gir=yes\\\\u0026clen=2286653\\\\u0026ratebypass=yes\\\\u0026dur=59.164\\\\u0026lmt=1729089842078105\\\\u0026mt=1729237759\\\\u0026fvip=5\\\\u0026fexp=51312688\\\\u0026c=WEB\\\\u0026sefc=1\\\\u0026txp=6300224\\\\u0026n=vcxFjODIutlL2_t\\\\u0026sparams=expire%2Cei%2Cip%2Cid%2Citag%2Csource%2Crequiressl%2Cxpc%2Cbui%2Cspc%2Cvprv%2Csvpuc%2Cmime%2Cns%2Crqh%2Cgir%2Cclen%2Cratebypass%2Cdur%2Clmt\\\\u0026sig=AJfQdSswRAIgAgddO6awC80oYci2K1W9tePxU94qvV_r-xwGOaLKfnUCIDvcbhedyqGKlVU5HPkjvsD8Ms8ZuXzy5Cim_mfpUKOx\\\\u0026lsparams=met%2Cmh%2Cmm%2Cmn%2Cms%2Cmv%2Cmvi%2Cpl%2Crms%2Cinitcwndbps\\\\u0026lsig=ACJ0pHgwRQIhAN1quJ5kudJfmmcwyfcX-OpVW5ET6sfQuoK9Xl8PxtgMAiAX72af3nJY7BvJALMmv9IkZc9ULgNN3Ltkb-bHoGkBNA%3D%3D', '457', 29.0, 3.0, nan, '2024-10-16 07', datetime.datetime(2024, 10, 18, 16, 55, 26, 581137)), ('Web Inglés', 'https://www.youtube.com/watch?v=iOPYuI2dLc0', 'Intensificadores en Inglés #shorts', 'Adverbios intensificadores ¿Qué tan cerca está el león? Aprende describir distancia.', 'https://rr3---sn-5ualdns6.googlevideo.com/videoplayback?expire=1729259881\\\\u0026ei=CRUSZ4-tB4OCkucPwdHJ4QM\\\\u0026ip=2606%3A97c0%3Aab32%3Ae39d%3Aaa5c%3Acfdd%3A1a6a%3A6a80\\\\u0026id=o-ALlIf3NWdctUqGtnEhym7V8YN1qteIwpT5vChmzb_QKN\\\\u0026itag=18\\\\u0026source=youtube\\\\u0026requiressl=yes\\\\u0026xpc=EgVo2aDSNQ%3D%3D\\\\u0026met=1729238281%2C\\\\u0026mh=sU\\\\u0026mm=31%2C29\\\\u0026mn=sn-5ualdns6%2Csn-5uaeznze\\\\u0026ms=au%2Crdu\\\\u0026mv=m\\\\u0026mvi=3\\\\u0026pl=32\\\\u0026rms=au%2Cau\\\\u0026initcwndbps=1013750\\\\u0026bui=AXLXGFSXGYl6eOiHU04Z4SQoN_QeXadjXv9UD-_h8kPGs85Lsqoxy1VBcQP2gbNOSj9JwMVtEjJls3cT\\\\u0026spc=54MbxWYD_CAts9OHXyfv1z1yzym00-toWm7K1Qg1nUdpCid1krb-NSKmHNRYY2g\\\\u0026vprv=1\\\\u0026svpuc=1\\\\u0026mime=video%2Fmp4\\\\u0026ns=2a0RSUvQIB9i_8f1Xh_uVbgQ\\\\u0026rqh=1\\\\u0026gir=yes\\\\u0026clen=3048375\\\\u0026ratebypass=yes\\\\u0026dur=57.557\\\\u0026lmt=1671315937379310\\\\u0026mt=1729237759\\\\u0026fvip=4\\\\u0026fexp=51312688\\\\u0026c=WEB\\\\u0026sefc=1\\\\u0026txp=6310224\\\\u0026n=FdH-juRh20eg49s\\\\u0026sparams=expire%2Cei%2Cip%2Cid%2Citag%2Csource%2Crequiressl%2Cxpc%2Cbui%2Cspc%2Cvprv%2Csvpuc%2Cmime%2Cns%2Crqh%2Cgir%2Cclen%2Cratebypass%2Cdur%2Clmt\\\\u0026sig=AJfQdSswRQIhAPLA5fBTsegWaXbGX2bpX-xP4OpalkpEArZrwz7XqPMzAiAktkXgI3zulbebxFX8NgRjyoh2KED94-QuH-nh-RaXKw%3D%3D\\\\u0026lsparams=met%2Cmh%2Cmm%2Cmn%2Cms%2Cmv%2Cmvi%2Cpl%2Crms%2Cinitcwndbps\\\\u0026lsig=ACJ0pHgwRAIgflfg5ChUsy2XHpwWiqISqUld82S8-zjxjBoVm_IUpO4CIAMjupSRP23hPEdTBPMAAuNXokZ3Kke2DtK84-LAqFe7', '6,629', 564.0, 20.0, nan, '2022-12-17 14', datetime.datetime(2024, 10, 18, 16, 55, 26, 581137)), ('ALIF FUN TIME', 'https://www.youtube.com/watch?v=iI39fwgM0wI', nan, None, nan, nan, nan, nan, nan, nan, datetime.datetime(2024, 10, 18, 16, 55, 26, 581137)), ('Genetically Modified Skeptic', 'https://www.youtube.com/watch?v=IzQDQrpPZ38', 'Gen Z is MORE Muslim than Boomers here?', \"Gen Z is more Muslim, Buddhist, and Hindu than Boomers in some countries. Generation Z is less Christian than previous generations, but not always less religious.\\\\n\\\\nClip from my video: Surprising Statistics About Gen Z's Religious Views\", 'https://rr5---sn-h0jelne7.googlevideo.com/videoplayback?expire=1729259921\\\\u0026ei=MRUSZ_ePJJi56dsPtPaJ-Qo\\\\u0026ip=84.33.200.111\\\\u0026id=o-AI0o3Rx6sWkanouPJ3iD-LHVk1UIKOO8qlXuKPlfb2tc\\\\u0026itag=18\\\\u0026source=youtube\\\\u0026requiressl=yes\\\\u0026xpc=EgVo2aDSNQ%3D%3D\\\\u0026met=1729238321%2C\\\\u0026mh=Oc\\\\u0026mm=31%2C26\\\\u0026mn=sn-h0jelne7%2Csn-4g5e6nss\\\\u0026ms=au%2Conr\\\\u0026mv=m\\\\u0026mvi=5\\\\u0026pl=19\\\\u0026rms=au%2Cau\\\\u0026initcwndbps=4206250\\\\u0026bui=AXLXGFQs2FiNdazlw90k9Cv-XiBSv9U0q9aD-wPJAlqweJV0u2ZafSiCBfpwCChfyo9ilIgm-wfo11Pl\\\\u0026spc=54MbxVgNx3ZtqhmhAxiq8O9FanS7GRKQKvfJAmN3S9UjXReg4EB2VYN15UDXa70\\\\u0026vprv=1\\\\u0026svpuc=1\\\\u0026mime=video%2Fmp4\\\\u0026ns=IUlCmmcELn7W150KTPfWFykQ\\\\u0026rqh=1\\\\u0026gir=yes\\\\u0026clen=4377948\\\\u0026ratebypass=yes\\\\u0026dur=58.816\\\\u0026lmt=1702192697750973\\\\u0026mt=1729237998\\\\u0026fvip=3\\\\u0026fexp=51312688%2C51326931\\\\u0026c=WEB\\\\u0026sefc=1\\\\u0026txp=6300224\\\\u0026n=Z2TCDTwZOZFjt5K\\\\u0026sparams=expire%2Cei%2Cip%2Cid%2Citag%2Csource%2Crequiressl%2Cxpc%2Cbui%2Cspc%2Cvprv%2Csvpuc%2Cmime%2Cns%2Crqh%2Cgir%2Cclen%2Cratebypass%2Cdur%2Clmt\\\\u0026sig=AJfQdSswRgIhAPdxoEFxCWPkubQbBtYW7nj3ZhEHK_nAtEIyxPyiyn0AAiEA_cL0K3AGpE_9ypmHmj-g2Ypl5r6mzr3m_ncegdxzJeg%3D\\\\u0026lsparams=met%2Cmh%2Cmm%2Cmn%2Cms%2Cmv%2Cmvi%2Cpl%2Crms%2Cinitcwndbps\\\\u0026lsig=ACJ0pHgwRQIhAO2Tt5BJJ3b5JWQcad24v_bx07uN1LxLInsCikO7-MWtAiBylsmbJ7TViXFbTbZNI-6JDPqrc0uXu9MNBtUCAdhkTQ%3D%3D', '56,781', 2400.0, 702.0, nan, '2023-12-10 08', datetime.datetime(2024, 10, 18, 16, 55, 26, 581137))]\n"
     ]
    }
   ],
   "source": [
    "# url 여러개 진행\n",
    "import requests\n",
    "API_KEY = '3397e8a6a37e89b03b08750a27575df8'\n",
    "today = datetime.today()\n",
    "def add_new_shorts_data(api_key, urls):\n",
    "    data_list = []\n",
    "    check_date = today\n",
    "    # Separate channel names and shorts URLs\n",
    "    channel_names = [item[0] for item in urls]\n",
    "    shorts_urls = [item[1] for item in urls]\n",
    "    \n",
    "    for channel_name, url in zip(channel_names, shorts_urls):\n",
    "        print(channel_name, url)\n",
    "        shorts_url = url\n",
    "        # Prepare payload and headers for the request\n",
    "        payload = {\n",
    "            'api_key': api_key,\n",
    "            'url': url,\n",
    "            'render': 'true'\n",
    "        }\n",
    "\n",
    "        headers = {\n",
    "            'x-sapi-render': 'true',\n",
    "            'x-sapi-instruction_set': '[{\"type\":\"scroll\",\"direction\":\"y\",\"value\":\"bottom\"}, {\"type\": \"wait\", \"value\": 3}]'\n",
    "        }\n",
    "\n",
    "        # Make the GET request\n",
    "        r = requests.get('https://api.scraperapi.com/', params=payload, headers=headers, verify=False)\n",
    "        print(r.text[:20])\n",
    "\n",
    "        # Extract the necessary data\n",
    "        shorts_title, shorts_description, shorts_published, shorts_thumbnail, shorts_view, shorts_likes, shorts_comments_num, shorts_comments_time = basic_shorts_info(r.text)\n",
    "        \n",
    "        # Print the extracted information for debugging\n",
    "        print(\"title: \", channel_name)\n",
    "        print(\"shorts_title: \", shorts_title)\n",
    "        print(\"shorts_description: \", shorts_description)\n",
    "        print(\"shorts_published: \", shorts_published)\n",
    "        print(\"shorts_thumbnalil: \", shorts_thumbnail)\n",
    "        print(\"view: \", shorts_view)\n",
    "        print(\"likes: \", shorts_likes)\n",
    "        print(\"comments: \", shorts_comments_num)\n",
    "        print(\"shorts_comments_time: \", shorts_comments_time)\n",
    "\n",
    "        # Append as a tuple to the data_list\n",
    "        data_list.append((\n",
    "            channel_name,\n",
    "            shorts_url, \n",
    "            shorts_title,  \n",
    "            shorts_description, \n",
    "            shorts_thumbnail, \n",
    "            shorts_view, \n",
    "            shorts_likes, \n",
    "            shorts_comments_num, \n",
    "            shorts_comments_time,\n",
    "            shorts_published, \n",
    "            check_date\n",
    "\n",
    "        ))\n",
    "    \n",
    "    return data_list\n",
    "\n",
    "data_list = add_new_shorts_data(API_KEY, new_shorts_urls)\n",
    "print(data_list)\n",
    "\n"
   ]
  },
  {
   "cell_type": "code",
   "execution_count": 153,
   "id": "f8ad24f6",
   "metadata": {},
   "outputs": [
    {
     "name": "stderr",
     "output_type": "stream",
     "text": [
      "C:\\Users\\T14Gen1\\AppData\\Local\\Temp\\ipykernel_9440\\1338605675.py:15: FutureWarning: The behavior of DataFrame concatenation with empty or all-NA entries is deprecated. In a future version, this will no longer exclude empty or all-NA columns when determining the result dtypes. To retain the old behavior, exclude the relevant entries before the concat operation.\n",
      "  updated_loaded_db = pd.concat([loaded_db, new_data_df], ignore_index=True)\n"
     ]
    },
    {
     "data": {
      "text/html": [
       "<div>\n",
       "<style scoped>\n",
       "    .dataframe tbody tr th:only-of-type {\n",
       "        vertical-align: middle;\n",
       "    }\n",
       "\n",
       "    .dataframe tbody tr th {\n",
       "        vertical-align: top;\n",
       "    }\n",
       "\n",
       "    .dataframe thead th {\n",
       "        text-align: right;\n",
       "    }\n",
       "</style>\n",
       "<table border=\"1\" class=\"dataframe\">\n",
       "  <thead>\n",
       "    <tr style=\"text-align: right;\">\n",
       "      <th></th>\n",
       "      <th>channel_name</th>\n",
       "      <th>shorts_url</th>\n",
       "      <th>shorts_title</th>\n",
       "      <th>shorts_description</th>\n",
       "      <th>shorts_thumbnail</th>\n",
       "      <th>shorts_view</th>\n",
       "      <th>shorts_likes</th>\n",
       "      <th>shorts_comments_num</th>\n",
       "      <th>shorts_comments_time</th>\n",
       "      <th>shorts_published_date</th>\n",
       "      <th>check_date</th>\n",
       "    </tr>\n",
       "  </thead>\n",
       "  <tbody>\n",
       "    <tr>\n",
       "      <th>0</th>\n",
       "      <td>Robert Breaker</td>\n",
       "      <td>https://www.youtube.com/watch?v=qc0iqmlAR38</td>\n",
       "      <td>Watching Plane Take Off From a Plane #airtrave...</td>\n",
       "      <td>None</td>\n",
       "      <td>https://support.google.com/youtube/answer/3037...</td>\n",
       "      <td>6,045</td>\n",
       "      <td>252.0</td>\n",
       "      <td>16.0</td>\n",
       "      <td>[(5 days ago, I never get tired of watching pl...</td>\n",
       "      <td>NaN</td>\n",
       "      <td>2024-10-18 16:55:26.581137</td>\n",
       "    </tr>\n",
       "    <tr>\n",
       "      <th>1</th>\n",
       "      <td>Nick Jones</td>\n",
       "      <td>https://www.youtube.com/watch?v=fa_sSaHxTZ4</td>\n",
       "      <td>Just Trust God</td>\n",
       "      <td>None</td>\n",
       "      <td>https://rr1---sn-f58xn2xxq-aj5l.googlevideo.co...</td>\n",
       "      <td>90,878</td>\n",
       "      <td>17000.0</td>\n",
       "      <td>552.0</td>\n",
       "      <td>NaN</td>\n",
       "      <td>2022-10-21 16</td>\n",
       "      <td>2024-10-18 16:55:26.581137</td>\n",
       "    </tr>\n",
       "    <tr>\n",
       "      <th>2</th>\n",
       "      <td>Steve Ram</td>\n",
       "      <td>https://www.youtube.com/watch?v=SqU7aeAPkrY</td>\n",
       "      <td>Will You Comply? New Coming Mandates in 2023</td>\n",
       "      <td>FULL VIDEO    • TRUMP BLASTS Bringing Back COV...</td>\n",
       "      <td>https://rr5---sn-5uh5o-f5f6.googlevideo.com/vi...</td>\n",
       "      <td>56,653</td>\n",
       "      <td>3200.0</td>\n",
       "      <td>504.0</td>\n",
       "      <td>NaN</td>\n",
       "      <td>2023-09-04 15</td>\n",
       "      <td>2024-10-18 16:55:26.581137</td>\n",
       "    </tr>\n",
       "    <tr>\n",
       "      <th>3</th>\n",
       "      <td>So Sweet ASMR</td>\n",
       "      <td>https://www.youtube.com/watch?v=k27UsRRjC5g</td>\n",
       "      <td>ASMR Marble run #marblerun #asmr</td>\n",
       "      <td>ASMR Marble run #marblerun #asmr</td>\n",
       "      <td>https://support.google.com/youtube/answer/3037...</td>\n",
       "      <td>12,387</td>\n",
       "      <td>233.0</td>\n",
       "      <td>3.0</td>\n",
       "      <td>NaN</td>\n",
       "      <td>NaN</td>\n",
       "      <td>2024-10-18 16:55:26.581137</td>\n",
       "    </tr>\n",
       "    <tr>\n",
       "      <th>4</th>\n",
       "      <td>English with Jennifer</td>\n",
       "      <td>https://www.youtube.com/watch?v=HNaIXQ_qmrg</td>\n",
       "      <td>Conversation Role Play: The Powers That Be</td>\n",
       "      <td>In this #short, gain confidence speaking as yo...</td>\n",
       "      <td>https://rr2---sn-uxaxh5ji-aw0s.googlevideo.com...</td>\n",
       "      <td>457</td>\n",
       "      <td>29.0</td>\n",
       "      <td>3.0</td>\n",
       "      <td>NaN</td>\n",
       "      <td>2024-10-16 07</td>\n",
       "      <td>2024-10-18 16:55:26.581137</td>\n",
       "    </tr>\n",
       "    <tr>\n",
       "      <th>5</th>\n",
       "      <td>Web Inglés</td>\n",
       "      <td>https://www.youtube.com/watch?v=iOPYuI2dLc0</td>\n",
       "      <td>Intensificadores en Inglés #shorts</td>\n",
       "      <td>Adverbios intensificadores ¿Qué tan cerca está...</td>\n",
       "      <td>https://rr3---sn-5ualdns6.googlevideo.com/vide...</td>\n",
       "      <td>6,629</td>\n",
       "      <td>564.0</td>\n",
       "      <td>20.0</td>\n",
       "      <td>NaN</td>\n",
       "      <td>2022-12-17 14</td>\n",
       "      <td>2024-10-18 16:55:26.581137</td>\n",
       "    </tr>\n",
       "    <tr>\n",
       "      <th>6</th>\n",
       "      <td>ALIF FUN TIME</td>\n",
       "      <td>https://www.youtube.com/watch?v=iI39fwgM0wI</td>\n",
       "      <td>NaN</td>\n",
       "      <td>None</td>\n",
       "      <td>NaN</td>\n",
       "      <td>NaN</td>\n",
       "      <td>NaN</td>\n",
       "      <td>NaN</td>\n",
       "      <td>NaN</td>\n",
       "      <td>NaN</td>\n",
       "      <td>2024-10-18 16:55:26.581137</td>\n",
       "    </tr>\n",
       "    <tr>\n",
       "      <th>7</th>\n",
       "      <td>Genetically Modified Skeptic</td>\n",
       "      <td>https://www.youtube.com/watch?v=IzQDQrpPZ38</td>\n",
       "      <td>Gen Z is MORE Muslim than Boomers here?</td>\n",
       "      <td>Gen Z is more Muslim, Buddhist, and Hindu than...</td>\n",
       "      <td>https://rr5---sn-h0jelne7.googlevideo.com/vide...</td>\n",
       "      <td>56,781</td>\n",
       "      <td>2400.0</td>\n",
       "      <td>702.0</td>\n",
       "      <td>NaN</td>\n",
       "      <td>2023-12-10 08</td>\n",
       "      <td>2024-10-18 16:55:26.581137</td>\n",
       "    </tr>\n",
       "  </tbody>\n",
       "</table>\n",
       "</div>"
      ],
      "text/plain": [
       "                   channel_name                                   shorts_url  \\\n",
       "0                Robert Breaker  https://www.youtube.com/watch?v=qc0iqmlAR38   \n",
       "1                    Nick Jones  https://www.youtube.com/watch?v=fa_sSaHxTZ4   \n",
       "2                     Steve Ram  https://www.youtube.com/watch?v=SqU7aeAPkrY   \n",
       "3                 So Sweet ASMR  https://www.youtube.com/watch?v=k27UsRRjC5g   \n",
       "4         English with Jennifer  https://www.youtube.com/watch?v=HNaIXQ_qmrg   \n",
       "5                    Web Inglés  https://www.youtube.com/watch?v=iOPYuI2dLc0   \n",
       "6                 ALIF FUN TIME  https://www.youtube.com/watch?v=iI39fwgM0wI   \n",
       "7  Genetically Modified Skeptic  https://www.youtube.com/watch?v=IzQDQrpPZ38   \n",
       "\n",
       "                                        shorts_title  \\\n",
       "0  Watching Plane Take Off From a Plane #airtrave...   \n",
       "1                                     Just Trust God   \n",
       "2       Will You Comply? New Coming Mandates in 2023   \n",
       "3                   ASMR Marble run #marblerun #asmr   \n",
       "4         Conversation Role Play: The Powers That Be   \n",
       "5                 Intensificadores en Inglés #shorts   \n",
       "6                                                NaN   \n",
       "7            Gen Z is MORE Muslim than Boomers here?   \n",
       "\n",
       "                                  shorts_description  \\\n",
       "0                                               None   \n",
       "1                                               None   \n",
       "2  FULL VIDEO    • TRUMP BLASTS Bringing Back COV...   \n",
       "3                   ASMR Marble run #marblerun #asmr   \n",
       "4  In this #short, gain confidence speaking as yo...   \n",
       "5  Adverbios intensificadores ¿Qué tan cerca está...   \n",
       "6                                               None   \n",
       "7  Gen Z is more Muslim, Buddhist, and Hindu than...   \n",
       "\n",
       "                                    shorts_thumbnail shorts_view  \\\n",
       "0  https://support.google.com/youtube/answer/3037...       6,045   \n",
       "1  https://rr1---sn-f58xn2xxq-aj5l.googlevideo.co...      90,878   \n",
       "2  https://rr5---sn-5uh5o-f5f6.googlevideo.com/vi...      56,653   \n",
       "3  https://support.google.com/youtube/answer/3037...      12,387   \n",
       "4  https://rr2---sn-uxaxh5ji-aw0s.googlevideo.com...         457   \n",
       "5  https://rr3---sn-5ualdns6.googlevideo.com/vide...       6,629   \n",
       "6                                                NaN         NaN   \n",
       "7  https://rr5---sn-h0jelne7.googlevideo.com/vide...      56,781   \n",
       "\n",
       "   shorts_likes  shorts_comments_num  \\\n",
       "0         252.0                 16.0   \n",
       "1       17000.0                552.0   \n",
       "2        3200.0                504.0   \n",
       "3         233.0                  3.0   \n",
       "4          29.0                  3.0   \n",
       "5         564.0                 20.0   \n",
       "6           NaN                  NaN   \n",
       "7        2400.0                702.0   \n",
       "\n",
       "                                shorts_comments_time shorts_published_date  \\\n",
       "0  [(5 days ago, I never get tired of watching pl...                   NaN   \n",
       "1                                                NaN         2022-10-21 16   \n",
       "2                                                NaN         2023-09-04 15   \n",
       "3                                                NaN                   NaN   \n",
       "4                                                NaN         2024-10-16 07   \n",
       "5                                                NaN         2022-12-17 14   \n",
       "6                                                NaN                   NaN   \n",
       "7                                                NaN         2023-12-10 08   \n",
       "\n",
       "                  check_date  \n",
       "0 2024-10-18 16:55:26.581137  \n",
       "1 2024-10-18 16:55:26.581137  \n",
       "2 2024-10-18 16:55:26.581137  \n",
       "3 2024-10-18 16:55:26.581137  \n",
       "4 2024-10-18 16:55:26.581137  \n",
       "5 2024-10-18 16:55:26.581137  \n",
       "6 2024-10-18 16:55:26.581137  \n",
       "7 2024-10-18 16:55:26.581137  "
      ]
     },
     "execution_count": 153,
     "metadata": {},
     "output_type": "execute_result"
    }
   ],
   "source": [
    "# 추가된 데이터 dataframe으로 loaed_db에 추가\n",
    "def add_new_data_to_loaded_db(data_list, loaded_db):\n",
    "    # Define the columns for the DataFrame\n",
    "    columns = [\n",
    "        'channel_name', 'shorts_url', 'shorts_title', 'shorts_description', \n",
    "        'shorts_thumbnail', 'shorts_view', 'shorts_likes', \n",
    "        'shorts_comments_num', 'shorts_comments_time', \n",
    "        'shorts_published_date', 'check_date'\n",
    "    ]\n",
    "    \n",
    "    # Map the data_list to the correct columns and create a new DataFrame\n",
    "    new_data_df = pd.DataFrame(data_list, columns=columns)\n",
    "    \n",
    "    # Append the new data to the loaded_db DataFrame\n",
    "    updated_loaded_db = pd.concat([loaded_db, new_data_df], ignore_index=True)\n",
    "    \n",
    "    return updated_loaded_db\n",
    "\n",
    "updated_loaded_db = add_new_data_to_loaded_db(data_list, loaded_df)\n",
    "updated_loaded_db"
   ]
  },
  {
   "cell_type": "code",
   "execution_count": 133,
   "id": "e7ff3e81",
   "metadata": {},
   "outputs": [
    {
     "data": {
      "text/plain": [
       "2"
      ]
     },
     "execution_count": 133,
     "metadata": {},
     "output_type": "execute_result"
    }
   ],
   "source": [
    "len(loaded_df.columns)\n",
    "len(data_list)"
   ]
  },
  {
   "cell_type": "code",
   "execution_count": 134,
   "id": "3d323ce3",
   "metadata": {},
   "outputs": [
    {
     "data": {
      "text/plain": [
       "[('Robert Breaker',\n",
       "  'Watching Plane Take Off From a Plane #airtravel #airplane #airport t',\n",
       "  None,\n",
       "  'https://support.google.com/youtube/answer/3037019#zippy=%2Ccheck-that-youre-signed-into-youtube',\n",
       "  '6,045',\n",
       "  253.0,\n",
       "  16.0,\n",
       "  [('5 days ago',\n",
       "    'I never get tired of watching planes, taking off or landing! Still one of man’s most beautiful inventions!'),\n",
       "   ('5 days ago', 'Thank you for sharing, brother Breaker'),\n",
       "   ('2 days ago',\n",
       "    'You one of the things that I have learn is when God gives us eternal life he will never take it back because if he did then it would not be eternal life even if we mess up but God will correct us as his children but he will never take away eternal life from us'),\n",
       "   ('4 days ago',\n",
       "    'Just like the airplane is ready to take off it reminds me of the rapture of the church that will take place real soon'),\n",
       "   ('5 days ago',\n",
       "    'Ret Captain. If this is thrilling imagine the pilot advancing the throttles releasing the awesome power of large engines!!34 years flying this never got old as aircraft engines became more powerful with new planes. I miss flying!'),\n",
       "   ('5 days ago (edited)',\n",
       "    'Amigo Roberto breaker, siempre veo tus sermones  saludo abrazos'),\n",
       "   ('5 days ago', 'Plane spotters go mad for this perspective.'),\n",
       "   ('5 days ago', 'Safe journey sir'),\n",
       "   ('5 days ago',\n",
       "    'Be safe Pastor Breaker and crew! \\nBeen on a little plane once! Never again'),\n",
       "   ('4 days ago', 'Cool'),\n",
       "   ('5 days ago', 'Very cool!'),\n",
       "   ('5 days ago', 'What is this for brother?'),\n",
       "   ('5 days ago', 'no donkey 4 U brother  Breaker'),\n",
       "   ('5 days ago', \"Where's we going?\"),\n",
       "   ('3 days ago',\n",
       "    'My are father in HEAVEN , GOD almighty keep you safe in the air ,brother breaker')],\n",
       "  nan,\n",
       "  datetime.datetime(2024, 10, 18, 16, 37, 12, 66892)),\n",
       " ('Nick Jones',\n",
       "  'Just Trust God',\n",
       "  None,\n",
       "  'https://support.google.com/youtube/answer/3037019#zippy=%2Ccheck-that-youre-signed-into-youtube',\n",
       "  '90,878',\n",
       "  17000.0,\n",
       "  552.0,\n",
       "  [('1 year ago', 'Thank you brother'),\n",
       "   ('1 year ago (edited)',\n",
       "    \"I honestly needed to hear this. I have been festering with thoughts I know God implanted in me. I thank God for his Children because we remind each other we are created with true purpose. If we don't ask or in this case, trust Him, and we put it in our hands, it fails. Lord I ask you to be Lord over my life!! I may not be qualified, but You Qualify the Called!!!\"),\n",
       "   ('1 year ago', 'Thank you Lord for letting this land on my page!'),\n",
       "   ('1 year ago',\n",
       "    \"2020 God called me to live modest life and I asked him to give me 2021 and finally 2022 now I'm completely clothed in his glory , I'm living a life different from what I'm use to but I'm soo happy he called me to be different and stand out\"),\n",
       "   ('1 year ago', 'Amen'),\n",
       "   ('1 year ago',\n",
       "    'I desperately NEEDED this message cuz the enemy been doing a number on my faith but I rebuke it in the name of Jesus! Dear Father, I TRUST you 100%! In Jesus’s mighty name, Amen!'),\n",
       "   ('1 year ago', 'AMEN'),\n",
       "   ('1 year ago',\n",
       "    'Amen! He just made a way for me. And I can’t help but thank him. I believe he can do anything.'),\n",
       "   ('1 year ago',\n",
       "    'Studying the attributes of God, our Abba, Father, prayerfully, can really help us to trust him more.'),\n",
       "   ('1 year ago', 'Praise God thank you LORD AMEN AMEN'),\n",
       "   ('1 year ago',\n",
       "    'This is a strong confirmation for me. I thank the Lord for showing this video pop up after asking Him for some sort of confirmation. Thank you. I pray everyone here fully trusts God and accepts Jesus into their hearts fully. God bless.'),\n",
       "   ('6 months ago', 'Lead me lord'),\n",
       "   ('1 year ago', 'Nothing is impossible with God, Hallelujah.'),\n",
       "   ('1 year ago',\n",
       "    '\" COME ON BROTHA BRING OUT THE TRUTH WAKE UP EVERYBODY ! \"'),\n",
       "   ('1 year ago',\n",
       "    \"Don't question His plans for you. Trust in Him with all your Heart  Amen\"),\n",
       "   ('1 year ago',\n",
       "    'I’ve been meditating every night to get closer to God to see what he’s been calling me to do. He commands me to do small gestures but no big steps yet. Maybe I’m not ready for anything big yet but I’m gonna continue to meditate every night.'),\n",
       "   ('1 year ago', 'I do...I do trust Jehovah! He saved my life.'),\n",
       "   ('1 year ago', 'Amen HALLELUJAH AMEN'),\n",
       "   ('1 year ago', 'Amen and thank you'),\n",
       "   ('1 year ago', 'AMEN!')],\n",
       "  nan,\n",
       "  datetime.datetime(2024, 10, 18, 16, 37, 12, 66892))]"
      ]
     },
     "execution_count": 134,
     "metadata": {},
     "output_type": "execute_result"
    }
   ],
   "source": [
    "data_list"
   ]
  }
 ],
 "metadata": {
  "kernelspec": {
   "display_name": "Python 3 (ipykernel)",
   "language": "python",
   "name": "python3"
  },
  "language_info": {
   "codemirror_mode": {
    "name": "ipython",
    "version": 3
   },
   "file_extension": ".py",
   "mimetype": "text/x-python",
   "name": "python",
   "nbconvert_exporter": "python",
   "pygments_lexer": "ipython3",
   "version": "3.12.5"
  }
 },
 "nbformat": 4,
 "nbformat_minor": 5
}
