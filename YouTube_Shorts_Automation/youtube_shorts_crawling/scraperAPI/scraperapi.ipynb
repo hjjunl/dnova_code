{
 "cells": [
  {
   "cell_type": "markdown",
   "id": "727b5030",
   "metadata": {},
   "source": [
    "## D'NOVA YouTube Shorts Scraping\n",
    "-  Test code: 테스트 코드\n",
    "- Daily Shorts check: 수집 데이터 loading\n",
    "#### Code Flow\n",
    "1. channel shorts url input으로 들어갈시 채널 url 필터링(daily)\n",
    "2. Shorts 생성 안할시 data_yn n으로 변경\n",
    "3. 수집한 channel list 수집 후 loaded_db에 적재 \n",
    "4. 기존 수집했던 쇼츠 재수집 -7d, -14d, -21d\n",
    "\n",
    "- Sorting 기준 만들어야함 query, view 기준 sorting\n"
   ]
  },
  {
   "cell_type": "markdown",
   "id": "de18ecdc",
   "metadata": {},
   "source": [
    "### Test Code"
   ]
  },
  {
   "cell_type": "code",
   "execution_count": 1,
   "id": "1430ad40",
   "metadata": {},
   "outputs": [],
   "source": [
    "import requests\n",
    "import re\n",
    "import numpy as np\n",
    "from bs4 import BeautifulSoup"
   ]
  },
  {
   "cell_type": "code",
   "execution_count": 2,
   "id": "4efc4d67",
   "metadata": {},
   "outputs": [
    {
     "name": "stderr",
     "output_type": "stream",
     "text": [
      "c:\\Users\\T14Gen1\\Documents\\Lib\\site-packages\\urllib3\\connectionpool.py:1099: InsecureRequestWarning: Unverified HTTPS request is being made to host 'api.scraperapi.com'. Adding certificate verification is strongly advised. See: https://urllib3.readthedocs.io/en/latest/advanced-usage.html#tls-warnings\n",
      "  warnings.warn(\n"
     ]
    },
    {
     "name": "stdout",
     "output_type": "stream",
     "text": [
      "Response saved to response_output.txt\n"
     ]
    }
   ],
   "source": [
    "# Define the payload and headers for the request\n",
    "# shorts channel1: https://www.youtube.com/watch?v=xEuH_5Ik92U\n",
    "# shorts channel2: https://www.youtube.com/watch?v=fa_sSaHxTZ4\n",
    "# yt_shorts page: https://www.youtube.com/@%EC%95%84%EC%9D%B4%EB%8F%8C/shorts\n",
    "API_KEY = '3397e8a6a37e89b03b08750a27575df8'\n",
    "payload = {\n",
    "    'api_key': API_KEY,\n",
    "    'url': 'https://www.youtube.com/watch?v=fa_sSaHxTZ4'\n",
    "    ,'render': 'true'\n",
    "}\n",
    "# payload = { 'api_key': '3397e8a6a37e89b03b08750a27575df8', 'url': 'https://www.youtube.com/watch?v=xEuH_5Ik92U' }\n",
    "# r = requests.get('https://api.scraperapi.com/', params=payload, verify=False)\n",
    "# print(r.text)\n",
    "headers = {\n",
    "    'x-sapi-render': 'true',\n",
    "    'x-sapi-instruction_set': '[{\"type\":\"scroll\",\"direction\":\"y\",\"value\":\"bottom\"}, {\"type\": \"wait\", \"value\": 3}]'\n",
    "    # , {\"type\": \"click\", \"selector\": {\"type\": \"text\",\"value\": \"Show transcript\"}}\n",
    "    # ,{\"type\":\"scroll\",\"direction\":\"y\",\"value\":\"bottom\"}, {\"type\": \"wait\", \"value\": 2} \n",
    "}\n",
    "# Make the GET request\n",
    "r_full = requests.get('https://api.scraperapi.com/', params=payload, headers=headers, verify=False) # headers=headers,\n",
    "\n",
    "# Save the response text to a file\n",
    "with open('response_channel_test.txt', 'w', encoding='utf-8') as file:\n",
    "    file.write(r_full.text)\n",
    "\n",
    "print(\"Response saved to response_output.txt\")\n"
   ]
  },
  {
   "cell_type": "code",
   "execution_count": 118,
   "id": "84991370",
   "metadata": {},
   "outputs": [
    {
     "name": "stderr",
     "output_type": "stream",
     "text": [
      "c:\\Users\\T14Gen1\\Documents\\Lib\\site-packages\\urllib3\\connectionpool.py:1099: InsecureRequestWarning: Unverified HTTPS request is being made to host 'api.scraperapi.com'. Adding certificate verification is strongly advised. See: https://urllib3.readthedocs.io/en/latest/advanced-usage.html#tls-warnings\n",
      "  warnings.warn(\n"
     ]
    },
    {
     "name": "stdout",
     "output_type": "stream",
     "text": [
      "Response saved to response_output.txt\n"
     ]
    }
   ],
   "source": [
    "# url 한개만 추출 -> comments (x)\n",
    "import requests\n",
    "\n",
    "payload = { 'api_key': '3397e8a6a37e89b03b08750a27575df8', 'url': 'https://www.youtube.com/watch?v=5XULtdKG72s'}\n",
    "r_normal = requests.get('https://api.scraperapi.com/', params=payload, verify=False)\n",
    "# Save the response text to a file\n",
    "with open('response_channel_test_subscirbers.txt', 'w', encoding='utf-8') as file:\n",
    "    file.write(r_normal.text)\n",
    "\n",
    "print(\"Response saved to response_output.txt\")"
   ]
  },
  {
   "cell_type": "code",
   "execution_count": 112,
   "id": "25e67cba",
   "metadata": {},
   "outputs": [
    {
     "name": "stderr",
     "output_type": "stream",
     "text": [
      "c:\\Users\\T14Gen1\\Documents\\Lib\\site-packages\\urllib3\\connectionpool.py:1099: InsecureRequestWarning: Unverified HTTPS request is being made to host 'api.scraperapi.com'. Adding certificate verification is strongly advised. See: https://urllib3.readthedocs.io/en/latest/advanced-usage.html#tls-warnings\n",
      "  warnings.warn(\n"
     ]
    },
    {
     "name": "stdout",
     "output_type": "stream",
     "text": [
      "Response for https://www.youtube.com/watch?v=xEuH_5Ik92U saved to response_1.txt\n"
     ]
    },
    {
     "name": "stderr",
     "output_type": "stream",
     "text": [
      "c:\\Users\\T14Gen1\\Documents\\Lib\\site-packages\\urllib3\\connectionpool.py:1099: InsecureRequestWarning: Unverified HTTPS request is being made to host 'api.scraperapi.com'. Adding certificate verification is strongly advised. See: https://urllib3.readthedocs.io/en/latest/advanced-usage.html#tls-warnings\n",
      "  warnings.warn(\n"
     ]
    },
    {
     "name": "stdout",
     "output_type": "stream",
     "text": [
      "Response for https://www.youtube.com/watch?v=CPsCEfs3m8I saved to response_2.txt\n"
     ]
    },
    {
     "name": "stderr",
     "output_type": "stream",
     "text": [
      "c:\\Users\\T14Gen1\\Documents\\Lib\\site-packages\\urllib3\\connectionpool.py:1099: InsecureRequestWarning: Unverified HTTPS request is being made to host 'api.scraperapi.com'. Adding certificate verification is strongly advised. See: https://urllib3.readthedocs.io/en/latest/advanced-usage.html#tls-warnings\n",
      "  warnings.warn(\n"
     ]
    },
    {
     "name": "stdout",
     "output_type": "stream",
     "text": [
      "Response for https://www.youtube.com/watch?v=jXUHFbNo5Vg saved to response_3.txt\n"
     ]
    }
   ],
   "source": [
    "# url 여러개 진행\n",
    "import requests\n",
    "API_KEY = '3397e8a6a37e89b03b08750a27575df8'\n",
    "# List of URLs to test\n",
    "urls = [\n",
    "    'https://www.youtube.com/watch?v=xEuH_5Ik92U',\n",
    "    'https://www.youtube.com/watch?v=CPsCEfs3m8I',\n",
    "    'https://www.youtube.com/watch?v=jXUHFbNo5Vg'\n",
    "]\n",
    "\n",
    "# API key and headers\n",
    "headers = {\n",
    "    'x-sapi-render': 'true',\n",
    "    # 'x-sapi-instruction_set': '[{\"type\":\"scroll\",\"direction\":\"y\",\"value\":\"bottom\"}, {\"type\": \"wait\", \"value\": 2}]'\n",
    "    'x-sapi-instruction_set': '[{\"type\":\"loop\",\"for\":' + str(len(urls))+',\"instructions\":[{\"type\":\"scroll\",\"direction\":\"y\",\"value\":\"bottom\"}, {\"type\": \"wait\", \"value\": 2}]}]'\n",
    "}\n",
    "\n",
    "# Loop through each URL, send request, and save response to a file\n",
    "for i, url in enumerate(urls):\n",
    "    payload = {\n",
    "        'api_key': API_KEY,\n",
    "        'url': url,\n",
    "        'render': 'true'\n",
    "    }\n",
    "    \n",
    "    # Send the request\n",
    "    r = requests.get('https://api.scraperapi.com/', params=payload, headers=headers, verify=False)\n",
    "    \n",
    "    # Save the response to a file, naming it based on the URL index\n",
    "    filename = f'response_{i + 1}.txt'\n",
    "    with open(filename, 'w', encoding='utf-8') as file:\n",
    "        file.write(r.text)\n",
    "    \n",
    "    print(f'Response for {url} saved to {filename}')\n",
    "\n"
   ]
  },
  {
   "cell_type": "markdown",
   "id": "e6c0decd",
   "metadata": {},
   "source": [
    "Start\n",
    "\n",
    "## Daily & Weekly Shorts Check\n",
    "- 기본 데이터 loading\n",
    "- 7687 채널 매일 확인 KST 23:30 진행 -> request 7687 - (no shorts) 기본\n",
    "- channel_df: 기본 YT 채널 데이터\n",
    "- loaded_df: 쇼츠 적재 데이터 (추후 DB에 저장 필요)\n",
    "- basic_shorts_info: 기본적인 Shorts 데이터 추출 함수"
   ]
  },
  {
   "cell_type": "code",
   "execution_count": 119,
   "id": "f90ce72b",
   "metadata": {},
   "outputs": [],
   "source": [
    "# 기존 channel list와 적재 데이터 load\n",
    "import requests\n",
    "import re\n",
    "import numpy as np\n",
    "import pandas as pd\n",
    "from datetime import datetime, timedelta\n",
    "API_KEY = '3397e8a6a37e89b03b08750a27575df8'\n",
    "# 한국, 미국 데이터 9507개\n",
    "channel_df = pd.read_excel('us_korea_test.xlsx')\n",
    "# channel_df = ch_df[81:]\n",
    "channel_df = channel_df.drop_duplicates(subset=['channel_name', 'yt_fixed_url'], keep='last')\n",
    "channel_df.to_excel('us_korea_test.xlsx', index=False)\n",
    "channel_df = channel_df#[8000:8010]\n",
    "# 적재 DB: # -7d, -14d, -21d 만 필터링\n",
    "loaded_df = pd.read_excel(\"loaded_db.xlsx\")\n",
    "today = datetime.today().strftime('%Y-%m-%d')\n",
    "try:\n",
    "    loaded_df['check_date'] = loaded_df['check_date'].dt.date\n",
    "    filter_dates = [today - timedelta(days=7), today - timedelta(days=14), today - timedelta(days=21)]\n",
    "    # Filter the dataframe based on check_date\n",
    "    loaded_df = loaded_df[loaded_df['check_date'].isin(filter_dates)]\n",
    "except Exception:\n",
    "    pass"
   ]
  },
  {
   "cell_type": "markdown",
   "id": "567988d8",
   "metadata": {},
   "source": [
    "##### 기본 shorts 데이터 수집"
   ]
  },
  {
   "cell_type": "code",
   "execution_count": 120,
   "id": "81c24239",
   "metadata": {},
   "outputs": [],
   "source": [
    "# Updated function to include the <link rel=\"image_src\" ...> part in the thumbnail extraction\n",
    "def basic_shorts_info(text):\n",
    "    # Shorts title\n",
    "    match_title = re.search(r'<title>(.*?) - YouTube</title>', text)\n",
    "    extracted_title = match_title.group(1) if match_title else np.nan\n",
    "\n",
    "    # Shorts description\n",
    "    description_pattern = r'attributedDescription\":{\"content\":\"(.*?)\"'\n",
    "    description_match = re.search(description_pattern, text)\n",
    "    extracted_description = description_match.group(1) if description_match else None\n",
    "    \n",
    "    # Shorts total view (date and time)\n",
    "    date_time_pattern = r'datePublished\" content=\"(\\d{4}-\\d{2}-\\d{2})T(\\d{2}):'\n",
    "    match_date = re.search(date_time_pattern, text)\n",
    "    extracted_published = f\"{match_date.group(1)} {match_date.group(2)}\" if match_date else np.nan\n",
    "\n",
    "    # Thumbnail (updated pattern to include <link rel=\"image_src\" ...)\n",
    "    thumbnail_pattern = r'<link rel=\"image_src\" href=\"(https?://i\\.ytimg\\.com/vi/[^/]+/maxres2\\.jpg\\?[^\"]+)\"'\n",
    "    thumbnail_match = re.search(thumbnail_pattern, text)\n",
    "    yt_shorts_thumbnail = thumbnail_match.group(1) if thumbnail_match else np.nan\n",
    "\n",
    "    # Total view\n",
    "    view_pattern = r'\"viewCountEntityKey\":\"[^\"]+\",\"factoid\":\\{\"factoidRenderer\":\\{\"value\":\\{\"simpleText\":\"([\\d,]+)\"'\n",
    "    view_match = re.search(view_pattern, text)\n",
    "    extracted_view = view_match.group(1) if view_match else np.nan\n",
    "\n",
    "    # Total likes\n",
    "    like_pattern = r'\"iconName\":\"LIKE\",\"title\":\"([\\d.]+)([KM]?)\"'\n",
    "    like_match = re.search(like_pattern, text)\n",
    "    if like_match:\n",
    "        extracted_likes = float(like_match.group(1))\n",
    "        suffix = like_match.group(2)\n",
    "        if suffix == 'K':\n",
    "            extracted_likes *= 1000\n",
    "        elif suffix == 'M':\n",
    "            extracted_likes *= 1000000\n",
    "    else:\n",
    "        extracted_likes = np.nan\n",
    "\n",
    "    # Total comments    \n",
    "    comment_num_pattern = r'\"text\":\"Comments\"}\\]},\"contextualInfo\":\\{\"runs\":\\[\\{\"text\":\"([\\d.]+)([KM]?)\"'\n",
    "    comment_num_match = re.search(comment_num_pattern, text)\n",
    "    if comment_num_match:\n",
    "        extracted_comments_number = float(comment_num_match.group(1))\n",
    "        suffix = comment_num_match.group(2)\n",
    "        if suffix == 'K':\n",
    "            extracted_comments_number *= 1000\n",
    "        elif suffix == 'M':\n",
    "            extracted_comments_number *= 1000000\n",
    "    else:\n",
    "        extracted_comments_number = np.nan\n",
    "\n",
    "    # YT shorts comment results and comment creation time\n",
    "    comments_time_text_pattern = r'<span[^>]*id=\"published-time-text\"[^>]*>\\s*<a[^>]*>\\s*(.*?)\\s*<\\/a>.*?<yt-attributed-string[^>]*>\\s*<span[^>]*class=\"yt-core-attributed-string yt-core-attributed-string--white-space-pre-wrap\"[^>]*>\\s*(.*?)\\s*<\\/span>'\n",
    "    \n",
    "    comments_time_matches = re.findall(comments_time_text_pattern, text, re.DOTALL)\n",
    "    \n",
    "    # Process and clean comments\n",
    "    extracted_comments_time_matches = []\n",
    "    if comments_time_matches:\n",
    "        for time, comment in comments_time_matches:\n",
    "            soup = BeautifulSoup(comment, 'html.parser')\n",
    "            cleaned_comment = soup.get_text()\n",
    "            extracted_comments_time_matches.append((time.strip(), cleaned_comment.strip()))\n",
    "    else:\n",
    "        extracted_comments_time_matches = np.nan\n",
    "\n",
    "    return (extracted_title, extracted_description, extracted_published, yt_shorts_thumbnail, \n",
    "            extracted_view, extracted_likes, extracted_comments_number, extracted_comments_time_matches)\n",
    "\n",
    "# The function can be tested with appropriate HTML input containing the new thumbnail patterns.\n"
   ]
  },
  {
   "cell_type": "code",
   "execution_count": 121,
   "id": "82e916c0",
   "metadata": {},
   "outputs": [
    {
     "name": "stdout",
     "output_type": "stream",
     "text": [
      "yt_shorts_title:  \n",
      "yt_shorts_description:  Epic Moment IQ 200 freestyle primitive skill clutch at block dash 😱 Skill lv9999 perfect timing 100% stumble guys #stumbleguys #stumbleguyslive #livestumble #shorts #stumbleguysvideos #stumbleguystipsandtricks #stumbleguyshighlights\n",
      "yt_shorts_published:  nan\n",
      "yt_shorts_thumbnalil:  nan\n",
      "yt_view:  139,160\n",
      "yt_likes:  4100.0\n",
      "yt_comments:  12.0\n",
      "yt_shorts_comments_time:  nan\n"
     ]
    }
   ],
   "source": [
    "yt_shorts_title, yt_shorts_description, yt_shorts_published, yt_shorts_thumbnail, yt_shorts_view, yt_shorts_likes, yt_shorts_comments_num, yt_shorts_comments_time = basic_shorts_info(r_normal.text)\n",
    "print(\"yt_shorts_title: \", yt_shorts_title)\n",
    "print(\"yt_shorts_description: \", yt_shorts_description)\n",
    "print(\"yt_shorts_published: \", yt_shorts_published)\n",
    "print(\"yt_shorts_thumbnalil: \", yt_shorts_thumbnail)\n",
    "print(\"yt_view: \", yt_shorts_view)\n",
    "print(\"yt_likes: \", yt_shorts_likes)\n",
    "print(\"yt_comments: \", yt_shorts_comments_num)\n",
    "print(\"yt_shorts_comments_time: \", yt_shorts_comments_time)\n",
    "# print(len(yt_shorts_comments_time))"
   ]
  },
  {
   "cell_type": "markdown",
   "id": "4aaf44e5",
   "metadata": {},
   "source": [
    "##### 1. channel shorts url input으로 들어갈시 채널 url 필터링(daily)\n",
    "- 최신 기준으로 맵핑이 되지 않는 경우 최근 url 1개 수집 \n",
    "- 기존 말고 신규 shorts url 확인시 수집 list에 추가 -> (아직 테스트 안됨)\n",
    "- 마지막에 다 확인후 추가된 list 쇼츠 데이터 수집 진행"
   ]
  },
  {
   "cell_type": "code",
   "execution_count": 122,
   "id": "b517bb46",
   "metadata": {},
   "outputs": [],
   "source": [
    "import pandas as pd\n",
    "import requests\n",
    "import re\n",
    "\n",
    "def convert_subscribers(subscriber_text):\n",
    "    \"\"\"Convert subscriber text to a numeric value.\"\"\"\n",
    "    if 'K' in subscriber_text:\n",
    "        return int(float(subscriber_text.replace('K', '').strip()) * 1000)\n",
    "    elif 'M' in subscriber_text:\n",
    "        return int(float(subscriber_text.replace('M', '').strip()) * 1000000)\n",
    "    return int(subscriber_text.strip())\n",
    "\n",
    "def extract_total_video_count(video_text):\n",
    "    \"\"\"Extract total video count as an integer from the input text.\"\"\"\n",
    "    # Check for formats like '3.1K' and convert accordingly\n",
    "    if 'K' in video_text:\n",
    "        return int(float(video_text.replace('K', '').strip()) * 1000)\n",
    "    elif 'M' in video_text:\n",
    "        return int(float(video_text.replace('M', '').strip()) * 1000000)\n",
    "    number_pattern = r'(\\d+) videos'\n",
    "    match = re.search(number_pattern, video_text)\n",
    "    return int(match.group(1)) if match else None  # Return the number part if found\n",
    "\n",
    "def extract_description(description_text):\n",
    "    \"\"\"Extract description from the HTML content.\"\"\"\n",
    "    lines = description_text.splitlines()\n",
    "    first_line = lines[0].strip() if len(lines) > 0 else None\n",
    "    second_line = lines[1].strip() if len(lines) > 1 else None\n",
    "    return first_line, second_line  # Get the first two lines\n",
    "\n",
    "def scanning_yt_shorts_page(api_key, channel_db, loaded_db):\n",
    "    # List to store new shorts results in the format (channel_name, new_shorts_url)\n",
    "    new_shorts_urls = []\n",
    "    # List to store channels with no shorts_urls\n",
    "    no_shorts_list = []\n",
    "    \n",
    "    # Initialize a list for the additional DataFrame\n",
    "    additional_data = []\n",
    "\n",
    "    # Iterate over each row in channel_db\n",
    "    for index, row in channel_db.iterrows():\n",
    "        # Only proceed if data_yn is \"y\"\n",
    "        if row['data_yn'] != 'y':\n",
    "            continue  # Skip the row if data_yn is not \"y\"\n",
    "        \n",
    "        channel_name = row['channel_name']\n",
    "        yt_fixed_url = row['yt_fixed_url']\n",
    "        print(channel_name)\n",
    "        # Filter loaded_db where channel_name matches\n",
    "        matching_rows = loaded_db[loaded_db['channel_name'] == channel_name]\n",
    "        \n",
    "        if not matching_rows.empty:\n",
    "            # Sort by check_date to get the most recent row\n",
    "            latest_row = matching_rows.sort_values(by='check_date', ascending=False).iloc[0]\n",
    "            latest_url = latest_row['shorts_url']\n",
    "        else:\n",
    "            # If no match found in loaded_db, set latest_url to None to ensure data collection proceeds\n",
    "            latest_url = None\n",
    "        \n",
    "        # Prepare the payload for ScraperAPI request, using yt_fixed_url\n",
    "        payload = {\n",
    "            'api_key': api_key,\n",
    "            'url': yt_fixed_url\n",
    "        }\n",
    "        \n",
    "        # Send the request to ScraperAPI\n",
    "        r = requests.get('https://api.scraperapi.com/', params=payload, verify=False)\n",
    "        \n",
    "        # Define the regex pattern to extract Shorts URLs\n",
    "        shorts_url_pattern = r'webCommandMetadata\":{\"url\":\"(/shorts/\\w+)\"'\n",
    "        # Find all matching Shorts URLs\n",
    "        shorts_urls = re.findall(shorts_url_pattern, r.text)\n",
    "        shorts_urls = ['https://www.youtube.com' + url.replace('/shorts/', '/watch?v=') for url in shorts_urls]\n",
    "\n",
    "        print(f\"shorts_urls for {channel_name}: \", shorts_urls)\n",
    "\n",
    "        # Extract subscribers\n",
    "        subscribers_pattern = r'(\\d+K|\\d+M|\\d+) subscribers'\n",
    "        subscribers_match = re.search(subscribers_pattern, r.text)\n",
    "        last_subscribers = convert_subscribers(subscribers_match.group(1)) if subscribers_match else None\n",
    "        \n",
    "        # Extract total video count with the required prefix\n",
    "        total_video_count_pattern = r'{\"text\":{\"content\":\"([\\d.]+[K|M]?) videos\"'\n",
    "        total_video_count_match = re.search(total_video_count_pattern, r.text)\n",
    "        last_total_videos = extract_total_video_count(total_video_count_match.group(1)) if total_video_count_match else None\n",
    "        \n",
    "        # Extract description\n",
    "        description_pattern = r'itemprop=\"description\" content=\"(.*?)\"'\n",
    "        description_match = re.search(description_pattern, r.text, re.DOTALL)\n",
    "        last_description = extract_description(description_match.group(1)) if description_match else (None, None)\n",
    "\n",
    "        # Store the data for the DataFrame\n",
    "        additional_data.append({\n",
    "            'channel_name': channel_name,\n",
    "            'yt_fixed_url': yt_fixed_url,\n",
    "            'subscribers': last_subscribers,\n",
    "            'total_video_count': last_total_videos,\n",
    "            'description': last_description[0]  # Assuming we want the first line of the description\n",
    "        })\n",
    "\n",
    "        # Proceed based on shorts_urls availability\n",
    "        if shorts_urls:\n",
    "            if latest_url and latest_url in shorts_urls:\n",
    "                # If there's a match, get all URLs before the latest one\n",
    "                matching_index = shorts_urls.index(latest_url)\n",
    "                for shorts_url in shorts_urls[:matching_index]:\n",
    "                    new_shorts_urls.append((channel_name, shorts_url))\n",
    "            else:\n",
    "                # If no latest URL or no match in loaded_db, collect the first URL\n",
    "                new_shorts_urls.append((channel_name, shorts_urls[0]))\n",
    "        else:\n",
    "            # If shorts_urls is empty, add the channel_name and yt_fixed_url to the no_shorts_list\n",
    "            no_shorts_list.append((channel_name, yt_fixed_url))\n",
    "    \n",
    "    # Convert the no_shorts_list to a DataFrame\n",
    "    no_shorts_df = pd.DataFrame(no_shorts_list, columns=['channel_name', 'yt_fixed_url'])\n",
    "    \n",
    "    # Create a DataFrame from the additional data\n",
    "    df = pd.DataFrame(additional_data)\n",
    "\n",
    "    return new_shorts_urls, no_shorts_df, df  # Return both the list, no_shorts DataFrame, and additional DataFrame\n"
   ]
  },
  {
   "cell_type": "code",
   "execution_count": 123,
   "id": "6f533636",
   "metadata": {},
   "outputs": [
    {
     "name": "stdout",
     "output_type": "stream",
     "text": [
      "Robert Breaker\n"
     ]
    },
    {
     "name": "stderr",
     "output_type": "stream",
     "text": [
      "c:\\Users\\T14Gen1\\Documents\\Lib\\site-packages\\urllib3\\connectionpool.py:1099: InsecureRequestWarning: Unverified HTTPS request is being made to host 'api.scraperapi.com'. Adding certificate verification is strongly advised. See: https://urllib3.readthedocs.io/en/latest/advanced-usage.html#tls-warnings\n",
      "  warnings.warn(\n"
     ]
    },
    {
     "name": "stdout",
     "output_type": "stream",
     "text": [
      "shorts_urls for Robert Breaker:  ['https://www.youtube.com/watch?v=rQBQ0LhYi9w', 'https://www.youtube.com/watch?v=oiAVo9efgxQ', 'https://www.youtube.com/watch?v=XmZHvI6V00A', 'https://www.youtube.com/watch?v=qc0iqmlAR38', 'https://www.youtube.com/watch?v=Lu2gWsx3rs8', 'https://www.youtube.com/watch?v=KqpYUbvjRK8', 'https://www.youtube.com/watch?v=HQIiA6T_Iic', 'https://www.youtube.com/watch?v=brm8V4CEnh8', 'https://www.youtube.com/watch?v=4qyiflpsY5E', 'https://www.youtube.com/watch?v=nz6UeE75hOM', 'https://www.youtube.com/watch?v=Vcw2rL2nWfA', 'https://www.youtube.com/watch?v=5ndfKljP5gA', 'https://www.youtube.com/watch?v=c0_YNvm5sJw', 'https://www.youtube.com/watch?v=zwUMeX3BPbU', 'https://www.youtube.com/watch?v=6XcJDpLrqr8', 'https://www.youtube.com/watch?v=2OIxmnYPc3s', 'https://www.youtube.com/watch?v=kEWh0IZyPiE', 'https://www.youtube.com/watch?v=vBonWvTDeyM', 'https://www.youtube.com/watch?v=VVUCLE0bths', 'https://www.youtube.com/watch?v=0PSQuoCVELg', 'https://www.youtube.com/watch?v=zzN6n_GJHtA', 'https://www.youtube.com/watch?v=C7eyrX2WjOs', 'https://www.youtube.com/watch?v=tkeh2Oz29Gw', 'https://www.youtube.com/watch?v=OIrralLUTyE', 'https://www.youtube.com/watch?v=yP1vwSHeIe8', 'https://www.youtube.com/watch?v=MIXnAoYTF6c', 'https://www.youtube.com/watch?v=rWkTB8dMYt8', 'https://www.youtube.com/watch?v=koDfIuezyFQ', 'https://www.youtube.com/watch?v=gLaVV519QzI', 'https://www.youtube.com/watch?v=5ku6wwXd6N0', 'https://www.youtube.com/watch?v=vLnnF2MYJGo', 'https://www.youtube.com/watch?v=8RZS8f5NBpA', 'https://www.youtube.com/watch?v=CBK6FZ3YzwU', 'https://www.youtube.com/watch?v=gi_2VUetkdc', 'https://www.youtube.com/watch?v=OO41Qz0hT14', 'https://www.youtube.com/watch?v=Sj_U7vcYDuA', 'https://www.youtube.com/watch?v=cWVWrZxXCv0', 'https://www.youtube.com/watch?v=kDHh9AzSANY', 'https://www.youtube.com/watch?v=QDXfxWIMRtw', 'https://www.youtube.com/watch?v=DxcDY2H1k4c', 'https://www.youtube.com/watch?v=fJBxbNNZu84', 'https://www.youtube.com/watch?v=QbsK_14ANvE', 'https://www.youtube.com/watch?v=z_TgL_lDgfg']\n",
      "Nick Jones\n"
     ]
    },
    {
     "name": "stderr",
     "output_type": "stream",
     "text": [
      "c:\\Users\\T14Gen1\\Documents\\Lib\\site-packages\\urllib3\\connectionpool.py:1099: InsecureRequestWarning: Unverified HTTPS request is being made to host 'api.scraperapi.com'. Adding certificate verification is strongly advised. See: https://urllib3.readthedocs.io/en/latest/advanced-usage.html#tls-warnings\n",
      "  warnings.warn(\n"
     ]
    },
    {
     "name": "stdout",
     "output_type": "stream",
     "text": [
      "shorts_urls for Nick Jones:  ['https://www.youtube.com/watch?v=fa_sSaHxTZ4', 'https://www.youtube.com/watch?v=0vPxMeWXNpA', 'https://www.youtube.com/watch?v=mlzNZAnY2Vc', 'https://www.youtube.com/watch?v=4LHlp1eCQIE', 'https://www.youtube.com/watch?v=wWHyYFemnWk', 'https://www.youtube.com/watch?v=LZiy319wB0Q', 'https://www.youtube.com/watch?v=sQi9mAxFAC0', 'https://www.youtube.com/watch?v=OkBVU_zFNh4', 'https://www.youtube.com/watch?v=OnDZ79Jd4iU', 'https://www.youtube.com/watch?v=P3itqoXsh1M', 'https://www.youtube.com/watch?v=t0AIf6QNd9Y', 'https://www.youtube.com/watch?v=7UmYhoddWo0', 'https://www.youtube.com/watch?v=twLOUozjmzU', 'https://www.youtube.com/watch?v=Twljy9DtxB4', 'https://www.youtube.com/watch?v=m70O1UpiuMY', 'https://www.youtube.com/watch?v=up0TKqllXJ4', 'https://www.youtube.com/watch?v=66xZITjBlqA', 'https://www.youtube.com/watch?v=0zKSBOIVR6c', 'https://www.youtube.com/watch?v=9x0aAFCHrxA', 'https://www.youtube.com/watch?v=yQy8NMII_Ns', 'https://www.youtube.com/watch?v=kkGGS5J7hJQ', 'https://www.youtube.com/watch?v=qSC0Z3i47DY', 'https://www.youtube.com/watch?v=gEaYfe8F1k0', 'https://www.youtube.com/watch?v=w9Cxo6LdXng', 'https://www.youtube.com/watch?v=kcNaJ8Zgh2Q', 'https://www.youtube.com/watch?v=zDetSx_ejFA', 'https://www.youtube.com/watch?v=lqrx2dSlyzs', 'https://www.youtube.com/watch?v=c408q11hSBA', 'https://www.youtube.com/watch?v=_5hUES9oxK8', 'https://www.youtube.com/watch?v=wqf5fDYUOvI', 'https://www.youtube.com/watch?v=cJT8FV6v8Cw', 'https://www.youtube.com/watch?v=1k8lr4m6S0Q', 'https://www.youtube.com/watch?v=FxO6cvK0Ku0', 'https://www.youtube.com/watch?v=HV6d2XADFgA', 'https://www.youtube.com/watch?v=SkUdOGaeqjw', 'https://www.youtube.com/watch?v=9gM2rNzzum4', 'https://www.youtube.com/watch?v=bjYUBw4tUOc', 'https://www.youtube.com/watch?v=mBkmyxNN1jU']\n",
      "Tactical Toolbox\n"
     ]
    },
    {
     "name": "stderr",
     "output_type": "stream",
     "text": [
      "c:\\Users\\T14Gen1\\Documents\\Lib\\site-packages\\urllib3\\connectionpool.py:1099: InsecureRequestWarning: Unverified HTTPS request is being made to host 'api.scraperapi.com'. Adding certificate verification is strongly advised. See: https://urllib3.readthedocs.io/en/latest/advanced-usage.html#tls-warnings\n",
      "  warnings.warn(\n"
     ]
    },
    {
     "name": "stdout",
     "output_type": "stream",
     "text": [
      "shorts_urls for Tactical Toolbox:  []\n",
      "Steve Ram\n"
     ]
    },
    {
     "name": "stderr",
     "output_type": "stream",
     "text": [
      "c:\\Users\\T14Gen1\\Documents\\Lib\\site-packages\\urllib3\\connectionpool.py:1099: InsecureRequestWarning: Unverified HTTPS request is being made to host 'api.scraperapi.com'. Adding certificate verification is strongly advised. See: https://urllib3.readthedocs.io/en/latest/advanced-usage.html#tls-warnings\n",
      "  warnings.warn(\n"
     ]
    },
    {
     "name": "stdout",
     "output_type": "stream",
     "text": [
      "shorts_urls for Steve Ram:  ['https://www.youtube.com/watch?v=SqU7aeAPkrY', 'https://www.youtube.com/watch?v=fh1NejyHeZM', 'https://www.youtube.com/watch?v=lXyxquddfzM', 'https://www.youtube.com/watch?v=JRpPa1ETqaA', 'https://www.youtube.com/watch?v=HKpVCHZEGEQ', 'https://www.youtube.com/watch?v=_wKDGxXYF5E', 'https://www.youtube.com/watch?v=LWYJk3mXd4Q', 'https://www.youtube.com/watch?v=GMmPMujyCgw', 'https://www.youtube.com/watch?v=0dSnoDHRIIo', 'https://www.youtube.com/watch?v=D08Kghgkjxw', 'https://www.youtube.com/watch?v=WPdhHTep72Y', 'https://www.youtube.com/watch?v=5oXvRdMT6PY', 'https://www.youtube.com/watch?v=Zz40gaYOYDI', 'https://www.youtube.com/watch?v=oyFyYWsBSy0', 'https://www.youtube.com/watch?v=yFvTaG7Sne8', 'https://www.youtube.com/watch?v=LzldCMxdJMA', 'https://www.youtube.com/watch?v=rflZU9TWLx0', 'https://www.youtube.com/watch?v=i_5NLsW8uUk', 'https://www.youtube.com/watch?v=eRIg_s1vrk0', 'https://www.youtube.com/watch?v=WeUribMw1E4', 'https://www.youtube.com/watch?v=HgZedqw4Sdg', 'https://www.youtube.com/watch?v=cWEuSirhZn0', 'https://www.youtube.com/watch?v=6jXtmYeGX2k', 'https://www.youtube.com/watch?v=JmRX4EfW5g0', 'https://www.youtube.com/watch?v=aPCCcXuuOK0', 'https://www.youtube.com/watch?v=6qkqkryqu50', 'https://www.youtube.com/watch?v=Dt0XBvzy6R4', 'https://www.youtube.com/watch?v=mcUsOBX8hYw', 'https://www.youtube.com/watch?v=nvrlpbin0Co', 'https://www.youtube.com/watch?v=R4YvWEkyjn8', 'https://www.youtube.com/watch?v=IKiQhX261aM', 'https://www.youtube.com/watch?v=1v1JZcJxaAM', 'https://www.youtube.com/watch?v=BSO4_X8vT1M', 'https://www.youtube.com/watch?v=mdE5HMe6uF0', 'https://www.youtube.com/watch?v=W9RTzxFa75Y', 'https://www.youtube.com/watch?v=p4vDWdgVhEM', 'https://www.youtube.com/watch?v=5tf1MaWWzKc', 'https://www.youtube.com/watch?v=gWpt4mn0iaw', 'https://www.youtube.com/watch?v=P9Na48_P2ic', 'https://www.youtube.com/watch?v=EBmC1QQoSjM', 'https://www.youtube.com/watch?v=FRqnq9Q871g', 'https://www.youtube.com/watch?v=ykA5xehz3Gc', 'https://www.youtube.com/watch?v=V8JDFF1UiLA']\n",
      "So Sweet ASMR\n"
     ]
    },
    {
     "name": "stderr",
     "output_type": "stream",
     "text": [
      "c:\\Users\\T14Gen1\\Documents\\Lib\\site-packages\\urllib3\\connectionpool.py:1099: InsecureRequestWarning: Unverified HTTPS request is being made to host 'api.scraperapi.com'. Adding certificate verification is strongly advised. See: https://urllib3.readthedocs.io/en/latest/advanced-usage.html#tls-warnings\n",
      "  warnings.warn(\n"
     ]
    },
    {
     "name": "stdout",
     "output_type": "stream",
     "text": [
      "shorts_urls for So Sweet ASMR:  ['https://www.youtube.com/watch?v=k27UsRRjC5g', 'https://www.youtube.com/watch?v=d6AC0G1LR2w', 'https://www.youtube.com/watch?v=lF576OmW3YE', 'https://www.youtube.com/watch?v=Ta2p2kJDMfQ', 'https://www.youtube.com/watch?v=zIASIHrM0ww', 'https://www.youtube.com/watch?v=CLNcgIIH6T8', 'https://www.youtube.com/watch?v=k_ZdopDCbr0', 'https://www.youtube.com/watch?v=YzhTK_Nh6i0', 'https://www.youtube.com/watch?v=jzwOPwmx4MU', 'https://www.youtube.com/watch?v=2pZdSgQCpfo', 'https://www.youtube.com/watch?v=AQYWnQ6iUNQ', 'https://www.youtube.com/watch?v=DsrFf1K5z5g', 'https://www.youtube.com/watch?v=6Z_rNS_Eqd4', 'https://www.youtube.com/watch?v=aKJUaPwk4as', 'https://www.youtube.com/watch?v=EBRcOm5IpF0', 'https://www.youtube.com/watch?v=b2oVLhKi8zg', 'https://www.youtube.com/watch?v=RZQnjPOGbbE', 'https://www.youtube.com/watch?v=4fW9CSm4UEg', 'https://www.youtube.com/watch?v=l6T9ApuSIl0', 'https://www.youtube.com/watch?v=OGS_Vawof4Q', 'https://www.youtube.com/watch?v=tz_NFTyAhMY', 'https://www.youtube.com/watch?v=TWZL_cph8XY', 'https://www.youtube.com/watch?v=RSJgvQgilrQ', 'https://www.youtube.com/watch?v=_UgNUxn4z9k', 'https://www.youtube.com/watch?v=Yy8W9q2jDSM', 'https://www.youtube.com/watch?v=1GpRGsrFFZ8', 'https://www.youtube.com/watch?v=MPlx_vamxnU', 'https://www.youtube.com/watch?v=R8AUGJX5oms', 'https://www.youtube.com/watch?v=OgtUbSESSuo', 'https://www.youtube.com/watch?v=0facsk1RE1U', 'https://www.youtube.com/watch?v=8od5g4bx3BA', 'https://www.youtube.com/watch?v=TPUdrmQZBaQ', 'https://www.youtube.com/watch?v=Kh4H1F3UazQ', 'https://www.youtube.com/watch?v=EgYi14jYQ88', 'https://www.youtube.com/watch?v=NtSr9dZayT4', 'https://www.youtube.com/watch?v=rJsBfp7NhPM', 'https://www.youtube.com/watch?v=yxkAddQf__I', 'https://www.youtube.com/watch?v=A0Ax_lAIYqU', 'https://www.youtube.com/watch?v=Gu_9Gz7PsbE', 'https://www.youtube.com/watch?v=bEOkHr3dBcE', 'https://www.youtube.com/watch?v=VsC4O_gMDi0']\n",
      "English with Jennifer\n"
     ]
    },
    {
     "name": "stderr",
     "output_type": "stream",
     "text": [
      "c:\\Users\\T14Gen1\\Documents\\Lib\\site-packages\\urllib3\\connectionpool.py:1099: InsecureRequestWarning: Unverified HTTPS request is being made to host 'api.scraperapi.com'. Adding certificate verification is strongly advised. See: https://urllib3.readthedocs.io/en/latest/advanced-usage.html#tls-warnings\n",
      "  warnings.warn(\n"
     ]
    },
    {
     "name": "stdout",
     "output_type": "stream",
     "text": [
      "shorts_urls for English with Jennifer:  ['https://www.youtube.com/watch?v=R9sj3hBK2iw', 'https://www.youtube.com/watch?v=I90ot2DZ7Aw', 'https://www.youtube.com/watch?v=QfcRkJKDVbY', 'https://www.youtube.com/watch?v=mdZsfE7wjVg', 'https://www.youtube.com/watch?v=ylWI8PaZoJU', 'https://www.youtube.com/watch?v=7L3CTSU7MqU', 'https://www.youtube.com/watch?v=WMGsWsgRWWU', 'https://www.youtube.com/watch?v=OBCnfiDJLu4', 'https://www.youtube.com/watch?v=HbbT7FEBQHw', 'https://www.youtube.com/watch?v=c_eNJlKxm1U', 'https://www.youtube.com/watch?v=voy4jIVaaec', 'https://www.youtube.com/watch?v=HNaIXQ_qmrg', 'https://www.youtube.com/watch?v=ie8ETMzpV34', 'https://www.youtube.com/watch?v=U_4nhcvwRko', 'https://www.youtube.com/watch?v=sYB4lnx6ZOE', 'https://www.youtube.com/watch?v=0IWF8fC4cg8', 'https://www.youtube.com/watch?v=NTjvgAZNEMQ', 'https://www.youtube.com/watch?v=h08uI5GHdvg', 'https://www.youtube.com/watch?v=tLL7A6snxWA', 'https://www.youtube.com/watch?v=oUyCX9jQ_Mc', 'https://www.youtube.com/watch?v=PJWaGhC328U', 'https://www.youtube.com/watch?v=cmQ3OvUWseA', 'https://www.youtube.com/watch?v=wNQfAusAuz4', 'https://www.youtube.com/watch?v=jeZHcYkrSCk', 'https://www.youtube.com/watch?v=NLr4OqK445E', 'https://www.youtube.com/watch?v=DdUkMSUCIsA', 'https://www.youtube.com/watch?v=24g5nckRPxw', 'https://www.youtube.com/watch?v=vrAklNSORYo', 'https://www.youtube.com/watch?v=YV2Noj2MpME', 'https://www.youtube.com/watch?v=i2ic_QMKwyE', 'https://www.youtube.com/watch?v=DRPTPDx0G8w', 'https://www.youtube.com/watch?v=xGwR8KhmDc4', 'https://www.youtube.com/watch?v=mlZsMunOkRo', 'https://www.youtube.com/watch?v=BiDF4ZXj_as', 'https://www.youtube.com/watch?v=T4puyksJv8o', 'https://www.youtube.com/watch?v=iCO2FJLYjsI', 'https://www.youtube.com/watch?v=g8IhgFXl3bw', 'https://www.youtube.com/watch?v=q1xDKfwA7B0', 'https://www.youtube.com/watch?v=xEDigbiJaIE', 'https://www.youtube.com/watch?v=YMi38OGxktc']\n",
      "Web Inglés\n"
     ]
    },
    {
     "name": "stderr",
     "output_type": "stream",
     "text": [
      "c:\\Users\\T14Gen1\\Documents\\Lib\\site-packages\\urllib3\\connectionpool.py:1099: InsecureRequestWarning: Unverified HTTPS request is being made to host 'api.scraperapi.com'. Adding certificate verification is strongly advised. See: https://urllib3.readthedocs.io/en/latest/advanced-usage.html#tls-warnings\n",
      "  warnings.warn(\n"
     ]
    },
    {
     "name": "stdout",
     "output_type": "stream",
     "text": [
      "shorts_urls for Web Inglés:  ['https://www.youtube.com/watch?v=iOPYuI2dLc0', 'https://www.youtube.com/watch?v=yxLqz0ZpMNw', 'https://www.youtube.com/watch?v=bYa3wL2kA98']\n",
      "AoC Network\n"
     ]
    },
    {
     "name": "stderr",
     "output_type": "stream",
     "text": [
      "c:\\Users\\T14Gen1\\Documents\\Lib\\site-packages\\urllib3\\connectionpool.py:1099: InsecureRequestWarning: Unverified HTTPS request is being made to host 'api.scraperapi.com'. Adding certificate verification is strongly advised. See: https://urllib3.readthedocs.io/en/latest/advanced-usage.html#tls-warnings\n",
      "  warnings.warn(\n"
     ]
    },
    {
     "name": "stdout",
     "output_type": "stream",
     "text": [
      "shorts_urls for AoC Network:  []\n",
      "ALIF FUN TIME\n"
     ]
    },
    {
     "name": "stderr",
     "output_type": "stream",
     "text": [
      "c:\\Users\\T14Gen1\\Documents\\Lib\\site-packages\\urllib3\\connectionpool.py:1099: InsecureRequestWarning: Unverified HTTPS request is being made to host 'api.scraperapi.com'. Adding certificate verification is strongly advised. See: https://urllib3.readthedocs.io/en/latest/advanced-usage.html#tls-warnings\n",
      "  warnings.warn(\n"
     ]
    },
    {
     "name": "stdout",
     "output_type": "stream",
     "text": [
      "shorts_urls for ALIF FUN TIME:  ['https://www.youtube.com/watch?v=0BayG0c4DmA', 'https://www.youtube.com/watch?v=xM8WdQiOjnM', 'https://www.youtube.com/watch?v=MMml0HGLR1Y', 'https://www.youtube.com/watch?v=2WLfSGGxkE0', 'https://www.youtube.com/watch?v=f3RURLtIQn0', 'https://www.youtube.com/watch?v=P1O7M8Qfe7E', 'https://www.youtube.com/watch?v=rDqgJJlkRY4', 'https://www.youtube.com/watch?v=44wWAluBMU0', 'https://www.youtube.com/watch?v=1NEEMnoYir8', 'https://www.youtube.com/watch?v=_t68dVO6_Ds', 'https://www.youtube.com/watch?v=weM7a13w8Q0', 'https://www.youtube.com/watch?v=9AMERY_Wm0Y', 'https://www.youtube.com/watch?v=IZQ91qyh_9s', 'https://www.youtube.com/watch?v=WLspuG8luhk', 'https://www.youtube.com/watch?v=lWZPTuQUfNM', 'https://www.youtube.com/watch?v=qRUujaEc5uA', 'https://www.youtube.com/watch?v=j4GHclZdVwY', 'https://www.youtube.com/watch?v=8FgeLSRSWRQ', 'https://www.youtube.com/watch?v=7IoQXmw74Lw', 'https://www.youtube.com/watch?v=0yMlgN3Dz3U', 'https://www.youtube.com/watch?v=cEFC7msRK1U', 'https://www.youtube.com/watch?v=SydJTXALEWY', 'https://www.youtube.com/watch?v=CoowfPddMpw', 'https://www.youtube.com/watch?v=k1Ldph3R2AM', 'https://www.youtube.com/watch?v=YXAkzFWr26M', 'https://www.youtube.com/watch?v=DY9X6N9uJes', 'https://www.youtube.com/watch?v=DCJFgaUPT1Q', 'https://www.youtube.com/watch?v=YJOVgcf7hY8', 'https://www.youtube.com/watch?v=LAdzrtoONbU', 'https://www.youtube.com/watch?v=134jNX6_378', 'https://www.youtube.com/watch?v=REFWOzYKzUM', 'https://www.youtube.com/watch?v=dMnEW4zd0xI', 'https://www.youtube.com/watch?v=YAaXKGEdLtw', 'https://www.youtube.com/watch?v=Y0DIZj8Qiu0', 'https://www.youtube.com/watch?v=xVmZhLSCyeE', 'https://www.youtube.com/watch?v=GEVrt9Sy0x8', 'https://www.youtube.com/watch?v=3_o46w0op44', 'https://www.youtube.com/watch?v=mN8vzKDV4zo', 'https://www.youtube.com/watch?v=tEsP9SRpSeU', 'https://www.youtube.com/watch?v=6ly53EMgaek', 'https://www.youtube.com/watch?v=5w8RG7JjODE', 'https://www.youtube.com/watch?v=a5Ow5my87U0', 'https://www.youtube.com/watch?v=Z73EQHfxtWI', 'https://www.youtube.com/watch?v=c5bZcpWBisA', 'https://www.youtube.com/watch?v=GlV0PCAUp5c']\n",
      "Genetically Modified Skeptic\n"
     ]
    },
    {
     "name": "stderr",
     "output_type": "stream",
     "text": [
      "c:\\Users\\T14Gen1\\Documents\\Lib\\site-packages\\urllib3\\connectionpool.py:1099: InsecureRequestWarning: Unverified HTTPS request is being made to host 'api.scraperapi.com'. Adding certificate verification is strongly advised. See: https://urllib3.readthedocs.io/en/latest/advanced-usage.html#tls-warnings\n",
      "  warnings.warn(\n"
     ]
    },
    {
     "name": "stdout",
     "output_type": "stream",
     "text": [
      "shorts_urls for Genetically Modified Skeptic:  ['https://www.youtube.com/watch?v=IzQDQrpPZ38', 'https://www.youtube.com/watch?v=VXNgLpo_Ig0', 'https://www.youtube.com/watch?v=12ZbieyImPs', 'https://www.youtube.com/watch?v=hLBMTwJo1zQ', 'https://www.youtube.com/watch?v=jIfV1mKWQzY', 'https://www.youtube.com/watch?v=eZYdVU7NJvs', 'https://www.youtube.com/watch?v=OAlVVmQBCS0', 'https://www.youtube.com/watch?v=X3bA5t3E3RE', 'https://www.youtube.com/watch?v=Ilt7xwIaTFQ', 'https://www.youtube.com/watch?v=egX2fYNAiGc', 'https://www.youtube.com/watch?v=BtQf5XU3fLU', 'https://www.youtube.com/watch?v=Ew_gBgLlVvs', 'https://www.youtube.com/watch?v=jFdgYsth32o', 'https://www.youtube.com/watch?v=kFmQ31j_blM', 'https://www.youtube.com/watch?v=aTLOUoUB08A']\n",
      "RvRR\n"
     ]
    },
    {
     "name": "stderr",
     "output_type": "stream",
     "text": [
      "c:\\Users\\T14Gen1\\Documents\\Lib\\site-packages\\urllib3\\connectionpool.py:1099: InsecureRequestWarning: Unverified HTTPS request is being made to host 'api.scraperapi.com'. Adding certificate verification is strongly advised. See: https://urllib3.readthedocs.io/en/latest/advanced-usage.html#tls-warnings\n",
      "  warnings.warn(\n"
     ]
    },
    {
     "name": "stdout",
     "output_type": "stream",
     "text": [
      "shorts_urls for RvRR:  []\n",
      "LinkedIn Learning\n"
     ]
    },
    {
     "name": "stderr",
     "output_type": "stream",
     "text": [
      "c:\\Users\\T14Gen1\\Documents\\Lib\\site-packages\\urllib3\\connectionpool.py:1099: InsecureRequestWarning: Unverified HTTPS request is being made to host 'api.scraperapi.com'. Adding certificate verification is strongly advised. See: https://urllib3.readthedocs.io/en/latest/advanced-usage.html#tls-warnings\n",
      "  warnings.warn(\n"
     ]
    },
    {
     "name": "stdout",
     "output_type": "stream",
     "text": [
      "shorts_urls for LinkedIn Learning:  ['https://www.youtube.com/watch?v=tcyb9Qs3638', 'https://www.youtube.com/watch?v=n5ElmHwkGNY', 'https://www.youtube.com/watch?v=fO6zSmtxmyo', 'https://www.youtube.com/watch?v=alJPd0N0p_A', 'https://www.youtube.com/watch?v=FHF_izgUMIg', 'https://www.youtube.com/watch?v=hUh058LL2WE', 'https://www.youtube.com/watch?v=p842Z9QZx7E', 'https://www.youtube.com/watch?v=zsHO9aYpCnw', 'https://www.youtube.com/watch?v=skfpeV3U1zA', 'https://www.youtube.com/watch?v=cS_wYPc4IJk', 'https://www.youtube.com/watch?v=uHLPILyF0A0', 'https://www.youtube.com/watch?v=Vkl88c7vqnE', 'https://www.youtube.com/watch?v=XMY04gDzrZQ', 'https://www.youtube.com/watch?v=KUs8xHvGb6Y', 'https://www.youtube.com/watch?v=UNHl4fPQxME', 'https://www.youtube.com/watch?v=bP_EMWFPyWM', 'https://www.youtube.com/watch?v=2EiGo73YNyo', 'https://www.youtube.com/watch?v=EFdhWEAHHS4', 'https://www.youtube.com/watch?v=7wQ95HWpedM', 'https://www.youtube.com/watch?v=1tGMxwQSgao', 'https://www.youtube.com/watch?v=lrUDgWau2OY', 'https://www.youtube.com/watch?v=xF1sKZMFehw', 'https://www.youtube.com/watch?v=sa8uLcsJisQ', 'https://www.youtube.com/watch?v=0AOhFJYm_XQ', 'https://www.youtube.com/watch?v=oHrT8h5rD1E', 'https://www.youtube.com/watch?v=bCjm3epSGKk', 'https://www.youtube.com/watch?v=WZcyYJIsy6I', 'https://www.youtube.com/watch?v=4skyuqgXxHQ', 'https://www.youtube.com/watch?v=tkzlWoqUpG0', 'https://www.youtube.com/watch?v=dcGwnNLiVOM', 'https://www.youtube.com/watch?v=5VxO3TH3SG8']\n",
      "Exam Preparation\n"
     ]
    },
    {
     "name": "stderr",
     "output_type": "stream",
     "text": [
      "c:\\Users\\T14Gen1\\Documents\\Lib\\site-packages\\urllib3\\connectionpool.py:1099: InsecureRequestWarning: Unverified HTTPS request is being made to host 'api.scraperapi.com'. Adding certificate verification is strongly advised. See: https://urllib3.readthedocs.io/en/latest/advanced-usage.html#tls-warnings\n",
      "  warnings.warn(\n"
     ]
    },
    {
     "name": "stdout",
     "output_type": "stream",
     "text": [
      "shorts_urls for Exam Preparation:  ['https://www.youtube.com/watch?v=es4rnY2rFis', 'https://www.youtube.com/watch?v=BrcoFzq96zs', 'https://www.youtube.com/watch?v=w2vjt35_Gg4', 'https://www.youtube.com/watch?v=oqIFEVNHIXQ', 'https://www.youtube.com/watch?v=k85YpNk_tvM']\n",
      "Matt Granger\n"
     ]
    },
    {
     "name": "stderr",
     "output_type": "stream",
     "text": [
      "c:\\Users\\T14Gen1\\Documents\\Lib\\site-packages\\urllib3\\connectionpool.py:1099: InsecureRequestWarning: Unverified HTTPS request is being made to host 'api.scraperapi.com'. Adding certificate verification is strongly advised. See: https://urllib3.readthedocs.io/en/latest/advanced-usage.html#tls-warnings\n",
      "  warnings.warn(\n"
     ]
    },
    {
     "name": "stdout",
     "output_type": "stream",
     "text": [
      "shorts_urls for Matt Granger:  ['https://www.youtube.com/watch?v=CWtfHDx2FiY', 'https://www.youtube.com/watch?v=pxtMBv9ImhU', 'https://www.youtube.com/watch?v=gE07oJVZI0c', 'https://www.youtube.com/watch?v=csmME6A6BI0', 'https://www.youtube.com/watch?v=AEdpLVxtyWc', 'https://www.youtube.com/watch?v=4dzqMx9iPTk', 'https://www.youtube.com/watch?v=1uaDvx_UqPc', 'https://www.youtube.com/watch?v=nrN_ze1HPEI', 'https://www.youtube.com/watch?v=SoDgLfmAJ88', 'https://www.youtube.com/watch?v=FoNwAN5ZSmk', 'https://www.youtube.com/watch?v=tDWAhQPvaYs', 'https://www.youtube.com/watch?v=Pnznwz9Qf08', 'https://www.youtube.com/watch?v=mE36pGr1lkA', 'https://www.youtube.com/watch?v=fz0Rnbpda40', 'https://www.youtube.com/watch?v=09oKxYAOSLc', 'https://www.youtube.com/watch?v=aJi1V529LsQ', 'https://www.youtube.com/watch?v=AvZUfJ5Igdg', 'https://www.youtube.com/watch?v=ELE90Sw3u3g', 'https://www.youtube.com/watch?v=cukcIWeTRc0', 'https://www.youtube.com/watch?v=jStOKn6sWQ0', 'https://www.youtube.com/watch?v=5wRHGP1WRSU', 'https://www.youtube.com/watch?v=OupC8vjb6jo', 'https://www.youtube.com/watch?v=0EmPOBobkAk', 'https://www.youtube.com/watch?v=fH8eATTLkuk', 'https://www.youtube.com/watch?v=2eoyXPaRZVs', 'https://www.youtube.com/watch?v=dIW5Rpi0fw0', 'https://www.youtube.com/watch?v=IVKt5RChrKA', 'https://www.youtube.com/watch?v=isLxidvUjlU', 'https://www.youtube.com/watch?v=9SGvqrpBSGI', 'https://www.youtube.com/watch?v=fj9AMU0GZJU', 'https://www.youtube.com/watch?v=iscUHoVhga0', 'https://www.youtube.com/watch?v=jox1uYipNgU']\n",
      "Fine Art-Tips\n"
     ]
    },
    {
     "name": "stderr",
     "output_type": "stream",
     "text": [
      "c:\\Users\\T14Gen1\\Documents\\Lib\\site-packages\\urllib3\\connectionpool.py:1099: InsecureRequestWarning: Unverified HTTPS request is being made to host 'api.scraperapi.com'. Adding certificate verification is strongly advised. See: https://urllib3.readthedocs.io/en/latest/advanced-usage.html#tls-warnings\n",
      "  warnings.warn(\n"
     ]
    },
    {
     "name": "stdout",
     "output_type": "stream",
     "text": [
      "shorts_urls for Fine Art-Tips:  ['https://www.youtube.com/watch?v=LqGq8OLIX1Y', 'https://www.youtube.com/watch?v=YXnbtoiGeDY', 'https://www.youtube.com/watch?v=3wxe_Pk9q80']\n",
      "Ben Eater\n"
     ]
    },
    {
     "name": "stderr",
     "output_type": "stream",
     "text": [
      "c:\\Users\\T14Gen1\\Documents\\Lib\\site-packages\\urllib3\\connectionpool.py:1099: InsecureRequestWarning: Unverified HTTPS request is being made to host 'api.scraperapi.com'. Adding certificate verification is strongly advised. See: https://urllib3.readthedocs.io/en/latest/advanced-usage.html#tls-warnings\n",
      "  warnings.warn(\n"
     ]
    },
    {
     "name": "stdout",
     "output_type": "stream",
     "text": [
      "shorts_urls for Ben Eater:  []\n",
      "El Torito\n"
     ]
    },
    {
     "name": "stderr",
     "output_type": "stream",
     "text": [
      "c:\\Users\\T14Gen1\\Documents\\Lib\\site-packages\\urllib3\\connectionpool.py:1099: InsecureRequestWarning: Unverified HTTPS request is being made to host 'api.scraperapi.com'. Adding certificate verification is strongly advised. See: https://urllib3.readthedocs.io/en/latest/advanced-usage.html#tls-warnings\n",
      "  warnings.warn(\n"
     ]
    },
    {
     "name": "stdout",
     "output_type": "stream",
     "text": [
      "shorts_urls for El Torito:  ['https://www.youtube.com/watch?v=XyVxii6Z6us', 'https://www.youtube.com/watch?v=DPRa9y1Zyu4', 'https://www.youtube.com/watch?v=GymzrcrEl3E', 'https://www.youtube.com/watch?v=oJ6Qr__QVFE', 'https://www.youtube.com/watch?v=PKl_nPRUftI', 'https://www.youtube.com/watch?v=QYEJKNzBYwY', 'https://www.youtube.com/watch?v=9riU5XRXfIk', 'https://www.youtube.com/watch?v=xhiMNWAtYSM', 'https://www.youtube.com/watch?v=36TEvxW8jv8', 'https://www.youtube.com/watch?v=f7thlkqfnEI', 'https://www.youtube.com/watch?v=u47X4hiVJu8', 'https://www.youtube.com/watch?v=MAjPIXKvZ0A', 'https://www.youtube.com/watch?v=hM6rz3SAfjs', 'https://www.youtube.com/watch?v=l7Rm_Ecqnj8', 'https://www.youtube.com/watch?v=dZFCGGRsY0A', 'https://www.youtube.com/watch?v=8FMq6BC5hrA', 'https://www.youtube.com/watch?v=Ps1OUsjlolQ', 'https://www.youtube.com/watch?v=ldaumzECzY0', 'https://www.youtube.com/watch?v=N7__5OSnL0I', 'https://www.youtube.com/watch?v=FCg3qjkH7L8', 'https://www.youtube.com/watch?v=ATUzQAG3ARw', 'https://www.youtube.com/watch?v=8AsXheeNJqk', 'https://www.youtube.com/watch?v=_XeMKnF9wAs', 'https://www.youtube.com/watch?v=izEMO_LkQak', 'https://www.youtube.com/watch?v=AnPFQAGLq5A', 'https://www.youtube.com/watch?v=S1wOm4GI1Fc', 'https://www.youtube.com/watch?v=CHjsxPV0b4s', 'https://www.youtube.com/watch?v=d64Keh8p0X4', 'https://www.youtube.com/watch?v=8hWW1LvGb_c', 'https://www.youtube.com/watch?v=OW1fsMz3VoQ']\n",
      "BoredParacord\n"
     ]
    },
    {
     "name": "stderr",
     "output_type": "stream",
     "text": [
      "c:\\Users\\T14Gen1\\Documents\\Lib\\site-packages\\urllib3\\connectionpool.py:1099: InsecureRequestWarning: Unverified HTTPS request is being made to host 'api.scraperapi.com'. Adding certificate verification is strongly advised. See: https://urllib3.readthedocs.io/en/latest/advanced-usage.html#tls-warnings\n",
      "  warnings.warn(\n"
     ]
    },
    {
     "name": "stdout",
     "output_type": "stream",
     "text": [
      "shorts_urls for BoredParacord:  []\n",
      "Drum Beats Online\n"
     ]
    },
    {
     "name": "stderr",
     "output_type": "stream",
     "text": [
      "c:\\Users\\T14Gen1\\Documents\\Lib\\site-packages\\urllib3\\connectionpool.py:1099: InsecureRequestWarning: Unverified HTTPS request is being made to host 'api.scraperapi.com'. Adding certificate verification is strongly advised. See: https://urllib3.readthedocs.io/en/latest/advanced-usage.html#tls-warnings\n",
      "  warnings.warn(\n"
     ]
    },
    {
     "name": "stdout",
     "output_type": "stream",
     "text": [
      "shorts_urls for Drum Beats Online:  ['https://www.youtube.com/watch?v=5EQArCVZJEc', 'https://www.youtube.com/watch?v=xOlkrRcKNqg', 'https://www.youtube.com/watch?v=2Wk6nYu0Y8g', 'https://www.youtube.com/watch?v=lrFyZHD5mX4', 'https://www.youtube.com/watch?v=bSTZmgO2BWI', 'https://www.youtube.com/watch?v=J2OgHbdjtEo', 'https://www.youtube.com/watch?v=Di2H2J6PpNs', 'https://www.youtube.com/watch?v=2rmk4MJfqFw', 'https://www.youtube.com/watch?v=pZnUxoj0z0k', 'https://www.youtube.com/watch?v=HSbUtebXtiA', 'https://www.youtube.com/watch?v=9AJZvL0aUbc', 'https://www.youtube.com/watch?v=MEqSq8IS3yA', 'https://www.youtube.com/watch?v=NEhXDvzDviI', 'https://www.youtube.com/watch?v=ChvBJgWqATE', 'https://www.youtube.com/watch?v=PS9rnwC9rdA', 'https://www.youtube.com/watch?v=78fh0uUCCKA', 'https://www.youtube.com/watch?v=sV0HafthIAw', 'https://www.youtube.com/watch?v=VXjggUT4t5Y', 'https://www.youtube.com/watch?v=jc8vJL3Rlf8', 'https://www.youtube.com/watch?v=nXfIMY90EbM', 'https://www.youtube.com/watch?v=E2gTFLE9j0M', 'https://www.youtube.com/watch?v=8qCYmgzH6AE', 'https://www.youtube.com/watch?v=QJn8azsBwlE', 'https://www.youtube.com/watch?v=cCphIB4MScw', 'https://www.youtube.com/watch?v=a8aDyuB2GRs', 'https://www.youtube.com/watch?v=0QSn5fEQkpk', 'https://www.youtube.com/watch?v=V8teYeT0n0E', 'https://www.youtube.com/watch?v=0zzsE0glNdw', 'https://www.youtube.com/watch?v=XWdtK3Qak4o', 'https://www.youtube.com/watch?v=JkzeCpU_2Oc', 'https://www.youtube.com/watch?v=1rnYBfjbrzs', 'https://www.youtube.com/watch?v=I4Wk978MMbY', 'https://www.youtube.com/watch?v=CoUW9NRGobI', 'https://www.youtube.com/watch?v=R11K_CaadVw', 'https://www.youtube.com/watch?v=q6WjWavlf2w', 'https://www.youtube.com/watch?v=5M2WGq6jWtU', 'https://www.youtube.com/watch?v=nnkD5yhL69M', 'https://www.youtube.com/watch?v=imW6mDjl5dI', 'https://www.youtube.com/watch?v=x3xf_V5RcGI', 'https://www.youtube.com/watch?v=IJfxalwwg8I']\n",
      "CNN 10\n"
     ]
    },
    {
     "name": "stderr",
     "output_type": "stream",
     "text": [
      "c:\\Users\\T14Gen1\\Documents\\Lib\\site-packages\\urllib3\\connectionpool.py:1099: InsecureRequestWarning: Unverified HTTPS request is being made to host 'api.scraperapi.com'. Adding certificate verification is strongly advised. See: https://urllib3.readthedocs.io/en/latest/advanced-usage.html#tls-warnings\n",
      "  warnings.warn(\n"
     ]
    },
    {
     "name": "stdout",
     "output_type": "stream",
     "text": [
      "shorts_urls for CNN 10:  ['https://www.youtube.com/watch?v=XCZ7JIC7hRw', 'https://www.youtube.com/watch?v=lNQ_8cr7Vis', 'https://www.youtube.com/watch?v=gBDiVAlg7Ko', 'https://www.youtube.com/watch?v=38sE09lj0dA', 'https://www.youtube.com/watch?v=GvBbhT3DxUM', 'https://www.youtube.com/watch?v=JWypPg2PARg', 'https://www.youtube.com/watch?v=QbNTkGcz3E4', 'https://www.youtube.com/watch?v=PzA7yWOGAPU', 'https://www.youtube.com/watch?v=iivXKxnttZs', 'https://www.youtube.com/watch?v=WUXAofoiAHM', 'https://www.youtube.com/watch?v=1m7hnqrXQlQ', 'https://www.youtube.com/watch?v=VfJXOZ_WN_Y', 'https://www.youtube.com/watch?v=HDq7g3aSegA', 'https://www.youtube.com/watch?v=OprPv_5Rpus', 'https://www.youtube.com/watch?v=P7cLdcMUU6g', 'https://www.youtube.com/watch?v=z3BxSqDfnH0', 'https://www.youtube.com/watch?v=kSP4sUd_5ro', 'https://www.youtube.com/watch?v=yD25H95hUq4', 'https://www.youtube.com/watch?v=sNseC22pOAM', 'https://www.youtube.com/watch?v=wwB83RXsRUY', 'https://www.youtube.com/watch?v=Re56MXpwBHI', 'https://www.youtube.com/watch?v=hHMibfH09Rg', 'https://www.youtube.com/watch?v=9MhmQpNK8o4', 'https://www.youtube.com/watch?v=bT9jNXE3SnU', 'https://www.youtube.com/watch?v=ss4hROCMDRI', 'https://www.youtube.com/watch?v=hfWzsIoWYlU', 'https://www.youtube.com/watch?v=yJzPGsaYjBk', 'https://www.youtube.com/watch?v=8upgD2uxAn0', 'https://www.youtube.com/watch?v=EhmB1SL6xdY', 'https://www.youtube.com/watch?v=DOnAPfXLPJ8', 'https://www.youtube.com/watch?v=DyYUKt3ji8I', 'https://www.youtube.com/watch?v=HFqAyDknaOo', 'https://www.youtube.com/watch?v=lt0vwMnMCy4', 'https://www.youtube.com/watch?v=jbuYTty6J5Y', 'https://www.youtube.com/watch?v=EO4wHj5ceYg', 'https://www.youtube.com/watch?v=hTSFba2gTwM', 'https://www.youtube.com/watch?v=_rdM5jmPsYw']\n",
      "Electrician U\n"
     ]
    },
    {
     "name": "stderr",
     "output_type": "stream",
     "text": [
      "c:\\Users\\T14Gen1\\Documents\\Lib\\site-packages\\urllib3\\connectionpool.py:1099: InsecureRequestWarning: Unverified HTTPS request is being made to host 'api.scraperapi.com'. Adding certificate verification is strongly advised. See: https://urllib3.readthedocs.io/en/latest/advanced-usage.html#tls-warnings\n",
      "  warnings.warn(\n"
     ]
    },
    {
     "name": "stdout",
     "output_type": "stream",
     "text": [
      "shorts_urls for Electrician U:  ['https://www.youtube.com/watch?v=_4va7nz5K2A', 'https://www.youtube.com/watch?v=r7SUl26MMC0', 'https://www.youtube.com/watch?v=CqUKCTusqyw', 'https://www.youtube.com/watch?v=cWgWGKjMwdg', 'https://www.youtube.com/watch?v=RCw3MSbRweM', 'https://www.youtube.com/watch?v=KmGlmkwiGhQ', 'https://www.youtube.com/watch?v=Ahdrbar5UXQ', 'https://www.youtube.com/watch?v=zYQA2skA1Jg', 'https://www.youtube.com/watch?v=enVreWi6JGw', 'https://www.youtube.com/watch?v=j8W1Y8M8t_8', 'https://www.youtube.com/watch?v=yDJFxT9mbxM', 'https://www.youtube.com/watch?v=EekW43mtR8U', 'https://www.youtube.com/watch?v=GsaVqyxgpbI', 'https://www.youtube.com/watch?v=Vo_z_zs_chA', 'https://www.youtube.com/watch?v=NWLdIAxrSos', 'https://www.youtube.com/watch?v=L0PgJdtg5AU', 'https://www.youtube.com/watch?v=WiGJboCBlpw', 'https://www.youtube.com/watch?v=H2prtp3ZC1g', 'https://www.youtube.com/watch?v=O0qOmoQLYn4', 'https://www.youtube.com/watch?v=t_siZCIqpCg', 'https://www.youtube.com/watch?v=4iajmKnCLHE', 'https://www.youtube.com/watch?v=Lul98_4mlQA', 'https://www.youtube.com/watch?v=HUnp7CNypFM', 'https://www.youtube.com/watch?v=sUpd2iv_M68', 'https://www.youtube.com/watch?v=gZTPYDxblEo', 'https://www.youtube.com/watch?v=Sh19BQ6soSQ', 'https://www.youtube.com/watch?v=c3Da5VUxJjg', 'https://www.youtube.com/watch?v=n9gfH2cI5pM', 'https://www.youtube.com/watch?v=ezBtq3Th86I', 'https://www.youtube.com/watch?v=PapVbSye5SQ', 'https://www.youtube.com/watch?v=AFlL7cPT0eM', 'https://www.youtube.com/watch?v=d4d0wEP33G8', 'https://www.youtube.com/watch?v=QgMgQ1z0qyY', 'https://www.youtube.com/watch?v=XQq3gdlEdvk', 'https://www.youtube.com/watch?v=gg3tAqYic7Y', 'https://www.youtube.com/watch?v=9VcjRPDmTXA', 'https://www.youtube.com/watch?v=t_apRm4FPGQ', 'https://www.youtube.com/watch?v=kS_R89kv0Vs', 'https://www.youtube.com/watch?v=kGTB4dW5FwM', 'https://www.youtube.com/watch?v=j2ninGttrLU', 'https://www.youtube.com/watch?v=u7qgJIvHHZo', 'https://www.youtube.com/watch?v=iYF43SuZdAk', 'https://www.youtube.com/watch?v=7EYFgnKc6IA', 'https://www.youtube.com/watch?v=sjD58Be6Nc0']\n",
      "CleverMind\n"
     ]
    },
    {
     "name": "stderr",
     "output_type": "stream",
     "text": [
      "c:\\Users\\T14Gen1\\Documents\\Lib\\site-packages\\urllib3\\connectionpool.py:1099: InsecureRequestWarning: Unverified HTTPS request is being made to host 'api.scraperapi.com'. Adding certificate verification is strongly advised. See: https://urllib3.readthedocs.io/en/latest/advanced-usage.html#tls-warnings\n",
      "  warnings.warn(\n"
     ]
    },
    {
     "name": "stdout",
     "output_type": "stream",
     "text": [
      "shorts_urls for CleverMind:  []\n",
      "Jeven Dovey\n"
     ]
    },
    {
     "name": "stderr",
     "output_type": "stream",
     "text": [
      "c:\\Users\\T14Gen1\\Documents\\Lib\\site-packages\\urllib3\\connectionpool.py:1099: InsecureRequestWarning: Unverified HTTPS request is being made to host 'api.scraperapi.com'. Adding certificate verification is strongly advised. See: https://urllib3.readthedocs.io/en/latest/advanced-usage.html#tls-warnings\n",
      "  warnings.warn(\n"
     ]
    },
    {
     "name": "stdout",
     "output_type": "stream",
     "text": [
      "shorts_urls for Jeven Dovey:  ['https://www.youtube.com/watch?v=LfoFaSl_ey0', 'https://www.youtube.com/watch?v=KyEZBgxXrRY', 'https://www.youtube.com/watch?v=u5tgGxuT5nk', 'https://www.youtube.com/watch?v=M_2dlwg_WYc', 'https://www.youtube.com/watch?v=Uy8wmbLRfPw', 'https://www.youtube.com/watch?v=1UJZ_DrV26s', 'https://www.youtube.com/watch?v=RySM_aCtY2A', 'https://www.youtube.com/watch?v=z9UbfJQUFFE', 'https://www.youtube.com/watch?v=a5lT3g_wewo', 'https://www.youtube.com/watch?v=bX2Q2Xc5fGE', 'https://www.youtube.com/watch?v=G0R489MRTGQ', 'https://www.youtube.com/watch?v=zMWOhoiNaN8', 'https://www.youtube.com/watch?v=Wjm_YUbfKg4', 'https://www.youtube.com/watch?v=sAhOH6qmMcE', 'https://www.youtube.com/watch?v=p3_M_mep1p4', 'https://www.youtube.com/watch?v=zSlMkY7CZGk', 'https://www.youtube.com/watch?v=rAd7s4SevMI', 'https://www.youtube.com/watch?v=43oc0dWD95Q', 'https://www.youtube.com/watch?v=zjQH4ps5NPU', 'https://www.youtube.com/watch?v=kyNzcLM7ewE', 'https://www.youtube.com/watch?v=sqtfVd69HG8', 'https://www.youtube.com/watch?v=_3VyIxleMBg', 'https://www.youtube.com/watch?v=iJJ2N5ikEMU', 'https://www.youtube.com/watch?v=CazdvVZf4jI', 'https://www.youtube.com/watch?v=4wsknQPDup0', 'https://www.youtube.com/watch?v=WCuSbx1KQZk', 'https://www.youtube.com/watch?v=HTpDwuX_Udg', 'https://www.youtube.com/watch?v=nwNK1_qS3RY', 'https://www.youtube.com/watch?v=ceZd4cEDyf8', 'https://www.youtube.com/watch?v=ST5XlZufxew', 'https://www.youtube.com/watch?v=PB5E7HIjLLU', 'https://www.youtube.com/watch?v=XTu9XQNKt_M', 'https://www.youtube.com/watch?v=UKCZIEYGZXw', 'https://www.youtube.com/watch?v=kSedKOSqaX8', 'https://www.youtube.com/watch?v=K87Qqi8Rxec', 'https://www.youtube.com/watch?v=82mpQy7mwzE', 'https://www.youtube.com/watch?v=RvhHdM76Odc', 'https://www.youtube.com/watch?v=WtdE8lC2ewk', 'https://www.youtube.com/watch?v=IXsHtF5McoQ', 'https://www.youtube.com/watch?v=3CAPfCitHxM', 'https://www.youtube.com/watch?v=MFCxdf0Ds8k', 'https://www.youtube.com/watch?v=MKlERUtuLzU']\n",
      "Pina, Salud, Belleza y Cocina\n"
     ]
    },
    {
     "name": "stderr",
     "output_type": "stream",
     "text": [
      "c:\\Users\\T14Gen1\\Documents\\Lib\\site-packages\\urllib3\\connectionpool.py:1099: InsecureRequestWarning: Unverified HTTPS request is being made to host 'api.scraperapi.com'. Adding certificate verification is strongly advised. See: https://urllib3.readthedocs.io/en/latest/advanced-usage.html#tls-warnings\n",
      "  warnings.warn(\n"
     ]
    },
    {
     "name": "stdout",
     "output_type": "stream",
     "text": [
      "shorts_urls for Pina, Salud, Belleza y Cocina:  ['https://www.youtube.com/watch?v=CiEmLH_YoPU', 'https://www.youtube.com/watch?v=KLrmxFW394c', 'https://www.youtube.com/watch?v=dKIH0W7LKc0', 'https://www.youtube.com/watch?v=LiTzTcKTcH8', 'https://www.youtube.com/watch?v=R3oz3qCDYjU', 'https://www.youtube.com/watch?v=jDnVEWT5aCs', 'https://www.youtube.com/watch?v=o66XziLgVOE', 'https://www.youtube.com/watch?v=MAxIQcxsmAA', 'https://www.youtube.com/watch?v=P_bIW2TWJyc']\n",
      "Spiritual Secrets\n"
     ]
    },
    {
     "name": "stderr",
     "output_type": "stream",
     "text": [
      "c:\\Users\\T14Gen1\\Documents\\Lib\\site-packages\\urllib3\\connectionpool.py:1099: InsecureRequestWarning: Unverified HTTPS request is being made to host 'api.scraperapi.com'. Adding certificate verification is strongly advised. See: https://urllib3.readthedocs.io/en/latest/advanced-usage.html#tls-warnings\n",
      "  warnings.warn(\n"
     ]
    },
    {
     "name": "stdout",
     "output_type": "stream",
     "text": [
      "shorts_urls for Spiritual Secrets:  ['https://www.youtube.com/watch?v=V88CB3aKdE0', 'https://www.youtube.com/watch?v=D9z_Juwtqgg', 'https://www.youtube.com/watch?v=MXvZb8nPtWw', 'https://www.youtube.com/watch?v=yVry3R7T0j8', 'https://www.youtube.com/watch?v=cZzeDD00gV0', 'https://www.youtube.com/watch?v=lEtxCjm210w', 'https://www.youtube.com/watch?v=iWi3ASrjeJ0', 'https://www.youtube.com/watch?v=nhRMCbIqTdc', 'https://www.youtube.com/watch?v=l7tI0goVQWE', 'https://www.youtube.com/watch?v=lvWsdpc5RrQ', 'https://www.youtube.com/watch?v=3AgecNd14_g', 'https://www.youtube.com/watch?v=PQZXhWYC0TI', 'https://www.youtube.com/watch?v=dRkNsKd4qqk', 'https://www.youtube.com/watch?v=eNS5EtB_0Gk', 'https://www.youtube.com/watch?v=7UkUNGRHLSQ', 'https://www.youtube.com/watch?v=rpPIOB0G5Z0', 'https://www.youtube.com/watch?v=dBhEv7oWHO8', 'https://www.youtube.com/watch?v=eHH2ZssovyI', 'https://www.youtube.com/watch?v=mwGFRIzpDe4', 'https://www.youtube.com/watch?v=iGXHhSjwk3o', 'https://www.youtube.com/watch?v=ETsmnwIWN2U', 'https://www.youtube.com/watch?v=Ovz3yclqJIU', 'https://www.youtube.com/watch?v=wdUIyCGcgUk', 'https://www.youtube.com/watch?v=6oPPfRKuA0E', 'https://www.youtube.com/watch?v=YBo2v4mEYl4', 'https://www.youtube.com/watch?v=JwvQZvuu8Sg', 'https://www.youtube.com/watch?v=On1CO3OAOlg', 'https://www.youtube.com/watch?v=BcICT52eans', 'https://www.youtube.com/watch?v=2dzxjhPY45Q', 'https://www.youtube.com/watch?v=aXFqk5awD6w', 'https://www.youtube.com/watch?v=vIgUqRl7Gzk', 'https://www.youtube.com/watch?v=9P2fTV4jGuQ', 'https://www.youtube.com/watch?v=5hWIhD0p7bE', 'https://www.youtube.com/watch?v=gmr8nGQmEF0', 'https://www.youtube.com/watch?v=RbbM1VCeQvg', 'https://www.youtube.com/watch?v=XGlnVdt7do8', 'https://www.youtube.com/watch?v=URGHfc933wI', 'https://www.youtube.com/watch?v=2UaGX3xxiFQ', 'https://www.youtube.com/watch?v=QVmwsKnxQZ4', 'https://www.youtube.com/watch?v=96bR6OLv0ag', 'https://www.youtube.com/watch?v=_PJJu4hufwA']\n",
      "Knowing Better\n"
     ]
    },
    {
     "name": "stderr",
     "output_type": "stream",
     "text": [
      "c:\\Users\\T14Gen1\\Documents\\Lib\\site-packages\\urllib3\\connectionpool.py:1099: InsecureRequestWarning: Unverified HTTPS request is being made to host 'api.scraperapi.com'. Adding certificate verification is strongly advised. See: https://urllib3.readthedocs.io/en/latest/advanced-usage.html#tls-warnings\n",
      "  warnings.warn(\n"
     ]
    },
    {
     "name": "stdout",
     "output_type": "stream",
     "text": [
      "shorts_urls for Knowing Better:  ['https://www.youtube.com/watch?v=YywTqkTQglU', 'https://www.youtube.com/watch?v=_V75fUlayts', 'https://www.youtube.com/watch?v=L5Qt6lkaGjo', 'https://www.youtube.com/watch?v=0u85pmknCvs']\n",
      "Asianometry\n"
     ]
    },
    {
     "name": "stderr",
     "output_type": "stream",
     "text": [
      "c:\\Users\\T14Gen1\\Documents\\Lib\\site-packages\\urllib3\\connectionpool.py:1099: InsecureRequestWarning: Unverified HTTPS request is being made to host 'api.scraperapi.com'. Adding certificate verification is strongly advised. See: https://urllib3.readthedocs.io/en/latest/advanced-usage.html#tls-warnings\n",
      "  warnings.warn(\n"
     ]
    },
    {
     "name": "stdout",
     "output_type": "stream",
     "text": [
      "shorts_urls for Asianometry:  ['https://www.youtube.com/watch?v=LLRJy1pK3dM', 'https://www.youtube.com/watch?v=mE332U9l0s0', 'https://www.youtube.com/watch?v=DyGBHOrx5_g', 'https://www.youtube.com/watch?v=0NX7AXlmj_Y', 'https://www.youtube.com/watch?v=83CUC5mmsnI', 'https://www.youtube.com/watch?v=Up_YLfbTbU4', 'https://www.youtube.com/watch?v=rHtJTh6pXYA', 'https://www.youtube.com/watch?v=udL7Ke3kF8A', 'https://www.youtube.com/watch?v=lESJ83NmCYE']\n",
      "MariAndColors\n"
     ]
    },
    {
     "name": "stderr",
     "output_type": "stream",
     "text": [
      "c:\\Users\\T14Gen1\\Documents\\Lib\\site-packages\\urllib3\\connectionpool.py:1099: InsecureRequestWarning: Unverified HTTPS request is being made to host 'api.scraperapi.com'. Adding certificate verification is strongly advised. See: https://urllib3.readthedocs.io/en/latest/advanced-usage.html#tls-warnings\n",
      "  warnings.warn(\n"
     ]
    },
    {
     "name": "stdout",
     "output_type": "stream",
     "text": [
      "shorts_urls for MariAndColors:  []\n",
      "Spencer Cornelia\n"
     ]
    },
    {
     "name": "stderr",
     "output_type": "stream",
     "text": [
      "c:\\Users\\T14Gen1\\Documents\\Lib\\site-packages\\urllib3\\connectionpool.py:1099: InsecureRequestWarning: Unverified HTTPS request is being made to host 'api.scraperapi.com'. Adding certificate verification is strongly advised. See: https://urllib3.readthedocs.io/en/latest/advanced-usage.html#tls-warnings\n",
      "  warnings.warn(\n"
     ]
    },
    {
     "name": "stdout",
     "output_type": "stream",
     "text": [
      "shorts_urls for Spencer Cornelia:  ['https://www.youtube.com/watch?v=8PArMPTYIaE', 'https://www.youtube.com/watch?v=GveC3xTOu3w', 'https://www.youtube.com/watch?v=d3cEC6sAaJo', 'https://www.youtube.com/watch?v=Z2ZDAd148FU', 'https://www.youtube.com/watch?v=_q07afQ592s', 'https://www.youtube.com/watch?v=aLlu3EUHXBI', 'https://www.youtube.com/watch?v=5bHEFmBYUow', 'https://www.youtube.com/watch?v=i11S4eqfBJ8', 'https://www.youtube.com/watch?v=z020gARyK2E', 'https://www.youtube.com/watch?v=yX1CmphRp0Y', 'https://www.youtube.com/watch?v=ObSmWOvLnhA', 'https://www.youtube.com/watch?v=YlmCs690O70', 'https://www.youtube.com/watch?v=h8EsMCFNjH4', 'https://www.youtube.com/watch?v=A3vsQuNT7lo', 'https://www.youtube.com/watch?v=pvj7SUBvkAA', 'https://www.youtube.com/watch?v=Tis5D0Gw4lQ', 'https://www.youtube.com/watch?v=EpGtHTgPVAw', 'https://www.youtube.com/watch?v=0BkQXI_DlH8', 'https://www.youtube.com/watch?v=k62IU1Qr8Fg', 'https://www.youtube.com/watch?v=XtElDBJV4p4', 'https://www.youtube.com/watch?v=l4ByPlA_oLA', 'https://www.youtube.com/watch?v=BBHN6KAJRRI', 'https://www.youtube.com/watch?v=qDhleVbYaSE', 'https://www.youtube.com/watch?v=wTDkbY0Mc3w', 'https://www.youtube.com/watch?v=3RJNscR5dmw', 'https://www.youtube.com/watch?v=H7cfaaLYp_s', 'https://www.youtube.com/watch?v=ujm4bdrkrII', 'https://www.youtube.com/watch?v=PKosBKsI_88', 'https://www.youtube.com/watch?v=rEhO63SETKA', 'https://www.youtube.com/watch?v=MgSGIkzGwBE', 'https://www.youtube.com/watch?v=8WAYHVyIJbU', 'https://www.youtube.com/watch?v=X2esZ1U4ttM', 'https://www.youtube.com/watch?v=uujvZjoscao']\n",
      "Joy Home Remedies\n"
     ]
    },
    {
     "name": "stderr",
     "output_type": "stream",
     "text": [
      "c:\\Users\\T14Gen1\\Documents\\Lib\\site-packages\\urllib3\\connectionpool.py:1099: InsecureRequestWarning: Unverified HTTPS request is being made to host 'api.scraperapi.com'. Adding certificate verification is strongly advised. See: https://urllib3.readthedocs.io/en/latest/advanced-usage.html#tls-warnings\n",
      "  warnings.warn(\n"
     ]
    },
    {
     "name": "stdout",
     "output_type": "stream",
     "text": [
      "shorts_urls for Joy Home Remedies:  ['https://www.youtube.com/watch?v=lw_Pp3RpkIA', 'https://www.youtube.com/watch?v=cFz3dpTqCtM', 'https://www.youtube.com/watch?v=9zeIp2VekeI', 'https://www.youtube.com/watch?v=YJlaxHrPi0I', 'https://www.youtube.com/watch?v=NTDmqKePtt4', 'https://www.youtube.com/watch?v=Je5zYQ6zAFA', 'https://www.youtube.com/watch?v=tj2cLDSBHac', 'https://www.youtube.com/watch?v=rOBDllV4DBI', 'https://www.youtube.com/watch?v=7lRK7tqvSKM', 'https://www.youtube.com/watch?v=gps2vBzGUFk', 'https://www.youtube.com/watch?v=AEkV_GNSiTk', 'https://www.youtube.com/watch?v=Oo75OBApWzQ', 'https://www.youtube.com/watch?v=IoMka2FSAI8', 'https://www.youtube.com/watch?v=M0AbSgzqCXE', 'https://www.youtube.com/watch?v=QeFBk7uUcrA', 'https://www.youtube.com/watch?v=VGDsN8MXfrw', 'https://www.youtube.com/watch?v=t7CzbNZKEs0', 'https://www.youtube.com/watch?v=551kUvvtbrQ', 'https://www.youtube.com/watch?v=Yi840woVEhA']\n",
      "Marc Brunet\n"
     ]
    },
    {
     "name": "stderr",
     "output_type": "stream",
     "text": [
      "c:\\Users\\T14Gen1\\Documents\\Lib\\site-packages\\urllib3\\connectionpool.py:1099: InsecureRequestWarning: Unverified HTTPS request is being made to host 'api.scraperapi.com'. Adding certificate verification is strongly advised. See: https://urllib3.readthedocs.io/en/latest/advanced-usage.html#tls-warnings\n",
      "  warnings.warn(\n"
     ]
    },
    {
     "name": "stdout",
     "output_type": "stream",
     "text": [
      "shorts_urls for Marc Brunet:  ['https://www.youtube.com/watch?v=nqYchTbyVu4', 'https://www.youtube.com/watch?v=rLUSpojJsrA', 'https://www.youtube.com/watch?v=Qc6NO19u3MM', 'https://www.youtube.com/watch?v=qSfXMQQRNY0', 'https://www.youtube.com/watch?v=QcnpGUdGFmg', 'https://www.youtube.com/watch?v=wMXHYET8xP8', 'https://www.youtube.com/watch?v=SRzUqX9pza8', 'https://www.youtube.com/watch?v=UituSM5LlZc', 'https://www.youtube.com/watch?v=8sORtqjvClM', 'https://www.youtube.com/watch?v=t51uvIVlkwg', 'https://www.youtube.com/watch?v=kOyXKhVChTo', 'https://www.youtube.com/watch?v=TTU6VNh07aM', 'https://www.youtube.com/watch?v=11rLjEFozYY', 'https://www.youtube.com/watch?v=ryGJf_v4WHE', 'https://www.youtube.com/watch?v=PNIL5KP51N4', 'https://www.youtube.com/watch?v=83CEXyazHcc', 'https://www.youtube.com/watch?v=G4PoTrGsEOg', 'https://www.youtube.com/watch?v=IaOPd8Q9_MI', 'https://www.youtube.com/watch?v=_cpmZJ2CqHQ', 'https://www.youtube.com/watch?v=1dQW5oshfTM', 'https://www.youtube.com/watch?v=aI3mrZo4Hxc', 'https://www.youtube.com/watch?v=6j9GT29xHOI', 'https://www.youtube.com/watch?v=wvCKZ3OG8us', 'https://www.youtube.com/watch?v=t61knwIo_CY', 'https://www.youtube.com/watch?v=KcLuvnp7Zfo', 'https://www.youtube.com/watch?v=vNT5ozaAt9Y', 'https://www.youtube.com/watch?v=g62JjvsdY5k', 'https://www.youtube.com/watch?v=axxdYIpXnfE', 'https://www.youtube.com/watch?v=_0ZM8q4k5x8', 'https://www.youtube.com/watch?v=sqltfkMIdcw', 'https://www.youtube.com/watch?v=LVISy7Rm9H4', 'https://www.youtube.com/watch?v=qwf22VeesYA', 'https://www.youtube.com/watch?v=RtAInZVW79g', 'https://www.youtube.com/watch?v=bCkDjbilsBg', 'https://www.youtube.com/watch?v=K1oqcHTrTkY', 'https://www.youtube.com/watch?v=kAhnPgYRuSI', 'https://www.youtube.com/watch?v=p0NYuaJz0nw']\n",
      "Jen_ny69\n"
     ]
    },
    {
     "name": "stderr",
     "output_type": "stream",
     "text": [
      "c:\\Users\\T14Gen1\\Documents\\Lib\\site-packages\\urllib3\\connectionpool.py:1099: InsecureRequestWarning: Unverified HTTPS request is being made to host 'api.scraperapi.com'. Adding certificate verification is strongly advised. See: https://urllib3.readthedocs.io/en/latest/advanced-usage.html#tls-warnings\n",
      "  warnings.warn(\n"
     ]
    },
    {
     "name": "stdout",
     "output_type": "stream",
     "text": [
      "shorts_urls for Jen_ny69:  ['https://www.youtube.com/watch?v=ixq_pOK7jk0', 'https://www.youtube.com/watch?v=2iRkPzWEwoM', 'https://www.youtube.com/watch?v=12cAOIfgpN8', 'https://www.youtube.com/watch?v=olKeodW3OgI', 'https://www.youtube.com/watch?v=bdWLh27gMCg', 'https://www.youtube.com/watch?v=u2JvUYlHcvw', 'https://www.youtube.com/watch?v=ubl0lfLL1BA', 'https://www.youtube.com/watch?v=DNd49qvBXa8', 'https://www.youtube.com/watch?v=pxKm4bgE1A8', 'https://www.youtube.com/watch?v=0Vhy78hFn0M', 'https://www.youtube.com/watch?v=ul0n6QL9CDg', 'https://www.youtube.com/watch?v=iEFgA507ubY', 'https://www.youtube.com/watch?v=dFlGiETcf_w', 'https://www.youtube.com/watch?v=LmP9AwSqgPk', 'https://www.youtube.com/watch?v=omejymfxZ8w', 'https://www.youtube.com/watch?v=QEAALeEsMVI', 'https://www.youtube.com/watch?v=lSUKtugjzUY', 'https://www.youtube.com/watch?v=zW8EYv6UUeU', 'https://www.youtube.com/watch?v=3xX7yJf9Ii4', 'https://www.youtube.com/watch?v=N2YWU5bPf98', 'https://www.youtube.com/watch?v=NBXHMt_CLGo', 'https://www.youtube.com/watch?v=CCf8hTgMddI', 'https://www.youtube.com/watch?v=jfkCWq9HoMI', 'https://www.youtube.com/watch?v=THAXskEidg0', 'https://www.youtube.com/watch?v=Yo0LQlLsB3E', 'https://www.youtube.com/watch?v=D0BU33UItVA', 'https://www.youtube.com/watch?v=B5NT6JdB5KY', 'https://www.youtube.com/watch?v=F51fGCbWfOo', 'https://www.youtube.com/watch?v=GTVfW6c_n8Y', 'https://www.youtube.com/watch?v=jYgLynwhBtk', 'https://www.youtube.com/watch?v=2eSOy0KlNk8', 'https://www.youtube.com/watch?v=cQlEFgry0Yo', 'https://www.youtube.com/watch?v=8RqEkfiF7eI', 'https://www.youtube.com/watch?v=xCSicVNFhoA', 'https://www.youtube.com/watch?v=at5O0Q7VkOU', 'https://www.youtube.com/watch?v=Pi0OOnM0N7U']\n",
      "DawateIslami\n"
     ]
    },
    {
     "name": "stderr",
     "output_type": "stream",
     "text": [
      "c:\\Users\\T14Gen1\\Documents\\Lib\\site-packages\\urllib3\\connectionpool.py:1099: InsecureRequestWarning: Unverified HTTPS request is being made to host 'api.scraperapi.com'. Adding certificate verification is strongly advised. See: https://urllib3.readthedocs.io/en/latest/advanced-usage.html#tls-warnings\n",
      "  warnings.warn(\n"
     ]
    },
    {
     "name": "stdout",
     "output_type": "stream",
     "text": [
      "shorts_urls for DawateIslami:  ['https://www.youtube.com/watch?v=fkLwyUNPPgM', 'https://www.youtube.com/watch?v=j9hPU1e9ngk', 'https://www.youtube.com/watch?v=fshxqobHlG4', 'https://www.youtube.com/watch?v=RoMNkpxzLak', 'https://www.youtube.com/watch?v=3bulEn4vPUo', 'https://www.youtube.com/watch?v=OjKM4EpE1gY', 'https://www.youtube.com/watch?v=JhocFEigq3k', 'https://www.youtube.com/watch?v=FAlUsZJt0yo', 'https://www.youtube.com/watch?v=cp0Ezo8SGK0', 'https://www.youtube.com/watch?v=NeQKyVvbync', 'https://www.youtube.com/watch?v=EyQpR_ksap8', 'https://www.youtube.com/watch?v=TOHAHH8zqkM', 'https://www.youtube.com/watch?v=rpm6ktQgqmw', 'https://www.youtube.com/watch?v=ARB36uMrsV4', 'https://www.youtube.com/watch?v=aGPhQxeoMy0', 'https://www.youtube.com/watch?v=Kq_zs1cuB64', 'https://www.youtube.com/watch?v=mhLfsLJeS8c', 'https://www.youtube.com/watch?v=pAiEU6jnEVU', 'https://www.youtube.com/watch?v=eTMo5WCL1Rw', 'https://www.youtube.com/watch?v=_8s5z45Tc_U', 'https://www.youtube.com/watch?v=gBWfraV21h0', 'https://www.youtube.com/watch?v=Ys0qLD1YsS0', 'https://www.youtube.com/watch?v=mDL0kl7EshA', 'https://www.youtube.com/watch?v=cFtLinHyTT8', 'https://www.youtube.com/watch?v=dwHQcgwNfMk', 'https://www.youtube.com/watch?v=R0xWGnljWzk', 'https://www.youtube.com/watch?v=AGxgYplCvSc', 'https://www.youtube.com/watch?v=8AU3nnWgCJM', 'https://www.youtube.com/watch?v=bDgsotCTZRM', 'https://www.youtube.com/watch?v=bX3omxdmGqA', 'https://www.youtube.com/watch?v=YmvmlSLkQVg', 'https://www.youtube.com/watch?v=VDSb6gTUfF4', 'https://www.youtube.com/watch?v=YhFKo2Fr3nM', 'https://www.youtube.com/watch?v=n_UCJ8YdJYM', 'https://www.youtube.com/watch?v=TP6_fScU1Xw', 'https://www.youtube.com/watch?v=iLx2Y_qvHnM', 'https://www.youtube.com/watch?v=B2xXy77sayo', 'https://www.youtube.com/watch?v=jFa0f3a_HsI', 'https://www.youtube.com/watch?v=HmeO6a7t7c4', 'https://www.youtube.com/watch?v=L6p0UksO7bU', 'https://www.youtube.com/watch?v=2q8Qy8Osj0g']\n",
      "Go Natural English with Gabby Wallace\n"
     ]
    },
    {
     "name": "stderr",
     "output_type": "stream",
     "text": [
      "c:\\Users\\T14Gen1\\Documents\\Lib\\site-packages\\urllib3\\connectionpool.py:1099: InsecureRequestWarning: Unverified HTTPS request is being made to host 'api.scraperapi.com'. Adding certificate verification is strongly advised. See: https://urllib3.readthedocs.io/en/latest/advanced-usage.html#tls-warnings\n",
      "  warnings.warn(\n"
     ]
    },
    {
     "name": "stdout",
     "output_type": "stream",
     "text": [
      "shorts_urls for Go Natural English with Gabby Wallace:  ['https://www.youtube.com/watch?v=v9dcf7OF1Wg', 'https://www.youtube.com/watch?v=lNlQBVr5T1Q', 'https://www.youtube.com/watch?v=FyH27MVcAMs', 'https://www.youtube.com/watch?v=WKYJOilrc6g', 'https://www.youtube.com/watch?v=e0_VW_kWHTM', 'https://www.youtube.com/watch?v=BXE0IJsZdY8', 'https://www.youtube.com/watch?v=PPUYPoNv7ws', 'https://www.youtube.com/watch?v=nZ9RcuybSiY', 'https://www.youtube.com/watch?v=xsYZcX3zBo0', 'https://www.youtube.com/watch?v=SojCx1cyHl8', 'https://www.youtube.com/watch?v=1Ch0m7z1IrM', 'https://www.youtube.com/watch?v=GeUEs6fBgXU', 'https://www.youtube.com/watch?v=V_d_qNjkRQ0', 'https://www.youtube.com/watch?v=X0GrGiHe9DU', 'https://www.youtube.com/watch?v=S1bjZJ_5Pc0', 'https://www.youtube.com/watch?v=nneOpUp6sM8', 'https://www.youtube.com/watch?v=23T4gLlbt1c', 'https://www.youtube.com/watch?v=ABkRecJU_xY', 'https://www.youtube.com/watch?v=wc9gCqXE2BA', 'https://www.youtube.com/watch?v=RVCHaOOdr1k', 'https://www.youtube.com/watch?v=kaTs8Yr6LjQ', 'https://www.youtube.com/watch?v=kkeO2KprRuE', 'https://www.youtube.com/watch?v=kiHMAlNSOUs', 'https://www.youtube.com/watch?v=jsx22srDBFo', 'https://www.youtube.com/watch?v=D1HFbeSY8ro', 'https://www.youtube.com/watch?v=9vlzmYp7FtU', 'https://www.youtube.com/watch?v=vzpG_sl8e68', 'https://www.youtube.com/watch?v=OweZxkUTHVo', 'https://www.youtube.com/watch?v=wJs0eU71Dmk', 'https://www.youtube.com/watch?v=weiOCa8I6PU', 'https://www.youtube.com/watch?v=C4Mqy2I9aec', 'https://www.youtube.com/watch?v=2mq_UUIrPl0', 'https://www.youtube.com/watch?v=e3YNnbMkSxE', 'https://www.youtube.com/watch?v=DC6JjgbaEv8', 'https://www.youtube.com/watch?v=pQ8VvXI8rfk', 'https://www.youtube.com/watch?v=0wmpXCyKn5Q', 'https://www.youtube.com/watch?v=edLCLSM_zRQ', 'https://www.youtube.com/watch?v=2Y9aYdF62Jk', 'https://www.youtube.com/watch?v=KqFT8vTUmoM', 'https://www.youtube.com/watch?v=ZoKOG5Ot5gw']\n",
      "ReligionForBreakfast\n"
     ]
    },
    {
     "name": "stderr",
     "output_type": "stream",
     "text": [
      "c:\\Users\\T14Gen1\\Documents\\Lib\\site-packages\\urllib3\\connectionpool.py:1099: InsecureRequestWarning: Unverified HTTPS request is being made to host 'api.scraperapi.com'. Adding certificate verification is strongly advised. See: https://urllib3.readthedocs.io/en/latest/advanced-usage.html#tls-warnings\n",
      "  warnings.warn(\n"
     ]
    },
    {
     "name": "stdout",
     "output_type": "stream",
     "text": [
      "shorts_urls for ReligionForBreakfast:  ['https://www.youtube.com/watch?v=WZn6dF9C1NQ', 'https://www.youtube.com/watch?v=mDXgX3WPLfI', 'https://www.youtube.com/watch?v=Nse3_pm7GFQ', 'https://www.youtube.com/watch?v=GgwAwhxZr1o', 'https://www.youtube.com/watch?v=Q5E6MxwPTek', 'https://www.youtube.com/watch?v=2dUDOt1zkQI', 'https://www.youtube.com/watch?v=gtCtWWGh7wY', 'https://www.youtube.com/watch?v=ryTjb8MxIZk', 'https://www.youtube.com/watch?v=TV4dBEF5K4w', 'https://www.youtube.com/watch?v=vVTiEEwEt7o', 'https://www.youtube.com/watch?v=18wg8CZ5C8U', 'https://www.youtube.com/watch?v=1V8lCp2JaBI', 'https://www.youtube.com/watch?v=vlrIijJ7bsk']\n",
      "Medicosis Perfectionalis\n"
     ]
    },
    {
     "name": "stderr",
     "output_type": "stream",
     "text": [
      "c:\\Users\\T14Gen1\\Documents\\Lib\\site-packages\\urllib3\\connectionpool.py:1099: InsecureRequestWarning: Unverified HTTPS request is being made to host 'api.scraperapi.com'. Adding certificate verification is strongly advised. See: https://urllib3.readthedocs.io/en/latest/advanced-usage.html#tls-warnings\n",
      "  warnings.warn(\n"
     ]
    },
    {
     "name": "stdout",
     "output_type": "stream",
     "text": [
      "shorts_urls for Medicosis Perfectionalis:  ['https://www.youtube.com/watch?v=dWJnsA9SsCo', 'https://www.youtube.com/watch?v=FvKfZKTC_Lw', 'https://www.youtube.com/watch?v=Sfj5iaS3IsM', 'https://www.youtube.com/watch?v=mUIiUt12rPw', 'https://www.youtube.com/watch?v=fZnMyria5qk', 'https://www.youtube.com/watch?v=_vzKc5ERgOo', 'https://www.youtube.com/watch?v=i5wHA_9Obus', 'https://www.youtube.com/watch?v=cIV93NbkVIA', 'https://www.youtube.com/watch?v=vrEsrGz2SYo', 'https://www.youtube.com/watch?v=POWT99EHkcw', 'https://www.youtube.com/watch?v=vwPPF9xzhK0', 'https://www.youtube.com/watch?v=ckSVYdtGAWU', 'https://www.youtube.com/watch?v=wFVlzZUWFcw', 'https://www.youtube.com/watch?v=pBv5ZWw72zQ', 'https://www.youtube.com/watch?v=ahEIRmZ3s8w', 'https://www.youtube.com/watch?v=7reyEtSDMTQ', 'https://www.youtube.com/watch?v=P2_QyGlz8V4', 'https://www.youtube.com/watch?v=rSnK1pZuMKY', 'https://www.youtube.com/watch?v=ctyvxOdIisU', 'https://www.youtube.com/watch?v=xsJJBAHTXG0', 'https://www.youtube.com/watch?v=HxALevClFjs', 'https://www.youtube.com/watch?v=5rQaPWgoS3s', 'https://www.youtube.com/watch?v=pCq3p1yZyWk', 'https://www.youtube.com/watch?v=wyRCFq05aBE', 'https://www.youtube.com/watch?v=JtJBn9wiIWc', 'https://www.youtube.com/watch?v=OxKG_3e6e6E', 'https://www.youtube.com/watch?v=nmqdbij2bo4', 'https://www.youtube.com/watch?v=WEapu7ZfCH0', 'https://www.youtube.com/watch?v=KH5az9RFlSc', 'https://www.youtube.com/watch?v=p6R1Cdegz3U', 'https://www.youtube.com/watch?v=DWO0mIOcDKU', 'https://www.youtube.com/watch?v=HbLlgfKVLsU', 'https://www.youtube.com/watch?v=UVBmTnHFdC0', 'https://www.youtube.com/watch?v=J95q_9RcrqE', 'https://www.youtube.com/watch?v=M7zr7oKO57Y', 'https://www.youtube.com/watch?v=ubMeuQxmNOU', 'https://www.youtube.com/watch?v=1taK69_Hhnw', 'https://www.youtube.com/watch?v=80bU_usP0WM', 'https://www.youtube.com/watch?v=zgNCD5PRDQQ', 'https://www.youtube.com/watch?v=NhEKtuqQi7Y', 'https://www.youtube.com/watch?v=F5MO0Fy8NHA', 'https://www.youtube.com/watch?v=yLSeaNLQI2o', 'https://www.youtube.com/watch?v=i5OYcAiqD4I', 'https://www.youtube.com/watch?v=8OGdtlnpLSM', 'https://www.youtube.com/watch?v=PtS2QXrfO7c']\n",
      "理科太太 Li Ke Tai Tai\n"
     ]
    },
    {
     "name": "stderr",
     "output_type": "stream",
     "text": [
      "c:\\Users\\T14Gen1\\Documents\\Lib\\site-packages\\urllib3\\connectionpool.py:1099: InsecureRequestWarning: Unverified HTTPS request is being made to host 'api.scraperapi.com'. Adding certificate verification is strongly advised. See: https://urllib3.readthedocs.io/en/latest/advanced-usage.html#tls-warnings\n",
      "  warnings.warn(\n"
     ]
    },
    {
     "name": "stdout",
     "output_type": "stream",
     "text": [
      "shorts_urls for 理科太太 Li Ke Tai Tai:  ['https://www.youtube.com/watch?v=E1789fuBkkU', 'https://www.youtube.com/watch?v=C_MjJlcIRHs', 'https://www.youtube.com/watch?v=Q1o1ohed5sA', 'https://www.youtube.com/watch?v=YlL0Nz6m_Yg', 'https://www.youtube.com/watch?v=YI4LimFWx1I', 'https://www.youtube.com/watch?v=UwQX8DjzP3Y', 'https://www.youtube.com/watch?v=SCCo9AkyKoE', 'https://www.youtube.com/watch?v=SC8dA_5QL2w', 'https://www.youtube.com/watch?v=xZ_zZeEC08w', 'https://www.youtube.com/watch?v=3sXJrssmrXM', 'https://www.youtube.com/watch?v=M5ef2rl4wpw', 'https://www.youtube.com/watch?v=dFlbsMqRoyk', 'https://www.youtube.com/watch?v=QiPdDssMbq4', 'https://www.youtube.com/watch?v=vmLqMkSYQXM', 'https://www.youtube.com/watch?v=_TEwTU2mpPM', 'https://www.youtube.com/watch?v=VGSh0L8YYSM', 'https://www.youtube.com/watch?v=SmOnwBJM3Cw', 'https://www.youtube.com/watch?v=lfYkNweVbUw', 'https://www.youtube.com/watch?v=n3OzmfBWuDQ', 'https://www.youtube.com/watch?v=NBgmKrgeYgI', 'https://www.youtube.com/watch?v=vCIbLNaWhc0', 'https://www.youtube.com/watch?v=Az2ahEn5R4U', 'https://www.youtube.com/watch?v=hvaH2wjwZeE', 'https://www.youtube.com/watch?v=72jHqoBBJWI', 'https://www.youtube.com/watch?v=oabGLoBE4Yw', 'https://www.youtube.com/watch?v=N3fT1MMVPjw', 'https://www.youtube.com/watch?v=ZoyhoH0VCyc', 'https://www.youtube.com/watch?v=evXc3oVEeEE', 'https://www.youtube.com/watch?v=OYLv8lEqXLQ', 'https://www.youtube.com/watch?v=AkZizynShf8', 'https://www.youtube.com/watch?v=6aXpsxa0Z7g', 'https://www.youtube.com/watch?v=4ICdv8XMhWQ', 'https://www.youtube.com/watch?v=9uKfqfv7Kp4', 'https://www.youtube.com/watch?v=FM5b7j3X628', 'https://www.youtube.com/watch?v=2iWj5FEblJY', 'https://www.youtube.com/watch?v=6kABICjCRWg', 'https://www.youtube.com/watch?v=XI9P1DQBrtk', 'https://www.youtube.com/watch?v=2MeI22SAz9c']\n",
      "Brian Tracy\n"
     ]
    },
    {
     "name": "stderr",
     "output_type": "stream",
     "text": [
      "c:\\Users\\T14Gen1\\Documents\\Lib\\site-packages\\urllib3\\connectionpool.py:1099: InsecureRequestWarning: Unverified HTTPS request is being made to host 'api.scraperapi.com'. Adding certificate verification is strongly advised. See: https://urllib3.readthedocs.io/en/latest/advanced-usage.html#tls-warnings\n",
      "  warnings.warn(\n"
     ]
    },
    {
     "name": "stdout",
     "output_type": "stream",
     "text": [
      "shorts_urls for Brian Tracy:  ['https://www.youtube.com/watch?v=vSKMKDierJ0', 'https://www.youtube.com/watch?v=XrzQK6NIJPY', 'https://www.youtube.com/watch?v=uTSVxxDC6Eg', 'https://www.youtube.com/watch?v=nMkbo9qyWhM', 'https://www.youtube.com/watch?v=qYiJcECWT8g', 'https://www.youtube.com/watch?v=4oTvNHXQubg', 'https://www.youtube.com/watch?v=VwW9mOveWG8', 'https://www.youtube.com/watch?v=tGao_Seocdk', 'https://www.youtube.com/watch?v=aOqhTbCzxlI', 'https://www.youtube.com/watch?v=x38vFmX6Viw', 'https://www.youtube.com/watch?v=R3U5yzksVOM', 'https://www.youtube.com/watch?v=JLB2KXRMaTw', 'https://www.youtube.com/watch?v=fH8bAqBHfZ0', 'https://www.youtube.com/watch?v=bIAglwT4fvg', 'https://www.youtube.com/watch?v=C6HaBSkA6xU', 'https://www.youtube.com/watch?v=WM1KN4J05FM', 'https://www.youtube.com/watch?v=pkDnvxaPJtU', 'https://www.youtube.com/watch?v=L61s3UPCDQA', 'https://www.youtube.com/watch?v=B_VTA8X9y3U', 'https://www.youtube.com/watch?v=Ve7q421iE2w', 'https://www.youtube.com/watch?v=7oFeHZQ3n4M', 'https://www.youtube.com/watch?v=S1SfRCRbaf0', 'https://www.youtube.com/watch?v=OH2V71GWgUA', 'https://www.youtube.com/watch?v=aaMcWg_XEVU', 'https://www.youtube.com/watch?v=kjRDvACn6Ls', 'https://www.youtube.com/watch?v=ZBvv6ciCVFk', 'https://www.youtube.com/watch?v=ASqkHoHfDMI', 'https://www.youtube.com/watch?v=7oKpedyMLJw', 'https://www.youtube.com/watch?v=9JzJDMt7eXE', 'https://www.youtube.com/watch?v=niI8RlDiLW0', 'https://www.youtube.com/watch?v=crZG3xDWA_A', 'https://www.youtube.com/watch?v=bz9wtjo0DVQ', 'https://www.youtube.com/watch?v=pSZLAXPhPXc', 'https://www.youtube.com/watch?v=YBhM2nWb0wA', 'https://www.youtube.com/watch?v=vfPw0eHREBs', 'https://www.youtube.com/watch?v=zvt1MEjVxcw', 'https://www.youtube.com/watch?v=zHNMfLFW3Pk', 'https://www.youtube.com/watch?v=qm2ebTABtPY', 'https://www.youtube.com/watch?v=Lp__fx4dSNk', 'https://www.youtube.com/watch?v=8bYpQdqRbx8', 'https://www.youtube.com/watch?v=PAdzClfuYNo', 'https://www.youtube.com/watch?v=UXcQLthjjPQ']\n",
      "Now You See It\n"
     ]
    },
    {
     "name": "stderr",
     "output_type": "stream",
     "text": [
      "c:\\Users\\T14Gen1\\Documents\\Lib\\site-packages\\urllib3\\connectionpool.py:1099: InsecureRequestWarning: Unverified HTTPS request is being made to host 'api.scraperapi.com'. Adding certificate verification is strongly advised. See: https://urllib3.readthedocs.io/en/latest/advanced-usage.html#tls-warnings\n",
      "  warnings.warn(\n"
     ]
    },
    {
     "name": "stdout",
     "output_type": "stream",
     "text": [
      "shorts_urls for Now You See It:  ['https://www.youtube.com/watch?v=g6lcT4EhNzM']\n",
      "Fitness Guru\n"
     ]
    },
    {
     "name": "stderr",
     "output_type": "stream",
     "text": [
      "c:\\Users\\T14Gen1\\Documents\\Lib\\site-packages\\urllib3\\connectionpool.py:1099: InsecureRequestWarning: Unverified HTTPS request is being made to host 'api.scraperapi.com'. Adding certificate verification is strongly advised. See: https://urllib3.readthedocs.io/en/latest/advanced-usage.html#tls-warnings\n",
      "  warnings.warn(\n"
     ]
    },
    {
     "name": "stdout",
     "output_type": "stream",
     "text": [
      "shorts_urls for Fitness Guru:  []\n",
      "Satori Graphics\n"
     ]
    },
    {
     "name": "stderr",
     "output_type": "stream",
     "text": [
      "c:\\Users\\T14Gen1\\Documents\\Lib\\site-packages\\urllib3\\connectionpool.py:1099: InsecureRequestWarning: Unverified HTTPS request is being made to host 'api.scraperapi.com'. Adding certificate verification is strongly advised. See: https://urllib3.readthedocs.io/en/latest/advanced-usage.html#tls-warnings\n",
      "  warnings.warn(\n"
     ]
    },
    {
     "name": "stdout",
     "output_type": "stream",
     "text": [
      "shorts_urls for Satori Graphics:  ['https://www.youtube.com/watch?v=3inQ9TR9tsI', 'https://www.youtube.com/watch?v=BBffo7NaLDw', 'https://www.youtube.com/watch?v=DFS50cxPAGI', 'https://www.youtube.com/watch?v=7mDOZacXeso', 'https://www.youtube.com/watch?v=t4wh8FyeboM', 'https://www.youtube.com/watch?v=G2RXwPtbdeY', 'https://www.youtube.com/watch?v=IwoBQy7HirM', 'https://www.youtube.com/watch?v=yUe2pM9LheI', 'https://www.youtube.com/watch?v=IIDkwVUAGP0', 'https://www.youtube.com/watch?v=g1MXxbJIo78', 'https://www.youtube.com/watch?v=KH1Qz1LCvhA', 'https://www.youtube.com/watch?v=jNQjB3B3dVE', 'https://www.youtube.com/watch?v=0htV_MhKNYI', 'https://www.youtube.com/watch?v=ZjfwtdhRVa0', 'https://www.youtube.com/watch?v=7s5oucfeDTw', 'https://www.youtube.com/watch?v=jtU14Ued2IY', 'https://www.youtube.com/watch?v=hONlETYTMjg', 'https://www.youtube.com/watch?v=oU7uHRcAOvA', 'https://www.youtube.com/watch?v=GtC2zW8uuyI', 'https://www.youtube.com/watch?v=m0LsKGVs7O0', 'https://www.youtube.com/watch?v=HOubUHeGef4', 'https://www.youtube.com/watch?v=1us0Iryovwk', 'https://www.youtube.com/watch?v=_ZwaiJ3vGYI', 'https://www.youtube.com/watch?v=oLGIyPMBIHk', 'https://www.youtube.com/watch?v=zpEsJW6NQ_o', 'https://www.youtube.com/watch?v=SilnkDsiGdA', 'https://www.youtube.com/watch?v=AIjwNm57scU', 'https://www.youtube.com/watch?v=hgD_Alej5wQ', 'https://www.youtube.com/watch?v=at3Fz6PqWFU', 'https://www.youtube.com/watch?v=yt7Zd0GOcZ4', 'https://www.youtube.com/watch?v=r1tOeV298Ok', 'https://www.youtube.com/watch?v=I39d2hh0Xvc', 'https://www.youtube.com/watch?v=uw7nwUqvJUY', 'https://www.youtube.com/watch?v=WypQinQ8qs8', 'https://www.youtube.com/watch?v=FHFnZy3BW_g', 'https://www.youtube.com/watch?v=U_dP5AHQIjc', 'https://www.youtube.com/watch?v=BEsAf_0c0s0', 'https://www.youtube.com/watch?v=QJIn7_OgtuM']\n",
      "Education World\n"
     ]
    },
    {
     "name": "stderr",
     "output_type": "stream",
     "text": [
      "c:\\Users\\T14Gen1\\Documents\\Lib\\site-packages\\urllib3\\connectionpool.py:1099: InsecureRequestWarning: Unverified HTTPS request is being made to host 'api.scraperapi.com'. Adding certificate verification is strongly advised. See: https://urllib3.readthedocs.io/en/latest/advanced-usage.html#tls-warnings\n",
      "  warnings.warn(\n"
     ]
    },
    {
     "name": "stdout",
     "output_type": "stream",
     "text": [
      "shorts_urls for Education World:  ['https://www.youtube.com/watch?v=Pchee6g1s7Y', 'https://www.youtube.com/watch?v=6P5V39SpbpA']\n",
      "口语老炮儿马思瑞 Laoma Chris\n"
     ]
    },
    {
     "name": "stderr",
     "output_type": "stream",
     "text": [
      "c:\\Users\\T14Gen1\\Documents\\Lib\\site-packages\\urllib3\\connectionpool.py:1099: InsecureRequestWarning: Unverified HTTPS request is being made to host 'api.scraperapi.com'. Adding certificate verification is strongly advised. See: https://urllib3.readthedocs.io/en/latest/advanced-usage.html#tls-warnings\n",
      "  warnings.warn(\n"
     ]
    },
    {
     "name": "stdout",
     "output_type": "stream",
     "text": [
      "shorts_urls for 口语老炮儿马思瑞 Laoma Chris:  ['https://www.youtube.com/watch?v=dIMM6FKrPM4', 'https://www.youtube.com/watch?v=_DDeooRf1PQ', 'https://www.youtube.com/watch?v=MhfB6rGkpbg', 'https://www.youtube.com/watch?v=lOJObzoFPZY', 'https://www.youtube.com/watch?v=hQizfjrsM74', 'https://www.youtube.com/watch?v=6lau4I9tvaY', 'https://www.youtube.com/watch?v=1KB7VVrJiC4', 'https://www.youtube.com/watch?v=sSYsD8u_avA', 'https://www.youtube.com/watch?v=lusa7hqYL6Y', 'https://www.youtube.com/watch?v=yTEXzjgGHqM', 'https://www.youtube.com/watch?v=hZXwE7Lrs6E', 'https://www.youtube.com/watch?v=qEDeNg_131U', 'https://www.youtube.com/watch?v=czrVhgieEY4', 'https://www.youtube.com/watch?v=5zMddq4igLc', 'https://www.youtube.com/watch?v=37NhOaz3P6I', 'https://www.youtube.com/watch?v=AW4r_uI16FA', 'https://www.youtube.com/watch?v=D2qLkYhlN8U', 'https://www.youtube.com/watch?v=PTCq1wEw_rY', 'https://www.youtube.com/watch?v=gtWaT6aVsMc', 'https://www.youtube.com/watch?v=pUce2xNai9g', 'https://www.youtube.com/watch?v=iKMj0HDpdD8', 'https://www.youtube.com/watch?v=tTMuHV2vyh8', 'https://www.youtube.com/watch?v=vHOsDcsKYeY', 'https://www.youtube.com/watch?v=E2G_akJfjiU', 'https://www.youtube.com/watch?v=4UvF_SZhrAo', 'https://www.youtube.com/watch?v=IVe7UFMC8n4', 'https://www.youtube.com/watch?v=_pqKxEk5Tek', 'https://www.youtube.com/watch?v=zsJburu4jSw', 'https://www.youtube.com/watch?v=lA0DiHNbQec', 'https://www.youtube.com/watch?v=2XH7cXdTNh8', 'https://www.youtube.com/watch?v=pbeo25JD3aU', 'https://www.youtube.com/watch?v=pkgEWdmoHfw', 'https://www.youtube.com/watch?v=ViT4tMR0B_A', 'https://www.youtube.com/watch?v=rlfLtPHROt0', 'https://www.youtube.com/watch?v=ElPObX49cJ4']\n",
      "Shane Hummus\n"
     ]
    },
    {
     "name": "stderr",
     "output_type": "stream",
     "text": [
      "c:\\Users\\T14Gen1\\Documents\\Lib\\site-packages\\urllib3\\connectionpool.py:1099: InsecureRequestWarning: Unverified HTTPS request is being made to host 'api.scraperapi.com'. Adding certificate verification is strongly advised. See: https://urllib3.readthedocs.io/en/latest/advanced-usage.html#tls-warnings\n",
      "  warnings.warn(\n"
     ]
    },
    {
     "name": "stdout",
     "output_type": "stream",
     "text": [
      "shorts_urls for Shane Hummus:  ['https://www.youtube.com/watch?v=qLnahcYa5l8', 'https://www.youtube.com/watch?v=uAvs9tDd1Uw', 'https://www.youtube.com/watch?v=f_tne1G8l8U', 'https://www.youtube.com/watch?v=DEaWBsdW7jM', 'https://www.youtube.com/watch?v=a3TiGrqx4DY', 'https://www.youtube.com/watch?v=N6o5lTXGc3U', 'https://www.youtube.com/watch?v=BkxEOdCjLi8', 'https://www.youtube.com/watch?v=w3Nhqt6Exr4', 'https://www.youtube.com/watch?v=ydFbxtcjvHk', 'https://www.youtube.com/watch?v=4ECtdQ0QWNo', 'https://www.youtube.com/watch?v=djmTDDaxxzs', 'https://www.youtube.com/watch?v=xeUaTEiut28', 'https://www.youtube.com/watch?v=i9_0EnzktXw', 'https://www.youtube.com/watch?v=kstlMUjJOyA', 'https://www.youtube.com/watch?v=CZeJctWRm_U', 'https://www.youtube.com/watch?v=I6eW4YwgYBM', 'https://www.youtube.com/watch?v=4x16QcjcF68', 'https://www.youtube.com/watch?v=VRhEMjpiSKQ', 'https://www.youtube.com/watch?v=5Qy_maEVN9E', 'https://www.youtube.com/watch?v=r1EC9c4j9o8', 'https://www.youtube.com/watch?v=zhBhCftKR5I', 'https://www.youtube.com/watch?v=nhOEe6rF4wo', 'https://www.youtube.com/watch?v=2sjSAod7ZIE', 'https://www.youtube.com/watch?v=TPKoeaIHzgc', 'https://www.youtube.com/watch?v=_y_C_nuYUQU', 'https://www.youtube.com/watch?v=lZzlavXk6jo', 'https://www.youtube.com/watch?v=UUfkF1erNEQ', 'https://www.youtube.com/watch?v=z9d68kIdtaA', 'https://www.youtube.com/watch?v=rFLtGQv103U', 'https://www.youtube.com/watch?v=PPmkyxvQBcw', 'https://www.youtube.com/watch?v=EcrLDZxdaOQ', 'https://www.youtube.com/watch?v=xfjGPm35c2E', 'https://www.youtube.com/watch?v=XReoRC5erZs', 'https://www.youtube.com/watch?v=KJL2YC5RFJA', 'https://www.youtube.com/watch?v=Jms4wg7ghOQ', 'https://www.youtube.com/watch?v=vsi8ZDquWEI', 'https://www.youtube.com/watch?v=15asuj3ppWs']\n",
      "Drbeen Medical Lectures\n"
     ]
    },
    {
     "name": "stderr",
     "output_type": "stream",
     "text": [
      "c:\\Users\\T14Gen1\\Documents\\Lib\\site-packages\\urllib3\\connectionpool.py:1099: InsecureRequestWarning: Unverified HTTPS request is being made to host 'api.scraperapi.com'. Adding certificate verification is strongly advised. See: https://urllib3.readthedocs.io/en/latest/advanced-usage.html#tls-warnings\n",
      "  warnings.warn(\n"
     ]
    },
    {
     "name": "stdout",
     "output_type": "stream",
     "text": [
      "shorts_urls for Drbeen Medical Lectures:  ['https://www.youtube.com/watch?v=iIR4NFDDEeg', 'https://www.youtube.com/watch?v=C8Y4dbwdbcc', 'https://www.youtube.com/watch?v=BzTw8w0ZoFc', 'https://www.youtube.com/watch?v=WVhfgFNUpJ4', 'https://www.youtube.com/watch?v=2aDmIWV0GLI', 'https://www.youtube.com/watch?v=YpmvlqvGneU', 'https://www.youtube.com/watch?v=JnhoIkmKZOs', 'https://www.youtube.com/watch?v=AUKGNMo9n_k', 'https://www.youtube.com/watch?v=xaeSVERN1YE', 'https://www.youtube.com/watch?v=NHVLBgJgTWE', 'https://www.youtube.com/watch?v=vrT3tpfzt5A', 'https://www.youtube.com/watch?v=tT66AfDRsug', 'https://www.youtube.com/watch?v=lU4Hofuc4Tg', 'https://www.youtube.com/watch?v=7gFpRngTvYU', 'https://www.youtube.com/watch?v=dAFuffmVESI', 'https://www.youtube.com/watch?v=SbRO6MtJgi4', 'https://www.youtube.com/watch?v=a7qawjBrdf4', 'https://www.youtube.com/watch?v=eOkScKxrR4w']\n",
      "Tony Robbins\n"
     ]
    },
    {
     "name": "stderr",
     "output_type": "stream",
     "text": [
      "c:\\Users\\T14Gen1\\Documents\\Lib\\site-packages\\urllib3\\connectionpool.py:1099: InsecureRequestWarning: Unverified HTTPS request is being made to host 'api.scraperapi.com'. Adding certificate verification is strongly advised. See: https://urllib3.readthedocs.io/en/latest/advanced-usage.html#tls-warnings\n",
      "  warnings.warn(\n"
     ]
    },
    {
     "name": "stdout",
     "output_type": "stream",
     "text": [
      "shorts_urls for Tony Robbins:  ['https://www.youtube.com/watch?v=dbPOyDA86K0', 'https://www.youtube.com/watch?v=ocQdJ0x4x7s', 'https://www.youtube.com/watch?v=kFCAwaMpKJA', 'https://www.youtube.com/watch?v=Irtzk7LsoB8', 'https://www.youtube.com/watch?v=LkkiFrjttac', 'https://www.youtube.com/watch?v=0p7GrGXod3s', 'https://www.youtube.com/watch?v=vCoaPgQuUpA', 'https://www.youtube.com/watch?v=L59crhT4pYI', 'https://www.youtube.com/watch?v=TO9yN7VVAjw', 'https://www.youtube.com/watch?v=Mng7eeQfHgw', 'https://www.youtube.com/watch?v=0iYB3_DbUuQ', 'https://www.youtube.com/watch?v=V66xMaH8IJ8', 'https://www.youtube.com/watch?v=r6UngDyIDmc', 'https://www.youtube.com/watch?v=nkU_LYt4vwI', 'https://www.youtube.com/watch?v=e7akosb1ZKM', 'https://www.youtube.com/watch?v=5aMmkSI0uoM', 'https://www.youtube.com/watch?v=e4USt9ZGnek', 'https://www.youtube.com/watch?v=I6_PoaEjcqY', 'https://www.youtube.com/watch?v=aPdIyywGi0w', 'https://www.youtube.com/watch?v=4G_0LSs9BTY', 'https://www.youtube.com/watch?v=SF0KjyiYZd8', 'https://www.youtube.com/watch?v=hveyHYugWzA', 'https://www.youtube.com/watch?v=xqSo47IF5m8', 'https://www.youtube.com/watch?v=dorPOlszd64', 'https://www.youtube.com/watch?v=briSfhlKXMg', 'https://www.youtube.com/watch?v=TaQLtk6TGt8', 'https://www.youtube.com/watch?v=esaJvAHWAC8', 'https://www.youtube.com/watch?v=XyUTPFAPWb0', 'https://www.youtube.com/watch?v=TwcR8hkBJcc', 'https://www.youtube.com/watch?v=AGUjU3R3qNU', 'https://www.youtube.com/watch?v=a9P7YIkc8g8', 'https://www.youtube.com/watch?v=0BwKpkU1sqU', 'https://www.youtube.com/watch?v=yQ1_HDO74rg', 'https://www.youtube.com/watch?v=UlJ1KheV6cE', 'https://www.youtube.com/watch?v=Bw9S4k93uIo', 'https://www.youtube.com/watch?v=F6tRgCDO1C8', 'https://www.youtube.com/watch?v=F_UQ6uMdGu8', 'https://www.youtube.com/watch?v=UXNDzb5DaWA', 'https://www.youtube.com/watch?v=qvYcUFXg_Ug', 'https://www.youtube.com/watch?v=IHxGZwG3ayc']\n",
      "Simple Nursing\n"
     ]
    },
    {
     "name": "stderr",
     "output_type": "stream",
     "text": [
      "c:\\Users\\T14Gen1\\Documents\\Lib\\site-packages\\urllib3\\connectionpool.py:1099: InsecureRequestWarning: Unverified HTTPS request is being made to host 'api.scraperapi.com'. Adding certificate verification is strongly advised. See: https://urllib3.readthedocs.io/en/latest/advanced-usage.html#tls-warnings\n",
      "  warnings.warn(\n"
     ]
    },
    {
     "name": "stdout",
     "output_type": "stream",
     "text": [
      "shorts_urls for Simple Nursing:  ['https://www.youtube.com/watch?v=Hs0bm2j3O9I', 'https://www.youtube.com/watch?v=IwO7vayRcRk', 'https://www.youtube.com/watch?v=Qd_RgRrxrMI', 'https://www.youtube.com/watch?v=j4wS6WZ_geI', 'https://www.youtube.com/watch?v=vTIzqFkVEow', 'https://www.youtube.com/watch?v=EkIR6vpxCs0', 'https://www.youtube.com/watch?v=ydhgdg_DqaE', 'https://www.youtube.com/watch?v=RYMFWm6SXpo', 'https://www.youtube.com/watch?v=8hYbUeF2klQ', 'https://www.youtube.com/watch?v=sGD6Zagcm4c', 'https://www.youtube.com/watch?v=mHv98ZyLq4w', 'https://www.youtube.com/watch?v=WTkeU_XYvlA', 'https://www.youtube.com/watch?v=LiUK4vjmzWQ', 'https://www.youtube.com/watch?v=0qGlYDhtgro', 'https://www.youtube.com/watch?v=L8yXuerzN0M', 'https://www.youtube.com/watch?v=UNVbNBIIwvE', 'https://www.youtube.com/watch?v=FM0KYwrvyOY', 'https://www.youtube.com/watch?v=Lb9lD4kcMBQ', 'https://www.youtube.com/watch?v=92XQtDbWxG0', 'https://www.youtube.com/watch?v=eH9f1rXnRVI', 'https://www.youtube.com/watch?v=O5Q8g5z_PGk', 'https://www.youtube.com/watch?v=V_zAe4vcrQU', 'https://www.youtube.com/watch?v=4oLgAWm4XwU', 'https://www.youtube.com/watch?v=dOfvGW2vGWs', 'https://www.youtube.com/watch?v=pYIDqTKkGq8', 'https://www.youtube.com/watch?v=NHzyv60q3ow', 'https://www.youtube.com/watch?v=3pnYIHbf_0E', 'https://www.youtube.com/watch?v=DE_t16r0Irs', 'https://www.youtube.com/watch?v=9D25TlN__CU', 'https://www.youtube.com/watch?v=9RH6d1pWvPs', 'https://www.youtube.com/watch?v=WIXYpCwoM1A', 'https://www.youtube.com/watch?v=CS3rH105fTQ', 'https://www.youtube.com/watch?v=ypwYwRrFYHk', 'https://www.youtube.com/watch?v=r6ai7TdVbO4', 'https://www.youtube.com/watch?v=MbJAM9d4IHI', 'https://www.youtube.com/watch?v=s1oHjq3T4p0', 'https://www.youtube.com/watch?v=28HufpjU3m4', 'https://www.youtube.com/watch?v=5qb8Ala0w8E', 'https://www.youtube.com/watch?v=9EzFP3pznHw', 'https://www.youtube.com/watch?v=La1R00bIkUU', 'https://www.youtube.com/watch?v=Sg42keYlUKs', 'https://www.youtube.com/watch?v=WqXovl_DOvk']\n",
      "Ballistic High-Speed\n"
     ]
    },
    {
     "name": "stderr",
     "output_type": "stream",
     "text": [
      "c:\\Users\\T14Gen1\\Documents\\Lib\\site-packages\\urllib3\\connectionpool.py:1099: InsecureRequestWarning: Unverified HTTPS request is being made to host 'api.scraperapi.com'. Adding certificate verification is strongly advised. See: https://urllib3.readthedocs.io/en/latest/advanced-usage.html#tls-warnings\n",
      "  warnings.warn(\n"
     ]
    },
    {
     "name": "stdout",
     "output_type": "stream",
     "text": [
      "shorts_urls for Ballistic High-Speed:  ['https://www.youtube.com/watch?v=uX46L7uIDww', 'https://www.youtube.com/watch?v=S0mVqiowP40', 'https://www.youtube.com/watch?v=fE5os8HIBoo', 'https://www.youtube.com/watch?v=x7UQoTNTwPM', 'https://www.youtube.com/watch?v=jEnzMxGNBY8', 'https://www.youtube.com/watch?v=A7mRHh4q6i8', 'https://www.youtube.com/watch?v=BvgVoDrblf4', 'https://www.youtube.com/watch?v=QmK4PKBjOOs', 'https://www.youtube.com/watch?v=RnUFMRYfGbI', 'https://www.youtube.com/watch?v=RAlRUkkfULM', 'https://www.youtube.com/watch?v=iDLXkNN8DZU', 'https://www.youtube.com/watch?v=qPuXRiviLCg', 'https://www.youtube.com/watch?v=TieO296sBkg', 'https://www.youtube.com/watch?v=hAcl5RpRAQU', 'https://www.youtube.com/watch?v=OfkClGvi8hs', 'https://www.youtube.com/watch?v=KBdvY_4dAfk', 'https://www.youtube.com/watch?v=okuoN3c_hW0', 'https://www.youtube.com/watch?v=hlXg_H5Jr4g', 'https://www.youtube.com/watch?v=IHm5KPOQKEI']\n",
      "English with Alex · engVid English Classes\n"
     ]
    },
    {
     "name": "stderr",
     "output_type": "stream",
     "text": [
      "c:\\Users\\T14Gen1\\Documents\\Lib\\site-packages\\urllib3\\connectionpool.py:1099: InsecureRequestWarning: Unverified HTTPS request is being made to host 'api.scraperapi.com'. Adding certificate verification is strongly advised. See: https://urllib3.readthedocs.io/en/latest/advanced-usage.html#tls-warnings\n",
      "  warnings.warn(\n"
     ]
    },
    {
     "name": "stdout",
     "output_type": "stream",
     "text": [
      "shorts_urls for English with Alex · engVid English Classes:  ['https://www.youtube.com/watch?v=9dTaqRO3fhc', 'https://www.youtube.com/watch?v=nIqIw0uTG0c', 'https://www.youtube.com/watch?v=60x8h2kb_Mc']\n",
      "Observe\n"
     ]
    },
    {
     "name": "stderr",
     "output_type": "stream",
     "text": [
      "c:\\Users\\T14Gen1\\Documents\\Lib\\site-packages\\urllib3\\connectionpool.py:1099: InsecureRequestWarning: Unverified HTTPS request is being made to host 'api.scraperapi.com'. Adding certificate verification is strongly advised. See: https://urllib3.readthedocs.io/en/latest/advanced-usage.html#tls-warnings\n",
      "  warnings.warn(\n"
     ]
    },
    {
     "name": "stdout",
     "output_type": "stream",
     "text": [
      "shorts_urls for Observe:  ['https://www.youtube.com/watch?v=XdgfTw6zjX4', 'https://www.youtube.com/watch?v=5fIpYRbvmq0', 'https://www.youtube.com/watch?v=OT3KuLCHgbE', 'https://www.youtube.com/watch?v=BcTrNuKqJOs', 'https://www.youtube.com/watch?v=FXX_91QIJiU', 'https://www.youtube.com/watch?v=nZoI7kRTy2Y', 'https://www.youtube.com/watch?v=9BKClhJkjj0', 'https://www.youtube.com/watch?v=t9cPnwO7e7U', 'https://www.youtube.com/watch?v=irDAxv0TU1c', 'https://www.youtube.com/watch?v=w2foAaYIffU', 'https://www.youtube.com/watch?v=9Cnk2GHe_eI', 'https://www.youtube.com/watch?v=5S38Q1qwNsA', 'https://www.youtube.com/watch?v=2YrtgEj5Qog', 'https://www.youtube.com/watch?v=FwvDilHvdF8', 'https://www.youtube.com/watch?v=UCRZlCxLuyg', 'https://www.youtube.com/watch?v=hxtIXHAmBnM', 'https://www.youtube.com/watch?v=7msBcWviOls', 'https://www.youtube.com/watch?v=yZu6ZSi2xB4', 'https://www.youtube.com/watch?v=9n3R5E2KQUw', 'https://www.youtube.com/watch?v=eprEyUTaWL4', 'https://www.youtube.com/watch?v=nBQ0ZxwW78s', 'https://www.youtube.com/watch?v=tD7vnkFD26Y', 'https://www.youtube.com/watch?v=TvCfoDmqEL0']\n",
      "Jürgen Klaric\n"
     ]
    },
    {
     "name": "stderr",
     "output_type": "stream",
     "text": [
      "c:\\Users\\T14Gen1\\Documents\\Lib\\site-packages\\urllib3\\connectionpool.py:1099: InsecureRequestWarning: Unverified HTTPS request is being made to host 'api.scraperapi.com'. Adding certificate verification is strongly advised. See: https://urllib3.readthedocs.io/en/latest/advanced-usage.html#tls-warnings\n",
      "  warnings.warn(\n"
     ]
    },
    {
     "name": "stdout",
     "output_type": "stream",
     "text": [
      "shorts_urls for Jürgen Klaric:  ['https://www.youtube.com/watch?v=1tegCPP6858', 'https://www.youtube.com/watch?v=Z6WKG_IB9m8', 'https://www.youtube.com/watch?v=eMP3QX5VatI', 'https://www.youtube.com/watch?v=eAReXikhnow', 'https://www.youtube.com/watch?v=AFAlQjynjm4', 'https://www.youtube.com/watch?v=XrSpMb4ifEQ', 'https://www.youtube.com/watch?v=IRmFmkcz7mw', 'https://www.youtube.com/watch?v=SXOzcTNJy_w', 'https://www.youtube.com/watch?v=WI5WJUqGB98', 'https://www.youtube.com/watch?v=P3Trqc9wXtQ', 'https://www.youtube.com/watch?v=0s9ESeKeXGc', 'https://www.youtube.com/watch?v=KmstqykpTPE', 'https://www.youtube.com/watch?v=LEZM_1ekJ4Q', 'https://www.youtube.com/watch?v=C9WAaaRPWPI', 'https://www.youtube.com/watch?v=RPGvMzqjuas', 'https://www.youtube.com/watch?v=2G4_6X7cLIA', 'https://www.youtube.com/watch?v=AFquyKQdnmE', 'https://www.youtube.com/watch?v=h3eiSL_b7dA', 'https://www.youtube.com/watch?v=lqPZgeuB638', 'https://www.youtube.com/watch?v=NJuXLqnWOZE', 'https://www.youtube.com/watch?v=EN4cQCinnMc', 'https://www.youtube.com/watch?v=UWTQsM16sJo', 'https://www.youtube.com/watch?v=H3n9QRDyuPo', 'https://www.youtube.com/watch?v=hKkCiNNfSDE', 'https://www.youtube.com/watch?v=nhoOKol61ok', 'https://www.youtube.com/watch?v=PBK_Z0pjOEE', 'https://www.youtube.com/watch?v=s1dEgpjuADI', 'https://www.youtube.com/watch?v=wBkAaihv2qA', 'https://www.youtube.com/watch?v=mGjs6YPUPYM', 'https://www.youtube.com/watch?v=FnIaNPacCL8', 'https://www.youtube.com/watch?v=AYf5Pv3bA9o', 'https://www.youtube.com/watch?v=sAm0whmOg_4', 'https://www.youtube.com/watch?v=wXRJhBtqp_I', 'https://www.youtube.com/watch?v=d0NTcyQ6_AQ', 'https://www.youtube.com/watch?v=7L7L0GtZ8oo', 'https://www.youtube.com/watch?v=zbc57ylrze0', 'https://www.youtube.com/watch?v=R0Bp7jM8xvU', 'https://www.youtube.com/watch?v=BapSkL9SRJc', 'https://www.youtube.com/watch?v=3xFFPOK52FE', 'https://www.youtube.com/watch?v=SPYOKRf6U5Y', 'https://www.youtube.com/watch?v=ORnEw4SmDdw', 'https://www.youtube.com/watch?v=3KUY2o9C2_A']\n",
      "YouAreCreators2\n"
     ]
    },
    {
     "name": "stderr",
     "output_type": "stream",
     "text": [
      "c:\\Users\\T14Gen1\\Documents\\Lib\\site-packages\\urllib3\\connectionpool.py:1099: InsecureRequestWarning: Unverified HTTPS request is being made to host 'api.scraperapi.com'. Adding certificate verification is strongly advised. See: https://urllib3.readthedocs.io/en/latest/advanced-usage.html#tls-warnings\n",
      "  warnings.warn(\n"
     ]
    },
    {
     "name": "stdout",
     "output_type": "stream",
     "text": [
      "shorts_urls for YouAreCreators2:  ['https://www.youtube.com/watch?v=oAFxL5yjzqM', 'https://www.youtube.com/watch?v=XwjDCUY34sQ', 'https://www.youtube.com/watch?v=t5MvaGfjSfU', 'https://www.youtube.com/watch?v=mzKfnGVCyMw', 'https://www.youtube.com/watch?v=fdSNQbC49kE', 'https://www.youtube.com/watch?v=1s94gJGka3o', 'https://www.youtube.com/watch?v=4yaxiNo4vkE', 'https://www.youtube.com/watch?v=Jk6Ysi0WezM', 'https://www.youtube.com/watch?v=PKd_ck8sN8Q', 'https://www.youtube.com/watch?v=tTFwY3VbbJ0', 'https://www.youtube.com/watch?v=WFdMfgYBKLk', 'https://www.youtube.com/watch?v=9NeY6f0TjPw', 'https://www.youtube.com/watch?v=zfiHPY2h1gI', 'https://www.youtube.com/watch?v=hLCWnSpESwU', 'https://www.youtube.com/watch?v=VJqQsBzYJq8', 'https://www.youtube.com/watch?v=ry1DCGFnFJI', 'https://www.youtube.com/watch?v=TC3mCruAG0o', 'https://www.youtube.com/watch?v=yVdShzUutEA', 'https://www.youtube.com/watch?v=MK1mV4SUB2k', 'https://www.youtube.com/watch?v=BpvnyNVnofU', 'https://www.youtube.com/watch?v=7I5SEOVyhLc', 'https://www.youtube.com/watch?v=oS3xcHJrBQM', 'https://www.youtube.com/watch?v=_WcMnjTAIAI', 'https://www.youtube.com/watch?v=n56gifSMsqM', 'https://www.youtube.com/watch?v=iH9AEi9z6hY', 'https://www.youtube.com/watch?v=R2RNgdUZy14', 'https://www.youtube.com/watch?v=X6E4LGGAF04', 'https://www.youtube.com/watch?v=TnDgiC3TWCY', 'https://www.youtube.com/watch?v=XhFlnV0wf6s', 'https://www.youtube.com/watch?v=Fr6DwpMdpZA', 'https://www.youtube.com/watch?v=b9CWDhyvehM', 'https://www.youtube.com/watch?v=_rXvKEL9ejo', 'https://www.youtube.com/watch?v=Gc3TW2_SQVY', 'https://www.youtube.com/watch?v=BYq1oX6VYIM', 'https://www.youtube.com/watch?v=idXUWUq9Xcs', 'https://www.youtube.com/watch?v=uFFMlPuHB9I', 'https://www.youtube.com/watch?v=u0GsQ1BJMlM', 'https://www.youtube.com/watch?v=6oAEQjVPIAc', 'https://www.youtube.com/watch?v=bRUo9_XkSO4', 'https://www.youtube.com/watch?v=pgtTNERoKk8', 'https://www.youtube.com/watch?v=lFR3Wqoj8r8', 'https://www.youtube.com/watch?v=pZEOs2Cp9Uc']\n",
      "Teacher Mike 麦克老师\n"
     ]
    },
    {
     "name": "stderr",
     "output_type": "stream",
     "text": [
      "c:\\Users\\T14Gen1\\Documents\\Lib\\site-packages\\urllib3\\connectionpool.py:1099: InsecureRequestWarning: Unverified HTTPS request is being made to host 'api.scraperapi.com'. Adding certificate verification is strongly advised. See: https://urllib3.readthedocs.io/en/latest/advanced-usage.html#tls-warnings\n",
      "  warnings.warn(\n"
     ]
    },
    {
     "name": "stdout",
     "output_type": "stream",
     "text": [
      "shorts_urls for Teacher Mike 麦克老师:  ['https://www.youtube.com/watch?v=IiwHv1cSjks', 'https://www.youtube.com/watch?v=SHFFoTPBhsI', 'https://www.youtube.com/watch?v=Wu7SKjA_otM', 'https://www.youtube.com/watch?v=oGOUPBLZ8uU', 'https://www.youtube.com/watch?v=KU7EzNABORE', 'https://www.youtube.com/watch?v=2LROmtEaAqA', 'https://www.youtube.com/watch?v=eOIw3bC6W0w', 'https://www.youtube.com/watch?v=ZGBUWcHXlFc', 'https://www.youtube.com/watch?v=6_uvpsvkFvY', 'https://www.youtube.com/watch?v=Au6gAJ041js', 'https://www.youtube.com/watch?v=qXo3zgJEHYA', 'https://www.youtube.com/watch?v=zE9QqILqONc', 'https://www.youtube.com/watch?v=WP5RtACCA0I', 'https://www.youtube.com/watch?v=80xg8HVjX84', 'https://www.youtube.com/watch?v=W7ddX_g8HU4']\n",
      "CrazyKidsRhymes\n"
     ]
    },
    {
     "name": "stderr",
     "output_type": "stream",
     "text": [
      "c:\\Users\\T14Gen1\\Documents\\Lib\\site-packages\\urllib3\\connectionpool.py:1099: InsecureRequestWarning: Unverified HTTPS request is being made to host 'api.scraperapi.com'. Adding certificate verification is strongly advised. See: https://urllib3.readthedocs.io/en/latest/advanced-usage.html#tls-warnings\n",
      "  warnings.warn(\n"
     ]
    },
    {
     "name": "stdout",
     "output_type": "stream",
     "text": [
      "shorts_urls for CrazyKidsRhymes:  ['https://www.youtube.com/watch?v=U2_jtJgVam0', 'https://www.youtube.com/watch?v=VjMdNg59zRE', 'https://www.youtube.com/watch?v=hNDWzItB15g']\n",
      "Patrick Boyle\n"
     ]
    },
    {
     "name": "stderr",
     "output_type": "stream",
     "text": [
      "c:\\Users\\T14Gen1\\Documents\\Lib\\site-packages\\urllib3\\connectionpool.py:1099: InsecureRequestWarning: Unverified HTTPS request is being made to host 'api.scraperapi.com'. Adding certificate verification is strongly advised. See: https://urllib3.readthedocs.io/en/latest/advanced-usage.html#tls-warnings\n",
      "  warnings.warn(\n"
     ]
    },
    {
     "name": "stdout",
     "output_type": "stream",
     "text": [
      "shorts_urls for Patrick Boyle:  ['https://www.youtube.com/watch?v=dMajzHMU4Sg', 'https://www.youtube.com/watch?v=MjJKGPgPvvw', 'https://www.youtube.com/watch?v=DTqGX2X_iBE', 'https://www.youtube.com/watch?v=39X3pnrwNa8', 'https://www.youtube.com/watch?v=DyClYlUnidc', 'https://www.youtube.com/watch?v=ABe1XThMvYI', 'https://www.youtube.com/watch?v=A1fe3TB0PwE']\n",
      "IELTS FACE-OFF\n"
     ]
    },
    {
     "name": "stderr",
     "output_type": "stream",
     "text": [
      "c:\\Users\\T14Gen1\\Documents\\Lib\\site-packages\\urllib3\\connectionpool.py:1099: InsecureRequestWarning: Unverified HTTPS request is being made to host 'api.scraperapi.com'. Adding certificate verification is strongly advised. See: https://urllib3.readthedocs.io/en/latest/advanced-usage.html#tls-warnings\n",
      "  warnings.warn(\n"
     ]
    },
    {
     "name": "stdout",
     "output_type": "stream",
     "text": [
      "shorts_urls for IELTS FACE-OFF:  ['https://www.youtube.com/watch?v=pc9f8kSemBI', 'https://www.youtube.com/watch?v=ZAQx1uKiG7c', 'https://www.youtube.com/watch?v=TJ7sl6EfEZY', 'https://www.youtube.com/watch?v=I_vyKvd3s7s', 'https://www.youtube.com/watch?v=hXabA5y7wXU', 'https://www.youtube.com/watch?v=qQ7BEKp_XO8', 'https://www.youtube.com/watch?v=wXadclfDHOg', 'https://www.youtube.com/watch?v=LesY_mGai6M', 'https://www.youtube.com/watch?v=1Q0dwqYHnmk', 'https://www.youtube.com/watch?v=OkJVWVHsEaU', 'https://www.youtube.com/watch?v=zFO4wmnF9fc', 'https://www.youtube.com/watch?v=lkDe27N_bCo', 'https://www.youtube.com/watch?v=YPKvWptcghQ', 'https://www.youtube.com/watch?v=jT952vyaGd4', 'https://www.youtube.com/watch?v=Ed9KwzpaH2s', 'https://www.youtube.com/watch?v=vx94PYz7sd4', 'https://www.youtube.com/watch?v=vvzXYrsS4g4', 'https://www.youtube.com/watch?v=YLBFlhQmaS4', 'https://www.youtube.com/watch?v=rpzLVu5UXJA', 'https://www.youtube.com/watch?v=f95XjKqAX6s', 'https://www.youtube.com/watch?v=nX6ClZJ3t0w', 'https://www.youtube.com/watch?v=uZX2ThsROSM', 'https://www.youtube.com/watch?v=mfi3FnGwbOY', 'https://www.youtube.com/watch?v=JqbW9pWZfMs', 'https://www.youtube.com/watch?v=bAOveM_03n0', 'https://www.youtube.com/watch?v=_oAZBWuM4qo', 'https://www.youtube.com/watch?v=XbVMcxV2gbU', 'https://www.youtube.com/watch?v=vtGThaXT3r0', 'https://www.youtube.com/watch?v=x7cVTL886sA', 'https://www.youtube.com/watch?v=g2m2s2TZ3Z8', 'https://www.youtube.com/watch?v=7AQPvK_Gh5Q', 'https://www.youtube.com/watch?v=Khw2qAzZLMU', 'https://www.youtube.com/watch?v=Y1KKTzTJQ6s', 'https://www.youtube.com/watch?v=bzrglAKxgUA', 'https://www.youtube.com/watch?v=yZ2JxIEN4oM', 'https://www.youtube.com/watch?v=MRzHabf5gC0', 'https://www.youtube.com/watch?v=l9qgFNxKOy8', 'https://www.youtube.com/watch?v=H4fCrACf9P8', 'https://www.youtube.com/watch?v=VLUiEySReDc', 'https://www.youtube.com/watch?v=NMof7E_vQp8', 'https://www.youtube.com/watch?v=K8jgckjYxPM', 'https://www.youtube.com/watch?v=BiQ59rc9byQ']\n",
      "Financian\n"
     ]
    },
    {
     "ename": "TypeError",
     "evalue": "'<' not supported between instances of 'datetime.datetime' and 'str'",
     "output_type": "error",
     "traceback": [
      "\u001b[1;31m---------------------------------------------------------------------------\u001b[0m",
      "\u001b[1;31mTypeError\u001b[0m                                 Traceback (most recent call last)",
      "Cell \u001b[1;32mIn[123], line 1\u001b[0m\n\u001b[1;32m----> 1\u001b[0m new_shorts_urls \u001b[38;5;241m=\u001b[39m \u001b[43mscanning_yt_shorts_page\u001b[49m\u001b[43m(\u001b[49m\u001b[38;5;124;43m'\u001b[39;49m\u001b[38;5;124;43m3397e8a6a37e89b03b08750a27575df8\u001b[39;49m\u001b[38;5;124;43m'\u001b[39;49m\u001b[43m,\u001b[49m\u001b[43m \u001b[49m\u001b[43mchannel_df\u001b[49m\u001b[43m,\u001b[49m\u001b[43m \u001b[49m\u001b[43mloaded_df\u001b[49m\u001b[43m)\u001b[49m\n\u001b[0;32m      2\u001b[0m new_shorts_urls\n",
      "Cell \u001b[1;32mIn[122], line 54\u001b[0m, in \u001b[0;36mscanning_yt_shorts_page\u001b[1;34m(api_key, channel_db, loaded_db)\u001b[0m\n\u001b[0;32m     50\u001b[0m matching_rows \u001b[38;5;241m=\u001b[39m loaded_db[loaded_db[\u001b[38;5;124m'\u001b[39m\u001b[38;5;124mchannel_name\u001b[39m\u001b[38;5;124m'\u001b[39m] \u001b[38;5;241m==\u001b[39m channel_name]\n\u001b[0;32m     52\u001b[0m \u001b[38;5;28;01mif\u001b[39;00m \u001b[38;5;129;01mnot\u001b[39;00m matching_rows\u001b[38;5;241m.\u001b[39mempty:\n\u001b[0;32m     53\u001b[0m     \u001b[38;5;66;03m# Sort by check_date to get the most recent row\u001b[39;00m\n\u001b[1;32m---> 54\u001b[0m     latest_row \u001b[38;5;241m=\u001b[39m \u001b[43mmatching_rows\u001b[49m\u001b[38;5;241;43m.\u001b[39;49m\u001b[43msort_values\u001b[49m\u001b[43m(\u001b[49m\u001b[43mby\u001b[49m\u001b[38;5;241;43m=\u001b[39;49m\u001b[38;5;124;43m'\u001b[39;49m\u001b[38;5;124;43mcheck_date\u001b[39;49m\u001b[38;5;124;43m'\u001b[39;49m\u001b[43m,\u001b[49m\u001b[43m \u001b[49m\u001b[43mascending\u001b[49m\u001b[38;5;241;43m=\u001b[39;49m\u001b[38;5;28;43;01mFalse\u001b[39;49;00m\u001b[43m)\u001b[49m\u001b[38;5;241m.\u001b[39miloc[\u001b[38;5;241m0\u001b[39m]\n\u001b[0;32m     55\u001b[0m     latest_url \u001b[38;5;241m=\u001b[39m latest_row[\u001b[38;5;124m'\u001b[39m\u001b[38;5;124mshorts_url\u001b[39m\u001b[38;5;124m'\u001b[39m]\n\u001b[0;32m     56\u001b[0m \u001b[38;5;28;01melse\u001b[39;00m:\n\u001b[0;32m     57\u001b[0m     \u001b[38;5;66;03m# If no match found in loaded_db, set latest_url to None to ensure data collection proceeds\u001b[39;00m\n",
      "File \u001b[1;32mc:\\Users\\T14Gen1\\Documents\\Lib\\site-packages\\pandas\\core\\frame.py:7200\u001b[0m, in \u001b[0;36mDataFrame.sort_values\u001b[1;34m(self, by, axis, ascending, inplace, kind, na_position, ignore_index, key)\u001b[0m\n\u001b[0;32m   7197\u001b[0m     \u001b[38;5;28;01mif\u001b[39;00m \u001b[38;5;28misinstance\u001b[39m(ascending, (\u001b[38;5;28mtuple\u001b[39m, \u001b[38;5;28mlist\u001b[39m)):\n\u001b[0;32m   7198\u001b[0m         ascending \u001b[38;5;241m=\u001b[39m ascending[\u001b[38;5;241m0\u001b[39m]\n\u001b[1;32m-> 7200\u001b[0m     indexer \u001b[38;5;241m=\u001b[39m \u001b[43mnargsort\u001b[49m\u001b[43m(\u001b[49m\n\u001b[0;32m   7201\u001b[0m \u001b[43m        \u001b[49m\u001b[43mk\u001b[49m\u001b[43m,\u001b[49m\u001b[43m \u001b[49m\u001b[43mkind\u001b[49m\u001b[38;5;241;43m=\u001b[39;49m\u001b[43mkind\u001b[49m\u001b[43m,\u001b[49m\u001b[43m \u001b[49m\u001b[43mascending\u001b[49m\u001b[38;5;241;43m=\u001b[39;49m\u001b[43mascending\u001b[49m\u001b[43m,\u001b[49m\u001b[43m \u001b[49m\u001b[43mna_position\u001b[49m\u001b[38;5;241;43m=\u001b[39;49m\u001b[43mna_position\u001b[49m\u001b[43m,\u001b[49m\u001b[43m \u001b[49m\u001b[43mkey\u001b[49m\u001b[38;5;241;43m=\u001b[39;49m\u001b[43mkey\u001b[49m\n\u001b[0;32m   7202\u001b[0m \u001b[43m    \u001b[49m\u001b[43m)\u001b[49m\n\u001b[0;32m   7203\u001b[0m \u001b[38;5;28;01melse\u001b[39;00m:\n\u001b[0;32m   7204\u001b[0m     \u001b[38;5;28;01mif\u001b[39;00m inplace:\n",
      "File \u001b[1;32mc:\\Users\\T14Gen1\\Documents\\Lib\\site-packages\\pandas\\core\\sorting.py:439\u001b[0m, in \u001b[0;36mnargsort\u001b[1;34m(items, kind, ascending, na_position, key, mask)\u001b[0m\n\u001b[0;32m    437\u001b[0m     non_nans \u001b[38;5;241m=\u001b[39m non_nans[::\u001b[38;5;241m-\u001b[39m\u001b[38;5;241m1\u001b[39m]\n\u001b[0;32m    438\u001b[0m     non_nan_idx \u001b[38;5;241m=\u001b[39m non_nan_idx[::\u001b[38;5;241m-\u001b[39m\u001b[38;5;241m1\u001b[39m]\n\u001b[1;32m--> 439\u001b[0m indexer \u001b[38;5;241m=\u001b[39m non_nan_idx[\u001b[43mnon_nans\u001b[49m\u001b[38;5;241;43m.\u001b[39;49m\u001b[43margsort\u001b[49m\u001b[43m(\u001b[49m\u001b[43mkind\u001b[49m\u001b[38;5;241;43m=\u001b[39;49m\u001b[43mkind\u001b[49m\u001b[43m)\u001b[49m]\n\u001b[0;32m    440\u001b[0m \u001b[38;5;28;01mif\u001b[39;00m \u001b[38;5;129;01mnot\u001b[39;00m ascending:\n\u001b[0;32m    441\u001b[0m     indexer \u001b[38;5;241m=\u001b[39m indexer[::\u001b[38;5;241m-\u001b[39m\u001b[38;5;241m1\u001b[39m]\n",
      "\u001b[1;31mTypeError\u001b[0m: '<' not supported between instances of 'datetime.datetime' and 'str'"
     ]
    }
   ],
   "source": [
    "new_shorts_urls = scanning_yt_shorts_page('3397e8a6a37e89b03b08750a27575df8', channel_df, loaded_df)\n",
    "new_shorts_urls"
   ]
  },
  {
   "cell_type": "markdown",
   "id": "c67ab61e",
   "metadata": {},
   "source": [
    "#### YT 채널홈 shorts페이지에서 추가 데이터 수집\n",
    "- 채널 설명\n",
    "- 채널 구독자\n",
    "- 채널 총 비디오"
   ]
  },
  {
   "cell_type": "code",
   "execution_count": 110,
   "id": "c9346eaf",
   "metadata": {},
   "outputs": [
    {
     "data": {
      "text/html": [
       "<div>\n",
       "<style scoped>\n",
       "    .dataframe tbody tr th:only-of-type {\n",
       "        vertical-align: middle;\n",
       "    }\n",
       "\n",
       "    .dataframe tbody tr th {\n",
       "        vertical-align: top;\n",
       "    }\n",
       "\n",
       "    .dataframe thead th {\n",
       "        text-align: right;\n",
       "    }\n",
       "</style>\n",
       "<table border=\"1\" class=\"dataframe\">\n",
       "  <thead>\n",
       "    <tr style=\"text-align: right;\">\n",
       "      <th></th>\n",
       "      <th>youtuberme_url</th>\n",
       "      <th>category</th>\n",
       "      <th>country</th>\n",
       "      <th>channel_name</th>\n",
       "      <th>subscribers</th>\n",
       "      <th>total_video_views</th>\n",
       "      <th>total_video_count</th>\n",
       "      <th>description</th>\n",
       "      <th>started</th>\n",
       "      <th>yt_url</th>\n",
       "      <th>yt_fixed_url</th>\n",
       "      <th>data_yn</th>\n",
       "    </tr>\n",
       "  </thead>\n",
       "  <tbody>\n",
       "    <tr>\n",
       "      <th>8000</th>\n",
       "      <td>NaN</td>\n",
       "      <td>science-technology</td>\n",
       "      <td>United States</td>\n",
       "      <td>Everyday Astronaut</td>\n",
       "      <td>73000000.0</td>\n",
       "      <td>NaN</td>\n",
       "      <td>457.0</td>\n",
       "      <td>NaN</td>\n",
       "      <td>NaN</td>\n",
       "      <td>NaN</td>\n",
       "      <td>https://www.youtube.com/channel/UC6uKrU_WqJ1R2...</td>\n",
       "      <td>y</td>\n",
       "    </tr>\n",
       "    <tr>\n",
       "      <th>8001</th>\n",
       "      <td>NaN</td>\n",
       "      <td>science-technology</td>\n",
       "      <td>United States</td>\n",
       "      <td>BizanIQ</td>\n",
       "      <td>295000.0</td>\n",
       "      <td>NaN</td>\n",
       "      <td>49.0</td>\n",
       "      <td>NaN</td>\n",
       "      <td>NaN</td>\n",
       "      <td>NaN</td>\n",
       "      <td>https://www.youtube.com/channel/UCteEM4YIjpfes...</td>\n",
       "      <td>y</td>\n",
       "    </tr>\n",
       "    <tr>\n",
       "      <th>8002</th>\n",
       "      <td>NaN</td>\n",
       "      <td>science-technology</td>\n",
       "      <td>United States</td>\n",
       "      <td>Mr. Leaf Area</td>\n",
       "      <td>518000.0</td>\n",
       "      <td>NaN</td>\n",
       "      <td>190.0</td>\n",
       "      <td>NaN</td>\n",
       "      <td>NaN</td>\n",
       "      <td>NaN</td>\n",
       "      <td>https://www.youtube.com/channel/UCCaQoZECMg3eL...</td>\n",
       "      <td>y</td>\n",
       "    </tr>\n",
       "    <tr>\n",
       "      <th>8003</th>\n",
       "      <td>NaN</td>\n",
       "      <td>science-technology</td>\n",
       "      <td>United States</td>\n",
       "      <td>AuthenTech - Ben Schmanke</td>\n",
       "      <td>809000.0</td>\n",
       "      <td>NaN</td>\n",
       "      <td>968.0</td>\n",
       "      <td>NaN</td>\n",
       "      <td>NaN</td>\n",
       "      <td>NaN</td>\n",
       "      <td>https://www.youtube.com/channel/UCgyvzxg11MtND...</td>\n",
       "      <td>y</td>\n",
       "    </tr>\n",
       "    <tr>\n",
       "      <th>8004</th>\n",
       "      <td>NaN</td>\n",
       "      <td>science-technology</td>\n",
       "      <td>United States</td>\n",
       "      <td>Google Workspace</td>\n",
       "      <td>872000.0</td>\n",
       "      <td>NaN</td>\n",
       "      <td>3100.0</td>\n",
       "      <td>NaN</td>\n",
       "      <td>NaN</td>\n",
       "      <td>NaN</td>\n",
       "      <td>https://www.youtube.com/channel/UCBmwzQnSoj9b6...</td>\n",
       "      <td>y</td>\n",
       "    </tr>\n",
       "    <tr>\n",
       "      <th>8005</th>\n",
       "      <td>NaN</td>\n",
       "      <td>science-technology</td>\n",
       "      <td>United States</td>\n",
       "      <td>Earth Untamed</td>\n",
       "      <td>7000.0</td>\n",
       "      <td>NaN</td>\n",
       "      <td>41.0</td>\n",
       "      <td>NaN</td>\n",
       "      <td>NaN</td>\n",
       "      <td>NaN</td>\n",
       "      <td>https://www.youtube.com/channel/UCWTX75gsSsBuq...</td>\n",
       "      <td>y</td>\n",
       "    </tr>\n",
       "    <tr>\n",
       "      <th>8006</th>\n",
       "      <td>NaN</td>\n",
       "      <td>science-technology</td>\n",
       "      <td>United States</td>\n",
       "      <td>Spark Cycleworks</td>\n",
       "      <td>89000.0</td>\n",
       "      <td>NaN</td>\n",
       "      <td>219.0</td>\n",
       "      <td>NaN</td>\n",
       "      <td>NaN</td>\n",
       "      <td>NaN</td>\n",
       "      <td>https://www.youtube.com/channel/UCSWGEQ8n_6xMl...</td>\n",
       "      <td>y</td>\n",
       "    </tr>\n",
       "    <tr>\n",
       "      <th>8007</th>\n",
       "      <td>NaN</td>\n",
       "      <td>science-technology</td>\n",
       "      <td>United States</td>\n",
       "      <td>Explore Infinity</td>\n",
       "      <td>2000.0</td>\n",
       "      <td>NaN</td>\n",
       "      <td>120.0</td>\n",
       "      <td>NaN</td>\n",
       "      <td>NaN</td>\n",
       "      <td>NaN</td>\n",
       "      <td>https://www.youtube.com/channel/UCGmqyyyEES62d...</td>\n",
       "      <td>y</td>\n",
       "    </tr>\n",
       "    <tr>\n",
       "      <th>8008</th>\n",
       "      <td>NaN</td>\n",
       "      <td>science-technology</td>\n",
       "      <td>United States</td>\n",
       "      <td>Mech Fanatic</td>\n",
       "      <td>1000.0</td>\n",
       "      <td>NaN</td>\n",
       "      <td>103.0</td>\n",
       "      <td>NaN</td>\n",
       "      <td>NaN</td>\n",
       "      <td>NaN</td>\n",
       "      <td>https://www.youtube.com/channel/UCCDS_HHq00aCH...</td>\n",
       "      <td>y</td>\n",
       "    </tr>\n",
       "    <tr>\n",
       "      <th>8009</th>\n",
       "      <td>NaN</td>\n",
       "      <td>science-technology</td>\n",
       "      <td>United States</td>\n",
       "      <td>Action Lab Shorts</td>\n",
       "      <td>2000000.0</td>\n",
       "      <td>NaN</td>\n",
       "      <td>553.0</td>\n",
       "      <td>NaN</td>\n",
       "      <td>NaN</td>\n",
       "      <td>NaN</td>\n",
       "      <td>https://www.youtube.com/channel/UCA19mAJURyYHb...</td>\n",
       "      <td>y</td>\n",
       "    </tr>\n",
       "  </tbody>\n",
       "</table>\n",
       "</div>"
      ],
      "text/plain": [
       "     youtuberme_url            category        country  \\\n",
       "8000            NaN  science-technology  United States   \n",
       "8001            NaN  science-technology  United States   \n",
       "8002            NaN  science-technology  United States   \n",
       "8003            NaN  science-technology  United States   \n",
       "8004            NaN  science-technology  United States   \n",
       "8005            NaN  science-technology  United States   \n",
       "8006            NaN  science-technology  United States   \n",
       "8007            NaN  science-technology  United States   \n",
       "8008            NaN  science-technology  United States   \n",
       "8009            NaN  science-technology  United States   \n",
       "\n",
       "                   channel_name  subscribers  total_video_views  \\\n",
       "8000         Everyday Astronaut   73000000.0                NaN   \n",
       "8001                    BizanIQ     295000.0                NaN   \n",
       "8002              Mr. Leaf Area     518000.0                NaN   \n",
       "8003  AuthenTech - Ben Schmanke     809000.0                NaN   \n",
       "8004           Google Workspace     872000.0                NaN   \n",
       "8005             Earth Untamed        7000.0                NaN   \n",
       "8006           Spark Cycleworks      89000.0                NaN   \n",
       "8007           Explore Infinity       2000.0                NaN   \n",
       "8008               Mech Fanatic       1000.0                NaN   \n",
       "8009          Action Lab Shorts    2000000.0                NaN   \n",
       "\n",
       "      total_video_count  description  started yt_url  \\\n",
       "8000              457.0          NaN      NaN    NaN   \n",
       "8001               49.0          NaN      NaN    NaN   \n",
       "8002              190.0          NaN      NaN    NaN   \n",
       "8003              968.0          NaN      NaN    NaN   \n",
       "8004             3100.0          NaN      NaN    NaN   \n",
       "8005               41.0          NaN      NaN    NaN   \n",
       "8006              219.0          NaN      NaN    NaN   \n",
       "8007              120.0          NaN      NaN    NaN   \n",
       "8008              103.0          NaN      NaN    NaN   \n",
       "8009              553.0          NaN      NaN    NaN   \n",
       "\n",
       "                                           yt_fixed_url data_yn  \n",
       "8000  https://www.youtube.com/channel/UC6uKrU_WqJ1R2...       y  \n",
       "8001  https://www.youtube.com/channel/UCteEM4YIjpfes...       y  \n",
       "8002  https://www.youtube.com/channel/UCCaQoZECMg3eL...       y  \n",
       "8003  https://www.youtube.com/channel/UCgyvzxg11MtND...       y  \n",
       "8004  https://www.youtube.com/channel/UCBmwzQnSoj9b6...       y  \n",
       "8005  https://www.youtube.com/channel/UCWTX75gsSsBuq...       y  \n",
       "8006  https://www.youtube.com/channel/UCSWGEQ8n_6xMl...       y  \n",
       "8007  https://www.youtube.com/channel/UCGmqyyyEES62d...       y  \n",
       "8008  https://www.youtube.com/channel/UCCDS_HHq00aCH...       y  \n",
       "8009  https://www.youtube.com/channel/UCA19mAJURyYHb...       y  "
      ]
     },
     "execution_count": 110,
     "metadata": {},
     "output_type": "execute_result"
    }
   ],
   "source": [
    "def update_channel_df_with_new_data(ch_df, new_data):\n",
    "    \"\"\"\n",
    "    Update the channel DataFrame with new data based on matching channel names.\n",
    "    \n",
    "    Parameters:\n",
    "    ch_df (pd.DataFrame): The original channel DataFrame to be updated.\n",
    "    new_data (pd.DataFrame): The new data DataFrame containing updated information.\n",
    "    \n",
    "    Returns:\n",
    "    pd.DataFrame: The updated channel DataFrame.\n",
    "    \"\"\"\n",
    "    for index, new_row in new_data.iterrows():\n",
    "        channel_name = new_row['channel_name']\n",
    "\n",
    "        # Find matching channel in channel_df\n",
    "        matching_row = ch_df[ch_df['channel_name'] == channel_name]\n",
    "\n",
    "        if not matching_row.empty:\n",
    "            # Update values if they're NaN or if the new value is not NaN\n",
    "            ch_df.loc[ch_df['channel_name'] == channel_name, 'subscribers'] = (\n",
    "                new_row['subscribers'] if pd.notna(new_row['subscribers']) else ch_df.loc[ch_df['channel_name'] == channel_name, 'subscribers']\n",
    "            )\n",
    "            \n",
    "            ch_df.loc[ch_df['channel_name'] == channel_name, 'total_video_count'] = (\n",
    "                new_row['total_video_count'] if pd.notna(new_row['total_video_count']) else ch_df.loc[ch_df['channel_name'] == channel_name, 'total_video_count']\n",
    "            )\n",
    "    \n",
    "    return ch_df\n",
    "\n",
    "# Usage example:\n",
    "# updated_channel_df = update_channel_df_with_new_data(channel_df, new_shorts_df)\n",
    "# print(updated_channel_df) \n",
    "\n",
    "updated_channel_df = update_channel_df_with_new_data(channel_df, new_shorts_urls[2])\n",
    "updated_channel_df\n"
   ]
  },
  {
   "cell_type": "markdown",
   "id": "4ba2d7eb",
   "metadata": {},
   "source": [
    "#### 2. YouTube 채널 및 shorts를 업로드 하지 않는 경우\n",
    "- data_yn에서 y를 n으로 변경 (y가 default)\n",
    "- 필터링 중 n이였던 건이 y가 되는 경우도 체크"
   ]
  },
  {
   "cell_type": "code",
   "execution_count": 111,
   "id": "a1cbb7d8",
   "metadata": {},
   "outputs": [
    {
     "data": {
      "text/html": [
       "<div>\n",
       "<style scoped>\n",
       "    .dataframe tbody tr th:only-of-type {\n",
       "        vertical-align: middle;\n",
       "    }\n",
       "\n",
       "    .dataframe tbody tr th {\n",
       "        vertical-align: top;\n",
       "    }\n",
       "\n",
       "    .dataframe thead th {\n",
       "        text-align: right;\n",
       "    }\n",
       "</style>\n",
       "<table border=\"1\" class=\"dataframe\">\n",
       "  <thead>\n",
       "    <tr style=\"text-align: right;\">\n",
       "      <th></th>\n",
       "      <th>youtuberme_url</th>\n",
       "      <th>category</th>\n",
       "      <th>country</th>\n",
       "      <th>channel_name</th>\n",
       "      <th>subscribers</th>\n",
       "      <th>total_video_views</th>\n",
       "      <th>total_video_count</th>\n",
       "      <th>description</th>\n",
       "      <th>started</th>\n",
       "      <th>yt_url</th>\n",
       "      <th>yt_fixed_url</th>\n",
       "      <th>data_yn</th>\n",
       "    </tr>\n",
       "  </thead>\n",
       "  <tbody>\n",
       "    <tr>\n",
       "      <th>8000</th>\n",
       "      <td>NaN</td>\n",
       "      <td>science-technology</td>\n",
       "      <td>United States</td>\n",
       "      <td>Everyday Astronaut</td>\n",
       "      <td>73000000.0</td>\n",
       "      <td>NaN</td>\n",
       "      <td>457.0</td>\n",
       "      <td>NaN</td>\n",
       "      <td>NaN</td>\n",
       "      <td>NaN</td>\n",
       "      <td>https://www.youtube.com/channel/UC6uKrU_WqJ1R2...</td>\n",
       "      <td>y</td>\n",
       "    </tr>\n",
       "    <tr>\n",
       "      <th>8001</th>\n",
       "      <td>NaN</td>\n",
       "      <td>science-technology</td>\n",
       "      <td>United States</td>\n",
       "      <td>BizanIQ</td>\n",
       "      <td>295000.0</td>\n",
       "      <td>NaN</td>\n",
       "      <td>49.0</td>\n",
       "      <td>NaN</td>\n",
       "      <td>NaN</td>\n",
       "      <td>NaN</td>\n",
       "      <td>https://www.youtube.com/channel/UCteEM4YIjpfes...</td>\n",
       "      <td>y</td>\n",
       "    </tr>\n",
       "    <tr>\n",
       "      <th>8002</th>\n",
       "      <td>NaN</td>\n",
       "      <td>science-technology</td>\n",
       "      <td>United States</td>\n",
       "      <td>Mr. Leaf Area</td>\n",
       "      <td>518000.0</td>\n",
       "      <td>NaN</td>\n",
       "      <td>190.0</td>\n",
       "      <td>NaN</td>\n",
       "      <td>NaN</td>\n",
       "      <td>NaN</td>\n",
       "      <td>https://www.youtube.com/channel/UCCaQoZECMg3eL...</td>\n",
       "      <td>y</td>\n",
       "    </tr>\n",
       "    <tr>\n",
       "      <th>8003</th>\n",
       "      <td>NaN</td>\n",
       "      <td>science-technology</td>\n",
       "      <td>United States</td>\n",
       "      <td>AuthenTech - Ben Schmanke</td>\n",
       "      <td>809000.0</td>\n",
       "      <td>NaN</td>\n",
       "      <td>968.0</td>\n",
       "      <td>NaN</td>\n",
       "      <td>NaN</td>\n",
       "      <td>NaN</td>\n",
       "      <td>https://www.youtube.com/channel/UCgyvzxg11MtND...</td>\n",
       "      <td>y</td>\n",
       "    </tr>\n",
       "    <tr>\n",
       "      <th>8004</th>\n",
       "      <td>NaN</td>\n",
       "      <td>science-technology</td>\n",
       "      <td>United States</td>\n",
       "      <td>Google Workspace</td>\n",
       "      <td>872000.0</td>\n",
       "      <td>NaN</td>\n",
       "      <td>3100.0</td>\n",
       "      <td>NaN</td>\n",
       "      <td>NaN</td>\n",
       "      <td>NaN</td>\n",
       "      <td>https://www.youtube.com/channel/UCBmwzQnSoj9b6...</td>\n",
       "      <td>y</td>\n",
       "    </tr>\n",
       "    <tr>\n",
       "      <th>8005</th>\n",
       "      <td>NaN</td>\n",
       "      <td>science-technology</td>\n",
       "      <td>United States</td>\n",
       "      <td>Earth Untamed</td>\n",
       "      <td>7000.0</td>\n",
       "      <td>NaN</td>\n",
       "      <td>41.0</td>\n",
       "      <td>NaN</td>\n",
       "      <td>NaN</td>\n",
       "      <td>NaN</td>\n",
       "      <td>https://www.youtube.com/channel/UCWTX75gsSsBuq...</td>\n",
       "      <td>y</td>\n",
       "    </tr>\n",
       "    <tr>\n",
       "      <th>8006</th>\n",
       "      <td>NaN</td>\n",
       "      <td>science-technology</td>\n",
       "      <td>United States</td>\n",
       "      <td>Spark Cycleworks</td>\n",
       "      <td>89000.0</td>\n",
       "      <td>NaN</td>\n",
       "      <td>219.0</td>\n",
       "      <td>NaN</td>\n",
       "      <td>NaN</td>\n",
       "      <td>NaN</td>\n",
       "      <td>https://www.youtube.com/channel/UCSWGEQ8n_6xMl...</td>\n",
       "      <td>y</td>\n",
       "    </tr>\n",
       "    <tr>\n",
       "      <th>8007</th>\n",
       "      <td>NaN</td>\n",
       "      <td>science-technology</td>\n",
       "      <td>United States</td>\n",
       "      <td>Explore Infinity</td>\n",
       "      <td>2000.0</td>\n",
       "      <td>NaN</td>\n",
       "      <td>120.0</td>\n",
       "      <td>NaN</td>\n",
       "      <td>NaN</td>\n",
       "      <td>NaN</td>\n",
       "      <td>https://www.youtube.com/channel/UCGmqyyyEES62d...</td>\n",
       "      <td>y</td>\n",
       "    </tr>\n",
       "    <tr>\n",
       "      <th>8008</th>\n",
       "      <td>NaN</td>\n",
       "      <td>science-technology</td>\n",
       "      <td>United States</td>\n",
       "      <td>Mech Fanatic</td>\n",
       "      <td>1000.0</td>\n",
       "      <td>NaN</td>\n",
       "      <td>103.0</td>\n",
       "      <td>NaN</td>\n",
       "      <td>NaN</td>\n",
       "      <td>NaN</td>\n",
       "      <td>https://www.youtube.com/channel/UCCDS_HHq00aCH...</td>\n",
       "      <td>y</td>\n",
       "    </tr>\n",
       "    <tr>\n",
       "      <th>8009</th>\n",
       "      <td>NaN</td>\n",
       "      <td>science-technology</td>\n",
       "      <td>United States</td>\n",
       "      <td>Action Lab Shorts</td>\n",
       "      <td>2000000.0</td>\n",
       "      <td>NaN</td>\n",
       "      <td>553.0</td>\n",
       "      <td>NaN</td>\n",
       "      <td>NaN</td>\n",
       "      <td>NaN</td>\n",
       "      <td>https://www.youtube.com/channel/UCA19mAJURyYHb...</td>\n",
       "      <td>y</td>\n",
       "    </tr>\n",
       "  </tbody>\n",
       "</table>\n",
       "</div>"
      ],
      "text/plain": [
       "     youtuberme_url            category        country  \\\n",
       "8000            NaN  science-technology  United States   \n",
       "8001            NaN  science-technology  United States   \n",
       "8002            NaN  science-technology  United States   \n",
       "8003            NaN  science-technology  United States   \n",
       "8004            NaN  science-technology  United States   \n",
       "8005            NaN  science-technology  United States   \n",
       "8006            NaN  science-technology  United States   \n",
       "8007            NaN  science-technology  United States   \n",
       "8008            NaN  science-technology  United States   \n",
       "8009            NaN  science-technology  United States   \n",
       "\n",
       "                   channel_name  subscribers  total_video_views  \\\n",
       "8000         Everyday Astronaut   73000000.0                NaN   \n",
       "8001                    BizanIQ     295000.0                NaN   \n",
       "8002              Mr. Leaf Area     518000.0                NaN   \n",
       "8003  AuthenTech - Ben Schmanke     809000.0                NaN   \n",
       "8004           Google Workspace     872000.0                NaN   \n",
       "8005             Earth Untamed        7000.0                NaN   \n",
       "8006           Spark Cycleworks      89000.0                NaN   \n",
       "8007           Explore Infinity       2000.0                NaN   \n",
       "8008               Mech Fanatic       1000.0                NaN   \n",
       "8009          Action Lab Shorts    2000000.0                NaN   \n",
       "\n",
       "      total_video_count  description  started yt_url  \\\n",
       "8000              457.0          NaN      NaN    NaN   \n",
       "8001               49.0          NaN      NaN    NaN   \n",
       "8002              190.0          NaN      NaN    NaN   \n",
       "8003              968.0          NaN      NaN    NaN   \n",
       "8004             3100.0          NaN      NaN    NaN   \n",
       "8005               41.0          NaN      NaN    NaN   \n",
       "8006              219.0          NaN      NaN    NaN   \n",
       "8007              120.0          NaN      NaN    NaN   \n",
       "8008              103.0          NaN      NaN    NaN   \n",
       "8009              553.0          NaN      NaN    NaN   \n",
       "\n",
       "                                           yt_fixed_url data_yn  \n",
       "8000  https://www.youtube.com/channel/UC6uKrU_WqJ1R2...       y  \n",
       "8001  https://www.youtube.com/channel/UCteEM4YIjpfes...       y  \n",
       "8002  https://www.youtube.com/channel/UCCaQoZECMg3eL...       y  \n",
       "8003  https://www.youtube.com/channel/UCgyvzxg11MtND...       y  \n",
       "8004  https://www.youtube.com/channel/UCBmwzQnSoj9b6...       y  \n",
       "8005  https://www.youtube.com/channel/UCWTX75gsSsBuq...       y  \n",
       "8006  https://www.youtube.com/channel/UCSWGEQ8n_6xMl...       y  \n",
       "8007  https://www.youtube.com/channel/UCGmqyyyEES62d...       y  \n",
       "8008  https://www.youtube.com/channel/UCCDS_HHq00aCH...       y  \n",
       "8009  https://www.youtube.com/channel/UCA19mAJURyYHb...       y  "
      ]
     },
     "execution_count": 111,
     "metadata": {},
     "output_type": "execute_result"
    }
   ],
   "source": [
    "def update_channel_df_with_new_shorts(df, new_shorts_urls_df):\n",
    "    # Iterate over each row in new_shorts_urls_df to match with channel_df\n",
    "    for index, row in new_shorts_urls_df.iterrows():\n",
    "        target_channel_name = row['channel_name']\n",
    "        \n",
    "        # Update 'data_yn' in channel_df where 'channel_name' matches\n",
    "        df.loc[df['channel_name'] == target_channel_name, 'data_yn'] = 'n'\n",
    "\n",
    "    # Return the updated channel_df with all rows\n",
    "    return df\n",
    "\n",
    "updated_channel_df = update_channel_df_with_new_shorts(channel_df, new_shorts_urls[1])\n",
    "\n",
    "# Display the updated DataFrame\n",
    "updated_channel_df"
   ]
  },
  {
   "cell_type": "code",
   "execution_count": 112,
   "id": "8cb90094",
   "metadata": {},
   "outputs": [],
   "source": [
    "# test로 진행한 일부 변경\n",
    "channel_df.update(updated_channel_df)\n",
    "channel_df.to_excel(\"us_korea_test.xlsx\", index=False)"
   ]
  },
  {
   "cell_type": "markdown",
   "id": "0553e0ec",
   "metadata": {},
   "source": [
    "##### 3. 수집한 channel list 수집 후 loaded_db에 적재\n",
    "- new_shorts_urls 기준으로 rendered=True로 수집\n",
    "- 수집 데이터 loaded_db에 적재 후 저장"
   ]
  },
  {
   "cell_type": "code",
   "execution_count": null,
   "id": "e73fbec2",
   "metadata": {},
   "outputs": [
    {
     "name": "stdout",
     "output_type": "stream",
     "text": [
      "Financian https://www.youtube.com/watch?v=y0I5XJ19L2s\n"
     ]
    },
    {
     "name": "stderr",
     "output_type": "stream",
     "text": [
      "c:\\Users\\T14Gen1\\Documents\\Lib\\site-packages\\urllib3\\connectionpool.py:1099: InsecureRequestWarning: Unverified HTTPS request is being made to host 'api.scraperapi.com'. Adding certificate verification is strongly advised. See: https://urllib3.readthedocs.io/en/latest/advanced-usage.html#tls-warnings\n",
      "  warnings.warn(\n"
     ]
    },
    {
     "name": "stdout",
     "output_type": "stream",
     "text": [
      "title:  Financian\n",
      "shorts_title:  Why Men Won&#39;t Order Cocktail Without Any Images\n",
      "shorts_description:  Rory Sutherland tells why people won't order cocktails in the bar without images in the menu.\\n\\nDon't forget to follow us on Instagram - @financian_\\n  / financian_  \\n\\nDon't forget to follow us on TikTok - @financian_\\n  / financian_  \\n\\n#short #shorts\n",
      "shorts_published:  2024-10-28 14\n",
      "shorts_thumbnalil:  https://rr2---sn-pouxga5o-vu2s.googlevideo.com/videoplayback?expire=1730211691\\u0026ei=C5sgZ_X2LZmFi9oPyrblgAM\\u0026ip=45.93.225.12\\u0026id=o-AD6FhaRrSFDjcKJigOCcUo4eUpf6-ml5CXmoy617Fyso\\u0026itag=18\\u0026source=youtube\\u0026requiressl=yes\\u0026xpc=EgVo2aDSNQ%3D%3D\\u0026met=1730190091%2C\\u0026mh=gj\\u0026mm=31%2C29\\u0026mn=sn-pouxga5o-vu2s%2Csn-5hne6nsz\\u0026ms=au%2Crdu\\u0026mv=u\\u0026mvi=2\\u0026pl=24\\u0026rms=au%2Cau\\u0026bui=AQn3pFSlSNbS_hbh4jPBfhQtHyPYvyagnrEoS__2VMDNVPZNV7Cw5L5eA6KeVtkrBz8l3gMj4D6x0Fez\\u0026spc=qtApAWmu4tvRje0hBVLJJOhPEt4m385fZ9mqf_cp3ZLpM_K5xiXJgBOla-qmFFs\\u0026vprv=1\\u0026c=WEB\\u0026svpuc=1\\u0026mime=video%2Fmp4\\u0026ns=1ZU9sZr0PI21CVin1NML7skQ\\u0026rqh=1\\u0026gir=yes\\u0026clen=4030724\\u0026ratebypass=yes\\u0026dur=53.824\\u0026lmt=1730155957745456\\u0026mt=1730189105\\u0026fvip=4\\u0026fexp=51312688%2C51326931\\u0026sefc=1\\u0026txp=5430434\\u0026n=lCXHCsLAf2jSweQ8W\\u0026sparams=expire%2Cei%2Cip%2Cid%2Citag%2Csource%2Crequiressl%2Cxpc%2Cbui%2Cspc%2Cvprv%2Cc%2Csvpuc%2Cmime%2Cns%2Crqh%2Cgir%2Cclen%2Cratebypass%2Cdur%2Clmt\\u0026sig=AJfQdSswRQIhANZ8Ze35BY7eon1le2MCdfQC6SgZUoYBfN11krFfI3aSAiBH9WwjMy3Kk8sLJ6P71qBKnPIOGxp8DDsLo64sUUC5Mw%3D%3D\\u0026lsparams=met%2Cmh%2Cmm%2Cmn%2Cms%2Cmv%2Cmvi%2Cpl%2Crms\\u0026lsig=ACJ0pHgwRQIhAL5R_PJFfYbPPGEWziPFaMluGeUqdRglc8AJ8IouGBJmAiA20e63oLFBPRU_EQY8l1rYk9ho7T12lORGjOdu40ipdQ%3D%3D\n",
      "view:  96,985\n",
      "likes:  4000.0\n",
      "comments:  103.0\n",
      "shorts_comments_time:  nan\n",
      "Financian https://www.youtube.com/watch?v=sOIshfwqEyM\n"
     ]
    },
    {
     "name": "stderr",
     "output_type": "stream",
     "text": [
      "c:\\Users\\T14Gen1\\Documents\\Lib\\site-packages\\urllib3\\connectionpool.py:1099: InsecureRequestWarning: Unverified HTTPS request is being made to host 'api.scraperapi.com'. Adding certificate verification is strongly advised. See: https://urllib3.readthedocs.io/en/latest/advanced-usage.html#tls-warnings\n",
      "  warnings.warn(\n"
     ]
    },
    {
     "name": "stdout",
     "output_type": "stream",
     "text": [
      "title:  Financian\n",
      "shorts_title:  \n",
      "shorts_description:  Rory Sutherland tells how using a simple marketing trick they made their letters important to clients and why banks are building their buildings so massive and beautiful.\\n\\nRory Sutherland brilliantly demonstrates the impact of perceived value in marketing by recounting how they transformed a simple communication into something that commanded attention. Typically, companies send out emails or standard mail to convey information, but these can easily be ignored or dismissed. Instead of following this predictable route, Sutherland and his team employed a clever strategy: they started sending otherwise generic letters through FedEx and UPS. This added a tangible layer of significance to each message, conveying to the recipient that the content must be important if the company invested in a premium delivery service.\\n\\nThis approach leverages the psychology of perceived effort and cost. When someone receives a letter through FedEx or UPS, they instinctively sense that extra resources—time, money, and intention—were spent to ensure the message arrived safely and promptly. This perceived investment immediately elevates the letter’s importance, leading the recipient to open it with more curiosity and respect. Unlike a regular email or letter that blends into the background noise, these express-delivered messages stand out and are harder to ignore.\\n\\nSutherland’s story underscores how a relatively small investment in presentation can dramatically shift a customer’s perception, elevating what might otherwise be routine information to something valuable. This technique goes beyond the physical realm—it shows the power of signaling importance through action rather than words, a core principle that can be applied to various aspects of marketing, from packaging to customer service. It’s a simple yet powerful reminder that in a world where convenience often wins, taking the extra step to convey value can make all the difference in how a brand is perceived and how messages are received.\\n\\nDon't forget to follow us on Instagram - @financian_\\n  / financian_  \\n\\nDon't forget to follow us on TikTok - @financian_\\n  / financian_  \\n\\n#short #shorts\n",
      "shorts_published:  nan\n",
      "shorts_thumbnalil:  https://support.google.com/youtube/answer/3037019#zippy=%2Ccheck-that-youre-signed-into-youtube\n",
      "view:  70,796\n",
      "likes:  2100.0\n",
      "comments:  11.0\n",
      "shorts_comments_time:  nan\n",
      "Umar Ashraf https://www.youtube.com/watch?v=TmPNbpB8LFI\n"
     ]
    },
    {
     "name": "stderr",
     "output_type": "stream",
     "text": [
      "c:\\Users\\T14Gen1\\Documents\\Lib\\site-packages\\urllib3\\connectionpool.py:1099: InsecureRequestWarning: Unverified HTTPS request is being made to host 'api.scraperapi.com'. Adding certificate verification is strongly advised. See: https://urllib3.readthedocs.io/en/latest/advanced-usage.html#tls-warnings\n",
      "  warnings.warn(\n"
     ]
    },
    {
     "name": "stdout",
     "output_type": "stream",
     "text": [
      "title:  Umar Ashraf\n",
      "shorts_title:  Stop treating trading like a get rich quick scheme\n",
      "shorts_description:  I use TradeZella to track and journal my trades.\\nhttps://www.tradezella.com/?via=umar\\n\\nFollow my socials: \\n\\nInstagram -   / umarashraf  \\nTwitter -   / umarashraf  \\n\\n\\n\\n#daytrading #daytrader #trading\n",
      "shorts_published:  2024-10-28 13\n",
      "shorts_thumbnalil:  https://rr1---sn-1gi7znek.googlevideo.com/videoplayback?expire=1730211712\\u0026ei=IJsgZ6LaMdyCi9oPhaXOoQk\\u0026ip=168.199.227.27\\u0026id=o-AMvXGZz9BxQ3imjl8XbFreXPrNFkAmUhYpqqG2ZK05ho\\u0026itag=18\\u0026source=youtube\\u0026requiressl=yes\\u0026xpc=EgVo2aDSNQ%3D%3D\\u0026met=1730190112%2C\\u0026mh=ry\\u0026mm=31%2C29\\u0026mn=sn-1gi7znek%2Csn-1gieen7e\\u0026ms=au%2Crdu\\u0026mv=m\\u0026mvi=1\\u0026pl=24\\u0026rms=au%2Cau\\u0026initcwndbps=15801250\\u0026bui=AQn3pFQVHNBXZo53IkZ3SAJOzxItqOUKDdsprDJwup_5z7ZrJ5QKt6hWpukUI4EubLp6XMuiHR_lJQCX\\u0026spc=qtApATys88DmDNs60i-MvUvSd5ERsVrFWYUXbwVhl-xdg0jlPQH6J8adQMLnvc0\\u0026vprv=1\\u0026svpuc=1\\u0026mime=video%2Fmp4\\u0026ns=pgHYFOo_m75_jR1OGXrvMXYQ\\u0026rqh=1\\u0026gir=yes\\u0026clen=1358760\\u0026ratebypass=yes\\u0026dur=18.176\\u0026lmt=1730148456237343\\u0026mt=1730189587\\u0026fvip=1\\u0026fexp=51312688%2C51326931%2C51331020\\u0026c=WEB\\u0026sefc=1\\u0026txp=5430434\\u0026n=cmc8CeK4AYrkHfuit\\u0026sparams=expire%2Cei%2Cip%2Cid%2Citag%2Csource%2Crequiressl%2Cxpc%2Cbui%2Cspc%2Cvprv%2Csvpuc%2Cmime%2Cns%2Crqh%2Cgir%2Cclen%2Cratebypass%2Cdur%2Clmt\\u0026sig=AJfQdSswRgIhALvXghgZSA1l1tcNCs8vzII820_hv0DvKypYdln3a2LWAiEA9GG43pc6uMDFVvQBabNevFdfFhsWzb5szSzgQjDvWhg%3D\\u0026lsparams=met%2Cmh%2Cmm%2Cmn%2Cms%2Cmv%2Cmvi%2Cpl%2Crms%2Cinitcwndbps\\u0026lsig=ACJ0pHgwRgIhAIXd0VFYBc567TUDVJoyi-gauBOnAv4Sm-9ReY3cRAIVAiEAwJwVV7YpbPSVgDMhC56XbXfkN_24fx_KeRxT5B9msNE%3D\n",
      "view:  5,452\n",
      "likes:  689.0\n",
      "comments:  6.0\n",
      "shorts_comments_time:  nan\n",
      "Jaalhaq https://www.youtube.com/watch?v=8o2alUPOm5A\n"
     ]
    },
    {
     "name": "stderr",
     "output_type": "stream",
     "text": [
      "c:\\Users\\T14Gen1\\Documents\\Lib\\site-packages\\urllib3\\connectionpool.py:1099: InsecureRequestWarning: Unverified HTTPS request is being made to host 'api.scraperapi.com'. Adding certificate verification is strongly advised. See: https://urllib3.readthedocs.io/en/latest/advanced-usage.html#tls-warnings\n",
      "  warnings.warn(\n"
     ]
    },
    {
     "name": "stdout",
     "output_type": "stream",
     "text": [
      "title:  Jaalhaq\n",
      "shorts_title:  বড় বড় বিপদ থেকে মুক্তির ওজিফা  #smnizamuddin #dua #wazifa #islamicvideo\n",
      "shorts_description:  বড় বড় বিপদ থেকে মুক্তির ওজিফা  #smnizamuddin #dua #wazifa #islamicvideo \\n\\nআমাদের সকল চ্যানেল ও পেজ লিংক\\n   / @allbangladua  \\n   / @allahwalamedia  \\n   / @jaalhaq  \\n   / @labibvoice  \\n   / @muslimgirlmedia  \\n\\n  / jaalhaqu  \\n  / allbangladua  \\n  / karamatulauliya  \\n  / jumakhutbabd   \\n\\nhttps://myjaalhaq.blogspot.com\\nhttps://allbangladua.blogspot.com\\nhttps://12monthkhutba.blogspot.com\\n\\n  / jaalhaq.bd  \\n  / allbangladua  \\n\\n#jaalhaq #islamic #ইসলামিক #smnizamuddin\n",
      "shorts_published:  2024-10-28 22\n",
      "shorts_thumbnalil:  https://rr2---sn-5hne6nsd.googlevideo.com/videoplayback?expire=1730211748\\u0026ei=RJsgZ5etDOuAi9oPgs2k8A4\\u0026ip=85.237.222.102\\u0026id=o-ANItg6E1fYrfSc5iGw-n3LbLIdPaoFhi-ueAUbe24YXn\\u0026itag=18\\u0026source=youtube\\u0026requiressl=yes\\u0026xpc=EgVo2aDSNQ%3D%3D\\u0026met=1730190148%2C\\u0026mh=4q\\u0026mm=31%2C26\\u0026mn=sn-5hne6nsd%2Csn-4g5e6nsr\\u0026ms=au%2Conr\\u0026mv=u\\u0026mvi=2\\u0026pl=24\\u0026rms=au%2Cau\\u0026bui=AQn3pFSO6jQ0LHgWhhyURtIscmdeoWGNQSQ1cQig8Fs5tBnZ7WWfCQ0NhDjlgIf0JuCeYWkKODtrBQLi\\u0026spc=qtApAY2LNk6HTSwrBQdDq_ffBia7zU7G0St9Rm_RsSvy64AI5IFPcTqz7jO-9Zs\\u0026vprv=1\\u0026svpuc=1\\u0026mime=video%2Fmp4\\u0026ns=jtE2JMLqoyskUcv_UsvcOyYQ\\u0026rqh=1\\u0026gir=yes\\u0026clen=3002809\\u0026ratebypass=yes\\u0026dur=33.250\\u0026lmt=1730178232289798\\u0026mt=1730189105\\u0026fvip=5\\u0026fexp=51312688%2C51326932\\u0026c=WEB\\u0026sefc=1\\u0026txp=6300224\\u0026n=r_lxiHDmYBS9BNkyP\\u0026sparams=expire%2Cei%2Cip%2Cid%2Citag%2Csource%2Crequiressl%2Cxpc%2Cbui%2Cspc%2Cvprv%2Csvpuc%2Cmime%2Cns%2Crqh%2Cgir%2Cclen%2Cratebypass%2Cdur%2Clmt\\u0026sig=AJfQdSswRAIgEe8ov2MtHQqeV-zfcft4OMTSTCUrWDvV--bDwQwbaHMCIH2sRWC7Jf6ACMb4xCJzlCRNTo33CgXUIrm2yG2_F6c4\\u0026lsparams=met%2Cmh%2Cmm%2Cmn%2Cms%2Cmv%2Cmvi%2Cpl%2Crms\\u0026lsig=ACJ0pHgwRAIgeWz1LrYQDqaJtqG4XUpVcwmJMS69pZMkDqLC3ZGXm2kCIHyxhF1Nh21YbefdVleUYv_3XY5NTpt6Jh8jcU48_C0A\n",
      "view:  95\n",
      "likes:  10.0\n",
      "comments:  nan\n",
      "shorts_comments_time:  nan\n",
      "[('Financian', 'https://www.youtube.com/watch?v=y0I5XJ19L2s', 'Why Men Won&#39;t Order Cocktail Without Any Images', \"Rory Sutherland tells why people won't order cocktails in the bar without images in the menu.\\\\n\\\\nDon't forget to follow us on Instagram - @financian_\\\\n\\xa0\\xa0/\\xa0financian_\\xa0\\xa0\\\\n\\\\nDon't forget to follow us on TikTok - @financian_\\\\n\\xa0\\xa0/\\xa0financian_\\xa0\\xa0\\\\n\\\\n#short #shorts\", 'https://rr2---sn-pouxga5o-vu2s.googlevideo.com/videoplayback?expire=1730211691\\\\u0026ei=C5sgZ_X2LZmFi9oPyrblgAM\\\\u0026ip=45.93.225.12\\\\u0026id=o-AD6FhaRrSFDjcKJigOCcUo4eUpf6-ml5CXmoy617Fyso\\\\u0026itag=18\\\\u0026source=youtube\\\\u0026requiressl=yes\\\\u0026xpc=EgVo2aDSNQ%3D%3D\\\\u0026met=1730190091%2C\\\\u0026mh=gj\\\\u0026mm=31%2C29\\\\u0026mn=sn-pouxga5o-vu2s%2Csn-5hne6nsz\\\\u0026ms=au%2Crdu\\\\u0026mv=u\\\\u0026mvi=2\\\\u0026pl=24\\\\u0026rms=au%2Cau\\\\u0026bui=AQn3pFSlSNbS_hbh4jPBfhQtHyPYvyagnrEoS__2VMDNVPZNV7Cw5L5eA6KeVtkrBz8l3gMj4D6x0Fez\\\\u0026spc=qtApAWmu4tvRje0hBVLJJOhPEt4m385fZ9mqf_cp3ZLpM_K5xiXJgBOla-qmFFs\\\\u0026vprv=1\\\\u0026c=WEB\\\\u0026svpuc=1\\\\u0026mime=video%2Fmp4\\\\u0026ns=1ZU9sZr0PI21CVin1NML7skQ\\\\u0026rqh=1\\\\u0026gir=yes\\\\u0026clen=4030724\\\\u0026ratebypass=yes\\\\u0026dur=53.824\\\\u0026lmt=1730155957745456\\\\u0026mt=1730189105\\\\u0026fvip=4\\\\u0026fexp=51312688%2C51326931\\\\u0026sefc=1\\\\u0026txp=5430434\\\\u0026n=lCXHCsLAf2jSweQ8W\\\\u0026sparams=expire%2Cei%2Cip%2Cid%2Citag%2Csource%2Crequiressl%2Cxpc%2Cbui%2Cspc%2Cvprv%2Cc%2Csvpuc%2Cmime%2Cns%2Crqh%2Cgir%2Cclen%2Cratebypass%2Cdur%2Clmt\\\\u0026sig=AJfQdSswRQIhANZ8Ze35BY7eon1le2MCdfQC6SgZUoYBfN11krFfI3aSAiBH9WwjMy3Kk8sLJ6P71qBKnPIOGxp8DDsLo64sUUC5Mw%3D%3D\\\\u0026lsparams=met%2Cmh%2Cmm%2Cmn%2Cms%2Cmv%2Cmvi%2Cpl%2Crms\\\\u0026lsig=ACJ0pHgwRQIhAL5R_PJFfYbPPGEWziPFaMluGeUqdRglc8AJ8IouGBJmAiA20e63oLFBPRU_EQY8l1rYk9ho7T12lORGjOdu40ipdQ%3D%3D', '96,985', 4000.0, 103.0, nan, '2024-10-28 14', '2024-10-29'), ('Financian', 'https://www.youtube.com/watch?v=sOIshfwqEyM', '', \"Rory Sutherland tells how using a simple marketing trick they made their letters important to clients and why banks are building their buildings so massive and beautiful.\\\\n\\\\nRory Sutherland brilliantly demonstrates the impact of perceived value in marketing by recounting how they transformed a simple communication into something that commanded attention. Typically, companies send out emails or standard mail to convey information, but these can easily be ignored or dismissed. Instead of following this predictable route, Sutherland and his team employed a clever strategy: they started sending otherwise generic letters through FedEx and UPS. This added a tangible layer of significance to each message, conveying to the recipient that the content must be important if the company invested in a premium delivery service.\\\\n\\\\nThis approach leverages the psychology of perceived effort and cost. When someone receives a letter through FedEx or UPS, they instinctively sense that extra resources—time, money, and intention—were spent to ensure the message arrived safely and promptly. This perceived investment immediately elevates the letter’s importance, leading the recipient to open it with more curiosity and respect. Unlike a regular email or letter that blends into the background noise, these express-delivered messages stand out and are harder to ignore.\\\\n\\\\nSutherland’s story underscores how a relatively small investment in presentation can dramatically shift a customer’s perception, elevating what might otherwise be routine information to something valuable. This technique goes beyond the physical realm—it shows the power of signaling importance through action rather than words, a core principle that can be applied to various aspects of marketing, from packaging to customer service. It’s a simple yet powerful reminder that in a world where convenience often wins, taking the extra step to convey value can make all the difference in how a brand is perceived and how messages are received.\\\\n\\\\nDon't forget to follow us on Instagram - @financian_\\\\n\\xa0\\xa0/\\xa0financian_\\xa0\\xa0\\\\n\\\\nDon't forget to follow us on TikTok - @financian_\\\\n\\xa0\\xa0/\\xa0financian_\\xa0\\xa0\\\\n\\\\n#short #shorts\", 'https://support.google.com/youtube/answer/3037019#zippy=%2Ccheck-that-youre-signed-into-youtube', '70,796', 2100.0, 11.0, nan, nan, '2024-10-29'), ('Umar Ashraf', 'https://www.youtube.com/watch?v=TmPNbpB8LFI', 'Stop treating trading like a get rich quick scheme', 'I use TradeZella to track and journal my trades.\\\\nhttps://www.tradezella.com/?via=umar\\\\n\\\\nFollow my socials: \\\\n\\\\nInstagram - \\xa0\\xa0/\\xa0umarashraf\\xa0\\xa0\\\\nTwitter - \\xa0\\xa0/\\xa0umarashraf\\xa0\\xa0\\\\n\\\\n\\\\n\\\\n#daytrading #daytrader #trading', 'https://rr1---sn-1gi7znek.googlevideo.com/videoplayback?expire=1730211712\\\\u0026ei=IJsgZ6LaMdyCi9oPhaXOoQk\\\\u0026ip=168.199.227.27\\\\u0026id=o-AMvXGZz9BxQ3imjl8XbFreXPrNFkAmUhYpqqG2ZK05ho\\\\u0026itag=18\\\\u0026source=youtube\\\\u0026requiressl=yes\\\\u0026xpc=EgVo2aDSNQ%3D%3D\\\\u0026met=1730190112%2C\\\\u0026mh=ry\\\\u0026mm=31%2C29\\\\u0026mn=sn-1gi7znek%2Csn-1gieen7e\\\\u0026ms=au%2Crdu\\\\u0026mv=m\\\\u0026mvi=1\\\\u0026pl=24\\\\u0026rms=au%2Cau\\\\u0026initcwndbps=15801250\\\\u0026bui=AQn3pFQVHNBXZo53IkZ3SAJOzxItqOUKDdsprDJwup_5z7ZrJ5QKt6hWpukUI4EubLp6XMuiHR_lJQCX\\\\u0026spc=qtApATys88DmDNs60i-MvUvSd5ERsVrFWYUXbwVhl-xdg0jlPQH6J8adQMLnvc0\\\\u0026vprv=1\\\\u0026svpuc=1\\\\u0026mime=video%2Fmp4\\\\u0026ns=pgHYFOo_m75_jR1OGXrvMXYQ\\\\u0026rqh=1\\\\u0026gir=yes\\\\u0026clen=1358760\\\\u0026ratebypass=yes\\\\u0026dur=18.176\\\\u0026lmt=1730148456237343\\\\u0026mt=1730189587\\\\u0026fvip=1\\\\u0026fexp=51312688%2C51326931%2C51331020\\\\u0026c=WEB\\\\u0026sefc=1\\\\u0026txp=5430434\\\\u0026n=cmc8CeK4AYrkHfuit\\\\u0026sparams=expire%2Cei%2Cip%2Cid%2Citag%2Csource%2Crequiressl%2Cxpc%2Cbui%2Cspc%2Cvprv%2Csvpuc%2Cmime%2Cns%2Crqh%2Cgir%2Cclen%2Cratebypass%2Cdur%2Clmt\\\\u0026sig=AJfQdSswRgIhALvXghgZSA1l1tcNCs8vzII820_hv0DvKypYdln3a2LWAiEA9GG43pc6uMDFVvQBabNevFdfFhsWzb5szSzgQjDvWhg%3D\\\\u0026lsparams=met%2Cmh%2Cmm%2Cmn%2Cms%2Cmv%2Cmvi%2Cpl%2Crms%2Cinitcwndbps\\\\u0026lsig=ACJ0pHgwRgIhAIXd0VFYBc567TUDVJoyi-gauBOnAv4Sm-9ReY3cRAIVAiEAwJwVV7YpbPSVgDMhC56XbXfkN_24fx_KeRxT5B9msNE%3D', '5,452', 689.0, 6.0, nan, '2024-10-28 13', '2024-10-29'), ('Jaalhaq', 'https://www.youtube.com/watch?v=8o2alUPOm5A', 'বড় বড় বিপদ থেকে মুক্তির ওজিফা  #smnizamuddin #dua #wazifa #islamicvideo', 'বড় বড় বিপদ থেকে মুক্তির ওজিফা  #smnizamuddin #dua #wazifa #islamicvideo \\\\n\\\\nআমাদের সকল চ্যানেল ও পেজ লিংক\\\\n\\xa0\\xa0\\xa0/\\xa0@allbangladua\\xa0\\xa0\\\\n\\xa0\\xa0\\xa0/\\xa0@allahwalamedia\\xa0\\xa0\\\\n\\xa0\\xa0\\xa0/\\xa0@jaalhaq\\xa0\\xa0\\\\n\\xa0\\xa0\\xa0/\\xa0@labibvoice\\xa0\\xa0\\\\n\\xa0\\xa0\\xa0/\\xa0@muslimgirlmedia\\xa0\\xa0\\\\n\\\\n\\xa0\\xa0/\\xa0jaalhaqu\\xa0\\xa0\\\\n\\xa0\\xa0/\\xa0allbangladua\\xa0\\xa0\\\\n\\xa0\\xa0/\\xa0karamatulauliya\\xa0\\xa0\\\\n\\xa0\\xa0/\\xa0jumakhutbabd\\xa0\\xa0 \\\\n\\\\nhttps://myjaalhaq.blogspot.com\\\\nhttps://allbangladua.blogspot.com\\\\nhttps://12monthkhutba.blogspot.com\\\\n\\\\n\\xa0\\xa0/\\xa0jaalhaq.bd\\xa0\\xa0\\\\n\\xa0\\xa0/\\xa0allbangladua\\xa0\\xa0\\\\n\\\\n#jaalhaq #islamic #ইসলামিক #smnizamuddin', 'https://rr2---sn-5hne6nsd.googlevideo.com/videoplayback?expire=1730211748\\\\u0026ei=RJsgZ5etDOuAi9oPgs2k8A4\\\\u0026ip=85.237.222.102\\\\u0026id=o-ANItg6E1fYrfSc5iGw-n3LbLIdPaoFhi-ueAUbe24YXn\\\\u0026itag=18\\\\u0026source=youtube\\\\u0026requiressl=yes\\\\u0026xpc=EgVo2aDSNQ%3D%3D\\\\u0026met=1730190148%2C\\\\u0026mh=4q\\\\u0026mm=31%2C26\\\\u0026mn=sn-5hne6nsd%2Csn-4g5e6nsr\\\\u0026ms=au%2Conr\\\\u0026mv=u\\\\u0026mvi=2\\\\u0026pl=24\\\\u0026rms=au%2Cau\\\\u0026bui=AQn3pFSO6jQ0LHgWhhyURtIscmdeoWGNQSQ1cQig8Fs5tBnZ7WWfCQ0NhDjlgIf0JuCeYWkKODtrBQLi\\\\u0026spc=qtApAY2LNk6HTSwrBQdDq_ffBia7zU7G0St9Rm_RsSvy64AI5IFPcTqz7jO-9Zs\\\\u0026vprv=1\\\\u0026svpuc=1\\\\u0026mime=video%2Fmp4\\\\u0026ns=jtE2JMLqoyskUcv_UsvcOyYQ\\\\u0026rqh=1\\\\u0026gir=yes\\\\u0026clen=3002809\\\\u0026ratebypass=yes\\\\u0026dur=33.250\\\\u0026lmt=1730178232289798\\\\u0026mt=1730189105\\\\u0026fvip=5\\\\u0026fexp=51312688%2C51326932\\\\u0026c=WEB\\\\u0026sefc=1\\\\u0026txp=6300224\\\\u0026n=r_lxiHDmYBS9BNkyP\\\\u0026sparams=expire%2Cei%2Cip%2Cid%2Citag%2Csource%2Crequiressl%2Cxpc%2Cbui%2Cspc%2Cvprv%2Csvpuc%2Cmime%2Cns%2Crqh%2Cgir%2Cclen%2Cratebypass%2Cdur%2Clmt\\\\u0026sig=AJfQdSswRAIgEe8ov2MtHQqeV-zfcft4OMTSTCUrWDvV--bDwQwbaHMCIH2sRWC7Jf6ACMb4xCJzlCRNTo33CgXUIrm2yG2_F6c4\\\\u0026lsparams=met%2Cmh%2Cmm%2Cmn%2Cms%2Cmv%2Cmvi%2Cpl%2Crms\\\\u0026lsig=ACJ0pHgwRAIgeWz1LrYQDqaJtqG4XUpVcwmJMS69pZMkDqLC3ZGXm2kCIHyxhF1Nh21YbefdVleUYv_3XY5NTpt6Jh8jcU48_C0A', '95', 10.0, nan, nan, '2024-10-28 22', '2024-10-29')]\n"
     ]
    }
   ],
   "source": [
    "# url 여러개 진행\n",
    "def add_new_shorts_data(api_key, urls):\n",
    "    data_list = []\n",
    "    check_date = today\n",
    "    # Separate channel names and shorts URLs\n",
    "    channel_names = [item[0] for item in urls]\n",
    "    shorts_urls = [item[1] for item in urls]\n",
    "    \n",
    "    for channel_name, url in zip(channel_names, shorts_urls):\n",
    "        print(channel_name, url)\n",
    "        shorts_url = url\n",
    "        # Prepare payload and headers for the request\n",
    "        payload = {\n",
    "            'api_key': api_key,\n",
    "            'url': url\n",
    "            # ,'render': 'true'\n",
    "        }\n",
    "        # Make the GET request\n",
    "        r = requests.get('https://api.scraperapi.com/', params=payload,  verify=False)\n",
    "        # Extract the necessary data\n",
    "        shorts_title, shorts_description, shorts_published, shorts_thumbnail, shorts_view, shorts_likes, shorts_comments_num, shorts_comments_time = basic_shorts_info(r.text)\n",
    "        \n",
    "        # Print the extracted information for debugging\n",
    "        # print(\"title: \", channel_name)\n",
    "        # print(\"shorts_title: \", shorts_title)\n",
    "        # print(\"shorts_description: \", shorts_description)\n",
    "        # print(\"shorts_published: \", shorts_published)\n",
    "        # print(\"shorts_thumbnalil: \", shorts_thumbnail)\n",
    "        # print(\"view: \", shorts_view)\n",
    "        # print(\"likes: \", shorts_likes)\n",
    "        # print(\"comments: \", shorts_comments_num)\n",
    "        # print(\"shorts_comments_time: \", shorts_comments_time)\n",
    "\n",
    "        # Append as a tuple to the data_list\n",
    "        data_list.append((\n",
    "            channel_name,\n",
    "            shorts_url, \n",
    "            shorts_title,  \n",
    "            shorts_description, \n",
    "            shorts_thumbnail, \n",
    "            shorts_view, \n",
    "            shorts_likes, \n",
    "            shorts_comments_num, \n",
    "            shorts_comments_time,\n",
    "            shorts_published, \n",
    "            check_date\n",
    "\n",
    "        ))\n",
    "    \n",
    "    return data_list\n",
    "\n",
    "data_list = add_new_shorts_data(API_KEY, new_shorts_urls[0])\n",
    "print(data_list)\n",
    "\n"
   ]
  },
  {
   "cell_type": "code",
   "execution_count": null,
   "id": "f8ad24f6",
   "metadata": {},
   "outputs": [
    {
     "data": {
      "text/html": [
       "<div>\n",
       "<style scoped>\n",
       "    .dataframe tbody tr th:only-of-type {\n",
       "        vertical-align: middle;\n",
       "    }\n",
       "\n",
       "    .dataframe tbody tr th {\n",
       "        vertical-align: top;\n",
       "    }\n",
       "\n",
       "    .dataframe thead th {\n",
       "        text-align: right;\n",
       "    }\n",
       "</style>\n",
       "<table border=\"1\" class=\"dataframe\">\n",
       "  <thead>\n",
       "    <tr style=\"text-align: right;\">\n",
       "      <th></th>\n",
       "      <th>channel_name</th>\n",
       "      <th>shorts_url</th>\n",
       "      <th>shorts_title</th>\n",
       "      <th>shorts_description</th>\n",
       "      <th>shorts_thumbnail</th>\n",
       "      <th>shorts_view</th>\n",
       "      <th>shorts_likes</th>\n",
       "      <th>shorts_comments_num</th>\n",
       "      <th>shorts_comments_time</th>\n",
       "      <th>shorts_published_date</th>\n",
       "      <th>check_date</th>\n",
       "    </tr>\n",
       "  </thead>\n",
       "  <tbody>\n",
       "    <tr>\n",
       "      <th>0</th>\n",
       "      <td>Robert Breaker</td>\n",
       "      <td>https://www.youtube.com/watch?v=qc0iqmlAR38</td>\n",
       "      <td>NaN</td>\n",
       "      <td>NaN</td>\n",
       "      <td>https://support.google.com/youtube/answer/3037...</td>\n",
       "      <td>6,422</td>\n",
       "      <td>264.0</td>\n",
       "      <td>16.0</td>\n",
       "      <td>NaN</td>\n",
       "      <td>NaN</td>\n",
       "      <td>2024-10-28</td>\n",
       "    </tr>\n",
       "    <tr>\n",
       "      <th>1</th>\n",
       "      <td>Nick Jones</td>\n",
       "      <td>https://www.youtube.com/watch?v=fa_sSaHxTZ4</td>\n",
       "      <td>NaN</td>\n",
       "      <td>NaN</td>\n",
       "      <td>https://support.google.com/youtube/answer/3037...</td>\n",
       "      <td>91,113</td>\n",
       "      <td>17000.0</td>\n",
       "      <td>553.0</td>\n",
       "      <td>NaN</td>\n",
       "      <td>NaN</td>\n",
       "      <td>2024-10-28</td>\n",
       "    </tr>\n",
       "    <tr>\n",
       "      <th>2</th>\n",
       "      <td>Steve Ram</td>\n",
       "      <td>https://www.youtube.com/watch?v=SqU7aeAPkrY</td>\n",
       "      <td>Will You Comply? New Coming Mandates in 2023</td>\n",
       "      <td>FULL VIDEO    • TRUMP BLASTS Bringing Back COV...</td>\n",
       "      <td>https://rr4---sn-a5mlrnlz.googlevideo.com/vide...</td>\n",
       "      <td>56,703</td>\n",
       "      <td>3200.0</td>\n",
       "      <td>504.0</td>\n",
       "      <td>NaN</td>\n",
       "      <td>2023-09-04 15</td>\n",
       "      <td>2024-10-28</td>\n",
       "    </tr>\n",
       "    <tr>\n",
       "      <th>3</th>\n",
       "      <td>So Sweet ASMR</td>\n",
       "      <td>https://www.youtube.com/watch?v=k27UsRRjC5g</td>\n",
       "      <td>ASMR Marble run #marblerun #asmr</td>\n",
       "      <td>ASMR Marble run #marblerun #asmr</td>\n",
       "      <td>https://rr1---sn-vgqsknez.googlevideo.com/vide...</td>\n",
       "      <td>12,582</td>\n",
       "      <td>236.0</td>\n",
       "      <td>3.0</td>\n",
       "      <td>NaN</td>\n",
       "      <td>2024-07-03 08</td>\n",
       "      <td>2024-10-28</td>\n",
       "    </tr>\n",
       "    <tr>\n",
       "      <th>4</th>\n",
       "      <td>English with Jennifer</td>\n",
       "      <td>https://www.youtube.com/watch?v=7L3CTSU7MqU</td>\n",
       "      <td>NaN</td>\n",
       "      <td>NaN</td>\n",
       "      <td>NaN</td>\n",
       "      <td>NaN</td>\n",
       "      <td>NaN</td>\n",
       "      <td>NaN</td>\n",
       "      <td>NaN</td>\n",
       "      <td>NaN</td>\n",
       "      <td>2024-10-28</td>\n",
       "    </tr>\n",
       "    <tr>\n",
       "      <th>...</th>\n",
       "      <td>...</td>\n",
       "      <td>...</td>\n",
       "      <td>...</td>\n",
       "      <td>...</td>\n",
       "      <td>...</td>\n",
       "      <td>...</td>\n",
       "      <td>...</td>\n",
       "      <td>...</td>\n",
       "      <td>...</td>\n",
       "      <td>...</td>\n",
       "      <td>...</td>\n",
       "    </tr>\n",
       "    <tr>\n",
       "      <th>437</th>\n",
       "      <td>Tic Tac Toy Family</td>\n",
       "      <td>https://www.youtube.com/watch?v=ozTkKekTrRA</td>\n",
       "      <td>LEGO Fortnite with the Family !! @LEGOFortnite...</td>\n",
       "      <td>#EpicPartner #MayThe4th #LEGOStarWars #LEGOFor...</td>\n",
       "      <td>https://rr1---sn-pouxga5o-vu2l.googlevideo.com...</td>\n",
       "      <td>24,837</td>\n",
       "      <td>868.0</td>\n",
       "      <td>31.0</td>\n",
       "      <td>NaN</td>\n",
       "      <td>2024-05-10 04</td>\n",
       "      <td>2024-10-28</td>\n",
       "    </tr>\n",
       "    <tr>\n",
       "      <th>438</th>\n",
       "      <td>Financian</td>\n",
       "      <td>https://www.youtube.com/watch?v=y0I5XJ19L2s</td>\n",
       "      <td>Why Men Won&amp;#39;t Order Cocktail Without Any I...</td>\n",
       "      <td>Rory Sutherland tells why people won't order c...</td>\n",
       "      <td>https://rr2---sn-pouxga5o-vu2s.googlevideo.com...</td>\n",
       "      <td>96,985</td>\n",
       "      <td>4000.0</td>\n",
       "      <td>103.0</td>\n",
       "      <td>NaN</td>\n",
       "      <td>2024-10-28 14</td>\n",
       "      <td>2024-10-29</td>\n",
       "    </tr>\n",
       "    <tr>\n",
       "      <th>439</th>\n",
       "      <td>Financian</td>\n",
       "      <td>https://www.youtube.com/watch?v=sOIshfwqEyM</td>\n",
       "      <td></td>\n",
       "      <td>Rory Sutherland tells how using a simple marke...</td>\n",
       "      <td>https://support.google.com/youtube/answer/3037...</td>\n",
       "      <td>70,796</td>\n",
       "      <td>2100.0</td>\n",
       "      <td>11.0</td>\n",
       "      <td>NaN</td>\n",
       "      <td>NaN</td>\n",
       "      <td>2024-10-29</td>\n",
       "    </tr>\n",
       "    <tr>\n",
       "      <th>440</th>\n",
       "      <td>Umar Ashraf</td>\n",
       "      <td>https://www.youtube.com/watch?v=TmPNbpB8LFI</td>\n",
       "      <td>Stop treating trading like a get rich quick sc...</td>\n",
       "      <td>I use TradeZella to track and journal my trade...</td>\n",
       "      <td>https://rr1---sn-1gi7znek.googlevideo.com/vide...</td>\n",
       "      <td>5,452</td>\n",
       "      <td>689.0</td>\n",
       "      <td>6.0</td>\n",
       "      <td>NaN</td>\n",
       "      <td>2024-10-28 13</td>\n",
       "      <td>2024-10-29</td>\n",
       "    </tr>\n",
       "    <tr>\n",
       "      <th>441</th>\n",
       "      <td>Jaalhaq</td>\n",
       "      <td>https://www.youtube.com/watch?v=8o2alUPOm5A</td>\n",
       "      <td>বড় বড় বিপদ থেকে মুক্তির ওজিফা  #smnizamuddin #...</td>\n",
       "      <td>বড় বড় বিপদ থেকে মুক্তির ওজিফা  #smnizamuddin #...</td>\n",
       "      <td>https://rr2---sn-5hne6nsd.googlevideo.com/vide...</td>\n",
       "      <td>95</td>\n",
       "      <td>10.0</td>\n",
       "      <td>NaN</td>\n",
       "      <td>NaN</td>\n",
       "      <td>2024-10-28 22</td>\n",
       "      <td>2024-10-29</td>\n",
       "    </tr>\n",
       "  </tbody>\n",
       "</table>\n",
       "<p>442 rows × 11 columns</p>\n",
       "</div>"
      ],
      "text/plain": [
       "              channel_name                                   shorts_url  \\\n",
       "0           Robert Breaker  https://www.youtube.com/watch?v=qc0iqmlAR38   \n",
       "1               Nick Jones  https://www.youtube.com/watch?v=fa_sSaHxTZ4   \n",
       "2                Steve Ram  https://www.youtube.com/watch?v=SqU7aeAPkrY   \n",
       "3            So Sweet ASMR  https://www.youtube.com/watch?v=k27UsRRjC5g   \n",
       "4    English with Jennifer  https://www.youtube.com/watch?v=7L3CTSU7MqU   \n",
       "..                     ...                                          ...   \n",
       "437     Tic Tac Toy Family  https://www.youtube.com/watch?v=ozTkKekTrRA   \n",
       "438              Financian  https://www.youtube.com/watch?v=y0I5XJ19L2s   \n",
       "439              Financian  https://www.youtube.com/watch?v=sOIshfwqEyM   \n",
       "440            Umar Ashraf  https://www.youtube.com/watch?v=TmPNbpB8LFI   \n",
       "441                Jaalhaq  https://www.youtube.com/watch?v=8o2alUPOm5A   \n",
       "\n",
       "                                          shorts_title  \\\n",
       "0                                                  NaN   \n",
       "1                                                  NaN   \n",
       "2         Will You Comply? New Coming Mandates in 2023   \n",
       "3                     ASMR Marble run #marblerun #asmr   \n",
       "4                                                  NaN   \n",
       "..                                                 ...   \n",
       "437  LEGO Fortnite with the Family !! @LEGOFortnite...   \n",
       "438  Why Men Won&#39;t Order Cocktail Without Any I...   \n",
       "439                                                      \n",
       "440  Stop treating trading like a get rich quick sc...   \n",
       "441  বড় বড় বিপদ থেকে মুক্তির ওজিফা  #smnizamuddin #...   \n",
       "\n",
       "                                    shorts_description  \\\n",
       "0                                                  NaN   \n",
       "1                                                  NaN   \n",
       "2    FULL VIDEO    • TRUMP BLASTS Bringing Back COV...   \n",
       "3                     ASMR Marble run #marblerun #asmr   \n",
       "4                                                  NaN   \n",
       "..                                                 ...   \n",
       "437  #EpicPartner #MayThe4th #LEGOStarWars #LEGOFor...   \n",
       "438  Rory Sutherland tells why people won't order c...   \n",
       "439  Rory Sutherland tells how using a simple marke...   \n",
       "440  I use TradeZella to track and journal my trade...   \n",
       "441  বড় বড় বিপদ থেকে মুক্তির ওজিফা  #smnizamuddin #...   \n",
       "\n",
       "                                      shorts_thumbnail shorts_view  \\\n",
       "0    https://support.google.com/youtube/answer/3037...       6,422   \n",
       "1    https://support.google.com/youtube/answer/3037...      91,113   \n",
       "2    https://rr4---sn-a5mlrnlz.googlevideo.com/vide...      56,703   \n",
       "3    https://rr1---sn-vgqsknez.googlevideo.com/vide...      12,582   \n",
       "4                                                  NaN         NaN   \n",
       "..                                                 ...         ...   \n",
       "437  https://rr1---sn-pouxga5o-vu2l.googlevideo.com...      24,837   \n",
       "438  https://rr2---sn-pouxga5o-vu2s.googlevideo.com...      96,985   \n",
       "439  https://support.google.com/youtube/answer/3037...      70,796   \n",
       "440  https://rr1---sn-1gi7znek.googlevideo.com/vide...       5,452   \n",
       "441  https://rr2---sn-5hne6nsd.googlevideo.com/vide...          95   \n",
       "\n",
       "     shorts_likes  shorts_comments_num  shorts_comments_time  \\\n",
       "0           264.0                 16.0                   NaN   \n",
       "1         17000.0                553.0                   NaN   \n",
       "2          3200.0                504.0                   NaN   \n",
       "3           236.0                  3.0                   NaN   \n",
       "4             NaN                  NaN                   NaN   \n",
       "..            ...                  ...                   ...   \n",
       "437         868.0                 31.0                   NaN   \n",
       "438        4000.0                103.0                   NaN   \n",
       "439        2100.0                 11.0                   NaN   \n",
       "440         689.0                  6.0                   NaN   \n",
       "441          10.0                  NaN                   NaN   \n",
       "\n",
       "    shorts_published_date  check_date  \n",
       "0                     NaN  2024-10-28  \n",
       "1                     NaN  2024-10-28  \n",
       "2           2023-09-04 15  2024-10-28  \n",
       "3           2024-07-03 08  2024-10-28  \n",
       "4                     NaN  2024-10-28  \n",
       "..                    ...         ...  \n",
       "437         2024-05-10 04  2024-10-28  \n",
       "438         2024-10-28 14  2024-10-29  \n",
       "439                   NaN  2024-10-29  \n",
       "440         2024-10-28 13  2024-10-29  \n",
       "441         2024-10-28 22  2024-10-29  \n",
       "\n",
       "[442 rows x 11 columns]"
      ]
     },
     "execution_count": 20,
     "metadata": {},
     "output_type": "execute_result"
    }
   ],
   "source": [
    "# 추가된 데이터 dataframe으로 loaed_db에 추가\n",
    "def add_new_data_to_loaded_db(data_list, loaded_db):\n",
    "    # Define the columns for the DataFrame\n",
    "    columns = [\n",
    "        'channel_name', 'shorts_url', 'shorts_title', 'shorts_description', \n",
    "        'shorts_thumbnail', 'shorts_view', 'shorts_likes', \n",
    "        'shorts_comments_num', 'shorts_comments_time', \n",
    "        'shorts_published_date', 'check_date'\n",
    "    ]\n",
    "    \n",
    "    # Map the data_list to the correct columns and create a new DataFrame\n",
    "    new_data_df = pd.DataFrame(data_list, columns=columns)\n",
    "    \n",
    "    # Append the new data to the loaded_db DataFrame\n",
    "    updated_loaded_db = pd.concat([loaded_db, new_data_df], ignore_index=True)\n",
    "    \n",
    "    return updated_loaded_db\n",
    "\n",
    "loaded_df = add_new_data_to_loaded_db(data_list, loaded_df)\n",
    "loaded_df"
   ]
  },
  {
   "cell_type": "markdown",
   "id": "53827760",
   "metadata": {},
   "source": [
    "##### loaded_df 저장"
   ]
  },
  {
   "cell_type": "code",
   "execution_count": null,
   "id": "3d323ce3",
   "metadata": {},
   "outputs": [],
   "source": [
    "# 중복 제거\n",
    "loaded_df = loaded_df.drop_duplicates()\n",
    "loaded_df.to_excel(\"loaded_db.xlsx\", index=False)"
   ]
  },
  {
   "cell_type": "markdown",
   "id": "a18e208a",
   "metadata": {},
   "source": [
    "##### 4. 기존 수집했던 쇼츠 재수집 today, -7d, -14d, -21d\n",
    "- today 데이터 수집 완료후 진행\n",
    "- loaded_db에서 날짜 필터링해서 데이터 수집 진행"
   ]
  },
  {
   "cell_type": "code",
   "execution_count": 114,
   "id": "da8fbfd0",
   "metadata": {},
   "outputs": [
    {
     "name": "stdout",
     "output_type": "stream",
     "text": [
      "              channel_name                                   shorts_url  \\\n",
      "0           Robert Breaker  https://www.youtube.com/watch?v=qc0iqmlAR38   \n",
      "1               Nick Jones  https://www.youtube.com/watch?v=fa_sSaHxTZ4   \n",
      "2                Steve Ram  https://www.youtube.com/watch?v=SqU7aeAPkrY   \n",
      "3            So Sweet ASMR  https://www.youtube.com/watch?v=k27UsRRjC5g   \n",
      "4    English with Jennifer  https://www.youtube.com/watch?v=7L3CTSU7MqU   \n",
      "..                     ...                                          ...   \n",
      "437     Tic Tac Toy Family  https://www.youtube.com/watch?v=ozTkKekTrRA   \n",
      "438              Financian  https://www.youtube.com/watch?v=y0I5XJ19L2s   \n",
      "439              Financian  https://www.youtube.com/watch?v=sOIshfwqEyM   \n",
      "440            Umar Ashraf  https://www.youtube.com/watch?v=TmPNbpB8LFI   \n",
      "441                Jaalhaq  https://www.youtube.com/watch?v=8o2alUPOm5A   \n",
      "\n",
      "                                          shorts_title  \\\n",
      "0                                                  NaN   \n",
      "1                                                  NaN   \n",
      "2         Will You Comply? New Coming Mandates in 2023   \n",
      "3                     ASMR Marble run #marblerun #asmr   \n",
      "4                                                  NaN   \n",
      "..                                                 ...   \n",
      "437  LEGO Fortnite with the Family !! @LEGOFortnite...   \n",
      "438  Why Men Won&#39;t Order Cocktail Without Any I...   \n",
      "439                                                NaN   \n",
      "440  Stop treating trading like a get rich quick sc...   \n",
      "441  বড় বড় বিপদ থেকে মুক্তির ওজিফা  #smnizamuddin #...   \n",
      "\n",
      "                                    shorts_description  \\\n",
      "0                                                  NaN   \n",
      "1                                                  NaN   \n",
      "2    FULL VIDEO    • TRUMP BLASTS Bringing Back COV...   \n",
      "3                     ASMR Marble run #marblerun #asmr   \n",
      "4                                                  NaN   \n",
      "..                                                 ...   \n",
      "437  #EpicPartner #MayThe4th #LEGOStarWars #LEGOFor...   \n",
      "438  Rory Sutherland tells why people won't order c...   \n",
      "439  Rory Sutherland tells how using a simple marke...   \n",
      "440  I use TradeZella to track and journal my trade...   \n",
      "441  বড় বড় বিপদ থেকে মুক্তির ওজিফা  #smnizamuddin #...   \n",
      "\n",
      "                                      shorts_thumbnail shorts_view  \\\n",
      "0    https://support.google.com/youtube/answer/3037...       6,422   \n",
      "1    https://support.google.com/youtube/answer/3037...      91,113   \n",
      "2    https://rr4---sn-a5mlrnlz.googlevideo.com/vide...      56,703   \n",
      "3    https://rr1---sn-vgqsknez.googlevideo.com/vide...      12,582   \n",
      "4                                                  NaN         NaN   \n",
      "..                                                 ...         ...   \n",
      "437  https://rr1---sn-pouxga5o-vu2l.googlevideo.com...      24,837   \n",
      "438  https://rr2---sn-pouxga5o-vu2s.googlevideo.com...      96,985   \n",
      "439  https://support.google.com/youtube/answer/3037...      70,796   \n",
      "440  https://rr1---sn-1gi7znek.googlevideo.com/vide...       5,452   \n",
      "441  https://rr2---sn-5hne6nsd.googlevideo.com/vide...          95   \n",
      "\n",
      "     shorts_likes  shorts_comments_num  shorts_comments_time  \\\n",
      "0           264.0                 16.0                   NaN   \n",
      "1         17000.0                553.0                   NaN   \n",
      "2          3200.0                504.0                   NaN   \n",
      "3           236.0                  3.0                   NaN   \n",
      "4             NaN                  NaN                   NaN   \n",
      "..            ...                  ...                   ...   \n",
      "437         868.0                 31.0                   NaN   \n",
      "438        4000.0                103.0                   NaN   \n",
      "439        2100.0                 11.0                   NaN   \n",
      "440         689.0                  6.0                   NaN   \n",
      "441          10.0                  NaN                   NaN   \n",
      "\n",
      "    shorts_published_date           check_date  \n",
      "0                     NaN  2024-10-28 00:00:00  \n",
      "1                     NaN  2024-10-28 00:00:00  \n",
      "2           2023-09-04 15  2024-10-28 00:00:00  \n",
      "3           2024-07-03 08  2024-10-28 00:00:00  \n",
      "4                     NaN  2024-10-28 00:00:00  \n",
      "..                    ...                  ...  \n",
      "437         2024-05-10 04  2024-10-28 00:00:00  \n",
      "438         2024-10-28 14           2024-10-29  \n",
      "439                   NaN           2024-10-29  \n",
      "440         2024-10-28 13           2024-10-29  \n",
      "441         2024-10-28 22           2024-10-29  \n",
      "\n",
      "[442 rows x 11 columns]\n",
      "no data\n",
      "no data\n",
      "no data\n",
      "no data\n",
      "no data\n",
      "no data\n",
      "no data\n",
      "no data\n",
      "no data\n",
      "no data\n",
      "no data\n",
      "no data\n",
      "no data\n",
      "no data\n",
      "no data\n",
      "no data\n",
      "no data\n",
      "no data\n",
      "no data\n",
      "no data\n",
      "no data\n",
      "no data\n",
      "no data\n",
      "no data\n",
      "no data\n",
      "no data\n",
      "no data\n",
      "no data\n",
      "no data\n",
      "no data\n",
      "no data\n",
      "no data\n",
      "no data\n",
      "no data\n",
      "no data\n",
      "no data\n",
      "no data\n",
      "no data\n",
      "no data\n",
      "no data\n",
      "no data\n",
      "no data\n",
      "no data\n",
      "no data\n",
      "no data\n",
      "no data\n",
      "no data\n",
      "no data\n",
      "no data\n",
      "no data\n",
      "no data\n",
      "no data\n",
      "no data\n",
      "no data\n",
      "no data\n",
      "no data\n",
      "no data\n",
      "no data\n",
      "no data\n",
      "no data\n",
      "no data\n",
      "no data\n",
      "no data\n",
      "no data\n",
      "no data\n",
      "no data\n",
      "no data\n",
      "no data\n",
      "no data\n",
      "no data\n",
      "no data\n",
      "no data\n",
      "no data\n",
      "no data\n",
      "no data\n",
      "no data\n",
      "no data\n",
      "no data\n",
      "no data\n",
      "no data\n",
      "no data\n",
      "no data\n",
      "no data\n",
      "no data\n",
      "no data\n",
      "no data\n",
      "no data\n",
      "no data\n",
      "no data\n",
      "no data\n",
      "no data\n",
      "no data\n",
      "no data\n",
      "no data\n",
      "no data\n",
      "no data\n",
      "no data\n",
      "no data\n",
      "no data\n",
      "no data\n",
      "no data\n",
      "no data\n",
      "no data\n",
      "no data\n",
      "no data\n",
      "no data\n",
      "no data\n",
      "no data\n",
      "no data\n",
      "no data\n",
      "no data\n",
      "no data\n",
      "no data\n",
      "no data\n",
      "no data\n",
      "no data\n",
      "no data\n",
      "no data\n",
      "no data\n",
      "no data\n",
      "no data\n",
      "no data\n",
      "no data\n",
      "no data\n",
      "no data\n",
      "no data\n",
      "no data\n",
      "no data\n",
      "no data\n",
      "no data\n",
      "no data\n",
      "no data\n",
      "no data\n",
      "no data\n",
      "no data\n",
      "no data\n",
      "no data\n",
      "no data\n",
      "no data\n",
      "no data\n",
      "no data\n",
      "no data\n",
      "no data\n",
      "no data\n",
      "no data\n",
      "no data\n",
      "no data\n",
      "no data\n",
      "no data\n",
      "no data\n",
      "no data\n",
      "no data\n",
      "no data\n",
      "no data\n",
      "no data\n",
      "no data\n",
      "no data\n",
      "no data\n",
      "no data\n",
      "no data\n",
      "no data\n",
      "no data\n",
      "no data\n",
      "no data\n",
      "no data\n",
      "no data\n",
      "no data\n",
      "no data\n",
      "no data\n",
      "no data\n",
      "no data\n",
      "no data\n",
      "no data\n",
      "no data\n",
      "no data\n",
      "no data\n",
      "no data\n",
      "no data\n",
      "no data\n",
      "no data\n",
      "no data\n",
      "no data\n",
      "no data\n",
      "no data\n",
      "no data\n",
      "no data\n",
      "no data\n",
      "no data\n",
      "no data\n",
      "no data\n",
      "no data\n",
      "no data\n",
      "no data\n",
      "no data\n",
      "no data\n",
      "no data\n",
      "no data\n",
      "no data\n",
      "no data\n",
      "no data\n",
      "no data\n",
      "no data\n",
      "no data\n",
      "no data\n",
      "no data\n",
      "no data\n",
      "no data\n",
      "no data\n",
      "no data\n",
      "no data\n",
      "no data\n",
      "no data\n",
      "no data\n",
      "no data\n",
      "no data\n",
      "no data\n",
      "no data\n",
      "no data\n",
      "no data\n",
      "no data\n",
      "no data\n",
      "no data\n",
      "no data\n",
      "no data\n",
      "no data\n",
      "no data\n",
      "no data\n",
      "no data\n",
      "no data\n",
      "no data\n",
      "no data\n",
      "no data\n",
      "no data\n",
      "no data\n",
      "no data\n",
      "no data\n",
      "no data\n",
      "no data\n",
      "no data\n",
      "no data\n",
      "no data\n",
      "no data\n",
      "no data\n",
      "no data\n",
      "no data\n",
      "no data\n",
      "no data\n",
      "no data\n",
      "no data\n",
      "no data\n",
      "no data\n",
      "no data\n",
      "no data\n",
      "no data\n",
      "no data\n",
      "no data\n",
      "no data\n",
      "no data\n",
      "no data\n",
      "no data\n",
      "no data\n",
      "no data\n",
      "no data\n",
      "no data\n",
      "no data\n",
      "no data\n",
      "no data\n",
      "no data\n",
      "no data\n",
      "no data\n",
      "no data\n",
      "no data\n",
      "no data\n",
      "no data\n",
      "no data\n",
      "no data\n",
      "no data\n",
      "no data\n",
      "no data\n",
      "no data\n",
      "no data\n",
      "no data\n",
      "no data\n",
      "no data\n",
      "no data\n",
      "no data\n",
      "no data\n",
      "no data\n",
      "no data\n",
      "no data\n",
      "no data\n",
      "no data\n",
      "no data\n",
      "no data\n",
      "no data\n",
      "no data\n",
      "no data\n",
      "no data\n",
      "no data\n",
      "no data\n",
      "no data\n",
      "no data\n",
      "no data\n",
      "no data\n",
      "no data\n",
      "no data\n",
      "no data\n",
      "no data\n",
      "no data\n",
      "no data\n",
      "no data\n",
      "no data\n",
      "no data\n",
      "no data\n",
      "no data\n",
      "no data\n",
      "no data\n",
      "no data\n",
      "no data\n",
      "no data\n",
      "no data\n",
      "no data\n",
      "no data\n",
      "no data\n",
      "no data\n",
      "no data\n",
      "no data\n",
      "no data\n",
      "no data\n",
      "no data\n",
      "no data\n",
      "no data\n",
      "no data\n",
      "no data\n",
      "no data\n",
      "no data\n",
      "no data\n",
      "no data\n",
      "no data\n",
      "no data\n",
      "no data\n",
      "no data\n",
      "no data\n",
      "no data\n",
      "no data\n",
      "no data\n",
      "no data\n",
      "no data\n",
      "no data\n",
      "no data\n",
      "no data\n",
      "no data\n",
      "no data\n",
      "no data\n",
      "no data\n",
      "no data\n",
      "no data\n",
      "no data\n",
      "no data\n",
      "no data\n",
      "no data\n",
      "no data\n",
      "no data\n",
      "no data\n",
      "no data\n",
      "no data\n",
      "no data\n",
      "no data\n",
      "no data\n",
      "no data\n",
      "no data\n",
      "no data\n",
      "no data\n",
      "no data\n",
      "no data\n",
      "no data\n",
      "no data\n",
      "no data\n",
      "no data\n",
      "no data\n",
      "no data\n",
      "no data\n",
      "no data\n",
      "no data\n",
      "no data\n",
      "no data\n",
      "no data\n",
      "no data\n",
      "no data\n",
      "no data\n",
      "no data\n",
      "no data\n",
      "no data\n",
      "no data\n",
      "no data\n",
      "no data\n",
      "no data\n",
      "no data\n",
      "no data\n",
      "no data\n",
      "no data\n",
      "no data\n",
      "no data\n",
      "no data\n",
      "no data\n",
      "no data\n",
      "no data\n",
      "no data\n",
      "no data\n",
      "no data\n",
      "no data\n",
      "no data\n",
      "no data\n",
      "no data\n",
      "no data\n",
      "no data\n",
      "no data\n",
      "no data\n",
      "no data\n",
      "no data\n",
      "no data\n",
      "no data\n",
      "no data\n",
      "no data\n",
      "no data\n",
      "no data\n",
      "no data\n",
      "no data\n",
      "no data\n",
      "no data\n",
      "no data\n",
      "no data\n",
      "no data\n",
      "no data\n",
      "no data\n",
      "no data\n",
      "no data\n",
      "no data\n",
      "no data\n",
      "no data\n",
      "no data\n",
      "no data\n"
     ]
    }
   ],
   "source": [
    "from datetime import datetime, timedelta\n",
    "\n",
    "def collecting_past_shorts(api_key, loaded_df):\n",
    "    print(loaded_df)\n",
    "    \n",
    "    # Convert 'today' to a datetime object from the 'yyyy-mm-dd' format\n",
    "    today_date = datetime.strptime(today, \"%Y-%m-%d\")\n",
    "    \n",
    "    # Iterate over each row in loaded_df, checking check_date and shorts_url\n",
    "    for idx, (check_dt, shorts_url) in enumerate(zip(loaded_df['check_date'], loaded_df['shorts_url'])):\n",
    "        # Convert check_dt to datetime format for comparison\n",
    "        check_dt_date = datetime.strptime(check_dt, \"%Y-%m-%d\") if isinstance(check_dt, str) else check_dt\n",
    "        \n",
    "        # Check if check_dt matches any of the past intervals (7, 14, or 21 days ago)\n",
    "        if check_dt_date in [today_date - timedelta(days=days) for days in [7, 14, 21]]:\n",
    "            payload = {\n",
    "                'api_key': api_key,\n",
    "                'url': shorts_url\n",
    "            }\n",
    "            \n",
    "            # Send the request\n",
    "            r = requests.get('https://api.scraperapi.com/', params=payload, verify=False)\n",
    "\n",
    "            # Extract relevant information from the response\n",
    "            yt_title, yt_shorts_description, yt_shorts_published, yt_shorts_thumbnail, yt_shorts_view, yt_shorts_likes, yt_shorts_comments_num, yt_shorts_comments_time = basic_shorts_info(r.text)\n",
    "            \n",
    "            # Prepare new row with updated values (keeping the same channel name and other values from loaded_df)\n",
    "            new_row = {\n",
    "                'channel_name': loaded_df.loc[idx, 'channel_name'], \n",
    "                'shorts_url': shorts_url, \n",
    "                'shorts_title': yt_title,\n",
    "                'shorts_description': yt_shorts_description,\n",
    "                'shorts_thumbnail': yt_shorts_thumbnail,\n",
    "                'shorts_view': yt_shorts_view,\n",
    "                'shorts_likes': yt_shorts_likes,\n",
    "                'shorts_comments': yt_shorts_comments_num,\n",
    "                'shorts_comments_time': yt_shorts_comments_time,\n",
    "                'shorts_published_date': yt_shorts_published,\n",
    "                'check_date': today  # Use today's date for the new check_date\n",
    "            }\n",
    "            \n",
    "            # Append the new row to the DataFrame\n",
    "            loaded_df = loaded_df.append(new_row, ignore_index=True)\n",
    "        else:\n",
    "            print(\"no data\")\n",
    "            pass\n",
    "\n",
    "    return loaded_df\n",
    "\n",
    "# Call the function\n",
    "today_past_shorts = collecting_past_shorts(API_KEY, loaded_df)"
   ]
  },
  {
   "cell_type": "code",
   "execution_count": 116,
   "id": "751bf006",
   "metadata": {},
   "outputs": [
    {
     "ename": "PermissionError",
     "evalue": "[Errno 13] Permission denied: 'loaded_db.xlsx'",
     "output_type": "error",
     "traceback": [
      "\u001b[1;31m---------------------------------------------------------------------------\u001b[0m",
      "\u001b[1;31mPermissionError\u001b[0m                           Traceback (most recent call last)",
      "Cell \u001b[1;32mIn[116], line 3\u001b[0m\n\u001b[0;32m      1\u001b[0m \u001b[38;5;66;03m# 중복 제거\u001b[39;00m\n\u001b[0;32m      2\u001b[0m loaded_df \u001b[38;5;241m=\u001b[39m today_past_shorts\u001b[38;5;241m.\u001b[39mdrop_duplicates()\n\u001b[1;32m----> 3\u001b[0m \u001b[43mloaded_df\u001b[49m\u001b[38;5;241;43m.\u001b[39;49m\u001b[43mto_excel\u001b[49m\u001b[43m(\u001b[49m\u001b[38;5;124;43m\"\u001b[39;49m\u001b[38;5;124;43mloaded_db.xlsx\u001b[39;49m\u001b[38;5;124;43m\"\u001b[39;49m\u001b[43m,\u001b[49m\u001b[43m \u001b[49m\u001b[43mindex\u001b[49m\u001b[38;5;241;43m=\u001b[39;49m\u001b[38;5;28;43;01mFalse\u001b[39;49;00m\u001b[43m)\u001b[49m\n",
      "File \u001b[1;32mc:\\Users\\T14Gen1\\Documents\\Lib\\site-packages\\pandas\\util\\_decorators.py:333\u001b[0m, in \u001b[0;36mdeprecate_nonkeyword_arguments.<locals>.decorate.<locals>.wrapper\u001b[1;34m(*args, **kwargs)\u001b[0m\n\u001b[0;32m    327\u001b[0m \u001b[38;5;28;01mif\u001b[39;00m \u001b[38;5;28mlen\u001b[39m(args) \u001b[38;5;241m>\u001b[39m num_allow_args:\n\u001b[0;32m    328\u001b[0m     warnings\u001b[38;5;241m.\u001b[39mwarn(\n\u001b[0;32m    329\u001b[0m         msg\u001b[38;5;241m.\u001b[39mformat(arguments\u001b[38;5;241m=\u001b[39m_format_argument_list(allow_args)),\n\u001b[0;32m    330\u001b[0m         \u001b[38;5;167;01mFutureWarning\u001b[39;00m,\n\u001b[0;32m    331\u001b[0m         stacklevel\u001b[38;5;241m=\u001b[39mfind_stack_level(),\n\u001b[0;32m    332\u001b[0m     )\n\u001b[1;32m--> 333\u001b[0m \u001b[38;5;28;01mreturn\u001b[39;00m \u001b[43mfunc\u001b[49m\u001b[43m(\u001b[49m\u001b[38;5;241;43m*\u001b[39;49m\u001b[43margs\u001b[49m\u001b[43m,\u001b[49m\u001b[43m \u001b[49m\u001b[38;5;241;43m*\u001b[39;49m\u001b[38;5;241;43m*\u001b[39;49m\u001b[43mkwargs\u001b[49m\u001b[43m)\u001b[49m\n",
      "File \u001b[1;32mc:\\Users\\T14Gen1\\Documents\\Lib\\site-packages\\pandas\\core\\generic.py:2417\u001b[0m, in \u001b[0;36mNDFrame.to_excel\u001b[1;34m(self, excel_writer, sheet_name, na_rep, float_format, columns, header, index, index_label, startrow, startcol, engine, merge_cells, inf_rep, freeze_panes, storage_options, engine_kwargs)\u001b[0m\n\u001b[0;32m   2404\u001b[0m \u001b[38;5;28;01mfrom\u001b[39;00m \u001b[38;5;21;01mpandas\u001b[39;00m\u001b[38;5;21;01m.\u001b[39;00m\u001b[38;5;21;01mio\u001b[39;00m\u001b[38;5;21;01m.\u001b[39;00m\u001b[38;5;21;01mformats\u001b[39;00m\u001b[38;5;21;01m.\u001b[39;00m\u001b[38;5;21;01mexcel\u001b[39;00m \u001b[38;5;28;01mimport\u001b[39;00m ExcelFormatter\n\u001b[0;32m   2406\u001b[0m formatter \u001b[38;5;241m=\u001b[39m ExcelFormatter(\n\u001b[0;32m   2407\u001b[0m     df,\n\u001b[0;32m   2408\u001b[0m     na_rep\u001b[38;5;241m=\u001b[39mna_rep,\n\u001b[1;32m   (...)\u001b[0m\n\u001b[0;32m   2415\u001b[0m     inf_rep\u001b[38;5;241m=\u001b[39minf_rep,\n\u001b[0;32m   2416\u001b[0m )\n\u001b[1;32m-> 2417\u001b[0m \u001b[43mformatter\u001b[49m\u001b[38;5;241;43m.\u001b[39;49m\u001b[43mwrite\u001b[49m\u001b[43m(\u001b[49m\n\u001b[0;32m   2418\u001b[0m \u001b[43m    \u001b[49m\u001b[43mexcel_writer\u001b[49m\u001b[43m,\u001b[49m\n\u001b[0;32m   2419\u001b[0m \u001b[43m    \u001b[49m\u001b[43msheet_name\u001b[49m\u001b[38;5;241;43m=\u001b[39;49m\u001b[43msheet_name\u001b[49m\u001b[43m,\u001b[49m\n\u001b[0;32m   2420\u001b[0m \u001b[43m    \u001b[49m\u001b[43mstartrow\u001b[49m\u001b[38;5;241;43m=\u001b[39;49m\u001b[43mstartrow\u001b[49m\u001b[43m,\u001b[49m\n\u001b[0;32m   2421\u001b[0m \u001b[43m    \u001b[49m\u001b[43mstartcol\u001b[49m\u001b[38;5;241;43m=\u001b[39;49m\u001b[43mstartcol\u001b[49m\u001b[43m,\u001b[49m\n\u001b[0;32m   2422\u001b[0m \u001b[43m    \u001b[49m\u001b[43mfreeze_panes\u001b[49m\u001b[38;5;241;43m=\u001b[39;49m\u001b[43mfreeze_panes\u001b[49m\u001b[43m,\u001b[49m\n\u001b[0;32m   2423\u001b[0m \u001b[43m    \u001b[49m\u001b[43mengine\u001b[49m\u001b[38;5;241;43m=\u001b[39;49m\u001b[43mengine\u001b[49m\u001b[43m,\u001b[49m\n\u001b[0;32m   2424\u001b[0m \u001b[43m    \u001b[49m\u001b[43mstorage_options\u001b[49m\u001b[38;5;241;43m=\u001b[39;49m\u001b[43mstorage_options\u001b[49m\u001b[43m,\u001b[49m\n\u001b[0;32m   2425\u001b[0m \u001b[43m    \u001b[49m\u001b[43mengine_kwargs\u001b[49m\u001b[38;5;241;43m=\u001b[39;49m\u001b[43mengine_kwargs\u001b[49m\u001b[43m,\u001b[49m\n\u001b[0;32m   2426\u001b[0m \u001b[43m\u001b[49m\u001b[43m)\u001b[49m\n",
      "File \u001b[1;32mc:\\Users\\T14Gen1\\Documents\\Lib\\site-packages\\pandas\\io\\formats\\excel.py:943\u001b[0m, in \u001b[0;36mExcelFormatter.write\u001b[1;34m(self, writer, sheet_name, startrow, startcol, freeze_panes, engine, storage_options, engine_kwargs)\u001b[0m\n\u001b[0;32m    941\u001b[0m     need_save \u001b[38;5;241m=\u001b[39m \u001b[38;5;28;01mFalse\u001b[39;00m\n\u001b[0;32m    942\u001b[0m \u001b[38;5;28;01melse\u001b[39;00m:\n\u001b[1;32m--> 943\u001b[0m     writer \u001b[38;5;241m=\u001b[39m \u001b[43mExcelWriter\u001b[49m\u001b[43m(\u001b[49m\n\u001b[0;32m    944\u001b[0m \u001b[43m        \u001b[49m\u001b[43mwriter\u001b[49m\u001b[43m,\u001b[49m\n\u001b[0;32m    945\u001b[0m \u001b[43m        \u001b[49m\u001b[43mengine\u001b[49m\u001b[38;5;241;43m=\u001b[39;49m\u001b[43mengine\u001b[49m\u001b[43m,\u001b[49m\n\u001b[0;32m    946\u001b[0m \u001b[43m        \u001b[49m\u001b[43mstorage_options\u001b[49m\u001b[38;5;241;43m=\u001b[39;49m\u001b[43mstorage_options\u001b[49m\u001b[43m,\u001b[49m\n\u001b[0;32m    947\u001b[0m \u001b[43m        \u001b[49m\u001b[43mengine_kwargs\u001b[49m\u001b[38;5;241;43m=\u001b[39;49m\u001b[43mengine_kwargs\u001b[49m\u001b[43m,\u001b[49m\n\u001b[0;32m    948\u001b[0m \u001b[43m    \u001b[49m\u001b[43m)\u001b[49m\n\u001b[0;32m    949\u001b[0m     need_save \u001b[38;5;241m=\u001b[39m \u001b[38;5;28;01mTrue\u001b[39;00m\n\u001b[0;32m    951\u001b[0m \u001b[38;5;28;01mtry\u001b[39;00m:\n",
      "File \u001b[1;32mc:\\Users\\T14Gen1\\Documents\\Lib\\site-packages\\pandas\\io\\excel\\_openpyxl.py:61\u001b[0m, in \u001b[0;36mOpenpyxlWriter.__init__\u001b[1;34m(self, path, engine, date_format, datetime_format, mode, storage_options, if_sheet_exists, engine_kwargs, **kwargs)\u001b[0m\n\u001b[0;32m     57\u001b[0m \u001b[38;5;28;01mfrom\u001b[39;00m \u001b[38;5;21;01mopenpyxl\u001b[39;00m\u001b[38;5;21;01m.\u001b[39;00m\u001b[38;5;21;01mworkbook\u001b[39;00m \u001b[38;5;28;01mimport\u001b[39;00m Workbook\n\u001b[0;32m     59\u001b[0m engine_kwargs \u001b[38;5;241m=\u001b[39m combine_kwargs(engine_kwargs, kwargs)\n\u001b[1;32m---> 61\u001b[0m \u001b[38;5;28;43msuper\u001b[39;49m\u001b[43m(\u001b[49m\u001b[43m)\u001b[49m\u001b[38;5;241;43m.\u001b[39;49m\u001b[38;5;21;43m__init__\u001b[39;49m\u001b[43m(\u001b[49m\n\u001b[0;32m     62\u001b[0m \u001b[43m    \u001b[49m\u001b[43mpath\u001b[49m\u001b[43m,\u001b[49m\n\u001b[0;32m     63\u001b[0m \u001b[43m    \u001b[49m\u001b[43mmode\u001b[49m\u001b[38;5;241;43m=\u001b[39;49m\u001b[43mmode\u001b[49m\u001b[43m,\u001b[49m\n\u001b[0;32m     64\u001b[0m \u001b[43m    \u001b[49m\u001b[43mstorage_options\u001b[49m\u001b[38;5;241;43m=\u001b[39;49m\u001b[43mstorage_options\u001b[49m\u001b[43m,\u001b[49m\n\u001b[0;32m     65\u001b[0m \u001b[43m    \u001b[49m\u001b[43mif_sheet_exists\u001b[49m\u001b[38;5;241;43m=\u001b[39;49m\u001b[43mif_sheet_exists\u001b[49m\u001b[43m,\u001b[49m\n\u001b[0;32m     66\u001b[0m \u001b[43m    \u001b[49m\u001b[43mengine_kwargs\u001b[49m\u001b[38;5;241;43m=\u001b[39;49m\u001b[43mengine_kwargs\u001b[49m\u001b[43m,\u001b[49m\n\u001b[0;32m     67\u001b[0m \u001b[43m\u001b[49m\u001b[43m)\u001b[49m\n\u001b[0;32m     69\u001b[0m \u001b[38;5;66;03m# ExcelWriter replaced \"a\" by \"r+\" to allow us to first read the excel file from\u001b[39;00m\n\u001b[0;32m     70\u001b[0m \u001b[38;5;66;03m# the file and later write to it\u001b[39;00m\n\u001b[0;32m     71\u001b[0m \u001b[38;5;28;01mif\u001b[39;00m \u001b[38;5;124m\"\u001b[39m\u001b[38;5;124mr+\u001b[39m\u001b[38;5;124m\"\u001b[39m \u001b[38;5;129;01min\u001b[39;00m \u001b[38;5;28mself\u001b[39m\u001b[38;5;241m.\u001b[39m_mode:  \u001b[38;5;66;03m# Load from existing workbook\u001b[39;00m\n",
      "File \u001b[1;32mc:\\Users\\T14Gen1\\Documents\\Lib\\site-packages\\pandas\\io\\excel\\_base.py:1246\u001b[0m, in \u001b[0;36mExcelWriter.__init__\u001b[1;34m(self, path, engine, date_format, datetime_format, mode, storage_options, if_sheet_exists, engine_kwargs)\u001b[0m\n\u001b[0;32m   1242\u001b[0m \u001b[38;5;28mself\u001b[39m\u001b[38;5;241m.\u001b[39m_handles \u001b[38;5;241m=\u001b[39m IOHandles(\n\u001b[0;32m   1243\u001b[0m     cast(IO[\u001b[38;5;28mbytes\u001b[39m], path), compression\u001b[38;5;241m=\u001b[39m{\u001b[38;5;124m\"\u001b[39m\u001b[38;5;124mcompression\u001b[39m\u001b[38;5;124m\"\u001b[39m: \u001b[38;5;28;01mNone\u001b[39;00m}\n\u001b[0;32m   1244\u001b[0m )\n\u001b[0;32m   1245\u001b[0m \u001b[38;5;28;01mif\u001b[39;00m \u001b[38;5;129;01mnot\u001b[39;00m \u001b[38;5;28misinstance\u001b[39m(path, ExcelWriter):\n\u001b[1;32m-> 1246\u001b[0m     \u001b[38;5;28mself\u001b[39m\u001b[38;5;241m.\u001b[39m_handles \u001b[38;5;241m=\u001b[39m \u001b[43mget_handle\u001b[49m\u001b[43m(\u001b[49m\n\u001b[0;32m   1247\u001b[0m \u001b[43m        \u001b[49m\u001b[43mpath\u001b[49m\u001b[43m,\u001b[49m\u001b[43m \u001b[49m\u001b[43mmode\u001b[49m\u001b[43m,\u001b[49m\u001b[43m \u001b[49m\u001b[43mstorage_options\u001b[49m\u001b[38;5;241;43m=\u001b[39;49m\u001b[43mstorage_options\u001b[49m\u001b[43m,\u001b[49m\u001b[43m \u001b[49m\u001b[43mis_text\u001b[49m\u001b[38;5;241;43m=\u001b[39;49m\u001b[38;5;28;43;01mFalse\u001b[39;49;00m\n\u001b[0;32m   1248\u001b[0m \u001b[43m    \u001b[49m\u001b[43m)\u001b[49m\n\u001b[0;32m   1249\u001b[0m \u001b[38;5;28mself\u001b[39m\u001b[38;5;241m.\u001b[39m_cur_sheet \u001b[38;5;241m=\u001b[39m \u001b[38;5;28;01mNone\u001b[39;00m\n\u001b[0;32m   1251\u001b[0m \u001b[38;5;28;01mif\u001b[39;00m date_format \u001b[38;5;129;01mis\u001b[39;00m \u001b[38;5;28;01mNone\u001b[39;00m:\n",
      "File \u001b[1;32mc:\\Users\\T14Gen1\\Documents\\Lib\\site-packages\\pandas\\io\\common.py:882\u001b[0m, in \u001b[0;36mget_handle\u001b[1;34m(path_or_buf, mode, encoding, compression, memory_map, is_text, errors, storage_options)\u001b[0m\n\u001b[0;32m    873\u001b[0m         handle \u001b[38;5;241m=\u001b[39m \u001b[38;5;28mopen\u001b[39m(\n\u001b[0;32m    874\u001b[0m             handle,\n\u001b[0;32m    875\u001b[0m             ioargs\u001b[38;5;241m.\u001b[39mmode,\n\u001b[1;32m   (...)\u001b[0m\n\u001b[0;32m    878\u001b[0m             newline\u001b[38;5;241m=\u001b[39m\u001b[38;5;124m\"\u001b[39m\u001b[38;5;124m\"\u001b[39m,\n\u001b[0;32m    879\u001b[0m         )\n\u001b[0;32m    880\u001b[0m     \u001b[38;5;28;01melse\u001b[39;00m:\n\u001b[0;32m    881\u001b[0m         \u001b[38;5;66;03m# Binary mode\u001b[39;00m\n\u001b[1;32m--> 882\u001b[0m         handle \u001b[38;5;241m=\u001b[39m \u001b[38;5;28;43mopen\u001b[39;49m\u001b[43m(\u001b[49m\u001b[43mhandle\u001b[49m\u001b[43m,\u001b[49m\u001b[43m \u001b[49m\u001b[43mioargs\u001b[49m\u001b[38;5;241;43m.\u001b[39;49m\u001b[43mmode\u001b[49m\u001b[43m)\u001b[49m\n\u001b[0;32m    883\u001b[0m     handles\u001b[38;5;241m.\u001b[39mappend(handle)\n\u001b[0;32m    885\u001b[0m \u001b[38;5;66;03m# Convert BytesIO or file objects passed with an encoding\u001b[39;00m\n",
      "\u001b[1;31mPermissionError\u001b[0m: [Errno 13] Permission denied: 'loaded_db.xlsx'"
     ]
    }
   ],
   "source": [
    "# 중복 제거\n",
    "loaded_df = today_past_shorts.drop_duplicates()\n",
    "loaded_df.to_excel(\"loaded_db.xlsx\", index=False)\n"
   ]
  },
  {
   "cell_type": "markdown",
   "id": "f67f88bf",
   "metadata": {},
   "source": [
    "#### 5. 고객에게 전달할 Top shorts 데이터 필터링\n",
    "- 고객 전용 Query 작성\n",
    "- view 기준으로 ranking\n",
    "- loaed_df_100으로 저장 후 yt_top_shorts.ipynb에서 상세 수집"
   ]
  },
  {
   "cell_type": "code",
   "execution_count": 6,
   "id": "9d603915",
   "metadata": {},
   "outputs": [
    {
     "data": {
      "text/html": [
       "<div>\n",
       "<style scoped>\n",
       "    .dataframe tbody tr th:only-of-type {\n",
       "        vertical-align: middle;\n",
       "    }\n",
       "\n",
       "    .dataframe tbody tr th {\n",
       "        vertical-align: top;\n",
       "    }\n",
       "\n",
       "    .dataframe thead th {\n",
       "        text-align: right;\n",
       "    }\n",
       "</style>\n",
       "<table border=\"1\" class=\"dataframe\">\n",
       "  <thead>\n",
       "    <tr style=\"text-align: right;\">\n",
       "      <th></th>\n",
       "      <th>channel_name</th>\n",
       "      <th>shorts_url</th>\n",
       "      <th>shorts_title</th>\n",
       "      <th>shorts_description</th>\n",
       "      <th>shorts_thumbnail</th>\n",
       "      <th>shorts_view</th>\n",
       "      <th>shorts_likes</th>\n",
       "      <th>shorts_comments_num</th>\n",
       "      <th>shorts_comments_time</th>\n",
       "      <th>shorts_published_date</th>\n",
       "      <th>check_date</th>\n",
       "    </tr>\n",
       "  </thead>\n",
       "  <tbody>\n",
       "  </tbody>\n",
       "</table>\n",
       "</div>"
      ],
      "text/plain": [
       "Empty DataFrame\n",
       "Columns: [channel_name, shorts_url, shorts_title, shorts_description, shorts_thumbnail, shorts_view, shorts_likes, shorts_comments_num, shorts_comments_time, shorts_published_date, check_date]\n",
       "Index: []"
      ]
     },
     "execution_count": 6,
     "metadata": {},
     "output_type": "execute_result"
    }
   ],
   "source": [
    "# loaded_df_100 "
   ]
  }
 ],
 "metadata": {
  "kernelspec": {
   "display_name": "Python 3 (ipykernel)",
   "language": "python",
   "name": "python3"
  },
  "language_info": {
   "codemirror_mode": {
    "name": "ipython",
    "version": 3
   },
   "file_extension": ".py",
   "mimetype": "text/x-python",
   "name": "python",
   "nbconvert_exporter": "python",
   "pygments_lexer": "ipython3",
   "version": "3.12.5"
  }
 },
 "nbformat": 4,
 "nbformat_minor": 5
}
