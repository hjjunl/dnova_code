{
 "cells": [
  {
   "cell_type": "code",
   "execution_count": null,
   "id": "37d90648-c465-4853-a1b8-c0c27bde4d0f",
   "metadata": {},
   "outputs": [
    {
     "name": "stdout",
     "output_type": "stream",
     "text": [
      "split-csv files are created\n"
     ]
    }
   ],
   "source": [
    "import csv\n",
    "import os\n",
    "def split_csv(input_file, output_folder, max_records):\n",
    "\n",
    "    with open(input_file, 'r', newline='') as csvfile:\n",
    "        reader = csv.reader(csvfile)\n",
    "        header = next(reader)  # Read the header\n",
    "\n",
    "        count = 0\n",
    "        file_index = 1\n",
    "        os.makedirs(output_folder, exist_ok=True)\n",
    "        output_file = os.path.join(output_folder, f'split_{file_index}.csv')\n",
    "        with open(output_file, 'w', newline='') as outfile:\n",
    "            writer = csv.writer(outfile)\n",
    "            writer.writerow(header)  # Write the header to each split file\n",
    "            for row in reader:\n",
    "                writer.writerow(row)\n",
    "                count += 1\n",
    "                if count == max_records:\n",
    "                    count = 0\n",
    "                    file_index += 1\n",
    "                    output_file = os.path.join(output_folder, f'split_{file_index}.csv')\n",
    "                    outfile.close()  # Close the current file\n",
    "                    outfile = open(output_file, 'w', newline='')  # Reopen the file\n",
    "                    writer = csv.writer(outfile)\n",
    "                    writer.writerow(header)\n",
    "        print(\"split-csv files are created\")\n",
    "# Example usage:\n",
    "input_file = 'links.csv'  # Replace 'input.csv' with your CSV file path\n",
    "output_folder = 'split-csv'  # Folder where split CSV files will be saved\n",
    "#split_csv(input_file, output_folder, max_records=2157)\n",
    "split_csv(input_file, output_folder, max_records=1200)\n"
   ]
  },
  {
   "cell_type": "code",
   "execution_count": null,
   "id": "53ce16b0",
   "metadata": {},
   "outputs": [],
   "source": []
  }
 ],
 "metadata": {
  "kernelspec": {
   "display_name": "env",
   "language": "python",
   "name": "python3"
  },
  "language_info": {
   "codemirror_mode": {
    "name": "ipython",
    "version": 3
   },
   "file_extension": ".py",
   "mimetype": "text/x-python",
   "name": "python",
   "nbconvert_exporter": "python",
   "pygments_lexer": "ipython3",
   "version": "3.10.14"
  }
 },
 "nbformat": 4,
 "nbformat_minor": 5
}
