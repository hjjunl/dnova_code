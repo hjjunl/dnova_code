{
 "cells": [
  {
   "cell_type": "markdown",
   "metadata": {},
   "source": [
    "# 0. Import Packages\n"
   ]
  },
  {
   "cell_type": "code",
   "execution_count": 62,
   "metadata": {},
   "outputs": [],
   "source": [
    "import pandas as pd\n",
    "import pymysql\n",
    "from sqlalchemy import create_engine, text\n"
   ]
  },
  {
   "cell_type": "markdown",
   "metadata": {},
   "source": [
    "# 1. Define Preprocessors\n"
   ]
  },
  {
   "cell_type": "code",
   "execution_count": 110,
   "metadata": {},
   "outputs": [],
   "source": [
    "def get_data_from_csv(location, drop_col = None):\n",
    "    if drop_col:\n",
    "        df = pd.read_csv(location)\n",
    "        df = df.drop([drop_col], axis = 1)\n",
    "    else:\n",
    "        df = pd.read_csv(location)\n",
    "    return df\n",
    "\n",
    "\n",
    "\n",
    "def execute_select_query(engine, query):\n",
    "    \"\"\"\n",
    "    주어진 SQLAlchemy 엔진과 SQL 쿼리를 사용하여 쿼리를 실행하고 결과를 데이터프레임으로 반환하는 함수.\n",
    "    :param engine: SQLAlchemy 엔진 객체\n",
    "    :param query: 실행할 SQL 쿼리 문자열\n",
    "    :return: 쿼리 결과를 포함하는 pandas DataFrame\n",
    "    \"\"\"\n",
    "    with engine.connect() as connection:\n",
    "        result = connection.execute(text(query))\n",
    "        df = pd.DataFrame(result.fetchall(), columns=result.keys())\n",
    "    return df\n",
    "\n",
    "\n",
    "def execute_query(engine, query):\n",
    "    \"\"\"\n",
    "    주어진 SQLAlchemy 엔진과 SQL 쿼리를 사용하여 쿼리를 실행하고 결과를 데이터프레임으로 반환하는 함수.\n",
    "    :param engine: SQLAlchemy 엔진 객체\n",
    "    :param query: 실행할 SQL 쿼리 문자열\n",
    "    :return: 쿼리 결과를 포함하는 pandas DataFrame\n",
    "    \"\"\"\n",
    "    with engine.connect() as connection:\n",
    "        connection.execute(text(query))\n",
    "\n",
    "\n",
    "def execute_insert_query(engine, df, table_name):\n",
    "    \"\"\"\n",
    "    주어진 SQLAlchemy 엔진과 데이터프레임을 사용하여 테이블에 데이터를 삽입하는 함수.\n",
    "    :param engine: SQLAlchemy 엔진 객체\n",
    "    :param df: 삽입할 데이터프레임\n",
    "    :param table_name: 데이터가 삽입될 테이블 이름\n",
    "    \"\"\"\n",
    "    with engine.connect() as connection:\n",
    "        # 데이터프레임의 각 행을 사전으로 변환\n",
    "        df.to_sql(name=table_name, con=engine, if_exists='append', index=False)\n",
    "\n",
    "        print(f\"{df.shape[0]} rows has been successfully inserted into the '{table_name}' table.\")\n",
    "\n",
    "\n"
   ]
  },
  {
   "cell_type": "markdown",
   "metadata": {},
   "source": [
    "# 2. DB Connection\n"
   ]
  },
  {
   "cell_type": "code",
   "execution_count": 103,
   "metadata": {},
   "outputs": [],
   "source": [
    "# AWS RDS MySQL 데이터베이스 접속 정보\n",
    "db_host = 'mydnovadb.c7u0am6wacri.ap-northeast-2.rds.amazonaws.com'\n",
    "db_name = 'YTDB'\n",
    "db_user = 'mydnovadb'\n",
    "db_password = 'dnova998877'\n",
    "db_port = '3306'\n",
    "\n",
    "# SQLAlchemy 엔진 생성\n",
    "engine = create_engine(f'mysql+pymysql://{db_user}:{db_password}@{db_host}:{db_port}/{db_name}')"
   ]
  },
  {
   "cell_type": "markdown",
   "metadata": {},
   "source": [
    "# 3. Basic Query\n"
   ]
  },
  {
   "cell_type": "code",
   "execution_count": 111,
   "metadata": {},
   "outputs": [
    {
     "data": {
      "text/html": [
       "<div>\n",
       "<style scoped>\n",
       "    .dataframe tbody tr th:only-of-type {\n",
       "        vertical-align: middle;\n",
       "    }\n",
       "\n",
       "    .dataframe tbody tr th {\n",
       "        vertical-align: top;\n",
       "    }\n",
       "\n",
       "    .dataframe thead th {\n",
       "        text-align: right;\n",
       "    }\n",
       "</style>\n",
       "<table border=\"1\" class=\"dataframe\">\n",
       "  <thead>\n",
       "    <tr style=\"text-align: right;\">\n",
       "      <th></th>\n",
       "      <th>chanel_name</th>\n",
       "      <th>yt_url</th>\n",
       "      <th>subscribers</th>\n",
       "      <th>check_date</th>\n",
       "      <th>released_date</th>\n",
       "      <th>shorts_name</th>\n",
       "      <th>description</th>\n",
       "      <th>likes</th>\n",
       "      <th>views</th>\n",
       "      <th>short_url</th>\n",
       "      <th>thumbnail_link</th>\n",
       "    </tr>\n",
       "  </thead>\n",
       "  <tbody>\n",
       "  </tbody>\n",
       "</table>\n",
       "</div>"
      ],
      "text/plain": [
       "Empty DataFrame\n",
       "Columns: [chanel_name, yt_url, subscribers, check_date, released_date, shorts_name, description, likes, views, short_url, thumbnail_link]\n",
       "Index: []"
      ]
     },
     "execution_count": 111,
     "metadata": {},
     "output_type": "execute_result"
    }
   ],
   "source": [
    "\"\"\"\n",
    "query = 'TRUNCATE SHORTS_INFO'\n",
    "x = execute_query(engine,query)\n",
    "\"\"\"\n",
    "\n",
    "query = 'SELECT * FROM SHORTS_INFO'\n",
    "x = execute_select_query(engine,query)\n",
    "x"
   ]
  },
  {
   "cell_type": "markdown",
   "metadata": {},
   "source": [
    "# 4. Insert Query\n"
   ]
  },
  {
   "cell_type": "code",
   "execution_count": 112,
   "metadata": {},
   "outputs": [
    {
     "name": "stdout",
     "output_type": "stream",
     "text": [
      "182 rows has been successfully inserted into the 'SHORTS_INFO' table.\n"
     ]
    }
   ],
   "source": [
    "df_to_insert = get_data_from_csv('successful_Data/data-01-07-2024.csv','is_posted_in_date_range')\n",
    "table_name = 'SHORTS_INFO'\n",
    "execute_insert_query(engine,df_to_insert,table_name)"
   ]
  }
 ],
 "metadata": {
  "kernelspec": {
   "display_name": "env",
   "language": "python",
   "name": "python3"
  },
  "language_info": {
   "codemirror_mode": {
    "name": "ipython",
    "version": 3
   },
   "file_extension": ".py",
   "mimetype": "text/x-python",
   "name": "python",
   "nbconvert_exporter": "python",
   "pygments_lexer": "ipython3",
   "version": "3.10.14"
  }
 },
 "nbformat": 4,
 "nbformat_minor": 2
}
